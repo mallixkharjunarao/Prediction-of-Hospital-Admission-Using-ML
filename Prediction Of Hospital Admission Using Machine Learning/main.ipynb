{
 "cells": [
  {
   "cell_type": "markdown",
   "metadata": {
    "id": "JI56nDThuxHp"
   },
   "source": [
    "# Prediction on Patient's Hospital Admission"
   ]
  },
  {
   "cell_type": "code",
   "execution_count": 1,
   "metadata": {
    "colab": {
     "base_uri": "https://localhost:8080/",
     "height": 34
    },
    "id": "WSQ5ypt6vCJe",
    "outputId": "01de5d6d-c517-425b-fe42-4646c4fd6e18"
   },
   "outputs": [
    {
     "name": "stdout",
     "output_type": "stream",
     "text": [
      "Drive already mounted at /content/drive; to attempt to forcibly remount, call drive.mount(\"/content/drive\", force_remount=True).\n"
     ]
    }
   ],
   "source": [
    "from google.colab import drive\n",
    "drive.mount('/content/drive')"
   ]
  },
  {
   "cell_type": "markdown",
   "metadata": {
    "id": "BqI6-iEDuxHr"
   },
   "source": [
    "# Data Preparation & Exploration"
   ]
  },
  {
   "cell_type": "code",
   "execution_count": 2,
   "metadata": {
    "id": "pmg7SMU9uxHs"
   },
   "outputs": [],
   "source": [
    "#Loading libraries \n",
    "import pandas as pd\n",
    "import numpy as np\n",
    "import matplotlib.pyplot as plt\n",
    "import seaborn as sns"
   ]
  },
  {
   "cell_type": "code",
   "execution_count": 3,
   "metadata": {
    "id": "c6_zI4vnuxHx"
   },
   "outputs": [],
   "source": [
    "#loading Dataset\n",
    "df = pd.read_csv(\"data/data.csv\")"
   ]
  },
  {
   "cell_type": "code",
   "execution_count": 4,
   "metadata": {
    "colab": {
     "base_uri": "https://localhost:8080/",
     "height": 1000
    },
    "id": "x9d4Kj0AuxH1",
    "outputId": "42c1c916-307b-4fbb-a5c3-0687730b4f3c"
   },
   "outputs": [
    {
     "data": {
      "text/html": [
       "<div>\n",
       "<style scoped>\n",
       "    .dataframe tbody tr th:only-of-type {\n",
       "        vertical-align: middle;\n",
       "    }\n",
       "\n",
       "    .dataframe tbody tr th {\n",
       "        vertical-align: top;\n",
       "    }\n",
       "\n",
       "    .dataframe thead th {\n",
       "        text-align: right;\n",
       "    }\n",
       "</style>\n",
       "<table border=\"1\" class=\"dataframe\">\n",
       "  <thead>\n",
       "    <tr style=\"text-align: right;\">\n",
       "      <th></th>\n",
       "      <th>0</th>\n",
       "      <th>1</th>\n",
       "      <th>2</th>\n",
       "      <th>3</th>\n",
       "      <th>4</th>\n",
       "      <th>5</th>\n",
       "      <th>6</th>\n",
       "      <th>7</th>\n",
       "      <th>8</th>\n",
       "      <th>9</th>\n",
       "    </tr>\n",
       "  </thead>\n",
       "  <tbody>\n",
       "    <tr>\n",
       "      <th>encounter_id</th>\n",
       "      <td>2278392</td>\n",
       "      <td>149190</td>\n",
       "      <td>64410</td>\n",
       "      <td>500364</td>\n",
       "      <td>16680</td>\n",
       "      <td>35754</td>\n",
       "      <td>55842</td>\n",
       "      <td>63768</td>\n",
       "      <td>12522</td>\n",
       "      <td>15738</td>\n",
       "    </tr>\n",
       "    <tr>\n",
       "      <th>patient_nbr</th>\n",
       "      <td>8222157</td>\n",
       "      <td>55629189</td>\n",
       "      <td>86047875</td>\n",
       "      <td>82442376</td>\n",
       "      <td>42519267</td>\n",
       "      <td>82637451</td>\n",
       "      <td>84259809</td>\n",
       "      <td>114882984</td>\n",
       "      <td>48330783</td>\n",
       "      <td>63555939</td>\n",
       "    </tr>\n",
       "    <tr>\n",
       "      <th>race</th>\n",
       "      <td>Caucasian</td>\n",
       "      <td>Caucasian</td>\n",
       "      <td>AfricanAmerican</td>\n",
       "      <td>Caucasian</td>\n",
       "      <td>Caucasian</td>\n",
       "      <td>Caucasian</td>\n",
       "      <td>Caucasian</td>\n",
       "      <td>Caucasian</td>\n",
       "      <td>Caucasian</td>\n",
       "      <td>Caucasian</td>\n",
       "    </tr>\n",
       "    <tr>\n",
       "      <th>gender</th>\n",
       "      <td>Female</td>\n",
       "      <td>Female</td>\n",
       "      <td>Female</td>\n",
       "      <td>Male</td>\n",
       "      <td>Male</td>\n",
       "      <td>Male</td>\n",
       "      <td>Male</td>\n",
       "      <td>Male</td>\n",
       "      <td>Female</td>\n",
       "      <td>Female</td>\n",
       "    </tr>\n",
       "    <tr>\n",
       "      <th>age</th>\n",
       "      <td>[0-10)</td>\n",
       "      <td>[10-20)</td>\n",
       "      <td>[20-30)</td>\n",
       "      <td>[30-40)</td>\n",
       "      <td>[40-50)</td>\n",
       "      <td>[50-60)</td>\n",
       "      <td>[60-70)</td>\n",
       "      <td>[70-80)</td>\n",
       "      <td>[80-90)</td>\n",
       "      <td>[90-100)</td>\n",
       "    </tr>\n",
       "    <tr>\n",
       "      <th>weight</th>\n",
       "      <td>?</td>\n",
       "      <td>?</td>\n",
       "      <td>?</td>\n",
       "      <td>?</td>\n",
       "      <td>?</td>\n",
       "      <td>?</td>\n",
       "      <td>?</td>\n",
       "      <td>?</td>\n",
       "      <td>?</td>\n",
       "      <td>?</td>\n",
       "    </tr>\n",
       "    <tr>\n",
       "      <th>admission_type_id</th>\n",
       "      <td>6</td>\n",
       "      <td>1</td>\n",
       "      <td>1</td>\n",
       "      <td>1</td>\n",
       "      <td>1</td>\n",
       "      <td>2</td>\n",
       "      <td>3</td>\n",
       "      <td>1</td>\n",
       "      <td>2</td>\n",
       "      <td>3</td>\n",
       "    </tr>\n",
       "    <tr>\n",
       "      <th>discharge_disposition_id</th>\n",
       "      <td>25</td>\n",
       "      <td>1</td>\n",
       "      <td>1</td>\n",
       "      <td>1</td>\n",
       "      <td>1</td>\n",
       "      <td>1</td>\n",
       "      <td>1</td>\n",
       "      <td>1</td>\n",
       "      <td>1</td>\n",
       "      <td>3</td>\n",
       "    </tr>\n",
       "    <tr>\n",
       "      <th>admission_source_id</th>\n",
       "      <td>1</td>\n",
       "      <td>7</td>\n",
       "      <td>7</td>\n",
       "      <td>7</td>\n",
       "      <td>7</td>\n",
       "      <td>2</td>\n",
       "      <td>2</td>\n",
       "      <td>7</td>\n",
       "      <td>4</td>\n",
       "      <td>4</td>\n",
       "    </tr>\n",
       "    <tr>\n",
       "      <th>time_in_hospital</th>\n",
       "      <td>1</td>\n",
       "      <td>3</td>\n",
       "      <td>2</td>\n",
       "      <td>2</td>\n",
       "      <td>1</td>\n",
       "      <td>3</td>\n",
       "      <td>4</td>\n",
       "      <td>5</td>\n",
       "      <td>13</td>\n",
       "      <td>12</td>\n",
       "    </tr>\n",
       "    <tr>\n",
       "      <th>payer_code</th>\n",
       "      <td>?</td>\n",
       "      <td>?</td>\n",
       "      <td>?</td>\n",
       "      <td>?</td>\n",
       "      <td>?</td>\n",
       "      <td>?</td>\n",
       "      <td>?</td>\n",
       "      <td>?</td>\n",
       "      <td>?</td>\n",
       "      <td>?</td>\n",
       "    </tr>\n",
       "    <tr>\n",
       "      <th>medical_specialty</th>\n",
       "      <td>Pediatrics-Endocrinology</td>\n",
       "      <td>?</td>\n",
       "      <td>?</td>\n",
       "      <td>?</td>\n",
       "      <td>?</td>\n",
       "      <td>?</td>\n",
       "      <td>?</td>\n",
       "      <td>?</td>\n",
       "      <td>?</td>\n",
       "      <td>InternalMedicine</td>\n",
       "    </tr>\n",
       "    <tr>\n",
       "      <th>num_lab_procedures</th>\n",
       "      <td>41</td>\n",
       "      <td>59</td>\n",
       "      <td>11</td>\n",
       "      <td>44</td>\n",
       "      <td>51</td>\n",
       "      <td>31</td>\n",
       "      <td>70</td>\n",
       "      <td>73</td>\n",
       "      <td>68</td>\n",
       "      <td>33</td>\n",
       "    </tr>\n",
       "    <tr>\n",
       "      <th>num_procedures</th>\n",
       "      <td>0</td>\n",
       "      <td>0</td>\n",
       "      <td>5</td>\n",
       "      <td>1</td>\n",
       "      <td>0</td>\n",
       "      <td>6</td>\n",
       "      <td>1</td>\n",
       "      <td>0</td>\n",
       "      <td>2</td>\n",
       "      <td>3</td>\n",
       "    </tr>\n",
       "    <tr>\n",
       "      <th>num_medications</th>\n",
       "      <td>1</td>\n",
       "      <td>18</td>\n",
       "      <td>13</td>\n",
       "      <td>16</td>\n",
       "      <td>8</td>\n",
       "      <td>16</td>\n",
       "      <td>21</td>\n",
       "      <td>12</td>\n",
       "      <td>28</td>\n",
       "      <td>18</td>\n",
       "    </tr>\n",
       "    <tr>\n",
       "      <th>number_outpatient</th>\n",
       "      <td>0</td>\n",
       "      <td>0</td>\n",
       "      <td>2</td>\n",
       "      <td>0</td>\n",
       "      <td>0</td>\n",
       "      <td>0</td>\n",
       "      <td>0</td>\n",
       "      <td>0</td>\n",
       "      <td>0</td>\n",
       "      <td>0</td>\n",
       "    </tr>\n",
       "    <tr>\n",
       "      <th>number_emergency</th>\n",
       "      <td>0</td>\n",
       "      <td>0</td>\n",
       "      <td>0</td>\n",
       "      <td>0</td>\n",
       "      <td>0</td>\n",
       "      <td>0</td>\n",
       "      <td>0</td>\n",
       "      <td>0</td>\n",
       "      <td>0</td>\n",
       "      <td>0</td>\n",
       "    </tr>\n",
       "    <tr>\n",
       "      <th>number_inpatient</th>\n",
       "      <td>0</td>\n",
       "      <td>0</td>\n",
       "      <td>1</td>\n",
       "      <td>0</td>\n",
       "      <td>0</td>\n",
       "      <td>0</td>\n",
       "      <td>0</td>\n",
       "      <td>0</td>\n",
       "      <td>0</td>\n",
       "      <td>0</td>\n",
       "    </tr>\n",
       "    <tr>\n",
       "      <th>diag_1</th>\n",
       "      <td>250.83</td>\n",
       "      <td>276</td>\n",
       "      <td>648</td>\n",
       "      <td>8</td>\n",
       "      <td>197</td>\n",
       "      <td>414</td>\n",
       "      <td>414</td>\n",
       "      <td>428</td>\n",
       "      <td>398</td>\n",
       "      <td>434</td>\n",
       "    </tr>\n",
       "    <tr>\n",
       "      <th>diag_2</th>\n",
       "      <td>?</td>\n",
       "      <td>250.01</td>\n",
       "      <td>250</td>\n",
       "      <td>250.43</td>\n",
       "      <td>157</td>\n",
       "      <td>411</td>\n",
       "      <td>411</td>\n",
       "      <td>492</td>\n",
       "      <td>427</td>\n",
       "      <td>198</td>\n",
       "    </tr>\n",
       "    <tr>\n",
       "      <th>diag_3</th>\n",
       "      <td>?</td>\n",
       "      <td>255</td>\n",
       "      <td>V27</td>\n",
       "      <td>403</td>\n",
       "      <td>250</td>\n",
       "      <td>250</td>\n",
       "      <td>V45</td>\n",
       "      <td>250</td>\n",
       "      <td>38</td>\n",
       "      <td>486</td>\n",
       "    </tr>\n",
       "    <tr>\n",
       "      <th>number_diagnoses</th>\n",
       "      <td>1</td>\n",
       "      <td>9</td>\n",
       "      <td>6</td>\n",
       "      <td>7</td>\n",
       "      <td>5</td>\n",
       "      <td>9</td>\n",
       "      <td>7</td>\n",
       "      <td>8</td>\n",
       "      <td>8</td>\n",
       "      <td>8</td>\n",
       "    </tr>\n",
       "    <tr>\n",
       "      <th>max_glu_serum</th>\n",
       "      <td>None</td>\n",
       "      <td>None</td>\n",
       "      <td>None</td>\n",
       "      <td>None</td>\n",
       "      <td>None</td>\n",
       "      <td>None</td>\n",
       "      <td>None</td>\n",
       "      <td>None</td>\n",
       "      <td>None</td>\n",
       "      <td>None</td>\n",
       "    </tr>\n",
       "    <tr>\n",
       "      <th>A1Cresult</th>\n",
       "      <td>None</td>\n",
       "      <td>None</td>\n",
       "      <td>None</td>\n",
       "      <td>None</td>\n",
       "      <td>None</td>\n",
       "      <td>None</td>\n",
       "      <td>None</td>\n",
       "      <td>None</td>\n",
       "      <td>None</td>\n",
       "      <td>None</td>\n",
       "    </tr>\n",
       "    <tr>\n",
       "      <th>metformin</th>\n",
       "      <td>No</td>\n",
       "      <td>No</td>\n",
       "      <td>No</td>\n",
       "      <td>No</td>\n",
       "      <td>No</td>\n",
       "      <td>No</td>\n",
       "      <td>Steady</td>\n",
       "      <td>No</td>\n",
       "      <td>No</td>\n",
       "      <td>No</td>\n",
       "    </tr>\n",
       "    <tr>\n",
       "      <th>repaglinide</th>\n",
       "      <td>No</td>\n",
       "      <td>No</td>\n",
       "      <td>No</td>\n",
       "      <td>No</td>\n",
       "      <td>No</td>\n",
       "      <td>No</td>\n",
       "      <td>No</td>\n",
       "      <td>No</td>\n",
       "      <td>No</td>\n",
       "      <td>No</td>\n",
       "    </tr>\n",
       "    <tr>\n",
       "      <th>nateglinide</th>\n",
       "      <td>No</td>\n",
       "      <td>No</td>\n",
       "      <td>No</td>\n",
       "      <td>No</td>\n",
       "      <td>No</td>\n",
       "      <td>No</td>\n",
       "      <td>No</td>\n",
       "      <td>No</td>\n",
       "      <td>No</td>\n",
       "      <td>No</td>\n",
       "    </tr>\n",
       "    <tr>\n",
       "      <th>chlorpropamide</th>\n",
       "      <td>No</td>\n",
       "      <td>No</td>\n",
       "      <td>No</td>\n",
       "      <td>No</td>\n",
       "      <td>No</td>\n",
       "      <td>No</td>\n",
       "      <td>No</td>\n",
       "      <td>No</td>\n",
       "      <td>No</td>\n",
       "      <td>No</td>\n",
       "    </tr>\n",
       "    <tr>\n",
       "      <th>glimepiride</th>\n",
       "      <td>No</td>\n",
       "      <td>No</td>\n",
       "      <td>No</td>\n",
       "      <td>No</td>\n",
       "      <td>No</td>\n",
       "      <td>No</td>\n",
       "      <td>Steady</td>\n",
       "      <td>No</td>\n",
       "      <td>No</td>\n",
       "      <td>No</td>\n",
       "    </tr>\n",
       "    <tr>\n",
       "      <th>acetohexamide</th>\n",
       "      <td>No</td>\n",
       "      <td>No</td>\n",
       "      <td>No</td>\n",
       "      <td>No</td>\n",
       "      <td>No</td>\n",
       "      <td>No</td>\n",
       "      <td>No</td>\n",
       "      <td>No</td>\n",
       "      <td>No</td>\n",
       "      <td>No</td>\n",
       "    </tr>\n",
       "    <tr>\n",
       "      <th>glipizide</th>\n",
       "      <td>No</td>\n",
       "      <td>No</td>\n",
       "      <td>Steady</td>\n",
       "      <td>No</td>\n",
       "      <td>Steady</td>\n",
       "      <td>No</td>\n",
       "      <td>No</td>\n",
       "      <td>No</td>\n",
       "      <td>Steady</td>\n",
       "      <td>No</td>\n",
       "    </tr>\n",
       "    <tr>\n",
       "      <th>glyburide</th>\n",
       "      <td>No</td>\n",
       "      <td>No</td>\n",
       "      <td>No</td>\n",
       "      <td>No</td>\n",
       "      <td>No</td>\n",
       "      <td>No</td>\n",
       "      <td>No</td>\n",
       "      <td>Steady</td>\n",
       "      <td>No</td>\n",
       "      <td>No</td>\n",
       "    </tr>\n",
       "    <tr>\n",
       "      <th>tolbutamide</th>\n",
       "      <td>No</td>\n",
       "      <td>No</td>\n",
       "      <td>No</td>\n",
       "      <td>No</td>\n",
       "      <td>No</td>\n",
       "      <td>No</td>\n",
       "      <td>No</td>\n",
       "      <td>No</td>\n",
       "      <td>No</td>\n",
       "      <td>No</td>\n",
       "    </tr>\n",
       "    <tr>\n",
       "      <th>pioglitazone</th>\n",
       "      <td>No</td>\n",
       "      <td>No</td>\n",
       "      <td>No</td>\n",
       "      <td>No</td>\n",
       "      <td>No</td>\n",
       "      <td>No</td>\n",
       "      <td>No</td>\n",
       "      <td>No</td>\n",
       "      <td>No</td>\n",
       "      <td>No</td>\n",
       "    </tr>\n",
       "    <tr>\n",
       "      <th>rosiglitazone</th>\n",
       "      <td>No</td>\n",
       "      <td>No</td>\n",
       "      <td>No</td>\n",
       "      <td>No</td>\n",
       "      <td>No</td>\n",
       "      <td>No</td>\n",
       "      <td>No</td>\n",
       "      <td>No</td>\n",
       "      <td>No</td>\n",
       "      <td>Steady</td>\n",
       "    </tr>\n",
       "    <tr>\n",
       "      <th>acarbose</th>\n",
       "      <td>No</td>\n",
       "      <td>No</td>\n",
       "      <td>No</td>\n",
       "      <td>No</td>\n",
       "      <td>No</td>\n",
       "      <td>No</td>\n",
       "      <td>No</td>\n",
       "      <td>No</td>\n",
       "      <td>No</td>\n",
       "      <td>No</td>\n",
       "    </tr>\n",
       "    <tr>\n",
       "      <th>miglitol</th>\n",
       "      <td>No</td>\n",
       "      <td>No</td>\n",
       "      <td>No</td>\n",
       "      <td>No</td>\n",
       "      <td>No</td>\n",
       "      <td>No</td>\n",
       "      <td>No</td>\n",
       "      <td>No</td>\n",
       "      <td>No</td>\n",
       "      <td>No</td>\n",
       "    </tr>\n",
       "    <tr>\n",
       "      <th>troglitazone</th>\n",
       "      <td>No</td>\n",
       "      <td>No</td>\n",
       "      <td>No</td>\n",
       "      <td>No</td>\n",
       "      <td>No</td>\n",
       "      <td>No</td>\n",
       "      <td>No</td>\n",
       "      <td>No</td>\n",
       "      <td>No</td>\n",
       "      <td>No</td>\n",
       "    </tr>\n",
       "    <tr>\n",
       "      <th>tolazamide</th>\n",
       "      <td>No</td>\n",
       "      <td>No</td>\n",
       "      <td>No</td>\n",
       "      <td>No</td>\n",
       "      <td>No</td>\n",
       "      <td>No</td>\n",
       "      <td>No</td>\n",
       "      <td>No</td>\n",
       "      <td>No</td>\n",
       "      <td>No</td>\n",
       "    </tr>\n",
       "    <tr>\n",
       "      <th>examide</th>\n",
       "      <td>No</td>\n",
       "      <td>No</td>\n",
       "      <td>No</td>\n",
       "      <td>No</td>\n",
       "      <td>No</td>\n",
       "      <td>No</td>\n",
       "      <td>No</td>\n",
       "      <td>No</td>\n",
       "      <td>No</td>\n",
       "      <td>No</td>\n",
       "    </tr>\n",
       "    <tr>\n",
       "      <th>citoglipton</th>\n",
       "      <td>No</td>\n",
       "      <td>No</td>\n",
       "      <td>No</td>\n",
       "      <td>No</td>\n",
       "      <td>No</td>\n",
       "      <td>No</td>\n",
       "      <td>No</td>\n",
       "      <td>No</td>\n",
       "      <td>No</td>\n",
       "      <td>No</td>\n",
       "    </tr>\n",
       "    <tr>\n",
       "      <th>insulin</th>\n",
       "      <td>No</td>\n",
       "      <td>Up</td>\n",
       "      <td>No</td>\n",
       "      <td>Up</td>\n",
       "      <td>Steady</td>\n",
       "      <td>Steady</td>\n",
       "      <td>Steady</td>\n",
       "      <td>No</td>\n",
       "      <td>Steady</td>\n",
       "      <td>Steady</td>\n",
       "    </tr>\n",
       "    <tr>\n",
       "      <th>glyburide-metformin</th>\n",
       "      <td>No</td>\n",
       "      <td>No</td>\n",
       "      <td>No</td>\n",
       "      <td>No</td>\n",
       "      <td>No</td>\n",
       "      <td>No</td>\n",
       "      <td>No</td>\n",
       "      <td>No</td>\n",
       "      <td>No</td>\n",
       "      <td>No</td>\n",
       "    </tr>\n",
       "    <tr>\n",
       "      <th>glipizide-metformin</th>\n",
       "      <td>No</td>\n",
       "      <td>No</td>\n",
       "      <td>No</td>\n",
       "      <td>No</td>\n",
       "      <td>No</td>\n",
       "      <td>No</td>\n",
       "      <td>No</td>\n",
       "      <td>No</td>\n",
       "      <td>No</td>\n",
       "      <td>No</td>\n",
       "    </tr>\n",
       "    <tr>\n",
       "      <th>glimepiride-pioglitazone</th>\n",
       "      <td>No</td>\n",
       "      <td>No</td>\n",
       "      <td>No</td>\n",
       "      <td>No</td>\n",
       "      <td>No</td>\n",
       "      <td>No</td>\n",
       "      <td>No</td>\n",
       "      <td>No</td>\n",
       "      <td>No</td>\n",
       "      <td>No</td>\n",
       "    </tr>\n",
       "    <tr>\n",
       "      <th>metformin-rosiglitazone</th>\n",
       "      <td>No</td>\n",
       "      <td>No</td>\n",
       "      <td>No</td>\n",
       "      <td>No</td>\n",
       "      <td>No</td>\n",
       "      <td>No</td>\n",
       "      <td>No</td>\n",
       "      <td>No</td>\n",
       "      <td>No</td>\n",
       "      <td>No</td>\n",
       "    </tr>\n",
       "    <tr>\n",
       "      <th>metformin-pioglitazone</th>\n",
       "      <td>No</td>\n",
       "      <td>No</td>\n",
       "      <td>No</td>\n",
       "      <td>No</td>\n",
       "      <td>No</td>\n",
       "      <td>No</td>\n",
       "      <td>No</td>\n",
       "      <td>No</td>\n",
       "      <td>No</td>\n",
       "      <td>No</td>\n",
       "    </tr>\n",
       "    <tr>\n",
       "      <th>change</th>\n",
       "      <td>No</td>\n",
       "      <td>Ch</td>\n",
       "      <td>No</td>\n",
       "      <td>Ch</td>\n",
       "      <td>Ch</td>\n",
       "      <td>No</td>\n",
       "      <td>Ch</td>\n",
       "      <td>No</td>\n",
       "      <td>Ch</td>\n",
       "      <td>Ch</td>\n",
       "    </tr>\n",
       "    <tr>\n",
       "      <th>diabetesMed</th>\n",
       "      <td>No</td>\n",
       "      <td>Yes</td>\n",
       "      <td>Yes</td>\n",
       "      <td>Yes</td>\n",
       "      <td>Yes</td>\n",
       "      <td>Yes</td>\n",
       "      <td>Yes</td>\n",
       "      <td>Yes</td>\n",
       "      <td>Yes</td>\n",
       "      <td>Yes</td>\n",
       "    </tr>\n",
       "    <tr>\n",
       "      <th>readmitted</th>\n",
       "      <td>NO</td>\n",
       "      <td>&gt;30</td>\n",
       "      <td>NO</td>\n",
       "      <td>NO</td>\n",
       "      <td>NO</td>\n",
       "      <td>&gt;30</td>\n",
       "      <td>NO</td>\n",
       "      <td>&gt;30</td>\n",
       "      <td>NO</td>\n",
       "      <td>NO</td>\n",
       "    </tr>\n",
       "  </tbody>\n",
       "</table>\n",
       "</div>"
      ],
      "text/plain": [
       "                                                 0  ...                 9\n",
       "encounter_id                               2278392  ...             15738\n",
       "patient_nbr                                8222157  ...          63555939\n",
       "race                                     Caucasian  ...         Caucasian\n",
       "gender                                      Female  ...            Female\n",
       "age                                         [0-10)  ...          [90-100)\n",
       "weight                                           ?  ...                 ?\n",
       "admission_type_id                                6  ...                 3\n",
       "discharge_disposition_id                        25  ...                 3\n",
       "admission_source_id                              1  ...                 4\n",
       "time_in_hospital                                 1  ...                12\n",
       "payer_code                                       ?  ...                 ?\n",
       "medical_specialty         Pediatrics-Endocrinology  ...  InternalMedicine\n",
       "num_lab_procedures                              41  ...                33\n",
       "num_procedures                                   0  ...                 3\n",
       "num_medications                                  1  ...                18\n",
       "number_outpatient                                0  ...                 0\n",
       "number_emergency                                 0  ...                 0\n",
       "number_inpatient                                 0  ...                 0\n",
       "diag_1                                      250.83  ...               434\n",
       "diag_2                                           ?  ...               198\n",
       "diag_3                                           ?  ...               486\n",
       "number_diagnoses                                 1  ...                 8\n",
       "max_glu_serum                                 None  ...              None\n",
       "A1Cresult                                     None  ...              None\n",
       "metformin                                       No  ...                No\n",
       "repaglinide                                     No  ...                No\n",
       "nateglinide                                     No  ...                No\n",
       "chlorpropamide                                  No  ...                No\n",
       "glimepiride                                     No  ...                No\n",
       "acetohexamide                                   No  ...                No\n",
       "glipizide                                       No  ...                No\n",
       "glyburide                                       No  ...                No\n",
       "tolbutamide                                     No  ...                No\n",
       "pioglitazone                                    No  ...                No\n",
       "rosiglitazone                                   No  ...            Steady\n",
       "acarbose                                        No  ...                No\n",
       "miglitol                                        No  ...                No\n",
       "troglitazone                                    No  ...                No\n",
       "tolazamide                                      No  ...                No\n",
       "examide                                         No  ...                No\n",
       "citoglipton                                     No  ...                No\n",
       "insulin                                         No  ...            Steady\n",
       "glyburide-metformin                             No  ...                No\n",
       "glipizide-metformin                             No  ...                No\n",
       "glimepiride-pioglitazone                        No  ...                No\n",
       "metformin-rosiglitazone                         No  ...                No\n",
       "metformin-pioglitazone                          No  ...                No\n",
       "change                                          No  ...                Ch\n",
       "diabetesMed                                     No  ...               Yes\n",
       "readmitted                                      NO  ...                NO\n",
       "\n",
       "[50 rows x 10 columns]"
      ]
     },
     "execution_count": 4,
     "metadata": {
      "tags": []
     },
     "output_type": "execute_result"
    }
   ],
   "source": [
    "#displaying first 10 rows of data\n",
    "df.head(10).T"
   ]
  },
  {
   "cell_type": "code",
   "execution_count": 5,
   "metadata": {
    "colab": {
     "base_uri": "https://localhost:8080/",
     "height": 34
    },
    "id": "jsjq9dlzuxH6",
    "outputId": "f5830cae-789c-44f8-9f93-67ea7b7fab42"
   },
   "outputs": [
    {
     "data": {
      "text/plain": [
       "(101766, 50)"
      ]
     },
     "execution_count": 5,
     "metadata": {
      "tags": []
     },
     "output_type": "execute_result"
    }
   ],
   "source": [
    "#checking shape of the dataset\n",
    "df.shape"
   ]
  },
  {
   "cell_type": "code",
   "execution_count": 6,
   "metadata": {
    "colab": {
     "base_uri": "https://localhost:8080/",
     "height": 884
    },
    "id": "q_IBE2Z1uxH-",
    "outputId": "c8eb0eab-1d5a-4dd2-caaf-d46e89c41aca"
   },
   "outputs": [
    {
     "data": {
      "text/plain": [
       "encounter_id                 int64\n",
       "patient_nbr                  int64\n",
       "race                        object\n",
       "gender                      object\n",
       "age                         object\n",
       "weight                      object\n",
       "admission_type_id            int64\n",
       "discharge_disposition_id     int64\n",
       "admission_source_id          int64\n",
       "time_in_hospital             int64\n",
       "payer_code                  object\n",
       "medical_specialty           object\n",
       "num_lab_procedures           int64\n",
       "num_procedures               int64\n",
       "num_medications              int64\n",
       "number_outpatient            int64\n",
       "number_emergency             int64\n",
       "number_inpatient             int64\n",
       "diag_1                      object\n",
       "diag_2                      object\n",
       "diag_3                      object\n",
       "number_diagnoses             int64\n",
       "max_glu_serum               object\n",
       "A1Cresult                   object\n",
       "metformin                   object\n",
       "repaglinide                 object\n",
       "nateglinide                 object\n",
       "chlorpropamide              object\n",
       "glimepiride                 object\n",
       "acetohexamide               object\n",
       "glipizide                   object\n",
       "glyburide                   object\n",
       "tolbutamide                 object\n",
       "pioglitazone                object\n",
       "rosiglitazone               object\n",
       "acarbose                    object\n",
       "miglitol                    object\n",
       "troglitazone                object\n",
       "tolazamide                  object\n",
       "examide                     object\n",
       "citoglipton                 object\n",
       "insulin                     object\n",
       "glyburide-metformin         object\n",
       "glipizide-metformin         object\n",
       "glimepiride-pioglitazone    object\n",
       "metformin-rosiglitazone     object\n",
       "metformin-pioglitazone      object\n",
       "change                      object\n",
       "diabetesMed                 object\n",
       "readmitted                  object\n",
       "dtype: object"
      ]
     },
     "execution_count": 6,
     "metadata": {
      "tags": []
     },
     "output_type": "execute_result"
    }
   ],
   "source": [
    "#Checking data types of each variable\n",
    "df.dtypes"
   ]
  },
  {
   "cell_type": "code",
   "execution_count": 7,
   "metadata": {
    "colab": {
     "base_uri": "https://localhost:8080/",
     "height": 646
    },
    "id": "pQgpKRfduxIC",
    "outputId": "cab07948-43cc-490a-b3f2-ef32e9d6b8e9"
   },
   "outputs": [
    {
     "name": "stdout",
     "output_type": "stream",
     "text": [
      "race 2273\n",
      "gender 0\n",
      "age 0\n",
      "weight 98569\n",
      "payer_code 40256\n",
      "medical_specialty 49949\n",
      "diag_1 21\n",
      "diag_2 358\n",
      "diag_3 1423\n",
      "max_glu_serum 0\n",
      "A1Cresult 0\n",
      "metformin 0\n",
      "repaglinide 0\n",
      "nateglinide 0\n",
      "chlorpropamide 0\n",
      "glimepiride 0\n",
      "acetohexamide 0\n",
      "glipizide 0\n",
      "glyburide 0\n",
      "tolbutamide 0\n",
      "pioglitazone 0\n",
      "rosiglitazone 0\n",
      "acarbose 0\n",
      "miglitol 0\n",
      "troglitazone 0\n",
      "tolazamide 0\n",
      "examide 0\n",
      "citoglipton 0\n",
      "insulin 0\n",
      "glyburide-metformin 0\n",
      "glipizide-metformin 0\n",
      "glimepiride-pioglitazone 0\n",
      "metformin-rosiglitazone 0\n",
      "metformin-pioglitazone 0\n",
      "change 0\n",
      "diabetesMed 0\n",
      "readmitted 0\n"
     ]
    }
   ],
   "source": [
    "#Checking for missing values in dataset\n",
    "#In the dataset missing values are represented as '?' sign\n",
    "for col in df.columns:\n",
    "    if df[col].dtype == object:\n",
    "         print(col,df[col][df[col] == '?'].count())"
   ]
  },
  {
   "cell_type": "code",
   "execution_count": 8,
   "metadata": {
    "colab": {
     "base_uri": "https://localhost:8080/",
     "height": 34
    },
    "id": "U2iWCCXIuxIH",
    "outputId": "b87a1539-4a20-4acb-f3fc-dadbad0b387e"
   },
   "outputs": [
    {
     "name": "stdout",
     "output_type": "stream",
     "text": [
      "gender 3\n"
     ]
    }
   ],
   "source": [
    "# gender was coded differently so we use a custom count for this one            \n",
    "print('gender', df['gender'][df['gender'] == 'Unknown/Invalid'].count())  "
   ]
  },
  {
   "cell_type": "code",
   "execution_count": 9,
   "metadata": {
    "id": "6L8c8RibuxIS"
   },
   "outputs": [],
   "source": [
    "#dropping columns with large number of missing values\n",
    "df = df.drop(['weight','payer_code','medical_specialty'], axis = 1)\n",
    "drop_Idx = set(df[(df['diag_1'] == '?') & (df['diag_2'] == '?') & (df['diag_3'] == '?')].index)\n",
    "\n",
    "drop_Idx = drop_Idx.union(set(df['diag_1'][df['diag_1'] == '?'].index))\n",
    "drop_Idx = drop_Idx.union(set(df['diag_2'][df['diag_2'] == '?'].index))\n",
    "drop_Idx = drop_Idx.union(set(df['diag_3'][df['diag_3'] == '?'].index))\n",
    "drop_Idx = drop_Idx.union(set(df['race'][df['race'] == '?'].index))\n",
    "drop_Idx = drop_Idx.union(set(df[df['discharge_disposition_id'] == 11].index))\n",
    "drop_Idx = drop_Idx.union(set(df['gender'][df['gender'] == 'Unknown/Invalid'].index))\n",
    "new_Idx = list(set(df.index) - set(drop_Idx))\n",
    "df = df.iloc[new_Idx]"
   ]
  },
  {
   "cell_type": "code",
   "execution_count": 10,
   "metadata": {
    "id": "bYTot4xkuxIV"
   },
   "outputs": [],
   "source": [
    "df = df.drop(['citoglipton', 'examide'], axis = 1)"
   ]
  },
  {
   "cell_type": "code",
   "execution_count": 11,
   "metadata": {
    "colab": {
     "base_uri": "https://localhost:8080/",
     "height": 578
    },
    "id": "187IydrFuxIZ",
    "outputId": "0ef73027-6b15-4c83-e793-b5141a2f041e"
   },
   "outputs": [
    {
     "name": "stdout",
     "output_type": "stream",
     "text": [
      "race 0\n",
      "gender 0\n",
      "age 0\n",
      "diag_1 0\n",
      "diag_2 0\n",
      "diag_3 0\n",
      "max_glu_serum 0\n",
      "A1Cresult 0\n",
      "metformin 0\n",
      "repaglinide 0\n",
      "nateglinide 0\n",
      "chlorpropamide 0\n",
      "glimepiride 0\n",
      "acetohexamide 0\n",
      "glipizide 0\n",
      "glyburide 0\n",
      "tolbutamide 0\n",
      "pioglitazone 0\n",
      "rosiglitazone 0\n",
      "acarbose 0\n",
      "miglitol 0\n",
      "troglitazone 0\n",
      "tolazamide 0\n",
      "insulin 0\n",
      "glyburide-metformin 0\n",
      "glipizide-metformin 0\n",
      "glimepiride-pioglitazone 0\n",
      "metformin-rosiglitazone 0\n",
      "metformin-pioglitazone 0\n",
      "change 0\n",
      "diabetesMed 0\n",
      "readmitted 0\n",
      "gender 0\n"
     ]
    }
   ],
   "source": [
    "#Checking for missing values in the data\n",
    "for col in df.columns:\n",
    "    if df[col].dtype == object:\n",
    "         print(col,df[col][df[col] == '?'].count())\n",
    "            \n",
    "print('gender', df['gender'][df['gender'] == 'Unknown/Invalid'].count())  "
   ]
  },
  {
   "cell_type": "markdown",
   "metadata": {
    "id": "T2GtNp9iuxId"
   },
   "source": [
    "# Feature"
   ]
  },
  {
   "cell_type": "code",
   "execution_count": 12,
   "metadata": {
    "id": "pW5re8-9uxId"
   },
   "outputs": [],
   "source": [
    "df['service_utilization'] = df['number_outpatient'] + df['number_emergency'] + df['number_inpatient']"
   ]
  },
  {
   "cell_type": "code",
   "execution_count": 13,
   "metadata": {
    "colab": {
     "base_uri": "https://localhost:8080/",
     "height": 119
    },
    "id": "IPq1WGcPuxIi",
    "outputId": "576570a4-dbaf-4dd8-cbb1-4f854a7f177f"
   },
   "outputs": [
    {
     "data": {
      "text/plain": [
       "0    70142\n",
       "1    24922\n",
       "2     1271\n",
       "3      106\n",
       "4        5\n",
       "Name: numchange, dtype: int64"
      ]
     },
     "execution_count": 13,
     "metadata": {
      "tags": []
     },
     "output_type": "execute_result"
    }
   ],
   "source": [
    "keys = ['metformin', 'repaglinide', 'nateglinide', 'chlorpropamide', 'glimepiride', 'glipizide', 'glyburide', 'pioglitazone', 'rosiglitazone', 'acarbose', 'miglitol', 'insulin', 'glyburide-metformin', 'tolazamide', 'metformin-pioglitazone','metformin-rosiglitazone', 'glimepiride-pioglitazone', 'glipizide-metformin', 'troglitazone', 'tolbutamide', 'acetohexamide']\n",
    "for col in keys:\n",
    "    colname = str(col) + 'temp'\n",
    "    df[colname] = df[col].apply(lambda x: 0 if (x == 'No' or x == 'Steady') else 1)\n",
    "df['numchange'] = 0\n",
    "for col in keys:\n",
    "    colname = str(col) + 'temp'\n",
    "    df['numchange'] = df['numchange'] + df[colname]\n",
    "    del df[colname]\n",
    "    \n",
    "df['numchange'].value_counts()  "
   ]
  },
  {
   "cell_type": "code",
   "execution_count": 14,
   "metadata": {
    "id": "dhnek_A5uxIm"
   },
   "outputs": [],
   "source": [
    "# re-encoding admission type, discharge type and admission source into fewer categories\n",
    "\n",
    "df['admission_type_id'] = df['admission_type_id'].replace(2,1)\n",
    "df['admission_type_id'] = df['admission_type_id'].replace(7,1)\n",
    "df['admission_type_id'] = df['admission_type_id'].replace(6,5)\n",
    "df['admission_type_id'] = df['admission_type_id'].replace(8,5)"
   ]
  },
  {
   "cell_type": "code",
   "execution_count": 15,
   "metadata": {
    "id": "EDzDM6qPuxIq"
   },
   "outputs": [],
   "source": [
    "df['discharge_disposition_id'] = df['discharge_disposition_id'].replace(6,1)\n",
    "df['discharge_disposition_id'] = df['discharge_disposition_id'].replace(8,1)\n",
    "df['discharge_disposition_id'] = df['discharge_disposition_id'].replace(9,1)\n",
    "df['discharge_disposition_id'] = df['discharge_disposition_id'].replace(13,1)\n",
    "df['discharge_disposition_id'] = df['discharge_disposition_id'].replace(3,2)\n",
    "df['discharge_disposition_id'] = df['discharge_disposition_id'].replace(4,2)\n",
    "df['discharge_disposition_id'] = df['discharge_disposition_id'].replace(5,2)\n",
    "df['discharge_disposition_id'] = df['discharge_disposition_id'].replace(14,2)\n",
    "df['discharge_disposition_id'] = df['discharge_disposition_id'].replace(22,2)\n",
    "df['discharge_disposition_id'] = df['discharge_disposition_id'].replace(23,2)\n",
    "df['discharge_disposition_id'] = df['discharge_disposition_id'].replace(24,2)\n",
    "df['discharge_disposition_id'] = df['discharge_disposition_id'].replace(12,10)\n",
    "df['discharge_disposition_id'] = df['discharge_disposition_id'].replace(15,10)\n",
    "df['discharge_disposition_id'] = df['discharge_disposition_id'].replace(16,10)\n",
    "df['discharge_disposition_id'] = df['discharge_disposition_id'].replace(17,10)\n",
    "df['discharge_disposition_id'] = df['discharge_disposition_id'].replace(25,18)\n",
    "df['discharge_disposition_id'] = df['discharge_disposition_id'].replace(26,18)\n",
    "\n",
    "df['admission_source_id'] = df['admission_source_id'].replace(2,1)\n",
    "df['admission_source_id'] = df['admission_source_id'].replace(3,1)\n",
    "df['admission_source_id'] = df['admission_source_id'].replace(5,4)\n",
    "df['admission_source_id'] = df['admission_source_id'].replace(6,4)\n",
    "df['admission_source_id'] = df['admission_source_id'].replace(10,4)\n",
    "df['admission_source_id'] = df['admission_source_id'].replace(22,4)\n",
    "df['admission_source_id'] = df['admission_source_id'].replace(25,4)\n",
    "df['admission_source_id'] = df['admission_source_id'].replace(15,9)\n",
    "df['admission_source_id'] = df['admission_source_id'].replace(17,9)\n",
    "df['admission_source_id'] = df['admission_source_id'].replace(20,9)\n",
    "df['admission_source_id'] = df['admission_source_id'].replace(21,9)\n",
    "df['admission_source_id'] = df['admission_source_id'].replace(13,11)\n",
    "df['admission_source_id'] = df['admission_source_id'].replace(14,11)"
   ]
  },
  {
   "cell_type": "code",
   "execution_count": 16,
   "metadata": {
    "id": "YBLsXxKkuxIu"
   },
   "outputs": [],
   "source": [
    "df['change'] = df['change'].replace('Ch', 1)\n",
    "df['change'] = df['change'].replace('No', 0)\n",
    "df['gender'] = df['gender'].replace('Male', 1)\n",
    "df['gender'] = df['gender'].replace('Female', 0)\n",
    "df['diabetesMed'] = df['diabetesMed'].replace('Yes', 1)\n",
    "df['diabetesMed'] = df['diabetesMed'].replace('No', 0)\n",
    "# keys is the same as before\n",
    "for col in keys:\n",
    "    df[col] = df[col].replace('No', 0)\n",
    "    df[col] = df[col].replace('Steady', 1)\n",
    "    df[col] = df[col].replace('Up', 1)\n",
    "    df[col] = df[col].replace('Down', 1)"
   ]
  },
  {
   "cell_type": "code",
   "execution_count": 17,
   "metadata": {
    "id": "3Kcptr6suxIx"
   },
   "outputs": [],
   "source": [
    "df['A1Cresult'] = df['A1Cresult'].replace('>7', 1)\n",
    "df['A1Cresult'] = df['A1Cresult'].replace('>8', 1)\n",
    "df['A1Cresult'] = df['A1Cresult'].replace('Norm', 0)\n",
    "df['A1Cresult'] = df['A1Cresult'].replace('None', -99)\n",
    "df['max_glu_serum'] = df['max_glu_serum'].replace('>200', 1)\n",
    "df['max_glu_serum'] = df['max_glu_serum'].replace('>300', 1)\n",
    "df['max_glu_serum'] = df['max_glu_serum'].replace('Norm', 0)\n",
    "df['max_glu_serum'] = df['max_glu_serum'].replace('None', -99)"
   ]
  },
  {
   "cell_type": "code",
   "execution_count": 18,
   "metadata": {
    "colab": {
     "base_uri": "https://localhost:8080/",
     "height": 204
    },
    "id": "gHU7VORquxI0",
    "outputId": "1176be06-24fa-4339-bef5-16227192d11b"
   },
   "outputs": [
    {
     "data": {
      "text/plain": [
       "8     24815\n",
       "7     21521\n",
       "6     16546\n",
       "9     16223\n",
       "5      9208\n",
       "4      3538\n",
       "10     2594\n",
       "3      1471\n",
       "2       466\n",
       "1        64\n",
       "Name: age, dtype: int64"
      ]
     },
     "execution_count": 18,
     "metadata": {
      "tags": []
     },
     "output_type": "execute_result"
    }
   ],
   "source": [
    "# code age intervals [0-10) - [90-100) from 1-10\n",
    "for i in range(0,10):\n",
    "    df['age'] = df['age'].replace('['+str(10*i)+'-'+str(10*(i+1))+')', i+1)\n",
    "df['age'].value_counts()"
   ]
  },
  {
   "cell_type": "code",
   "execution_count": 19,
   "metadata": {
    "colab": {
     "base_uri": "https://localhost:8080/",
     "height": 34
    },
    "id": "04UUShg6uxI4",
    "outputId": "5b13c157-aaae-40f2-cc62-3895f77b28f3"
   },
   "outputs": [
    {
     "data": {
      "text/plain": [
       "(70442, 55)"
      ]
     },
     "execution_count": 19,
     "metadata": {
      "tags": []
     },
     "output_type": "execute_result"
    }
   ],
   "source": [
    "df2 = df.drop_duplicates(subset= ['patient_nbr'], keep = 'first')\n",
    "df2.shape\n",
    "(70442, 55)"
   ]
  },
  {
   "cell_type": "code",
   "execution_count": 20,
   "metadata": {
    "colab": {
     "base_uri": "https://localhost:8080/",
     "height": 1000
    },
    "id": "ZVpPgjRhuxI8",
    "outputId": "00f47342-4b9b-4fa6-d950-ae72781662f2"
   },
   "outputs": [
    {
     "data": {
      "text/html": [
       "<div>\n",
       "<style scoped>\n",
       "    .dataframe tbody tr th:only-of-type {\n",
       "        vertical-align: middle;\n",
       "    }\n",
       "\n",
       "    .dataframe tbody tr th {\n",
       "        vertical-align: top;\n",
       "    }\n",
       "\n",
       "    .dataframe thead th {\n",
       "        text-align: right;\n",
       "    }\n",
       "</style>\n",
       "<table border=\"1\" class=\"dataframe\">\n",
       "  <thead>\n",
       "    <tr style=\"text-align: right;\">\n",
       "      <th></th>\n",
       "      <th>1</th>\n",
       "      <th>2</th>\n",
       "      <th>3</th>\n",
       "      <th>4</th>\n",
       "      <th>5</th>\n",
       "    </tr>\n",
       "  </thead>\n",
       "  <tbody>\n",
       "    <tr>\n",
       "      <th>encounter_id</th>\n",
       "      <td>149190</td>\n",
       "      <td>64410</td>\n",
       "      <td>500364</td>\n",
       "      <td>16680</td>\n",
       "      <td>35754</td>\n",
       "    </tr>\n",
       "    <tr>\n",
       "      <th>patient_nbr</th>\n",
       "      <td>55629189</td>\n",
       "      <td>86047875</td>\n",
       "      <td>82442376</td>\n",
       "      <td>42519267</td>\n",
       "      <td>82637451</td>\n",
       "    </tr>\n",
       "    <tr>\n",
       "      <th>race</th>\n",
       "      <td>Caucasian</td>\n",
       "      <td>AfricanAmerican</td>\n",
       "      <td>Caucasian</td>\n",
       "      <td>Caucasian</td>\n",
       "      <td>Caucasian</td>\n",
       "    </tr>\n",
       "    <tr>\n",
       "      <th>gender</th>\n",
       "      <td>0</td>\n",
       "      <td>0</td>\n",
       "      <td>1</td>\n",
       "      <td>1</td>\n",
       "      <td>1</td>\n",
       "    </tr>\n",
       "    <tr>\n",
       "      <th>age</th>\n",
       "      <td>2</td>\n",
       "      <td>3</td>\n",
       "      <td>4</td>\n",
       "      <td>5</td>\n",
       "      <td>6</td>\n",
       "    </tr>\n",
       "    <tr>\n",
       "      <th>admission_type_id</th>\n",
       "      <td>1</td>\n",
       "      <td>1</td>\n",
       "      <td>1</td>\n",
       "      <td>1</td>\n",
       "      <td>1</td>\n",
       "    </tr>\n",
       "    <tr>\n",
       "      <th>discharge_disposition_id</th>\n",
       "      <td>1</td>\n",
       "      <td>1</td>\n",
       "      <td>1</td>\n",
       "      <td>1</td>\n",
       "      <td>1</td>\n",
       "    </tr>\n",
       "    <tr>\n",
       "      <th>admission_source_id</th>\n",
       "      <td>7</td>\n",
       "      <td>7</td>\n",
       "      <td>7</td>\n",
       "      <td>7</td>\n",
       "      <td>1</td>\n",
       "    </tr>\n",
       "    <tr>\n",
       "      <th>time_in_hospital</th>\n",
       "      <td>3</td>\n",
       "      <td>2</td>\n",
       "      <td>2</td>\n",
       "      <td>1</td>\n",
       "      <td>3</td>\n",
       "    </tr>\n",
       "    <tr>\n",
       "      <th>num_lab_procedures</th>\n",
       "      <td>59</td>\n",
       "      <td>11</td>\n",
       "      <td>44</td>\n",
       "      <td>51</td>\n",
       "      <td>31</td>\n",
       "    </tr>\n",
       "    <tr>\n",
       "      <th>num_procedures</th>\n",
       "      <td>0</td>\n",
       "      <td>5</td>\n",
       "      <td>1</td>\n",
       "      <td>0</td>\n",
       "      <td>6</td>\n",
       "    </tr>\n",
       "    <tr>\n",
       "      <th>num_medications</th>\n",
       "      <td>18</td>\n",
       "      <td>13</td>\n",
       "      <td>16</td>\n",
       "      <td>8</td>\n",
       "      <td>16</td>\n",
       "    </tr>\n",
       "    <tr>\n",
       "      <th>number_outpatient</th>\n",
       "      <td>0</td>\n",
       "      <td>2</td>\n",
       "      <td>0</td>\n",
       "      <td>0</td>\n",
       "      <td>0</td>\n",
       "    </tr>\n",
       "    <tr>\n",
       "      <th>number_emergency</th>\n",
       "      <td>0</td>\n",
       "      <td>0</td>\n",
       "      <td>0</td>\n",
       "      <td>0</td>\n",
       "      <td>0</td>\n",
       "    </tr>\n",
       "    <tr>\n",
       "      <th>number_inpatient</th>\n",
       "      <td>0</td>\n",
       "      <td>1</td>\n",
       "      <td>0</td>\n",
       "      <td>0</td>\n",
       "      <td>0</td>\n",
       "    </tr>\n",
       "    <tr>\n",
       "      <th>diag_1</th>\n",
       "      <td>276</td>\n",
       "      <td>648</td>\n",
       "      <td>8</td>\n",
       "      <td>197</td>\n",
       "      <td>414</td>\n",
       "    </tr>\n",
       "    <tr>\n",
       "      <th>diag_2</th>\n",
       "      <td>250.01</td>\n",
       "      <td>250</td>\n",
       "      <td>250.43</td>\n",
       "      <td>157</td>\n",
       "      <td>411</td>\n",
       "    </tr>\n",
       "    <tr>\n",
       "      <th>diag_3</th>\n",
       "      <td>255</td>\n",
       "      <td>V27</td>\n",
       "      <td>403</td>\n",
       "      <td>250</td>\n",
       "      <td>250</td>\n",
       "    </tr>\n",
       "    <tr>\n",
       "      <th>number_diagnoses</th>\n",
       "      <td>9</td>\n",
       "      <td>6</td>\n",
       "      <td>7</td>\n",
       "      <td>5</td>\n",
       "      <td>9</td>\n",
       "    </tr>\n",
       "    <tr>\n",
       "      <th>max_glu_serum</th>\n",
       "      <td>-99</td>\n",
       "      <td>-99</td>\n",
       "      <td>-99</td>\n",
       "      <td>-99</td>\n",
       "      <td>-99</td>\n",
       "    </tr>\n",
       "    <tr>\n",
       "      <th>A1Cresult</th>\n",
       "      <td>-99</td>\n",
       "      <td>-99</td>\n",
       "      <td>-99</td>\n",
       "      <td>-99</td>\n",
       "      <td>-99</td>\n",
       "    </tr>\n",
       "    <tr>\n",
       "      <th>metformin</th>\n",
       "      <td>0</td>\n",
       "      <td>0</td>\n",
       "      <td>0</td>\n",
       "      <td>0</td>\n",
       "      <td>0</td>\n",
       "    </tr>\n",
       "    <tr>\n",
       "      <th>repaglinide</th>\n",
       "      <td>0</td>\n",
       "      <td>0</td>\n",
       "      <td>0</td>\n",
       "      <td>0</td>\n",
       "      <td>0</td>\n",
       "    </tr>\n",
       "    <tr>\n",
       "      <th>nateglinide</th>\n",
       "      <td>0</td>\n",
       "      <td>0</td>\n",
       "      <td>0</td>\n",
       "      <td>0</td>\n",
       "      <td>0</td>\n",
       "    </tr>\n",
       "    <tr>\n",
       "      <th>chlorpropamide</th>\n",
       "      <td>0</td>\n",
       "      <td>0</td>\n",
       "      <td>0</td>\n",
       "      <td>0</td>\n",
       "      <td>0</td>\n",
       "    </tr>\n",
       "    <tr>\n",
       "      <th>glimepiride</th>\n",
       "      <td>0</td>\n",
       "      <td>0</td>\n",
       "      <td>0</td>\n",
       "      <td>0</td>\n",
       "      <td>0</td>\n",
       "    </tr>\n",
       "    <tr>\n",
       "      <th>acetohexamide</th>\n",
       "      <td>0</td>\n",
       "      <td>0</td>\n",
       "      <td>0</td>\n",
       "      <td>0</td>\n",
       "      <td>0</td>\n",
       "    </tr>\n",
       "    <tr>\n",
       "      <th>glipizide</th>\n",
       "      <td>0</td>\n",
       "      <td>1</td>\n",
       "      <td>0</td>\n",
       "      <td>1</td>\n",
       "      <td>0</td>\n",
       "    </tr>\n",
       "    <tr>\n",
       "      <th>glyburide</th>\n",
       "      <td>0</td>\n",
       "      <td>0</td>\n",
       "      <td>0</td>\n",
       "      <td>0</td>\n",
       "      <td>0</td>\n",
       "    </tr>\n",
       "    <tr>\n",
       "      <th>tolbutamide</th>\n",
       "      <td>0</td>\n",
       "      <td>0</td>\n",
       "      <td>0</td>\n",
       "      <td>0</td>\n",
       "      <td>0</td>\n",
       "    </tr>\n",
       "    <tr>\n",
       "      <th>pioglitazone</th>\n",
       "      <td>0</td>\n",
       "      <td>0</td>\n",
       "      <td>0</td>\n",
       "      <td>0</td>\n",
       "      <td>0</td>\n",
       "    </tr>\n",
       "    <tr>\n",
       "      <th>rosiglitazone</th>\n",
       "      <td>0</td>\n",
       "      <td>0</td>\n",
       "      <td>0</td>\n",
       "      <td>0</td>\n",
       "      <td>0</td>\n",
       "    </tr>\n",
       "    <tr>\n",
       "      <th>acarbose</th>\n",
       "      <td>0</td>\n",
       "      <td>0</td>\n",
       "      <td>0</td>\n",
       "      <td>0</td>\n",
       "      <td>0</td>\n",
       "    </tr>\n",
       "    <tr>\n",
       "      <th>miglitol</th>\n",
       "      <td>0</td>\n",
       "      <td>0</td>\n",
       "      <td>0</td>\n",
       "      <td>0</td>\n",
       "      <td>0</td>\n",
       "    </tr>\n",
       "    <tr>\n",
       "      <th>troglitazone</th>\n",
       "      <td>0</td>\n",
       "      <td>0</td>\n",
       "      <td>0</td>\n",
       "      <td>0</td>\n",
       "      <td>0</td>\n",
       "    </tr>\n",
       "    <tr>\n",
       "      <th>tolazamide</th>\n",
       "      <td>0</td>\n",
       "      <td>0</td>\n",
       "      <td>0</td>\n",
       "      <td>0</td>\n",
       "      <td>0</td>\n",
       "    </tr>\n",
       "    <tr>\n",
       "      <th>insulin</th>\n",
       "      <td>1</td>\n",
       "      <td>0</td>\n",
       "      <td>1</td>\n",
       "      <td>1</td>\n",
       "      <td>1</td>\n",
       "    </tr>\n",
       "    <tr>\n",
       "      <th>glyburide-metformin</th>\n",
       "      <td>0</td>\n",
       "      <td>0</td>\n",
       "      <td>0</td>\n",
       "      <td>0</td>\n",
       "      <td>0</td>\n",
       "    </tr>\n",
       "    <tr>\n",
       "      <th>glipizide-metformin</th>\n",
       "      <td>0</td>\n",
       "      <td>0</td>\n",
       "      <td>0</td>\n",
       "      <td>0</td>\n",
       "      <td>0</td>\n",
       "    </tr>\n",
       "    <tr>\n",
       "      <th>glimepiride-pioglitazone</th>\n",
       "      <td>0</td>\n",
       "      <td>0</td>\n",
       "      <td>0</td>\n",
       "      <td>0</td>\n",
       "      <td>0</td>\n",
       "    </tr>\n",
       "    <tr>\n",
       "      <th>metformin-rosiglitazone</th>\n",
       "      <td>0</td>\n",
       "      <td>0</td>\n",
       "      <td>0</td>\n",
       "      <td>0</td>\n",
       "      <td>0</td>\n",
       "    </tr>\n",
       "    <tr>\n",
       "      <th>metformin-pioglitazone</th>\n",
       "      <td>0</td>\n",
       "      <td>0</td>\n",
       "      <td>0</td>\n",
       "      <td>0</td>\n",
       "      <td>0</td>\n",
       "    </tr>\n",
       "    <tr>\n",
       "      <th>change</th>\n",
       "      <td>1</td>\n",
       "      <td>0</td>\n",
       "      <td>1</td>\n",
       "      <td>1</td>\n",
       "      <td>0</td>\n",
       "    </tr>\n",
       "    <tr>\n",
       "      <th>diabetesMed</th>\n",
       "      <td>1</td>\n",
       "      <td>1</td>\n",
       "      <td>1</td>\n",
       "      <td>1</td>\n",
       "      <td>1</td>\n",
       "    </tr>\n",
       "    <tr>\n",
       "      <th>readmitted</th>\n",
       "      <td>&gt;30</td>\n",
       "      <td>NO</td>\n",
       "      <td>NO</td>\n",
       "      <td>NO</td>\n",
       "      <td>&gt;30</td>\n",
       "    </tr>\n",
       "    <tr>\n",
       "      <th>service_utilization</th>\n",
       "      <td>0</td>\n",
       "      <td>3</td>\n",
       "      <td>0</td>\n",
       "      <td>0</td>\n",
       "      <td>0</td>\n",
       "    </tr>\n",
       "    <tr>\n",
       "      <th>numchange</th>\n",
       "      <td>1</td>\n",
       "      <td>0</td>\n",
       "      <td>1</td>\n",
       "      <td>0</td>\n",
       "      <td>0</td>\n",
       "    </tr>\n",
       "  </tbody>\n",
       "</table>\n",
       "</div>"
      ],
      "text/plain": [
       "                                  1                2  ...          4          5\n",
       "encounter_id                 149190            64410  ...      16680      35754\n",
       "patient_nbr                55629189         86047875  ...   42519267   82637451\n",
       "race                      Caucasian  AfricanAmerican  ...  Caucasian  Caucasian\n",
       "gender                            0                0  ...          1          1\n",
       "age                               2                3  ...          5          6\n",
       "admission_type_id                 1                1  ...          1          1\n",
       "discharge_disposition_id          1                1  ...          1          1\n",
       "admission_source_id               7                7  ...          7          1\n",
       "time_in_hospital                  3                2  ...          1          3\n",
       "num_lab_procedures               59               11  ...         51         31\n",
       "num_procedures                    0                5  ...          0          6\n",
       "num_medications                  18               13  ...          8         16\n",
       "number_outpatient                 0                2  ...          0          0\n",
       "number_emergency                  0                0  ...          0          0\n",
       "number_inpatient                  0                1  ...          0          0\n",
       "diag_1                          276              648  ...        197        414\n",
       "diag_2                       250.01              250  ...        157        411\n",
       "diag_3                          255              V27  ...        250        250\n",
       "number_diagnoses                  9                6  ...          5          9\n",
       "max_glu_serum                   -99              -99  ...        -99        -99\n",
       "A1Cresult                       -99              -99  ...        -99        -99\n",
       "metformin                         0                0  ...          0          0\n",
       "repaglinide                       0                0  ...          0          0\n",
       "nateglinide                       0                0  ...          0          0\n",
       "chlorpropamide                    0                0  ...          0          0\n",
       "glimepiride                       0                0  ...          0          0\n",
       "acetohexamide                     0                0  ...          0          0\n",
       "glipizide                         0                1  ...          1          0\n",
       "glyburide                         0                0  ...          0          0\n",
       "tolbutamide                       0                0  ...          0          0\n",
       "pioglitazone                      0                0  ...          0          0\n",
       "rosiglitazone                     0                0  ...          0          0\n",
       "acarbose                          0                0  ...          0          0\n",
       "miglitol                          0                0  ...          0          0\n",
       "troglitazone                      0                0  ...          0          0\n",
       "tolazamide                        0                0  ...          0          0\n",
       "insulin                           1                0  ...          1          1\n",
       "glyburide-metformin               0                0  ...          0          0\n",
       "glipizide-metformin               0                0  ...          0          0\n",
       "glimepiride-pioglitazone          0                0  ...          0          0\n",
       "metformin-rosiglitazone           0                0  ...          0          0\n",
       "metformin-pioglitazone            0                0  ...          0          0\n",
       "change                            1                0  ...          1          0\n",
       "diabetesMed                       1                1  ...          1          1\n",
       "readmitted                      >30               NO  ...         NO        >30\n",
       "service_utilization               0                3  ...          0          0\n",
       "numchange                         1                0  ...          0          0\n",
       "\n",
       "[47 rows x 5 columns]"
      ]
     },
     "execution_count": 20,
     "metadata": {
      "tags": []
     },
     "output_type": "execute_result"
    }
   ],
   "source": [
    "df.head().T"
   ]
  },
  {
   "cell_type": "code",
   "execution_count": 21,
   "metadata": {
    "colab": {
     "base_uri": "https://localhost:8080/",
     "height": 85
    },
    "id": "Ev1FF8souxI_",
    "outputId": "624e1c72-1d38-4641-ec23-ae130093cf79"
   },
   "outputs": [
    {
     "data": {
      "text/plain": [
       "NO     50731\n",
       ">30    34649\n",
       "<30    11066\n",
       "Name: readmitted, dtype: int64"
      ]
     },
     "execution_count": 21,
     "metadata": {
      "tags": []
     },
     "output_type": "execute_result"
    }
   ],
   "source": [
    "df['readmitted'].value_counts()"
   ]
  },
  {
   "cell_type": "code",
   "execution_count": 22,
   "metadata": {
    "id": "tmzaeuMmuxJD"
   },
   "outputs": [],
   "source": [
    "df['readmitted'] = df['readmitted'].replace('>30', 0)\n",
    "df['readmitted'] = df['readmitted'].replace('<30', 1)\n",
    "df['readmitted'] = df['readmitted'].replace('NO', 0)"
   ]
  },
  {
   "cell_type": "code",
   "execution_count": 23,
   "metadata": {
    "id": "BgsUeMMZuxJG"
   },
   "outputs": [],
   "source": [
    "# Creating additional columns for diagnosis# Creati \n",
    "df['level1_diag1'] = df['diag_1']\n",
    "df['level2_diag1'] = df['diag_1']\n",
    "df['level1_diag2'] = df['diag_2']\n",
    "df['level2_diag2'] = df['diag_2']\n",
    "df['level1_diag3'] = df['diag_3']\n",
    "df['level2_diag3'] = df['diag_3']"
   ]
  },
  {
   "cell_type": "code",
   "execution_count": 24,
   "metadata": {
    "id": "zEbjRoxRuxJJ"
   },
   "outputs": [],
   "source": [
    "df.loc[df['diag_1'].str.contains('V'), ['level1_diag1', 'level2_diag1']] = 0\n",
    "df.loc[df['diag_1'].str.contains('E'), ['level1_diag1', 'level2_diag1']] = 0\n",
    "df.loc[df['diag_2'].str.contains('V'), ['level1_diag2', 'level2_diag2']] = 0\n",
    "df.loc[df['diag_2'].str.contains('E'), ['level1_diag2', 'level2_diag2']] = 0\n",
    "df.loc[df['diag_3'].str.contains('V'), ['level1_diag3', 'level2_diag3']] = 0\n",
    "df.loc[df['diag_3'].str.contains('E'), ['level1_diag3', 'level2_diag3']] = 0\n",
    "df['level1_diag1'] = df['level1_diag1'].replace('?', -1)\n",
    "df['level2_diag1'] = df['level2_diag1'].replace('?', -1)\n",
    "df['level1_diag2'] = df['level1_diag2'].replace('?', -1)\n",
    "df['level2_diag2'] = df['level2_diag2'].replace('?', -1)\n",
    "df['level1_diag3'] = df['level1_diag3'].replace('?', -1)\n",
    "df['level2_diag3'] = df['level2_diag3'].replace('?', -1)"
   ]
  },
  {
   "cell_type": "code",
   "execution_count": 25,
   "metadata": {
    "id": "x-jyH-IXuxJM"
   },
   "outputs": [],
   "source": [
    "df['level1_diag1'] = df['level1_diag1'].astype(float)\n",
    "df['level2_diag1'] = df['level2_diag1'].astype(float)\n",
    "df['level1_diag2'] = df['level1_diag2'].astype(float)\n",
    "df['level2_diag2'] = df['level2_diag2'].astype(float)\n",
    "df['level1_diag3'] = df['level1_diag3'].astype(float)\n",
    "df['level2_diag3'] = df['level2_diag3'].astype(float)"
   ]
  },
  {
   "cell_type": "code",
   "execution_count": 26,
   "metadata": {
    "id": "nFwzoGGJuxJQ"
   },
   "outputs": [],
   "source": [
    "for index, row in df.iterrows():\n",
    "    if (row['level1_diag1'] >= 390 and row['level1_diag1'] < 460) or (np.floor(row['level1_diag1']) == 785):\n",
    "        df.loc[index, 'level1_diag1'] = 1\n",
    "    elif (row['level1_diag1'] >= 460 and row['level1_diag1'] < 520) or (np.floor(row['level1_diag1']) == 786):\n",
    "        df.loc[index, 'level1_diag1'] = 2\n",
    "    elif (row['level1_diag1'] >= 520 and row['level1_diag1'] < 580) or (np.floor(row['level1_diag1']) == 787):\n",
    "        df.loc[index, 'level1_diag1'] = 3\n",
    "    elif (np.floor(row['level1_diag1']) == 250):\n",
    "        df.loc[index, 'level1_diag1'] = 4\n",
    "    elif (row['level1_diag1'] >= 800 and row['level1_diag1'] < 1000):\n",
    "        df.loc[index, 'level1_diag1'] = 5\n",
    "    elif (row['level1_diag1'] >= 710 and row['level1_diag1'] < 740):\n",
    "        df.loc[index, 'level1_diag1'] = 6\n",
    "    elif (row['level1_diag1'] >= 580 and row['level1_diag1'] < 630) or (np.floor(row['level1_diag1']) == 788):\n",
    "        df.loc[index, 'level1_diag1'] = 7\n",
    "    elif (row['level1_diag1'] >= 140 and row['level1_diag1'] < 240):\n",
    "        df.loc[index, 'level1_diag1'] = 8\n",
    "    else:\n",
    "        df.loc[index, 'level1_diag1'] = 0\n",
    "        \n",
    "    if (row['level1_diag2'] >= 390 and row['level1_diag2'] < 460) or (np.floor(row['level1_diag2']) == 785):\n",
    "        df.loc[index, 'level1_diag2'] = 1\n",
    "    elif (row['level1_diag2'] >= 460 and row['level1_diag2'] < 520) or (np.floor(row['level1_diag2']) == 786):\n",
    "        df.loc[index, 'level1_diag2'] = 2\n",
    "    elif (row['level1_diag2'] >= 520 and row['level1_diag2'] < 580) or (np.floor(row['level1_diag2']) == 787):\n",
    "        df.loc[index, 'level1_diag2'] = 3\n",
    "    elif (np.floor(row['level1_diag2']) == 250):\n",
    "        df.loc[index, 'level1_diag2'] = 4\n",
    "    elif (row['level1_diag2'] >= 800 and row['level1_diag2'] < 1000):\n",
    "        df.loc[index, 'level1_diag2'] = 5\n",
    "    elif (row['level1_diag2'] >= 710 and row['level1_diag2'] < 740):\n",
    "        df.loc[index, 'level1_diag2'] = 6\n",
    "    elif (row['level1_diag2'] >= 580 and row['level1_diag2'] < 630) or (np.floor(row['level1_diag2']) == 788):\n",
    "        df.loc[index, 'level1_diag2'] = 7\n",
    "    elif (row['level1_diag2'] >= 140 and row['level1_diag2'] < 240):\n",
    "        df.loc[index, 'level1_diag2'] = 8\n",
    "    else:\n",
    "        df.loc[index, 'level1_diag2'] = 0\n",
    "    \n",
    "    if (row['level1_diag3'] >= 390 and row['level1_diag3'] < 460) or (np.floor(row['level1_diag3']) == 785):\n",
    "        df.loc[index, 'level1_diag3'] = 1\n",
    "    elif (row['level1_diag3'] >= 460 and row['level1_diag3'] < 520) or (np.floor(row['level1_diag3']) == 786):\n",
    "        df.loc[index, 'level1_diag3'] = 2\n",
    "    elif (row['level1_diag3'] >= 520 and row['level1_diag3'] < 580) or (np.floor(row['level1_diag3']) == 787):\n",
    "        df.loc[index, 'level1_diag3'] = 3\n",
    "    elif (np.floor(row['level1_diag3']) == 250):\n",
    "        df.loc[index, 'level1_diag3'] = 4\n",
    "    elif (row['level1_diag3'] >= 800 and row['level1_diag3'] < 1000):\n",
    "        df.loc[index, 'level1_diag3'] = 5\n",
    "    elif (row['level1_diag3'] >= 710 and row['level1_diag3'] < 740):\n",
    "        df.loc[index, 'level1_diag3'] = 6\n",
    "    elif (row['level1_diag3'] >= 580 and row['level1_diag3'] < 630) or (np.floor(row['level1_diag3']) == 788):\n",
    "        df.loc[index, 'level1_diag3'] = 7\n",
    "    elif (row['level1_diag3'] >= 140 and row['level1_diag3'] < 240):\n",
    "        df.loc[index, 'level1_diag3'] = 8\n",
    "    else:\n",
    "        df.loc[index, 'level1_diag3'] = 0"
   ]
  },
  {
   "cell_type": "code",
   "execution_count": 27,
   "metadata": {
    "id": "aP2p2_K8uxJU"
   },
   "outputs": [],
   "source": [
    "for index, row in df.iterrows():\n",
    "    if (row['level2_diag1'] >= 390 and row['level2_diag1'] < 399):\n",
    "        df.loc[index, 'level2_diag1'] = 1\n",
    "    elif (row['level2_diag1'] >= 401 and row['level2_diag1'] < 415):\n",
    "        df.loc[index, 'level2_diag1'] = 2\n",
    "    elif (row['level2_diag1'] >= 415 and row['level2_diag1'] < 460):\n",
    "        df.loc[index, 'level2_diag1'] = 3\n",
    "    elif (np.floor(row['level2_diag1']) == 785):\n",
    "        df.loc[index, 'level2_diag1'] = 4\n",
    "    elif (row['level2_diag1'] >= 460 and row['level2_diag1'] < 489):\n",
    "        df.loc[index, 'level2_diag1'] = 5\n",
    "    elif (row['level2_diag1'] >= 490 and row['level2_diag1'] < 497):\n",
    "        df.loc[index, 'level2_diag1'] = 6\n",
    "    elif (row['level2_diag1'] >= 500 and row['level2_diag1'] < 520):\n",
    "        df.loc[index, 'level2_diag1'] = 7\n",
    "    elif (np.floor(row['level2_diag1']) == 786):\n",
    "        df.loc[index, 'level2_diag1'] = 8\n",
    "    elif (row['level2_diag1'] >= 520 and row['level2_diag1'] < 530):\n",
    "        df.loc[index, 'level2_diag1'] = 9\n",
    "    elif (row['level2_diag1'] >= 530 and row['level2_diag1'] < 544):\n",
    "        df.loc[index, 'level2_diag1'] = 10\n",
    "    elif (row['level2_diag1'] >= 550 and row['level2_diag1'] < 554):\n",
    "        df.loc[index, 'level2_diag1'] = 11\n",
    "    elif (row['level2_diag1'] >= 555 and row['level2_diag1'] < 580):\n",
    "        df.loc[index, 'level2_diag1'] = 12\n",
    "    elif (np.floor(row['level2_diag1']) == 787):\n",
    "        df.loc[index, 'level2_diag1'] = 13\n",
    "    elif (np.floor(row['level2_diag1']) == 250):\n",
    "        df.loc[index, 'level2_diag1'] = 14\n",
    "    elif (row['level2_diag1'] >= 800 and row['level2_diag1'] < 1000):\n",
    "        df.loc[index, 'level2_diag1'] = 15\n",
    "    elif (row['level2_diag1'] >= 710 and row['level2_diag1'] < 740):\n",
    "        df.loc[index, 'level2_diag1'] = 16\n",
    "    elif (row['level2_diag1'] >= 580 and row['level2_diag1'] < 630):\n",
    "        df.loc[index, 'level2_diag1'] = 17\n",
    "    elif (np.floor(row['level2_diag1']) == 788):\n",
    "        df.loc[index, 'level2_diag1'] = 18\n",
    "    elif (row['level2_diag1'] >= 140 and row['level2_diag1'] < 240):\n",
    "        df.loc[index, 'level2_diag1'] = 19\n",
    "    elif row['level2_diag1'] >= 240 and row['level2_diag1'] < 280 and (np.floor(row['level2_diag1']) != 250):\n",
    "        df.loc[index, 'level2_diag1'] = 20\n",
    "    elif (row['level2_diag1'] >= 680 and row['level2_diag1'] < 710) or (np.floor(row['level2_diag1']) == 782):\n",
    "        df.loc[index, 'level2_diag1'] = 21\n",
    "    elif (row['level2_diag1'] >= 290 and row['level2_diag1'] < 320):\n",
    "        df.loc[index, 'level2_diag1'] = 22\n",
    "    else:\n",
    "        df.loc[index, 'level2_diag1'] = 0\n",
    "        \n",
    "    if (row['level2_diag2'] >= 390 and row['level2_diag2'] < 399):\n",
    "        df.loc[index, 'level2_diag2'] = 1\n",
    "    elif (row['level2_diag2'] >= 401 and row['level2_diag2'] < 415):\n",
    "        df.loc[index, 'level2_diag2'] = 2\n",
    "    elif (row['level2_diag2'] >= 415 and row['level2_diag2'] < 460):\n",
    "        df.loc[index, 'level2_diag2'] = 3\n",
    "    elif (np.floor(row['level2_diag2']) == 785):\n",
    "        df.loc[index, 'level2_diag2'] = 4\n",
    "    elif (row['level2_diag2'] >= 460 and row['level2_diag2'] < 489):\n",
    "        df.loc[index, 'level2_diag2'] = 5\n",
    "    elif (row['level2_diag2'] >= 490 and row['level2_diag2'] < 497):\n",
    "        df.loc[index, 'level2_diag2'] = 6\n",
    "    elif (row['level2_diag2'] >= 500 and row['level2_diag2'] < 520):\n",
    "        df.loc[index, 'level2_diag2'] = 7\n",
    "    elif (np.floor(row['level2_diag2']) == 786):\n",
    "        df.loc[index, 'level2_diag2'] = 8\n",
    "    elif (row['level2_diag2'] >= 520 and row['level2_diag2'] < 530):\n",
    "        df.loc[index, 'level2_diag2'] = 9\n",
    "    elif (row['level2_diag2'] >= 530 and row['level2_diag2'] < 544):\n",
    "        df.loc[index, 'level2_diag2'] = 10\n",
    "    elif (row['level2_diag2'] >= 550 and row['level2_diag2'] < 554):\n",
    "        df.loc[index, 'level2_diag2'] = 11\n",
    "    elif (row['level2_diag2'] >= 555 and row['level2_diag2'] < 580):\n",
    "        df.loc[index, 'level2_diag2'] = 12\n",
    "    elif (np.floor(row['level2_diag2']) == 787):\n",
    "        df.loc[index, 'level2_diag2'] = 13\n",
    "    elif (np.floor(row['level2_diag2']) == 250):\n",
    "        df.loc[index, 'level2_diag2'] = 14\n",
    "    elif (row['level2_diag2'] >= 800 and row['level2_diag2'] < 1000):\n",
    "        df.loc[index, 'level2_diag2'] = 15\n",
    "    elif (row['level2_diag2'] >= 710 and row['level2_diag2'] < 740):\n",
    "        df.loc[index, 'level2_diag2'] = 16\n",
    "    elif (row['level2_diag2'] >= 580 and row['level2_diag2'] < 630):\n",
    "        df.loc[index, 'level2_diag2'] = 17\n",
    "    elif (np.floor(row['level2_diag2']) == 788):\n",
    "        df.loc[index, 'level2_diag2'] = 18\n",
    "    elif (row['level2_diag2'] >= 140 and row['level2_diag2'] < 240):\n",
    "        df.loc[index, 'level2_diag2'] = 19\n",
    "    elif row['level2_diag2'] >= 240 and row['level2_diag2'] < 280 and (np.floor(row['level2_diag2']) != 250):\n",
    "        df.loc[index, 'level2_diag2'] = 20\n",
    "    elif (row['level2_diag2'] >= 680 and row['level2_diag2'] < 710) or (np.floor(row['level2_diag2']) == 782):\n",
    "        df.loc[index, 'level2_diag2'] = 21\n",
    "    elif (row['level2_diag2'] >= 290 and row['level2_diag2'] < 320):\n",
    "        df.loc[index, 'level2_diag2'] = 22\n",
    "    else:\n",
    "        df.loc[index, 'level2_diag2'] = 0\n",
    "        \n",
    "        \n",
    "    if (row['level2_diag3'] >= 390 and row['level2_diag3'] < 399):\n",
    "        df.loc[index, 'level2_diag3'] = 1\n",
    "    elif (row['level2_diag3'] >= 401 and row['level2_diag3'] < 415):\n",
    "        df.loc[index, 'level2_diag3'] = 2\n",
    "    elif (row['level2_diag3'] >= 415 and row['level2_diag3'] < 460):\n",
    "        df.loc[index, 'level2_diag3'] = 3\n",
    "    elif (np.floor(row['level2_diag3']) == 785):\n",
    "        df.loc[index, 'level2_diag3'] = 4\n",
    "    elif (row['level2_diag3'] >= 460 and row['level2_diag3'] < 489):\n",
    "        df.loc[index, 'level2_diag3'] = 5\n",
    "    elif (row['level2_diag3'] >= 490 and row['level2_diag3'] < 497):\n",
    "        df.loc[index, 'level2_diag3'] = 6\n",
    "    elif (row['level2_diag3'] >= 500 and row['level2_diag3'] < 520):\n",
    "        df.loc[index, 'level2_diag3'] = 7\n",
    "    elif (np.floor(row['level2_diag3']) == 786):\n",
    "        df.loc[index, 'level2_diag3'] = 8\n",
    "    elif (row['level2_diag3'] >= 520 and row['level2_diag3'] < 530):\n",
    "        df.loc[index, 'level2_diag3'] = 9\n",
    "    elif (row['level2_diag3'] >= 530 and row['level2_diag3'] < 544):\n",
    "        df.loc[index, 'level2_diag3'] = 10\n",
    "    elif (row['level2_diag3'] >= 550 and row['level2_diag3'] < 554):\n",
    "        df.loc[index, 'level2_diag3'] = 11\n",
    "    elif (row['level2_diag3'] >= 555 and row['level2_diag3'] < 580):\n",
    "        df.loc[index, 'level2_diag3'] = 12\n",
    "    elif (np.floor(row['level2_diag3']) == 787):\n",
    "        df.loc[index, 'level2_diag3'] = 13\n",
    "    elif (np.floor(row['level2_diag3']) == 250):\n",
    "        df.loc[index, 'level2_diag3'] = 14\n",
    "    elif (row['level2_diag3'] >= 800 and row['level2_diag3'] < 1000):\n",
    "        df.loc[index, 'level2_diag3'] = 15\n",
    "    elif (row['level2_diag3'] >= 710 and row['level2_diag3'] < 740):\n",
    "        df.loc[index, 'level2_diag3'] = 16\n",
    "    elif (row['level2_diag3'] >= 580 and row['level2_diag3'] < 630):\n",
    "        df.loc[index, 'level2_diag3'] = 17\n",
    "    elif (np.floor(row['level2_diag3']) == 788):\n",
    "        df.loc[index, 'level2_diag3'] = 18\n",
    "    elif (row['level2_diag3'] >= 140 and row['level2_diag3'] < 240):\n",
    "        df.loc[index, 'level2_diag3'] = 19\n",
    "    elif row['level2_diag3'] >= 240 and row['level2_diag3'] < 280 and (np.floor(row['level2_diag3']) != 250):\n",
    "        df.loc[index, 'level2_diag3'] = 20\n",
    "    elif (row['level2_diag3'] >= 680 and row['level2_diag3'] < 710) or (np.floor(row['level2_diag3']) == 782):\n",
    "        df.loc[index, 'level2_diag3'] = 21\n",
    "    elif (row['level2_diag3'] >= 290 and row['level2_diag3'] < 320):\n",
    "        df.loc[index, 'level2_diag3'] = 22\n",
    "    else:\n",
    "        df.loc[index, 'level2_diag3'] = 0"
   ]
  },
  {
   "cell_type": "markdown",
   "metadata": {
    "id": "SeGxUrvbuxJY"
   },
   "source": [
    "# Data Visualization"
   ]
  },
  {
   "cell_type": "code",
   "execution_count": 28,
   "metadata": {
    "colab": {
     "base_uri": "https://localhost:8080/",
     "height": 366
    },
    "id": "mvq8f19YuxJZ",
    "outputId": "543442b4-c330-417f-de98-3dd8187509b2"
   },
   "outputs": [
    {
     "name": "stderr",
     "output_type": "stream",
     "text": [
      "/usr/local/lib/python3.6/dist-packages/seaborn/_decorators.py:43: FutureWarning: Pass the following variable as a keyword arg: x. From version 0.12, the only valid positional argument will be `data`, and passing other arguments without an explicit keyword will result in an error or misinterpretation.\n",
      "  FutureWarning\n"
     ]
    },
    {
     "data": {
      "text/plain": [
       "Text(0.5, 1.0, 'Distrinution of Admission')"
      ]
     },
     "execution_count": 28,
     "metadata": {
      "tags": []
     },
     "output_type": "execute_result"
    },
    {
     "data": {
      "image/png": "[encoded data removed]",
      "text/plain": [
       "<Figure size 432x288 with 1 Axes>"
      ]
     },
     "metadata": {
      "needs_background": "light",
      "tags": []
     },
     "output_type": "display_data"
    }
   ],
   "source": [
    "# Distribution of Readmission \n",
    "sns.countplot(df['readmitted']).set_title('Distrinution of Admission')"
   ]
  },
  {
   "cell_type": "code",
   "execution_count": 29,
   "metadata": {
    "colab": {
     "base_uri": "https://localhost:8080/",
     "height": 475
    },
    "id": "hX-Bb-q0uxJc",
    "outputId": "3a617c77-7341-4a9e-9203-cd77326a02d5"
   },
   "outputs": [
    {
     "data": {
      "text/plain": [
       "Text(0.5, 1.0, 'Time in Hospital VS. Admission')"
      ]
     },
     "execution_count": 29,
     "metadata": {
      "tags": []
     },
     "output_type": "execute_result"
    },
    {
     "data": {
      "image/png": "[encoded data removed]",
      "text/plain": [
       "<Figure size 936x504 with 1 Axes>"
      ]
     },
     "metadata": {
      "needs_background": "light",
      "tags": []
     },
     "output_type": "display_data"
    }
   ],
   "source": [
    "fig = plt.figure(figsize=(13,7),)\n",
    "ax=sns.kdeplot(df.loc[(df['readmitted'] == 0),'time_in_hospital'] , color='b',shade=True,label='Not Readmitted')\n",
    "ax=sns.kdeplot(df.loc[(df['readmitted'] == 1),'time_in_hospital'] , color='r',shade=True, label='Readmitted')\n",
    "ax.set(xlabel='Time in Hospital', ylabel='Frequency')\n",
    "plt.title('Time in Hospital VS. Admission')"
   ]
  },
  {
   "cell_type": "code",
   "execution_count": 30,
   "metadata": {
    "colab": {
     "base_uri": "https://localhost:8080/",
     "height": 638
    },
    "id": "8s1BYbEiuxJf",
    "outputId": "837836c3-aa4d-45f7-99e2-b14130e6b6bf"
   },
   "outputs": [
    {
     "data": {
      "text/plain": [
       "Text(0.5, 1.0, 'Age of Patient VS. Admission')"
      ]
     },
     "execution_count": 30,
     "metadata": {
      "tags": []
     },
     "output_type": "execute_result"
    },
    {
     "data": {
      "image/png": "[encoded data removed]",
      "text/plain": [
       "<Figure size 1080x720 with 1 Axes>"
      ]
     },
     "metadata": {
      "needs_background": "light",
      "tags": []
     },
     "output_type": "display_data"
    }
   ],
   "source": [
    "fig = plt.figure(figsize=(15,10))\n",
    "sns.countplot(y= df['age'], hue = df['readmitted']).set_title('Age of Patient VS. Admission')"
   ]
  },
  {
   "cell_type": "code",
   "execution_count": 31,
   "metadata": {
    "colab": {
     "base_uri": "https://localhost:8080/",
     "height": 514
    },
    "id": "sFfX54lKuxJi",
    "outputId": "e26c480c-f7a0-4a12-944a-be70c9364a38"
   },
   "outputs": [
    {
     "data": {
      "text/plain": [
       "<matplotlib.axes._subplots.AxesSubplot at 0x7f79f2048fd0>"
      ]
     },
     "execution_count": 31,
     "metadata": {
      "tags": []
     },
     "output_type": "execute_result"
    },
    {
     "data": {
      "image/png": "[encoded data removed]",
      "text/plain": [
       "<Figure size 576x576 with 1 Axes>"
      ]
     },
     "metadata": {
      "needs_background": "light",
      "tags": []
     },
     "output_type": "display_data"
    }
   ],
   "source": [
    "fig = plt.figure(figsize=(8,8))\n",
    "sns.countplot(y = df['race'], hue = df['readmitted'])"
   ]
  },
  {
   "cell_type": "code",
   "execution_count": 32,
   "metadata": {
    "colab": {
     "base_uri": "https://localhost:8080/",
     "height": 530
    },
    "id": "45_bW1w9uxJm",
    "outputId": "ed89af73-d9f8-4dea-b945-f511b502907a"
   },
   "outputs": [
    {
     "data": {
      "text/plain": [
       "Text(0.5, 1.0, 'Number of medication used VS. Admission')"
      ]
     },
     "execution_count": 32,
     "metadata": {
      "tags": []
     },
     "output_type": "execute_result"
    },
    {
     "data": {
      "image/png": "[encoded data removed]",
      "text/plain": [
       "<Figure size 576x576 with 1 Axes>"
      ]
     },
     "metadata": {
      "needs_background": "light",
      "tags": []
     },
     "output_type": "display_data"
    }
   ],
   "source": [
    "fig = plt.figure(figsize=(8,8))\n",
    "sns.barplot(x = df['readmitted'], y = df['num_medications']).set_title(\"Number of medication used VS. Admission\")"
   ]
  },
  {
   "cell_type": "code",
   "execution_count": 33,
   "metadata": {
    "colab": {
     "base_uri": "https://localhost:8080/",
     "height": 584
    },
    "id": "Y-29iDRPuxJp",
    "outputId": "7b88aa7f-84f5-4d27-bc10-078e42bcc569"
   },
   "outputs": [
    {
     "name": "stderr",
     "output_type": "stream",
     "text": [
      "/usr/local/lib/python3.6/dist-packages/seaborn/_decorators.py:43: FutureWarning: Pass the following variable as a keyword arg: x. From version 0.12, the only valid positional argument will be `data`, and passing other arguments without an explicit keyword will result in an error or misinterpretation.\n",
      "  FutureWarning\n"
     ]
    },
    {
     "data": {
      "text/plain": [
       "Text(0.5, 1.0, 'Gender of Patient VS. Admission')"
      ]
     },
     "execution_count": 33,
     "metadata": {
      "tags": []
     },
     "output_type": "execute_result"
    },
    {
     "data": {
      "image/png": "[encoded data removed]",
      "text/plain": [
       "<Figure size 576x576 with 1 Axes>"
      ]
     },
     "metadata": {
      "needs_background": "light",
      "tags": []
     },
     "output_type": "display_data"
    }
   ],
   "source": [
    "fig = plt.figure(figsize=(8,8))\n",
    "sns.countplot(df['gender'], hue = df['readmitted']).set_title(\"Gender of Patient VS. Admission\")"
   ]
  },
  {
   "cell_type": "code",
   "execution_count": 34,
   "metadata": {
    "colab": {
     "base_uri": "https://localhost:8080/",
     "height": 584
    },
    "id": "p2SE1cbouxJs",
    "outputId": "f32aca06-5c86-473b-f35e-ad9ca4cc42e3"
   },
   "outputs": [
    {
     "name": "stderr",
     "output_type": "stream",
     "text": [
      "/usr/local/lib/python3.6/dist-packages/seaborn/_decorators.py:43: FutureWarning: Pass the following variable as a keyword arg: x. From version 0.12, the only valid positional argument will be `data`, and passing other arguments without an explicit keyword will result in an error or misinterpretation.\n",
      "  FutureWarning\n"
     ]
    },
    {
     "data": {
      "text/plain": [
       "Text(0.5, 1.0, 'Change of Medication VS. Admission')"
      ]
     },
     "execution_count": 34,
     "metadata": {
      "tags": []
     },
     "output_type": "execute_result"
    },
    {
     "data": {
      "image/png": "[encoded data removed]",
      "text/plain": [
       "<Figure size 576x576 with 1 Axes>"
      ]
     },
     "metadata": {
      "needs_background": "light",
      "tags": []
     },
     "output_type": "display_data"
    }
   ],
   "source": [
    "fig = plt.figure(figsize=(8,8))\n",
    "sns.countplot(df['change'], hue = df['readmitted']).set_title('Change of Medication VS. Admission')"
   ]
  },
  {
   "cell_type": "code",
   "execution_count": 35,
   "metadata": {
    "colab": {
     "base_uri": "https://localhost:8080/",
     "height": 584
    },
    "id": "OqCb-HA8uxJv",
    "outputId": "a2f8cecc-3fce-4093-ceed-90e4b9c4870a"
   },
   "outputs": [
    {
     "name": "stderr",
     "output_type": "stream",
     "text": [
      "/usr/local/lib/python3.6/dist-packages/seaborn/_decorators.py:43: FutureWarning: Pass the following variable as a keyword arg: x. From version 0.12, the only valid positional argument will be `data`, and passing other arguments without an explicit keyword will result in an error or misinterpretation.\n",
      "  FutureWarning\n"
     ]
    },
    {
     "data": {
      "text/plain": [
       "Text(0.5, 1.0, 'Diabetes Medication prescribed VS Admission')"
      ]
     },
     "execution_count": 35,
     "metadata": {
      "tags": []
     },
     "output_type": "execute_result"
    },
    {
     "data": {
      "image/png": "[encoded data removed]",
      "text/plain": [
       "<Figure size 576x576 with 1 Axes>"
      ]
     },
     "metadata": {
      "needs_background": "light",
      "tags": []
     },
     "output_type": "display_data"
    }
   ],
   "source": [
    "fig = plt.figure(figsize=(8,8))\n",
    "sns.countplot(df['diabetesMed'], hue = df['readmitted']).set_title('Diabetes Medication prescribed VS Admission')"
   ]
  },
  {
   "cell_type": "code",
   "execution_count": 36,
   "metadata": {
    "colab": {
     "base_uri": "https://localhost:8080/",
     "height": 530
    },
    "id": "al3FjLtVuxJz",
    "outputId": "c407d3cb-8319-4c84-decc-717f5ccd559a"
   },
   "outputs": [
    {
     "data": {
      "text/plain": [
       "Text(0.5, 1.0, 'Service Utilization VS. Admission')"
      ]
     },
     "execution_count": 36,
     "metadata": {
      "tags": []
     },
     "output_type": "execute_result"
    },
    {
     "data": {
      "image/png": "[encoded data removed]",
      "text/plain": [
       "<Figure size 576x576 with 1 Axes>"
      ]
     },
     "metadata": {
      "needs_background": "light",
      "tags": []
     },
     "output_type": "display_data"
    }
   ],
   "source": [
    "fig = plt.figure(figsize=(8,8))\n",
    "sns.barplot( y = df['service_utilization'], x = df['readmitted']).set_title('Service Utilization VS. Admission')"
   ]
  },
  {
   "cell_type": "code",
   "execution_count": 37,
   "metadata": {
    "colab": {
     "base_uri": "https://localhost:8080/",
     "height": 530
    },
    "id": "WpswCw3LuxJ2",
    "outputId": "9e09aeb5-0139-44eb-f4cf-ae64238cae0f"
   },
   "outputs": [
    {
     "data": {
      "text/plain": [
       "Text(0.5, 1.0, 'Glucose test serum test result VS. Admission')"
      ]
     },
     "execution_count": 37,
     "metadata": {
      "tags": []
     },
     "output_type": "execute_result"
    },
    {
     "data": {
      "image/png": "[encoded data removed]",
      "text/plain": [
       "<Figure size 576x576 with 1 Axes>"
      ]
     },
     "metadata": {
      "needs_background": "light",
      "tags": []
     },
     "output_type": "display_data"
    }
   ],
   "source": [
    "fig = plt.figure(figsize=(8,8))\n",
    "sns.countplot(y = df['max_glu_serum'], hue = df['readmitted']).set_title('Glucose test serum test result VS. Admission')"
   ]
  },
  {
   "cell_type": "code",
   "execution_count": 38,
   "metadata": {
    "colab": {
     "base_uri": "https://localhost:8080/",
     "height": 530
    },
    "id": "3gxBu_kNuxJ5",
    "outputId": "865313b4-d0f9-459d-8dbd-fdbad7b276bc"
   },
   "outputs": [
    {
     "data": {
      "text/plain": [
       "Text(0.5, 1.0, 'A1C test result VS. Admission')"
      ]
     },
     "execution_count": 38,
     "metadata": {
      "tags": []
     },
     "output_type": "execute_result"
    },
    {
     "data": {
      "image/png": "[encoded data removed]",
      "text/plain": [
       "<Figure size 576x576 with 1 Axes>"
      ]
     },
     "metadata": {
      "needs_background": "light",
      "tags": []
     },
     "output_type": "display_data"
    }
   ],
   "source": [
    "fig = plt.figure(figsize=(8,8))\n",
    "sns.countplot(y= df['A1Cresult'], hue = df['readmitted']).set_title('A1C test result VS. Admission')"
   ]
  },
  {
   "cell_type": "code",
   "execution_count": 39,
   "metadata": {
    "colab": {
     "base_uri": "https://localhost:8080/",
     "height": 421
    },
    "id": "NrZf9AdsuxJ8",
    "outputId": "ddb57764-606b-47bc-d26f-b11111c4fbef"
   },
   "outputs": [
    {
     "data": {
      "text/plain": [
       "Text(0.5, 1.0, 'Number of lab procedure VS. Admission')"
      ]
     },
     "execution_count": 39,
     "metadata": {
      "tags": []
     },
     "output_type": "execute_result"
    },
    {
     "data": {
      "image/png": "[encoded data removed]",
      "text/plain": [
       "<Figure size 1080x432 with 1 Axes>"
      ]
     },
     "metadata": {
      "needs_background": "light",
      "tags": []
     },
     "output_type": "display_data"
    }
   ],
   "source": [
    "fig = plt.figure(figsize=(15,6),)\n",
    "ax=sns.kdeplot(df.loc[(df['readmitted'] == 0),'num_lab_procedures'] , color='b',shade=True,label='Not readmitted')\n",
    "ax=sns.kdeplot(df.loc[(df['readmitted'] == 1),'num_lab_procedures'] , color='r',shade=True, label='readmitted')\n",
    "ax.set(xlabel='Number of lab procedure', ylabel='Frequency')\n",
    "plt.title('Number of lab procedure VS. Admission')"
   ]
  },
  {
   "cell_type": "code",
   "execution_count": 40,
   "metadata": {
    "id": "CuCPKYDuuxJ_"
   },
   "outputs": [],
   "source": [
    "#-Modeling Data Preprocessing"
   ]
  },
  {
   "cell_type": "code",
   "execution_count": 41,
   "metadata": {
    "colab": {
     "base_uri": "https://localhost:8080/",
     "height": 391
    },
    "id": "02Zf9gSKuxKC",
    "outputId": "6f8b8592-cf67-4ece-bd45-71202c2bbc85"
   },
   "outputs": [
    {
     "name": "stdout",
     "output_type": "stream",
     "text": [
      "8     24815\n",
      "7     21521\n",
      "6     16546\n",
      "9     16223\n",
      "5      9208\n",
      "4      3538\n",
      "10     2594\n",
      "3      1471\n",
      "2       466\n",
      "1        64\n",
      "Name: age, dtype: int64\n",
      "75    24815\n",
      "65    21521\n",
      "55    16546\n",
      "85    16223\n",
      "45     9208\n",
      "35     3538\n",
      "95     2594\n",
      "25     1471\n",
      "15      466\n",
      "5        64\n",
      "Name: age, dtype: int64\n"
     ]
    }
   ],
   "source": [
    "df['age'] = df['age'].astype('int64')\n",
    "print(df.age.value_counts())\n",
    "# convert age categories to mid-point values\n",
    "age_dict = {1:5, 2:15, 3:25, 4:35, 5:45, 6:55, 7:65, 8:75, 9:85, 10:95}\n",
    "df['age'] = df.age.map(age_dict)\n",
    "print(df.age.value_counts())"
   ]
  },
  {
   "cell_type": "code",
   "execution_count": 42,
   "metadata": {
    "id": "AYKCF53yuxKH"
   },
   "outputs": [],
   "source": [
    "# convert data type of nominal features in dataframe to 'object' type\n",
    "i = ['encounter_id', 'patient_nbr', 'gender', 'admission_type_id', 'discharge_disposition_id', 'admission_source_id',\\\n",
    "          'A1Cresult', 'metformin', 'repaglinide', 'nateglinide', 'chlorpropamide', 'glimepiride', 'acetohexamide', \\\n",
    "          'glipizide', 'glyburide', 'tolbutamide', 'pioglitazone', 'rosiglitazone', 'acarbose','miglitol', \\\n",
    "          'troglitazone', 'tolazamide', 'insulin', 'glyburide-metformin', 'glipizide-metformin', \\\n",
    "          'glimepiride-pioglitazone', 'metformin-rosiglitazone', 'metformin-pioglitazone', 'change', 'diabetesMed', \\\n",
    "          'age', 'A1Cresult', 'max_glu_serum', 'level1_diag1', 'level1_diag2', 'level1_diag3', 'level2_diag1', 'level2_diag2', 'level2_diag3']\n",
    "\n",
    "df[i] = df[i].astype('object')"
   ]
  },
  {
   "cell_type": "code",
   "execution_count": 43,
   "metadata": {
    "colab": {
     "base_uri": "https://localhost:8080/",
     "height": 935
    },
    "id": "1z6r0WdMuxKL",
    "outputId": "4a111793-659c-47d7-e490-908b5e0dba55"
   },
   "outputs": [
    {
     "data": {
      "text/plain": [
       "encounter_id                object\n",
       "patient_nbr                 object\n",
       "race                        object\n",
       "gender                      object\n",
       "age                         object\n",
       "admission_type_id           object\n",
       "discharge_disposition_id    object\n",
       "admission_source_id         object\n",
       "time_in_hospital             int64\n",
       "num_lab_procedures           int64\n",
       "num_procedures               int64\n",
       "num_medications              int64\n",
       "number_outpatient            int64\n",
       "number_emergency             int64\n",
       "number_inpatient             int64\n",
       "diag_1                      object\n",
       "diag_2                      object\n",
       "diag_3                      object\n",
       "number_diagnoses             int64\n",
       "max_glu_serum               object\n",
       "A1Cresult                   object\n",
       "metformin                   object\n",
       "repaglinide                 object\n",
       "nateglinide                 object\n",
       "chlorpropamide              object\n",
       "glimepiride                 object\n",
       "acetohexamide               object\n",
       "glipizide                   object\n",
       "glyburide                   object\n",
       "tolbutamide                 object\n",
       "pioglitazone                object\n",
       "rosiglitazone               object\n",
       "acarbose                    object\n",
       "miglitol                    object\n",
       "troglitazone                object\n",
       "tolazamide                  object\n",
       "insulin                     object\n",
       "glyburide-metformin         object\n",
       "glipizide-metformin         object\n",
       "glimepiride-pioglitazone    object\n",
       "metformin-rosiglitazone     object\n",
       "metformin-pioglitazone      object\n",
       "change                      object\n",
       "diabetesMed                 object\n",
       "readmitted                   int64\n",
       "service_utilization          int64\n",
       "numchange                    int64\n",
       "level1_diag1                object\n",
       "level2_diag1                object\n",
       "level1_diag2                object\n",
       "level2_diag2                object\n",
       "level1_diag3                object\n",
       "level2_diag3                object\n",
       "dtype: object"
      ]
     },
     "execution_count": 43,
     "metadata": {
      "tags": []
     },
     "output_type": "execute_result"
    }
   ],
   "source": [
    "df.dtypes"
   ]
  },
  {
   "cell_type": "code",
   "execution_count": 44,
   "metadata": {
    "colab": {
     "base_uri": "https://localhost:8080/",
     "height": 153
    },
    "id": "4BKrSFh9uxKO",
    "outputId": "d11e313a-f464-49e3-89e1-1277197eb2a8"
   },
   "outputs": [
    {
     "data": {
      "text/plain": [
       "1    44589\n",
       "0    22156\n",
       "2    20901\n",
       "3     7448\n",
       "4     1290\n",
       "5       57\n",
       "6        5\n",
       "Name: nummed, dtype: int64"
      ]
     },
     "execution_count": 44,
     "metadata": {
      "tags": []
     },
     "output_type": "execute_result"
    }
   ],
   "source": [
    "df['nummed'] = 0\n",
    "\n",
    "for col in keys:\n",
    "    df['nummed'] = df['nummed'] + df[col]\n",
    "df['nummed'].value_counts()"
   ]
  },
  {
   "cell_type": "code",
   "execution_count": 45,
   "metadata": {
    "colab": {
     "base_uri": "https://localhost:8080/",
     "height": 187
    },
    "id": "gFTuE99MuxKS",
    "outputId": "3fc1501c-d9dc-4695-c361-a819113d4c50"
   },
   "outputs": [
    {
     "data": {
      "text/plain": [
       "['num_lab_procedures',\n",
       " 'num_procedures',\n",
       " 'num_medications',\n",
       " 'number_diagnoses',\n",
       " 'number_outpatient',\n",
       " 'number_inpatient',\n",
       " 'time_in_hospital',\n",
       " 'number_emergency',\n",
       " 'service_utilization',\n",
       " 'numchange']"
      ]
     },
     "execution_count": 45,
     "metadata": {
      "tags": []
     },
     "output_type": "execute_result"
    }
   ],
   "source": [
    "# get list of only numeric features\n",
    "num_col = list(set(list(df._get_numeric_data().columns))- {'readmitted'})\n",
    "num_col"
   ]
  },
  {
   "cell_type": "code",
   "execution_count": 46,
   "metadata": {
    "id": "TNvPVT99uxKW"
   },
   "outputs": [],
   "source": [
    "# Removing skewnewss and kurtosis using log transformation if it is above a threshold value -  2\n",
    "\n",
    "statdataframe = pd.DataFrame()\n",
    "statdataframe['numeric_column'] = num_col\n",
    "skew_before = []\n",
    "skew_after = []\n",
    "\n",
    "kurt_before = []\n",
    "kurt_after = []\n",
    "\n",
    "standard_deviation_before = []\n",
    "standard_deviation_after = []\n",
    "\n",
    "log_transform_needed = []\n",
    "\n",
    "log_type = []\n",
    "\n",
    "for i in num_col:\n",
    "    skewval = df[i].skew()\n",
    "    skew_before.append(skewval)\n",
    "    \n",
    "    kurtval = df[i].kurtosis()\n",
    "    kurt_before.append(kurtval)\n",
    "    \n",
    "    sdval = df[i].std()\n",
    "    standard_deviation_before.append(sdval)\n",
    "    \n",
    "    if (abs(skewval) >2) & (abs(kurtval) >2):\n",
    "        log_transform_needed.append('Yes')\n",
    "        \n",
    "        if len(df[df[i] == 0])/len(df) <=0.02:\n",
    "            log_type.append('log')\n",
    "            skewvalnew = np.log(pd.DataFrame(df[train_data[i] > 0])[i]).skew()\n",
    "            skew_after.append(skewvalnew)\n",
    "            \n",
    "            kurtvalnew = np.log(pd.DataFrame(df[train_data[i] > 0])[i]).kurtosis()\n",
    "            kurt_after.append(kurtvalnew)\n",
    "            \n",
    "            sdvalnew = np.log(pd.DataFrame(df[train_data[i] > 0])[i]).std()\n",
    "            standard_deviation_after.append(sdvalnew)\n",
    "            \n",
    "        else:\n",
    "            log_type.append('log1p')\n",
    "            skewvalnew = np.log1p(pd.DataFrame(df[df[i] >= 0])[i]).skew()\n",
    "            skew_after.append(skewvalnew)\n",
    "        \n",
    "            kurtvalnew = np.log1p(pd.DataFrame(df[df[i] >= 0])[i]).kurtosis()\n",
    "            kurt_after.append(kurtvalnew)\n",
    "            \n",
    "            sdvalnew = np.log1p(pd.DataFrame(df[df[i] >= 0])[i]).std()\n",
    "            standard_deviation_after.append(sdvalnew)\n",
    "            \n",
    "    else:\n",
    "        log_type.append('NA')\n",
    "        log_transform_needed.append('No')\n",
    "        \n",
    "        skew_after.append(skewval)\n",
    "        kurt_after.append(kurtval)\n",
    "        standard_deviation_after.append(sdval)\n",
    "\n",
    "statdataframe['skew_before'] = skew_before\n",
    "statdataframe['kurtosis_before'] = kurt_before\n",
    "statdataframe['standard_deviation_before'] = standard_deviation_before\n",
    "statdataframe['log_transform_needed'] = log_transform_needed\n",
    "statdataframe['log_type'] = log_type\n",
    "statdataframe['skew_after'] = skew_after\n",
    "statdataframe['kurtosis_after'] = kurt_after\n",
    "statdataframe['standard_deviation_after'] = standard_deviation_after"
   ]
  },
  {
   "cell_type": "code",
   "execution_count": 47,
   "metadata": {
    "colab": {
     "base_uri": "https://localhost:8080/",
     "height": 379
    },
    "id": "c9X0Ja7TuxKZ",
    "outputId": "f4cd5844-8e63-42e2-e8d1-e5cfff4a9d71"
   },
   "outputs": [
    {
     "data": {
      "text/html": [
       "<div>\n",
       "<style scoped>\n",
       "    .dataframe tbody tr th:only-of-type {\n",
       "        vertical-align: middle;\n",
       "    }\n",
       "\n",
       "    .dataframe tbody tr th {\n",
       "        vertical-align: top;\n",
       "    }\n",
       "\n",
       "    .dataframe thead th {\n",
       "        text-align: right;\n",
       "    }\n",
       "</style>\n",
       "<table border=\"1\" class=\"dataframe\">\n",
       "  <thead>\n",
       "    <tr style=\"text-align: right;\">\n",
       "      <th></th>\n",
       "      <th>numeric_column</th>\n",
       "      <th>skew_before</th>\n",
       "      <th>kurtosis_before</th>\n",
       "      <th>standard_deviation_before</th>\n",
       "      <th>log_transform_needed</th>\n",
       "      <th>log_type</th>\n",
       "      <th>skew_after</th>\n",
       "      <th>kurtosis_after</th>\n",
       "      <th>standard_deviation_after</th>\n",
       "    </tr>\n",
       "  </thead>\n",
       "  <tbody>\n",
       "    <tr>\n",
       "      <th>0</th>\n",
       "      <td>num_lab_procedures</td>\n",
       "      <td>-0.240626</td>\n",
       "      <td>-0.253275</td>\n",
       "      <td>19.656782</td>\n",
       "      <td>No</td>\n",
       "      <td>NA</td>\n",
       "      <td>-0.240626</td>\n",
       "      <td>-0.253275</td>\n",
       "      <td>19.656782</td>\n",
       "    </tr>\n",
       "    <tr>\n",
       "      <th>1</th>\n",
       "      <td>num_procedures</td>\n",
       "      <td>1.313236</td>\n",
       "      <td>0.856100</td>\n",
       "      <td>1.703183</td>\n",
       "      <td>No</td>\n",
       "      <td>NA</td>\n",
       "      <td>1.313236</td>\n",
       "      <td>0.856100</td>\n",
       "      <td>1.703183</td>\n",
       "    </tr>\n",
       "    <tr>\n",
       "      <th>2</th>\n",
       "      <td>num_medications</td>\n",
       "      <td>1.339187</td>\n",
       "      <td>3.549325</td>\n",
       "      <td>8.072516</td>\n",
       "      <td>No</td>\n",
       "      <td>NA</td>\n",
       "      <td>1.339187</td>\n",
       "      <td>3.549325</td>\n",
       "      <td>8.072516</td>\n",
       "    </tr>\n",
       "    <tr>\n",
       "      <th>3</th>\n",
       "      <td>number_diagnoses</td>\n",
       "      <td>-0.807741</td>\n",
       "      <td>-0.372558</td>\n",
       "      <td>1.836659</td>\n",
       "      <td>No</td>\n",
       "      <td>NA</td>\n",
       "      <td>-0.807741</td>\n",
       "      <td>-0.372558</td>\n",
       "      <td>1.836659</td>\n",
       "    </tr>\n",
       "    <tr>\n",
       "      <th>4</th>\n",
       "      <td>number_outpatient</td>\n",
       "      <td>8.767489</td>\n",
       "      <td>146.244961</td>\n",
       "      <td>1.280061</td>\n",
       "      <td>Yes</td>\n",
       "      <td>log1p</td>\n",
       "      <td>2.708627</td>\n",
       "      <td>7.648535</td>\n",
       "      <td>0.432949</td>\n",
       "    </tr>\n",
       "    <tr>\n",
       "      <th>5</th>\n",
       "      <td>number_inpatient</td>\n",
       "      <td>3.566269</td>\n",
       "      <td>20.044813</td>\n",
       "      <td>1.269975</td>\n",
       "      <td>Yes</td>\n",
       "      <td>log1p</td>\n",
       "      <td>1.425127</td>\n",
       "      <td>1.319186</td>\n",
       "      <td>0.513389</td>\n",
       "    </tr>\n",
       "    <tr>\n",
       "      <th>6</th>\n",
       "      <td>time_in_hospital</td>\n",
       "      <td>1.127510</td>\n",
       "      <td>0.839050</td>\n",
       "      <td>2.982330</td>\n",
       "      <td>No</td>\n",
       "      <td>NA</td>\n",
       "      <td>1.127510</td>\n",
       "      <td>0.839050</td>\n",
       "      <td>2.982330</td>\n",
       "    </tr>\n",
       "    <tr>\n",
       "      <th>7</th>\n",
       "      <td>number_emergency</td>\n",
       "      <td>22.695921</td>\n",
       "      <td>1165.140400</td>\n",
       "      <td>0.948089</td>\n",
       "      <td>Yes</td>\n",
       "      <td>log1p</td>\n",
       "      <td>3.614471</td>\n",
       "      <td>15.854105</td>\n",
       "      <td>0.318742</td>\n",
       "    </tr>\n",
       "    <tr>\n",
       "      <th>8</th>\n",
       "      <td>service_utilization</td>\n",
       "      <td>5.312374</td>\n",
       "      <td>67.194018</td>\n",
       "      <td>2.315789</td>\n",
       "      <td>Yes</td>\n",
       "      <td>log1p</td>\n",
       "      <td>1.097244</td>\n",
       "      <td>0.497241</td>\n",
       "      <td>0.665656</td>\n",
       "    </tr>\n",
       "    <tr>\n",
       "      <th>9</th>\n",
       "      <td>numchange</td>\n",
       "      <td>1.426548</td>\n",
       "      <td>1.451898</td>\n",
       "      <td>0.488614</td>\n",
       "      <td>No</td>\n",
       "      <td>NA</td>\n",
       "      <td>1.426548</td>\n",
       "      <td>1.451898</td>\n",
       "      <td>0.488614</td>\n",
       "    </tr>\n",
       "  </tbody>\n",
       "</table>\n",
       "</div>"
      ],
      "text/plain": [
       "        numeric_column  skew_before  ...  kurtosis_after  standard_deviation_after\n",
       "0   num_lab_procedures    -0.240626  ...       -0.253275                 19.656782\n",
       "1       num_procedures     1.313236  ...        0.856100                  1.703183\n",
       "2      num_medications     1.339187  ...        3.549325                  8.072516\n",
       "3     number_diagnoses    -0.807741  ...       -0.372558                  1.836659\n",
       "4    number_outpatient     8.767489  ...        7.648535                  0.432949\n",
       "5     number_inpatient     3.566269  ...        1.319186                  0.513389\n",
       "6     time_in_hospital     1.127510  ...        0.839050                  2.982330\n",
       "7     number_emergency    22.695921  ...       15.854105                  0.318742\n",
       "8  service_utilization     5.312374  ...        0.497241                  0.665656\n",
       "9            numchange     1.426548  ...        1.451898                  0.488614\n",
       "\n",
       "[10 rows x 9 columns]"
      ]
     },
     "execution_count": 47,
     "metadata": {
      "tags": []
     },
     "output_type": "execute_result"
    }
   ],
   "source": [
    "statdataframe"
   ]
  },
  {
   "cell_type": "code",
   "execution_count": 48,
   "metadata": {
    "id": "iSJv5-xSuxKd"
   },
   "outputs": [],
   "source": [
    "# performing the log transformation for the columns determined to be needing it above.\n",
    "\n",
    "for i in range(len(statdataframe)):\n",
    "    if statdataframe['log_transform_needed'][i] == 'Yes':\n",
    "        colname = str(statdataframe['numeric_column'][i])\n",
    "        \n",
    "        if statdataframe['log_type'][i] == 'log':\n",
    "            df = df[df[colname] > 0]\n",
    "            df[colname + \"_log\"] = np.log(df[colname])\n",
    "            \n",
    "        elif statdataframe['log_type'][i] == 'log1p':\n",
    "            df = df[df[colname] >= 0]\n",
    "            df[colname + \"_log1p\"] = np.log1p(df[colname])"
   ]
  },
  {
   "cell_type": "code",
   "execution_count": 49,
   "metadata": {
    "id": "2XDswC-ZuxKg"
   },
   "outputs": [],
   "source": [
    "df = df.drop(['number_outpatient', 'number_inpatient', 'number_emergency','service_utilization'], axis = 1)"
   ]
  },
  {
   "cell_type": "code",
   "execution_count": 50,
   "metadata": {
    "colab": {
     "base_uri": "https://localhost:8080/",
     "height": 187
    },
    "id": "tZEaduWHuxKu",
    "outputId": "aa76144c-4448-402e-aeca-9d7d8ca9dbca"
   },
   "outputs": [
    {
     "data": {
      "text/plain": [
       "['number_emergency_log1p',\n",
       " 'num_lab_procedures',\n",
       " 'num_procedures',\n",
       " 'service_utilization_log1p',\n",
       " 'num_medications',\n",
       " 'number_diagnoses',\n",
       " 'number_outpatient_log1p',\n",
       " 'time_in_hospital',\n",
       " 'number_inpatient_log1p',\n",
       " 'numchange']"
      ]
     },
     "execution_count": 50,
     "metadata": {
      "tags": []
     },
     "output_type": "execute_result"
    }
   ],
   "source": [
    "# get list of only numeric features\n",
    "numerics = list(set(list(df._get_numeric_data().columns))- {'readmitted'})\n",
    "numerics"
   ]
  },
  {
   "cell_type": "code",
   "execution_count": 51,
   "metadata": {
    "colab": {
     "base_uri": "https://localhost:8080/",
     "height": 952
    },
    "id": "STKBIanCuxKw",
    "outputId": "242e3aab-c147-4792-ea59-8e75c5bb844b"
   },
   "outputs": [
    {
     "data": {
      "text/plain": [
       "encounter_id                   int64\n",
       "patient_nbr                    int64\n",
       "race                          object\n",
       "gender                        object\n",
       "age                           object\n",
       "admission_type_id             object\n",
       "discharge_disposition_id      object\n",
       "admission_source_id           object\n",
       "time_in_hospital               int64\n",
       "num_lab_procedures             int64\n",
       "num_procedures                 int64\n",
       "num_medications                int64\n",
       "diag_1                        object\n",
       "diag_2                        object\n",
       "diag_3                        object\n",
       "number_diagnoses               int64\n",
       "max_glu_serum                 object\n",
       "A1Cresult                      int64\n",
       "metformin                      int64\n",
       "repaglinide                    int64\n",
       "nateglinide                    int64\n",
       "chlorpropamide                 int64\n",
       "glimepiride                    int64\n",
       "acetohexamide                  int64\n",
       "glipizide                      int64\n",
       "glyburide                      int64\n",
       "tolbutamide                    int64\n",
       "pioglitazone                   int64\n",
       "rosiglitazone                  int64\n",
       "acarbose                       int64\n",
       "miglitol                       int64\n",
       "troglitazone                   int64\n",
       "tolazamide                     int64\n",
       "insulin                        int64\n",
       "glyburide-metformin            int64\n",
       "glipizide-metformin            int64\n",
       "glimepiride-pioglitazone       int64\n",
       "metformin-rosiglitazone        int64\n",
       "metformin-pioglitazone         int64\n",
       "change                         int64\n",
       "diabetesMed                    int64\n",
       "readmitted                     int64\n",
       "numchange                      int64\n",
       "level1_diag1                  object\n",
       "level2_diag1                  object\n",
       "level1_diag2                  object\n",
       "level2_diag2                  object\n",
       "level1_diag3                  object\n",
       "level2_diag3                  object\n",
       "nummed                        object\n",
       "number_outpatient_log1p      float64\n",
       "number_inpatient_log1p       float64\n",
       "number_emergency_log1p       float64\n",
       "service_utilization_log1p    float64\n",
       "dtype: object"
      ]
     },
     "execution_count": 51,
     "metadata": {
      "tags": []
     },
     "output_type": "execute_result"
    }
   ],
   "source": [
    "# show list of features that are categorical\n",
    "df.encounter_id = df.encounter_id.astype('int64')\n",
    "df.patient_nbr = df.patient_nbr.astype('int64')\n",
    "df.diabetesMed = df.diabetesMed.astype('int64')\n",
    "df.change = df.change.astype('int64')\n",
    "\n",
    "# convert data type of nominal features in dataframe to 'object' type for aggregating\n",
    "i = ['metformin', 'repaglinide', 'nateglinide', 'chlorpropamide', 'glimepiride', 'acetohexamide', \\\n",
    "          'glipizide', 'glyburide', 'tolbutamide', 'pioglitazone', 'rosiglitazone', 'acarbose','miglitol', \\\n",
    "          'troglitazone', 'tolazamide', 'insulin', 'glyburide-metformin', 'glipizide-metformin', \\\n",
    "          'glimepiride-pioglitazone', 'metformin-rosiglitazone', 'metformin-pioglitazone','A1Cresult']\n",
    "df[i] = df[i].astype('int64')\n",
    "\n",
    "df.dtypes"
   ]
  },
  {
   "cell_type": "code",
   "execution_count": 52,
   "metadata": {
    "id": "Ec1yy50yuxK0"
   },
   "outputs": [],
   "source": [
    "dfcopy = df.copy(deep = True)"
   ]
  },
  {
   "cell_type": "code",
   "execution_count": 53,
   "metadata": {
    "id": "K6wHBmBZuxK4"
   },
   "outputs": [],
   "source": [
    "df['readmitted'] = df['readmitted'].apply(lambda x: 0 if x == 2 else x)"
   ]
  },
  {
   "cell_type": "code",
   "execution_count": 54,
   "metadata": {
    "id": "HOm3q76uuxLB"
   },
   "outputs": [],
   "source": [
    "# drop individual diagnosis columns that have too granular disease information\n",
    "# also drop level 2 categorization (which was not comparable with any reference)\n",
    "# also drop level 1 secondary and tertiary diagnoses\n",
    "#f.drop(['diag_1', 'diag_2', 'diag_3', 'level2_diag1', 'level1_diag2', 'level2_diag2', level1_diag3','level2_diag3'], axis=1, inplace=True)\n",
    "\n",
    "df.drop(['diag_1', 'diag_2', 'diag_3', 'level2_diag1', 'level1_diag2', 'level2_diag2', 'level1_diag3',\n",
    "         'level2_diag3'], axis=1, inplace=True)"
   ]
  },
  {
   "cell_type": "code",
   "execution_count": 55,
   "metadata": {
    "id": "93UE2GiquxLE"
   },
   "outputs": [],
   "source": [
    "interactionterms = [('num_medications','time_in_hospital'),\n",
    "('num_medications','num_procedures'),\n",
    "('time_in_hospital','num_lab_procedures'),\n",
    "('num_medications','num_lab_procedures'),\n",
    "('num_medications','number_diagnoses'),\n",
    "('age','number_diagnoses'),\n",
    "('change','num_medications'),\n",
    "('number_diagnoses','time_in_hospital'),\n",
    "('num_medications','numchange')]"
   ]
  },
  {
   "cell_type": "code",
   "execution_count": 56,
   "metadata": {
    "id": "ngCNocpIuxLK"
   },
   "outputs": [],
   "source": [
    "for inter in interactionterms:\n",
    "    name = inter[0] + '|' + inter[1]\n",
    "    df[name] = df[inter[0]] * df[inter[1]]"
   ]
  },
  {
   "cell_type": "code",
   "execution_count": 57,
   "metadata": {
    "colab": {
     "base_uri": "https://localhost:8080/",
     "height": 204
    },
    "id": "DKQtk3mauxLM",
    "outputId": "284037ae-731e-42b8-c7ca-ec28e7924085"
   },
   "outputs": [
    {
     "data": {
      "text/html": [
       "<div>\n",
       "<style scoped>\n",
       "    .dataframe tbody tr th:only-of-type {\n",
       "        vertical-align: middle;\n",
       "    }\n",
       "\n",
       "    .dataframe tbody tr th {\n",
       "        vertical-align: top;\n",
       "    }\n",
       "\n",
       "    .dataframe thead th {\n",
       "        text-align: right;\n",
       "    }\n",
       "</style>\n",
       "<table border=\"1\" class=\"dataframe\">\n",
       "  <thead>\n",
       "    <tr style=\"text-align: right;\">\n",
       "      <th></th>\n",
       "      <th>num_medications</th>\n",
       "      <th>time_in_hospital</th>\n",
       "      <th>num_medications|time_in_hospital</th>\n",
       "    </tr>\n",
       "  </thead>\n",
       "  <tbody>\n",
       "    <tr>\n",
       "      <th>1</th>\n",
       "      <td>18</td>\n",
       "      <td>3</td>\n",
       "      <td>54</td>\n",
       "    </tr>\n",
       "    <tr>\n",
       "      <th>2</th>\n",
       "      <td>13</td>\n",
       "      <td>2</td>\n",
       "      <td>26</td>\n",
       "    </tr>\n",
       "    <tr>\n",
       "      <th>3</th>\n",
       "      <td>16</td>\n",
       "      <td>2</td>\n",
       "      <td>32</td>\n",
       "    </tr>\n",
       "    <tr>\n",
       "      <th>4</th>\n",
       "      <td>8</td>\n",
       "      <td>1</td>\n",
       "      <td>8</td>\n",
       "    </tr>\n",
       "    <tr>\n",
       "      <th>5</th>\n",
       "      <td>16</td>\n",
       "      <td>3</td>\n",
       "      <td>48</td>\n",
       "    </tr>\n",
       "  </tbody>\n",
       "</table>\n",
       "</div>"
      ],
      "text/plain": [
       "   num_medications  time_in_hospital  num_medications|time_in_hospital\n",
       "1               18                 3                                54\n",
       "2               13                 2                                26\n",
       "3               16                 2                                32\n",
       "4                8                 1                                 8\n",
       "5               16                 3                                48"
      ]
     },
     "execution_count": 57,
     "metadata": {
      "tags": []
     },
     "output_type": "execute_result"
    }
   ],
   "source": [
    "df[['num_medications','time_in_hospital', 'num_medications|time_in_hospital']].head()"
   ]
  },
  {
   "cell_type": "code",
   "execution_count": 58,
   "metadata": {
    "id": "VljTfU_ruxLS"
   },
   "outputs": [],
   "source": [
    "# Feature Scaling\n",
    "datf = pd.DataFrame()\n",
    "datf['features'] = numerics\n",
    "datf['std_dev'] = datf['features'].apply(lambda x: df[x].std())\n",
    "datf['mean'] = datf['features'].apply(lambda x: df[x].mean())"
   ]
  },
  {
   "cell_type": "code",
   "execution_count": 59,
   "metadata": {
    "colab": {
     "base_uri": "https://localhost:8080/",
     "height": 34
    },
    "id": "B1Fvxd-PuxLV",
    "outputId": "ca5faf9b-6fbf-489b-fec7-b6ae69b170cc"
   },
   "outputs": [
    {
     "data": {
      "text/plain": [
       "(67580, 55)"
      ]
     },
     "execution_count": 59,
     "metadata": {
      "tags": []
     },
     "output_type": "execute_result"
    }
   ],
   "source": [
    "# dropping multiple encounters while keeping either first or last encounter of these patients\n",
    "df2 = df.drop_duplicates(subset= ['patient_nbr'], keep = 'first')\n",
    "df2.shape"
   ]
  },
  {
   "cell_type": "code",
   "execution_count": 60,
   "metadata": {
    "id": "ZXlQeDTYuxLd"
   },
   "outputs": [],
   "source": [
    "# standardize function\n",
    "def standardize(raw_data):\n",
    "    return ((raw_data - np.mean(raw_data, axis = 0)) / np.std(raw_data, axis = 0))"
   ]
  },
  {
   "cell_type": "code",
   "execution_count": 61,
   "metadata": {
    "colab": {
     "base_uri": "https://localhost:8080/",
     "height": 119
    },
    "id": "w1EjfrHsuxLh",
    "outputId": "7b2ef9ce-e04e-4a51-ff75-fd18078a9eed"
   },
   "outputs": [
    {
     "name": "stderr",
     "output_type": "stream",
     "text": [
      "/usr/local/lib/python3.6/dist-packages/pandas/core/frame.py:3065: SettingWithCopyWarning: \n",
      "A value is trying to be set on a copy of a slice from a DataFrame.\n",
      "Try using .loc[row_indexer,col_indexer] = value instead\n",
      "\n",
      "See the caveats in the documentation: https://pandas.pydata.org/pandas-docs/stable/user_guide/indexing.html#returning-a-view-versus-a-copy\n",
      "  self[k1] = value[k2]\n"
     ]
    }
   ],
   "source": [
    "df2[numerics] = standardize(df2[numerics])\n",
    "import scipy as sp\n",
    "df2 = df2[(np.abs(sp.stats.zscore(df2[numerics])) < 3).all(axis=1)]"
   ]
  },
  {
   "cell_type": "code",
   "execution_count": 62,
   "metadata": {
    "colab": {
     "base_uri": "https://localhost:8080/",
     "height": 1000
    },
    "id": "WnmrnDV5uxLj",
    "outputId": "c107c84b-e56e-4b62-8659-03cd447360ac"
   },
   "outputs": [
    {
     "name": "stderr",
     "output_type": "stream",
     "text": [
      "/usr/local/lib/python3.6/dist-packages/pandas/io/formats/style.py:1126: RuntimeWarning: All-NaN slice encountered\n",
      "  smin = np.nanmin(s.to_numpy()) if vmin is None else vmin\n",
      "/usr/local/lib/python3.6/dist-packages/pandas/io/formats/style.py:1127: RuntimeWarning: All-NaN slice encountered\n",
      "  smax = np.nanmax(s.to_numpy()) if vmax is None else vmax\n"
     ]
    },
    {
     "data": {
      "text/html": [
       "<style  type=\"text/css\" >\n",
       "#T_516fb688_0fa4_11eb_b372_0242ac1c0002row0_col0,#T_516fb688_0fa4_11eb_b372_0242ac1c0002row1_col1,#T_516fb688_0fa4_11eb_b372_0242ac1c0002row2_col2,#T_516fb688_0fa4_11eb_b372_0242ac1c0002row3_col3,#T_516fb688_0fa4_11eb_b372_0242ac1c0002row4_col4,#T_516fb688_0fa4_11eb_b372_0242ac1c0002row5_col5,#T_516fb688_0fa4_11eb_b372_0242ac1c0002row6_col6,#T_516fb688_0fa4_11eb_b372_0242ac1c0002row7_col7,#T_516fb688_0fa4_11eb_b372_0242ac1c0002row8_col8,#T_516fb688_0fa4_11eb_b372_0242ac1c0002row9_col9,#T_516fb688_0fa4_11eb_b372_0242ac1c0002row10_col10,#T_516fb688_0fa4_11eb_b372_0242ac1c0002row12_col12,#T_516fb688_0fa4_11eb_b372_0242ac1c0002row13_col13,#T_516fb688_0fa4_11eb_b372_0242ac1c0002row14_col14,#T_516fb688_0fa4_11eb_b372_0242ac1c0002row15_col15,#T_516fb688_0fa4_11eb_b372_0242ac1c0002row16_col16,#T_516fb688_0fa4_11eb_b372_0242ac1c0002row17_col17,#T_516fb688_0fa4_11eb_b372_0242ac1c0002row18_col18,#T_516fb688_0fa4_11eb_b372_0242ac1c0002row19_col19,#T_516fb688_0fa4_11eb_b372_0242ac1c0002row20_col20,#T_516fb688_0fa4_11eb_b372_0242ac1c0002row21_col21,#T_516fb688_0fa4_11eb_b372_0242ac1c0002row22_col22,#T_516fb688_0fa4_11eb_b372_0242ac1c0002row23_col23,#T_516fb688_0fa4_11eb_b372_0242ac1c0002row26_col26,#T_516fb688_0fa4_11eb_b372_0242ac1c0002row27_col27,#T_516fb688_0fa4_11eb_b372_0242ac1c0002row28_col28,#T_516fb688_0fa4_11eb_b372_0242ac1c0002row29_col29,#T_516fb688_0fa4_11eb_b372_0242ac1c0002row30_col30,#T_516fb688_0fa4_11eb_b372_0242ac1c0002row31_col31,#T_516fb688_0fa4_11eb_b372_0242ac1c0002row32_col32,#T_516fb688_0fa4_11eb_b372_0242ac1c0002row33_col33,#T_516fb688_0fa4_11eb_b372_0242ac1c0002row34_col34,#T_516fb688_0fa4_11eb_b372_0242ac1c0002row35_col35,#T_516fb688_0fa4_11eb_b372_0242ac1c0002row36_col36,#T_516fb688_0fa4_11eb_b372_0242ac1c0002row37_col37,#T_516fb688_0fa4_11eb_b372_0242ac1c0002row38_col38,#T_516fb688_0fa4_11eb_b372_0242ac1c0002row39_col39,#T_516fb688_0fa4_11eb_b372_0242ac1c0002row40_col40,#T_516fb688_0fa4_11eb_b372_0242ac1c0002row41_col41,#T_516fb688_0fa4_11eb_b372_0242ac1c0002row42_col42{\n",
       "            background-color:  #007ad1;\n",
       "            color:  #f1f1f1;\n",
       "        }#T_516fb688_0fa4_11eb_b372_0242ac1c0002row0_col1,#T_516fb688_0fa4_11eb_b372_0242ac1c0002row1_col41,#T_516fb688_0fa4_11eb_b372_0242ac1c0002row28_col6,#T_516fb688_0fa4_11eb_b372_0242ac1c0002row40_col6,#T_516fb688_0fa4_11eb_b372_0242ac1c0002row41_col1{\n",
       "            background-color:  #9dc8e7;\n",
       "            color:  #000000;\n",
       "        }#T_516fb688_0fa4_11eb_b372_0242ac1c0002row0_col2,#T_516fb688_0fa4_11eb_b372_0242ac1c0002row1_col4,#T_516fb688_0fa4_11eb_b372_0242ac1c0002row2_col41,#T_516fb688_0fa4_11eb_b372_0242ac1c0002row4_col1,#T_516fb688_0fa4_11eb_b372_0242ac1c0002row5_col38,#T_516fb688_0fa4_11eb_b372_0242ac1c0002row12_col40,#T_516fb688_0fa4_11eb_b372_0242ac1c0002row13_col6,#T_516fb688_0fa4_11eb_b372_0242ac1c0002row16_col40,#T_516fb688_0fa4_11eb_b372_0242ac1c0002row21_col3,#T_516fb688_0fa4_11eb_b372_0242ac1c0002row21_col38,#T_516fb688_0fa4_11eb_b372_0242ac1c0002row27_col38,#T_516fb688_0fa4_11eb_b372_0242ac1c0002row28_col3,#T_516fb688_0fa4_11eb_b372_0242ac1c0002row28_col10,#T_516fb688_0fa4_11eb_b372_0242ac1c0002row30_col3,#T_516fb688_0fa4_11eb_b372_0242ac1c0002row30_col35,#T_516fb688_0fa4_11eb_b372_0242ac1c0002row30_col37,#T_516fb688_0fa4_11eb_b372_0242ac1c0002row30_col39,#T_516fb688_0fa4_11eb_b372_0242ac1c0002row35_col30,#T_516fb688_0fa4_11eb_b372_0242ac1c0002row37_col2,#T_516fb688_0fa4_11eb_b372_0242ac1c0002row38_col27,#T_516fb688_0fa4_11eb_b372_0242ac1c0002row40_col4,#T_516fb688_0fa4_11eb_b372_0242ac1c0002row40_col10,#T_516fb688_0fa4_11eb_b372_0242ac1c0002row41_col2,#T_516fb688_0fa4_11eb_b372_0242ac1c0002row42_col1{\n",
       "            background-color:  #c4dbec;\n",
       "            color:  #000000;\n",
       "        }#T_516fb688_0fa4_11eb_b372_0242ac1c0002row0_col3,#T_516fb688_0fa4_11eb_b372_0242ac1c0002row3_col0,#T_516fb688_0fa4_11eb_b372_0242ac1c0002row3_col37,#T_516fb688_0fa4_11eb_b372_0242ac1c0002row21_col30,#T_516fb688_0fa4_11eb_b372_0242ac1c0002row28_col40,#T_516fb688_0fa4_11eb_b372_0242ac1c0002row37_col3,#T_516fb688_0fa4_11eb_b372_0242ac1c0002row40_col28,#T_516fb688_0fa4_11eb_b372_0242ac1c0002row42_col21{\n",
       "            background-color:  #85bbe4;\n",
       "            color:  #000000;\n",
       "        }#T_516fb688_0fa4_11eb_b372_0242ac1c0002row0_col4,#T_516fb688_0fa4_11eb_b372_0242ac1c0002row1_col39,#T_516fb688_0fa4_11eb_b372_0242ac1c0002row2_col35,#T_516fb688_0fa4_11eb_b372_0242ac1c0002row3_col1,#T_516fb688_0fa4_11eb_b372_0242ac1c0002row27_col15,#T_516fb688_0fa4_11eb_b372_0242ac1c0002row27_col16,#T_516fb688_0fa4_11eb_b372_0242ac1c0002row36_col40,#T_516fb688_0fa4_11eb_b372_0242ac1c0002row37_col4,#T_516fb688_0fa4_11eb_b372_0242ac1c0002row40_col12,#T_516fb688_0fa4_11eb_b372_0242ac1c0002row40_col37,#T_516fb688_0fa4_11eb_b372_0242ac1c0002row40_col41,#T_516fb688_0fa4_11eb_b372_0242ac1c0002row42_col37,#T_516fb688_0fa4_11eb_b372_0242ac1c0002row42_col41{\n",
       "            background-color:  #b1d1ea;\n",
       "            color:  #000000;\n",
       "        }#T_516fb688_0fa4_11eb_b372_0242ac1c0002row0_col5,#T_516fb688_0fa4_11eb_b372_0242ac1c0002row0_col12,#T_516fb688_0fa4_11eb_b372_0242ac1c0002row0_col27,#T_516fb688_0fa4_11eb_b372_0242ac1c0002row1_col12,#T_516fb688_0fa4_11eb_b372_0242ac1c0002row1_col13,#T_516fb688_0fa4_11eb_b372_0242ac1c0002row2_col12,#T_516fb688_0fa4_11eb_b372_0242ac1c0002row2_col13,#T_516fb688_0fa4_11eb_b372_0242ac1c0002row2_col40,#T_516fb688_0fa4_11eb_b372_0242ac1c0002row3_col10,#T_516fb688_0fa4_11eb_b372_0242ac1c0002row3_col16,#T_516fb688_0fa4_11eb_b372_0242ac1c0002row4_col2,#T_516fb688_0fa4_11eb_b372_0242ac1c0002row5_col6,#T_516fb688_0fa4_11eb_b372_0242ac1c0002row5_col12,#T_516fb688_0fa4_11eb_b372_0242ac1c0002row5_col13,#T_516fb688_0fa4_11eb_b372_0242ac1c0002row5_col27,#T_516fb688_0fa4_11eb_b372_0242ac1c0002row5_col42,#T_516fb688_0fa4_11eb_b372_0242ac1c0002row6_col10,#T_516fb688_0fa4_11eb_b372_0242ac1c0002row6_col15,#T_516fb688_0fa4_11eb_b372_0242ac1c0002row10_col6,#T_516fb688_0fa4_11eb_b372_0242ac1c0002row10_col15,#T_516fb688_0fa4_11eb_b372_0242ac1c0002row15_col6,#T_516fb688_0fa4_11eb_b372_0242ac1c0002row15_col10,#T_516fb688_0fa4_11eb_b372_0242ac1c0002row16_col10,#T_516fb688_0fa4_11eb_b372_0242ac1c0002row17_col13,#T_516fb688_0fa4_11eb_b372_0242ac1c0002row18_col12,#T_516fb688_0fa4_11eb_b372_0242ac1c0002row23_col13,#T_516fb688_0fa4_11eb_b372_0242ac1c0002row27_col0,#T_516fb688_0fa4_11eb_b372_0242ac1c0002row27_col1,#T_516fb688_0fa4_11eb_b372_0242ac1c0002row27_col4,#T_516fb688_0fa4_11eb_b372_0242ac1c0002row28_col5,#T_516fb688_0fa4_11eb_b372_0242ac1c0002row29_col4,#T_516fb688_0fa4_11eb_b372_0242ac1c0002row29_col12,#T_516fb688_0fa4_11eb_b372_0242ac1c0002row29_col13,#T_516fb688_0fa4_11eb_b372_0242ac1c0002row30_col12,#T_516fb688_0fa4_11eb_b372_0242ac1c0002row30_col13,#T_516fb688_0fa4_11eb_b372_0242ac1c0002row31_col12,#T_516fb688_0fa4_11eb_b372_0242ac1c0002row31_col13,#T_516fb688_0fa4_11eb_b372_0242ac1c0002row32_col4,#T_516fb688_0fa4_11eb_b372_0242ac1c0002row32_col12,#T_516fb688_0fa4_11eb_b372_0242ac1c0002row32_col33,#T_516fb688_0fa4_11eb_b372_0242ac1c0002row33_col4,#T_516fb688_0fa4_11eb_b372_0242ac1c0002row33_col12,#T_516fb688_0fa4_11eb_b372_0242ac1c0002row33_col21,#T_516fb688_0fa4_11eb_b372_0242ac1c0002row33_col32,#T_516fb688_0fa4_11eb_b372_0242ac1c0002row34_col12,#T_516fb688_0fa4_11eb_b372_0242ac1c0002row34_col13,#T_516fb688_0fa4_11eb_b372_0242ac1c0002row35_col5,#T_516fb688_0fa4_11eb_b372_0242ac1c0002row36_col12,#T_516fb688_0fa4_11eb_b372_0242ac1c0002row36_col13,#T_516fb688_0fa4_11eb_b372_0242ac1c0002row37_col12,#T_516fb688_0fa4_11eb_b372_0242ac1c0002row37_col13,#T_516fb688_0fa4_11eb_b372_0242ac1c0002row37_col27,#T_516fb688_0fa4_11eb_b372_0242ac1c0002row39_col10,#T_516fb688_0fa4_11eb_b372_0242ac1c0002row39_col15,#T_516fb688_0fa4_11eb_b372_0242ac1c0002row39_col16,#T_516fb688_0fa4_11eb_b372_0242ac1c0002row39_col34,#T_516fb688_0fa4_11eb_b372_0242ac1c0002row41_col5,#T_516fb688_0fa4_11eb_b372_0242ac1c0002row41_col12,#T_516fb688_0fa4_11eb_b372_0242ac1c0002row41_col13,#T_516fb688_0fa4_11eb_b372_0242ac1c0002row41_col27,#T_516fb688_0fa4_11eb_b372_0242ac1c0002row42_col12,#T_516fb688_0fa4_11eb_b372_0242ac1c0002row42_col13{\n",
       "            background-color:  #d7e5ef;\n",
       "            color:  #000000;\n",
       "        }#T_516fb688_0fa4_11eb_b372_0242ac1c0002row0_col6,#T_516fb688_0fa4_11eb_b372_0242ac1c0002row0_col7,#T_516fb688_0fa4_11eb_b372_0242ac1c0002row0_col15,#T_516fb688_0fa4_11eb_b372_0242ac1c0002row0_col34,#T_516fb688_0fa4_11eb_b372_0242ac1c0002row1_col15,#T_516fb688_0fa4_11eb_b372_0242ac1c0002row1_col16,#T_516fb688_0fa4_11eb_b372_0242ac1c0002row1_col28,#T_516fb688_0fa4_11eb_b372_0242ac1c0002row1_col34,#T_516fb688_0fa4_11eb_b372_0242ac1c0002row3_col7,#T_516fb688_0fa4_11eb_b372_0242ac1c0002row3_col8,#T_516fb688_0fa4_11eb_b372_0242ac1c0002row3_col29,#T_516fb688_0fa4_11eb_b372_0242ac1c0002row4_col5,#T_516fb688_0fa4_11eb_b372_0242ac1c0002row4_col7,#T_516fb688_0fa4_11eb_b372_0242ac1c0002row4_col16,#T_516fb688_0fa4_11eb_b372_0242ac1c0002row4_col27,#T_516fb688_0fa4_11eb_b372_0242ac1c0002row4_col29,#T_516fb688_0fa4_11eb_b372_0242ac1c0002row6_col21,#T_516fb688_0fa4_11eb_b372_0242ac1c0002row6_col34,#T_516fb688_0fa4_11eb_b372_0242ac1c0002row7_col0,#T_516fb688_0fa4_11eb_b372_0242ac1c0002row7_col1,#T_516fb688_0fa4_11eb_b372_0242ac1c0002row7_col2,#T_516fb688_0fa4_11eb_b372_0242ac1c0002row7_col30,#T_516fb688_0fa4_11eb_b372_0242ac1c0002row7_col31,#T_516fb688_0fa4_11eb_b372_0242ac1c0002row7_col32,#T_516fb688_0fa4_11eb_b372_0242ac1c0002row7_col34,#T_516fb688_0fa4_11eb_b372_0242ac1c0002row7_col37,#T_516fb688_0fa4_11eb_b372_0242ac1c0002row7_col39,#T_516fb688_0fa4_11eb_b372_0242ac1c0002row7_col42,#T_516fb688_0fa4_11eb_b372_0242ac1c0002row8_col1,#T_516fb688_0fa4_11eb_b372_0242ac1c0002row8_col2,#T_516fb688_0fa4_11eb_b372_0242ac1c0002row8_col5,#T_516fb688_0fa4_11eb_b372_0242ac1c0002row8_col31,#T_516fb688_0fa4_11eb_b372_0242ac1c0002row8_col32,#T_516fb688_0fa4_11eb_b372_0242ac1c0002row8_col34,#T_516fb688_0fa4_11eb_b372_0242ac1c0002row8_col41,#T_516fb688_0fa4_11eb_b372_0242ac1c0002row9_col1,#T_516fb688_0fa4_11eb_b372_0242ac1c0002row9_col2,#T_516fb688_0fa4_11eb_b372_0242ac1c0002row9_col4,#T_516fb688_0fa4_11eb_b372_0242ac1c0002row9_col5,#T_516fb688_0fa4_11eb_b372_0242ac1c0002row9_col6,#T_516fb688_0fa4_11eb_b372_0242ac1c0002row9_col15,#T_516fb688_0fa4_11eb_b372_0242ac1c0002row9_col21,#T_516fb688_0fa4_11eb_b372_0242ac1c0002row9_col32,#T_516fb688_0fa4_11eb_b372_0242ac1c0002row9_col34,#T_516fb688_0fa4_11eb_b372_0242ac1c0002row10_col2,#T_516fb688_0fa4_11eb_b372_0242ac1c0002row10_col3,#T_516fb688_0fa4_11eb_b372_0242ac1c0002row10_col32,#T_516fb688_0fa4_11eb_b372_0242ac1c0002row10_col34,#T_516fb688_0fa4_11eb_b372_0242ac1c0002row10_col39,#T_516fb688_0fa4_11eb_b372_0242ac1c0002row10_col41,#T_516fb688_0fa4_11eb_b372_0242ac1c0002row12_col0,#T_516fb688_0fa4_11eb_b372_0242ac1c0002row12_col2,#T_516fb688_0fa4_11eb_b372_0242ac1c0002row12_col3,#T_516fb688_0fa4_11eb_b372_0242ac1c0002row12_col4,#T_516fb688_0fa4_11eb_b372_0242ac1c0002row12_col5,#T_516fb688_0fa4_11eb_b372_0242ac1c0002row12_col21,#T_516fb688_0fa4_11eb_b372_0242ac1c0002row12_col31,#T_516fb688_0fa4_11eb_b372_0242ac1c0002row12_col32,#T_516fb688_0fa4_11eb_b372_0242ac1c0002row12_col34,#T_516fb688_0fa4_11eb_b372_0242ac1c0002row12_col37,#T_516fb688_0fa4_11eb_b372_0242ac1c0002row12_col38,#T_516fb688_0fa4_11eb_b372_0242ac1c0002row12_col39,#T_516fb688_0fa4_11eb_b372_0242ac1c0002row13_col0,#T_516fb688_0fa4_11eb_b372_0242ac1c0002row13_col1,#T_516fb688_0fa4_11eb_b372_0242ac1c0002row13_col2,#T_516fb688_0fa4_11eb_b372_0242ac1c0002row13_col3,#T_516fb688_0fa4_11eb_b372_0242ac1c0002row13_col4,#T_516fb688_0fa4_11eb_b372_0242ac1c0002row13_col5,#T_516fb688_0fa4_11eb_b372_0242ac1c0002row13_col31,#T_516fb688_0fa4_11eb_b372_0242ac1c0002row13_col32,#T_516fb688_0fa4_11eb_b372_0242ac1c0002row13_col34,#T_516fb688_0fa4_11eb_b372_0242ac1c0002row13_col37,#T_516fb688_0fa4_11eb_b372_0242ac1c0002row13_col41,#T_516fb688_0fa4_11eb_b372_0242ac1c0002row14_col1,#T_516fb688_0fa4_11eb_b372_0242ac1c0002row14_col2,#T_516fb688_0fa4_11eb_b372_0242ac1c0002row14_col5,#T_516fb688_0fa4_11eb_b372_0242ac1c0002row14_col6,#T_516fb688_0fa4_11eb_b372_0242ac1c0002row14_col15,#T_516fb688_0fa4_11eb_b372_0242ac1c0002row14_col16,#T_516fb688_0fa4_11eb_b372_0242ac1c0002row14_col21,#T_516fb688_0fa4_11eb_b372_0242ac1c0002row14_col32,#T_516fb688_0fa4_11eb_b372_0242ac1c0002row14_col34,#T_516fb688_0fa4_11eb_b372_0242ac1c0002row15_col5,#T_516fb688_0fa4_11eb_b372_0242ac1c0002row15_col8,#T_516fb688_0fa4_11eb_b372_0242ac1c0002row15_col22,#T_516fb688_0fa4_11eb_b372_0242ac1c0002row15_col31,#T_516fb688_0fa4_11eb_b372_0242ac1c0002row15_col33,#T_516fb688_0fa4_11eb_b372_0242ac1c0002row15_col36,#T_516fb688_0fa4_11eb_b372_0242ac1c0002row15_col42,#T_516fb688_0fa4_11eb_b372_0242ac1c0002row16_col3,#T_516fb688_0fa4_11eb_b372_0242ac1c0002row16_col5,#T_516fb688_0fa4_11eb_b372_0242ac1c0002row16_col7,#T_516fb688_0fa4_11eb_b372_0242ac1c0002row16_col8,#T_516fb688_0fa4_11eb_b372_0242ac1c0002row16_col31,#T_516fb688_0fa4_11eb_b372_0242ac1c0002row16_col32,#T_516fb688_0fa4_11eb_b372_0242ac1c0002row16_col34,#T_516fb688_0fa4_11eb_b372_0242ac1c0002row16_col39,#T_516fb688_0fa4_11eb_b372_0242ac1c0002row17_col1,#T_516fb688_0fa4_11eb_b372_0242ac1c0002row17_col2,#T_516fb688_0fa4_11eb_b372_0242ac1c0002row17_col5,#T_516fb688_0fa4_11eb_b372_0242ac1c0002row17_col7,#T_516fb688_0fa4_11eb_b372_0242ac1c0002row17_col21,#T_516fb688_0fa4_11eb_b372_0242ac1c0002row17_col28,#T_516fb688_0fa4_11eb_b372_0242ac1c0002row17_col31,#T_516fb688_0fa4_11eb_b372_0242ac1c0002row17_col34,#T_516fb688_0fa4_11eb_b372_0242ac1c0002row17_col40,#T_516fb688_0fa4_11eb_b372_0242ac1c0002row18_col1,#T_516fb688_0fa4_11eb_b372_0242ac1c0002row18_col2,#T_516fb688_0fa4_11eb_b372_0242ac1c0002row18_col5,#T_516fb688_0fa4_11eb_b372_0242ac1c0002row18_col7,#T_516fb688_0fa4_11eb_b372_0242ac1c0002row18_col31,#T_516fb688_0fa4_11eb_b372_0242ac1c0002row18_col32,#T_516fb688_0fa4_11eb_b372_0242ac1c0002row18_col33,#T_516fb688_0fa4_11eb_b372_0242ac1c0002row18_col34,#T_516fb688_0fa4_11eb_b372_0242ac1c0002row19_col1,#T_516fb688_0fa4_11eb_b372_0242ac1c0002row19_col2,#T_516fb688_0fa4_11eb_b372_0242ac1c0002row19_col5,#T_516fb688_0fa4_11eb_b372_0242ac1c0002row19_col32,#T_516fb688_0fa4_11eb_b372_0242ac1c0002row19_col34,#T_516fb688_0fa4_11eb_b372_0242ac1c0002row19_col37,#T_516fb688_0fa4_11eb_b372_0242ac1c0002row19_col41,#T_516fb688_0fa4_11eb_b372_0242ac1c0002row20_col1,#T_516fb688_0fa4_11eb_b372_0242ac1c0002row20_col2,#T_516fb688_0fa4_11eb_b372_0242ac1c0002row20_col4,#T_516fb688_0fa4_11eb_b372_0242ac1c0002row20_col5,#T_516fb688_0fa4_11eb_b372_0242ac1c0002row20_col21,#T_516fb688_0fa4_11eb_b372_0242ac1c0002row20_col34,#T_516fb688_0fa4_11eb_b372_0242ac1c0002row21_col2,#T_516fb688_0fa4_11eb_b372_0242ac1c0002row21_col6,#T_516fb688_0fa4_11eb_b372_0242ac1c0002row22_col2,#T_516fb688_0fa4_11eb_b372_0242ac1c0002row22_col5,#T_516fb688_0fa4_11eb_b372_0242ac1c0002row22_col6,#T_516fb688_0fa4_11eb_b372_0242ac1c0002row22_col34,#T_516fb688_0fa4_11eb_b372_0242ac1c0002row22_col40,#T_516fb688_0fa4_11eb_b372_0242ac1c0002row23_col1,#T_516fb688_0fa4_11eb_b372_0242ac1c0002row23_col2,#T_516fb688_0fa4_11eb_b372_0242ac1c0002row23_col5,#T_516fb688_0fa4_11eb_b372_0242ac1c0002row23_col31,#T_516fb688_0fa4_11eb_b372_0242ac1c0002row23_col34,#T_516fb688_0fa4_11eb_b372_0242ac1c0002row26_col1,#T_516fb688_0fa4_11eb_b372_0242ac1c0002row26_col2,#T_516fb688_0fa4_11eb_b372_0242ac1c0002row26_col5,#T_516fb688_0fa4_11eb_b372_0242ac1c0002row26_col32,#T_516fb688_0fa4_11eb_b372_0242ac1c0002row26_col34,#T_516fb688_0fa4_11eb_b372_0242ac1c0002row27_col17,#T_516fb688_0fa4_11eb_b372_0242ac1c0002row27_col32,#T_516fb688_0fa4_11eb_b372_0242ac1c0002row29_col2,#T_516fb688_0fa4_11eb_b372_0242ac1c0002row29_col3,#T_516fb688_0fa4_11eb_b372_0242ac1c0002row29_col5,#T_516fb688_0fa4_11eb_b372_0242ac1c0002row29_col6,#T_516fb688_0fa4_11eb_b372_0242ac1c0002row29_col15,#T_516fb688_0fa4_11eb_b372_0242ac1c0002row29_col28,#T_516fb688_0fa4_11eb_b372_0242ac1c0002row29_col31,#T_516fb688_0fa4_11eb_b372_0242ac1c0002row29_col35,#T_516fb688_0fa4_11eb_b372_0242ac1c0002row29_col38,#T_516fb688_0fa4_11eb_b372_0242ac1c0002row29_col39,#T_516fb688_0fa4_11eb_b372_0242ac1c0002row30_col2,#T_516fb688_0fa4_11eb_b372_0242ac1c0002row30_col7,#T_516fb688_0fa4_11eb_b372_0242ac1c0002row30_col31,#T_516fb688_0fa4_11eb_b372_0242ac1c0002row30_col32,#T_516fb688_0fa4_11eb_b372_0242ac1c0002row31_col27,#T_516fb688_0fa4_11eb_b372_0242ac1c0002row31_col28,#T_516fb688_0fa4_11eb_b372_0242ac1c0002row31_col39,#T_516fb688_0fa4_11eb_b372_0242ac1c0002row32_col2,#T_516fb688_0fa4_11eb_b372_0242ac1c0002row32_col6,#T_516fb688_0fa4_11eb_b372_0242ac1c0002row32_col29,#T_516fb688_0fa4_11eb_b372_0242ac1c0002row32_col35,#T_516fb688_0fa4_11eb_b372_0242ac1c0002row32_col38,#T_516fb688_0fa4_11eb_b372_0242ac1c0002row32_col39,#T_516fb688_0fa4_11eb_b372_0242ac1c0002row33_col1,#T_516fb688_0fa4_11eb_b372_0242ac1c0002row33_col27,#T_516fb688_0fa4_11eb_b372_0242ac1c0002row33_col28,#T_516fb688_0fa4_11eb_b372_0242ac1c0002row33_col30,#T_516fb688_0fa4_11eb_b372_0242ac1c0002row33_col41,#T_516fb688_0fa4_11eb_b372_0242ac1c0002row33_col42,#T_516fb688_0fa4_11eb_b372_0242ac1c0002row34_col1,#T_516fb688_0fa4_11eb_b372_0242ac1c0002row34_col3,#T_516fb688_0fa4_11eb_b372_0242ac1c0002row34_col27,#T_516fb688_0fa4_11eb_b372_0242ac1c0002row34_col28,#T_516fb688_0fa4_11eb_b372_0242ac1c0002row34_col29,#T_516fb688_0fa4_11eb_b372_0242ac1c0002row34_col30,#T_516fb688_0fa4_11eb_b372_0242ac1c0002row34_col40,#T_516fb688_0fa4_11eb_b372_0242ac1c0002row34_col42,#T_516fb688_0fa4_11eb_b372_0242ac1c0002row35_col7,#T_516fb688_0fa4_11eb_b372_0242ac1c0002row36_col5,#T_516fb688_0fa4_11eb_b372_0242ac1c0002row36_col6,#T_516fb688_0fa4_11eb_b372_0242ac1c0002row36_col32,#T_516fb688_0fa4_11eb_b372_0242ac1c0002row37_col7,#T_516fb688_0fa4_11eb_b372_0242ac1c0002row37_col15,#T_516fb688_0fa4_11eb_b372_0242ac1c0002row37_col16,#T_516fb688_0fa4_11eb_b372_0242ac1c0002row37_col29,#T_516fb688_0fa4_11eb_b372_0242ac1c0002row37_col34,#T_516fb688_0fa4_11eb_b372_0242ac1c0002row38_col7,#T_516fb688_0fa4_11eb_b372_0242ac1c0002row38_col29,#T_516fb688_0fa4_11eb_b372_0242ac1c0002row38_col33,#T_516fb688_0fa4_11eb_b372_0242ac1c0002row39_col7,#T_516fb688_0fa4_11eb_b372_0242ac1c0002row39_col8,#T_516fb688_0fa4_11eb_b372_0242ac1c0002row39_col29,#T_516fb688_0fa4_11eb_b372_0242ac1c0002row39_col33,#T_516fb688_0fa4_11eb_b372_0242ac1c0002row40_col17,#T_516fb688_0fa4_11eb_b372_0242ac1c0002row40_col32,#T_516fb688_0fa4_11eb_b372_0242ac1c0002row40_col33,#T_516fb688_0fa4_11eb_b372_0242ac1c0002row41_col33,#T_516fb688_0fa4_11eb_b372_0242ac1c0002row42_col7,#T_516fb688_0fa4_11eb_b372_0242ac1c0002row42_col31,#T_516fb688_0fa4_11eb_b372_0242ac1c0002row42_col32{\n",
       "            background-color:  #e6ecf1;\n",
       "            color:  #000000;\n",
       "        }#T_516fb688_0fa4_11eb_b372_0242ac1c0002row0_col8,#T_516fb688_0fa4_11eb_b372_0242ac1c0002row0_col22,#T_516fb688_0fa4_11eb_b372_0242ac1c0002row0_col33,#T_516fb688_0fa4_11eb_b372_0242ac1c0002row1_col7,#T_516fb688_0fa4_11eb_b372_0242ac1c0002row1_col29,#T_516fb688_0fa4_11eb_b372_0242ac1c0002row1_col33,#T_516fb688_0fa4_11eb_b372_0242ac1c0002row2_col5,#T_516fb688_0fa4_11eb_b372_0242ac1c0002row2_col7,#T_516fb688_0fa4_11eb_b372_0242ac1c0002row2_col9,#T_516fb688_0fa4_11eb_b372_0242ac1c0002row2_col31,#T_516fb688_0fa4_11eb_b372_0242ac1c0002row2_col32,#T_516fb688_0fa4_11eb_b372_0242ac1c0002row3_col9,#T_516fb688_0fa4_11eb_b372_0242ac1c0002row3_col17,#T_516fb688_0fa4_11eb_b372_0242ac1c0002row3_col22,#T_516fb688_0fa4_11eb_b372_0242ac1c0002row3_col33,#T_516fb688_0fa4_11eb_b372_0242ac1c0002row4_col8,#T_516fb688_0fa4_11eb_b372_0242ac1c0002row4_col22,#T_516fb688_0fa4_11eb_b372_0242ac1c0002row4_col28,#T_516fb688_0fa4_11eb_b372_0242ac1c0002row5_col2,#T_516fb688_0fa4_11eb_b372_0242ac1c0002row5_col7,#T_516fb688_0fa4_11eb_b372_0242ac1c0002row5_col8,#T_516fb688_0fa4_11eb_b372_0242ac1c0002row5_col22,#T_516fb688_0fa4_11eb_b372_0242ac1c0002row5_col39,#T_516fb688_0fa4_11eb_b372_0242ac1c0002row6_col7,#T_516fb688_0fa4_11eb_b372_0242ac1c0002row6_col8,#T_516fb688_0fa4_11eb_b372_0242ac1c0002row6_col30,#T_516fb688_0fa4_11eb_b372_0242ac1c0002row6_col32,#T_516fb688_0fa4_11eb_b372_0242ac1c0002row6_col33,#T_516fb688_0fa4_11eb_b372_0242ac1c0002row6_col35,#T_516fb688_0fa4_11eb_b372_0242ac1c0002row6_col39,#T_516fb688_0fa4_11eb_b372_0242ac1c0002row6_col42,#T_516fb688_0fa4_11eb_b372_0242ac1c0002row7_col3,#T_516fb688_0fa4_11eb_b372_0242ac1c0002row7_col8,#T_516fb688_0fa4_11eb_b372_0242ac1c0002row7_col17,#T_516fb688_0fa4_11eb_b372_0242ac1c0002row7_col18,#T_516fb688_0fa4_11eb_b372_0242ac1c0002row7_col22,#T_516fb688_0fa4_11eb_b372_0242ac1c0002row7_col29,#T_516fb688_0fa4_11eb_b372_0242ac1c0002row7_col33,#T_516fb688_0fa4_11eb_b372_0242ac1c0002row7_col35,#T_516fb688_0fa4_11eb_b372_0242ac1c0002row7_col36,#T_516fb688_0fa4_11eb_b372_0242ac1c0002row7_col38,#T_516fb688_0fa4_11eb_b372_0242ac1c0002row8_col0,#T_516fb688_0fa4_11eb_b372_0242ac1c0002row8_col3,#T_516fb688_0fa4_11eb_b372_0242ac1c0002row8_col7,#T_516fb688_0fa4_11eb_b372_0242ac1c0002row8_col22,#T_516fb688_0fa4_11eb_b372_0242ac1c0002row8_col33,#T_516fb688_0fa4_11eb_b372_0242ac1c0002row8_col37,#T_516fb688_0fa4_11eb_b372_0242ac1c0002row8_col39,#T_516fb688_0fa4_11eb_b372_0242ac1c0002row9_col0,#T_516fb688_0fa4_11eb_b372_0242ac1c0002row9_col22,#T_516fb688_0fa4_11eb_b372_0242ac1c0002row9_col28,#T_516fb688_0fa4_11eb_b372_0242ac1c0002row9_col31,#T_516fb688_0fa4_11eb_b372_0242ac1c0002row9_col36,#T_516fb688_0fa4_11eb_b372_0242ac1c0002row9_col37,#T_516fb688_0fa4_11eb_b372_0242ac1c0002row9_col41,#T_516fb688_0fa4_11eb_b372_0242ac1c0002row10_col0,#T_516fb688_0fa4_11eb_b372_0242ac1c0002row10_col1,#T_516fb688_0fa4_11eb_b372_0242ac1c0002row10_col8,#T_516fb688_0fa4_11eb_b372_0242ac1c0002row10_col12,#T_516fb688_0fa4_11eb_b372_0242ac1c0002row10_col13,#T_516fb688_0fa4_11eb_b372_0242ac1c0002row10_col17,#T_516fb688_0fa4_11eb_b372_0242ac1c0002row10_col30,#T_516fb688_0fa4_11eb_b372_0242ac1c0002row10_col31,#T_516fb688_0fa4_11eb_b372_0242ac1c0002row10_col33,#T_516fb688_0fa4_11eb_b372_0242ac1c0002row10_col35,#T_516fb688_0fa4_11eb_b372_0242ac1c0002row10_col36,#T_516fb688_0fa4_11eb_b372_0242ac1c0002row10_col37,#T_516fb688_0fa4_11eb_b372_0242ac1c0002row10_col38,#T_516fb688_0fa4_11eb_b372_0242ac1c0002row10_col42,#T_516fb688_0fa4_11eb_b372_0242ac1c0002row12_col17,#T_516fb688_0fa4_11eb_b372_0242ac1c0002row12_col33,#T_516fb688_0fa4_11eb_b372_0242ac1c0002row12_col35,#T_516fb688_0fa4_11eb_b372_0242ac1c0002row12_col36,#T_516fb688_0fa4_11eb_b372_0242ac1c0002row12_col41,#T_516fb688_0fa4_11eb_b372_0242ac1c0002row13_col17,#T_516fb688_0fa4_11eb_b372_0242ac1c0002row13_col35,#T_516fb688_0fa4_11eb_b372_0242ac1c0002row13_col36,#T_516fb688_0fa4_11eb_b372_0242ac1c0002row13_col38,#T_516fb688_0fa4_11eb_b372_0242ac1c0002row13_col39,#T_516fb688_0fa4_11eb_b372_0242ac1c0002row14_col0,#T_516fb688_0fa4_11eb_b372_0242ac1c0002row14_col7,#T_516fb688_0fa4_11eb_b372_0242ac1c0002row14_col8,#T_516fb688_0fa4_11eb_b372_0242ac1c0002row14_col22,#T_516fb688_0fa4_11eb_b372_0242ac1c0002row14_col28,#T_516fb688_0fa4_11eb_b372_0242ac1c0002row14_col31,#T_516fb688_0fa4_11eb_b372_0242ac1c0002row14_col33,#T_516fb688_0fa4_11eb_b372_0242ac1c0002row14_col36,#T_516fb688_0fa4_11eb_b372_0242ac1c0002row14_col37,#T_516fb688_0fa4_11eb_b372_0242ac1c0002row14_col41,#T_516fb688_0fa4_11eb_b372_0242ac1c0002row15_col0,#T_516fb688_0fa4_11eb_b372_0242ac1c0002row15_col1,#T_516fb688_0fa4_11eb_b372_0242ac1c0002row15_col7,#T_516fb688_0fa4_11eb_b372_0242ac1c0002row15_col17,#T_516fb688_0fa4_11eb_b372_0242ac1c0002row15_col26,#T_516fb688_0fa4_11eb_b372_0242ac1c0002row15_col30,#T_516fb688_0fa4_11eb_b372_0242ac1c0002row15_col32,#T_516fb688_0fa4_11eb_b372_0242ac1c0002row15_col35,#T_516fb688_0fa4_11eb_b372_0242ac1c0002row15_col37,#T_516fb688_0fa4_11eb_b372_0242ac1c0002row15_col38,#T_516fb688_0fa4_11eb_b372_0242ac1c0002row15_col41,#T_516fb688_0fa4_11eb_b372_0242ac1c0002row16_col0,#T_516fb688_0fa4_11eb_b372_0242ac1c0002row16_col1,#T_516fb688_0fa4_11eb_b372_0242ac1c0002row16_col17,#T_516fb688_0fa4_11eb_b372_0242ac1c0002row16_col22,#T_516fb688_0fa4_11eb_b372_0242ac1c0002row16_col30,#T_516fb688_0fa4_11eb_b372_0242ac1c0002row16_col33,#T_516fb688_0fa4_11eb_b372_0242ac1c0002row16_col35,#T_516fb688_0fa4_11eb_b372_0242ac1c0002row16_col36,#T_516fb688_0fa4_11eb_b372_0242ac1c0002row16_col37,#T_516fb688_0fa4_11eb_b372_0242ac1c0002row16_col38,#T_516fb688_0fa4_11eb_b372_0242ac1c0002row16_col41,#T_516fb688_0fa4_11eb_b372_0242ac1c0002row16_col42,#T_516fb688_0fa4_11eb_b372_0242ac1c0002row17_col0,#T_516fb688_0fa4_11eb_b372_0242ac1c0002row17_col8,#T_516fb688_0fa4_11eb_b372_0242ac1c0002row17_col22,#T_516fb688_0fa4_11eb_b372_0242ac1c0002row17_col32,#T_516fb688_0fa4_11eb_b372_0242ac1c0002row17_col33,#T_516fb688_0fa4_11eb_b372_0242ac1c0002row17_col37,#T_516fb688_0fa4_11eb_b372_0242ac1c0002row17_col39,#T_516fb688_0fa4_11eb_b372_0242ac1c0002row17_col41,#T_516fb688_0fa4_11eb_b372_0242ac1c0002row18_col0,#T_516fb688_0fa4_11eb_b372_0242ac1c0002row18_col8,#T_516fb688_0fa4_11eb_b372_0242ac1c0002row18_col22,#T_516fb688_0fa4_11eb_b372_0242ac1c0002row18_col27,#T_516fb688_0fa4_11eb_b372_0242ac1c0002row18_col28,#T_516fb688_0fa4_11eb_b372_0242ac1c0002row18_col37,#T_516fb688_0fa4_11eb_b372_0242ac1c0002row18_col41,#T_516fb688_0fa4_11eb_b372_0242ac1c0002row19_col0,#T_516fb688_0fa4_11eb_b372_0242ac1c0002row19_col7,#T_516fb688_0fa4_11eb_b372_0242ac1c0002row19_col8,#T_516fb688_0fa4_11eb_b372_0242ac1c0002row19_col22,#T_516fb688_0fa4_11eb_b372_0242ac1c0002row19_col27,#T_516fb688_0fa4_11eb_b372_0242ac1c0002row19_col28,#T_516fb688_0fa4_11eb_b372_0242ac1c0002row19_col31,#T_516fb688_0fa4_11eb_b372_0242ac1c0002row19_col33,#T_516fb688_0fa4_11eb_b372_0242ac1c0002row20_col0,#T_516fb688_0fa4_11eb_b372_0242ac1c0002row20_col7,#T_516fb688_0fa4_11eb_b372_0242ac1c0002row20_col8,#T_516fb688_0fa4_11eb_b372_0242ac1c0002row20_col22,#T_516fb688_0fa4_11eb_b372_0242ac1c0002row20_col28,#T_516fb688_0fa4_11eb_b372_0242ac1c0002row20_col31,#T_516fb688_0fa4_11eb_b372_0242ac1c0002row20_col32,#T_516fb688_0fa4_11eb_b372_0242ac1c0002row20_col33,#T_516fb688_0fa4_11eb_b372_0242ac1c0002row20_col37,#T_516fb688_0fa4_11eb_b372_0242ac1c0002row20_col41,#T_516fb688_0fa4_11eb_b372_0242ac1c0002row21_col7,#T_516fb688_0fa4_11eb_b372_0242ac1c0002row21_col8,#T_516fb688_0fa4_11eb_b372_0242ac1c0002row21_col13,#T_516fb688_0fa4_11eb_b372_0242ac1c0002row21_col22,#T_516fb688_0fa4_11eb_b372_0242ac1c0002row21_col29,#T_516fb688_0fa4_11eb_b372_0242ac1c0002row21_col31,#T_516fb688_0fa4_11eb_b372_0242ac1c0002row22_col0,#T_516fb688_0fa4_11eb_b372_0242ac1c0002row22_col1,#T_516fb688_0fa4_11eb_b372_0242ac1c0002row22_col23,#T_516fb688_0fa4_11eb_b372_0242ac1c0002row22_col31,#T_516fb688_0fa4_11eb_b372_0242ac1c0002row22_col32,#T_516fb688_0fa4_11eb_b372_0242ac1c0002row22_col33,#T_516fb688_0fa4_11eb_b372_0242ac1c0002row22_col37,#T_516fb688_0fa4_11eb_b372_0242ac1c0002row22_col41,#T_516fb688_0fa4_11eb_b372_0242ac1c0002row23_col0,#T_516fb688_0fa4_11eb_b372_0242ac1c0002row23_col7,#T_516fb688_0fa4_11eb_b372_0242ac1c0002row23_col8,#T_516fb688_0fa4_11eb_b372_0242ac1c0002row23_col27,#T_516fb688_0fa4_11eb_b372_0242ac1c0002row23_col28,#T_516fb688_0fa4_11eb_b372_0242ac1c0002row23_col32,#T_516fb688_0fa4_11eb_b372_0242ac1c0002row23_col33,#T_516fb688_0fa4_11eb_b372_0242ac1c0002row23_col37,#T_516fb688_0fa4_11eb_b372_0242ac1c0002row23_col41,#T_516fb688_0fa4_11eb_b372_0242ac1c0002row26_col0,#T_516fb688_0fa4_11eb_b372_0242ac1c0002row26_col7,#T_516fb688_0fa4_11eb_b372_0242ac1c0002row26_col8,#T_516fb688_0fa4_11eb_b372_0242ac1c0002row26_col22,#T_516fb688_0fa4_11eb_b372_0242ac1c0002row26_col27,#T_516fb688_0fa4_11eb_b372_0242ac1c0002row26_col31,#T_516fb688_0fa4_11eb_b372_0242ac1c0002row26_col33,#T_516fb688_0fa4_11eb_b372_0242ac1c0002row26_col37,#T_516fb688_0fa4_11eb_b372_0242ac1c0002row26_col41,#T_516fb688_0fa4_11eb_b372_0242ac1c0002row27_col2,#T_516fb688_0fa4_11eb_b372_0242ac1c0002row27_col29,#T_516fb688_0fa4_11eb_b372_0242ac1c0002row28_col2,#T_516fb688_0fa4_11eb_b372_0242ac1c0002row28_col9,#T_516fb688_0fa4_11eb_b372_0242ac1c0002row28_col17,#T_516fb688_0fa4_11eb_b372_0242ac1c0002row28_col20,#T_516fb688_0fa4_11eb_b372_0242ac1c0002row28_col29,#T_516fb688_0fa4_11eb_b372_0242ac1c0002row29_col7,#T_516fb688_0fa4_11eb_b372_0242ac1c0002row29_col22,#T_516fb688_0fa4_11eb_b372_0242ac1c0002row29_col27,#T_516fb688_0fa4_11eb_b372_0242ac1c0002row29_col30,#T_516fb688_0fa4_11eb_b372_0242ac1c0002row29_col33,#T_516fb688_0fa4_11eb_b372_0242ac1c0002row29_col36,#T_516fb688_0fa4_11eb_b372_0242ac1c0002row29_col40,#T_516fb688_0fa4_11eb_b372_0242ac1c0002row29_col42,#T_516fb688_0fa4_11eb_b372_0242ac1c0002row30_col8,#T_516fb688_0fa4_11eb_b372_0242ac1c0002row30_col22,#T_516fb688_0fa4_11eb_b372_0242ac1c0002row30_col29,#T_516fb688_0fa4_11eb_b372_0242ac1c0002row31_col2,#T_516fb688_0fa4_11eb_b372_0242ac1c0002row31_col3,#T_516fb688_0fa4_11eb_b372_0242ac1c0002row31_col7,#T_516fb688_0fa4_11eb_b372_0242ac1c0002row31_col8,#T_516fb688_0fa4_11eb_b372_0242ac1c0002row31_col17,#T_516fb688_0fa4_11eb_b372_0242ac1c0002row31_col22,#T_516fb688_0fa4_11eb_b372_0242ac1c0002row31_col29,#T_516fb688_0fa4_11eb_b372_0242ac1c0002row31_col30,#T_516fb688_0fa4_11eb_b372_0242ac1c0002row31_col40,#T_516fb688_0fa4_11eb_b372_0242ac1c0002row31_col41,#T_516fb688_0fa4_11eb_b372_0242ac1c0002row31_col42,#T_516fb688_0fa4_11eb_b372_0242ac1c0002row32_col3,#T_516fb688_0fa4_11eb_b372_0242ac1c0002row32_col7,#T_516fb688_0fa4_11eb_b372_0242ac1c0002row32_col8,#T_516fb688_0fa4_11eb_b372_0242ac1c0002row32_col9,#T_516fb688_0fa4_11eb_b372_0242ac1c0002row32_col27,#T_516fb688_0fa4_11eb_b372_0242ac1c0002row32_col28,#T_516fb688_0fa4_11eb_b372_0242ac1c0002row32_col30,#T_516fb688_0fa4_11eb_b372_0242ac1c0002row32_col42,#T_516fb688_0fa4_11eb_b372_0242ac1c0002row33_col0,#T_516fb688_0fa4_11eb_b372_0242ac1c0002row33_col2,#T_516fb688_0fa4_11eb_b372_0242ac1c0002row33_col5,#T_516fb688_0fa4_11eb_b372_0242ac1c0002row33_col7,#T_516fb688_0fa4_11eb_b372_0242ac1c0002row33_col8,#T_516fb688_0fa4_11eb_b372_0242ac1c0002row33_col22,#T_516fb688_0fa4_11eb_b372_0242ac1c0002row33_col29,#T_516fb688_0fa4_11eb_b372_0242ac1c0002row33_col37,#T_516fb688_0fa4_11eb_b372_0242ac1c0002row33_col38,#T_516fb688_0fa4_11eb_b372_0242ac1c0002row33_col39,#T_516fb688_0fa4_11eb_b372_0242ac1c0002row33_col40,#T_516fb688_0fa4_11eb_b372_0242ac1c0002row34_col0,#T_516fb688_0fa4_11eb_b372_0242ac1c0002row34_col2,#T_516fb688_0fa4_11eb_b372_0242ac1c0002row34_col7,#T_516fb688_0fa4_11eb_b372_0242ac1c0002row34_col8,#T_516fb688_0fa4_11eb_b372_0242ac1c0002row34_col22,#T_516fb688_0fa4_11eb_b372_0242ac1c0002row34_col35,#T_516fb688_0fa4_11eb_b372_0242ac1c0002row34_col37,#T_516fb688_0fa4_11eb_b372_0242ac1c0002row34_col38,#T_516fb688_0fa4_11eb_b372_0242ac1c0002row35_col8,#T_516fb688_0fa4_11eb_b372_0242ac1c0002row35_col9,#T_516fb688_0fa4_11eb_b372_0242ac1c0002row35_col22,#T_516fb688_0fa4_11eb_b372_0242ac1c0002row35_col31,#T_516fb688_0fa4_11eb_b372_0242ac1c0002row35_col33,#T_516fb688_0fa4_11eb_b372_0242ac1c0002row36_col7,#T_516fb688_0fa4_11eb_b372_0242ac1c0002row36_col8,#T_516fb688_0fa4_11eb_b372_0242ac1c0002row36_col9,#T_516fb688_0fa4_11eb_b372_0242ac1c0002row36_col22,#T_516fb688_0fa4_11eb_b372_0242ac1c0002row36_col29,#T_516fb688_0fa4_11eb_b372_0242ac1c0002row36_col31,#T_516fb688_0fa4_11eb_b372_0242ac1c0002row36_col34,#T_516fb688_0fa4_11eb_b372_0242ac1c0002row37_col6,#T_516fb688_0fa4_11eb_b372_0242ac1c0002row37_col8,#T_516fb688_0fa4_11eb_b372_0242ac1c0002row37_col22,#T_516fb688_0fa4_11eb_b372_0242ac1c0002row37_col33,#T_516fb688_0fa4_11eb_b372_0242ac1c0002row38_col8,#T_516fb688_0fa4_11eb_b372_0242ac1c0002row38_col22,#T_516fb688_0fa4_11eb_b372_0242ac1c0002row38_col31,#T_516fb688_0fa4_11eb_b372_0242ac1c0002row39_col17,#T_516fb688_0fa4_11eb_b372_0242ac1c0002row39_col22,#T_516fb688_0fa4_11eb_b372_0242ac1c0002row40_col29,#T_516fb688_0fa4_11eb_b372_0242ac1c0002row41_col6,#T_516fb688_0fa4_11eb_b372_0242ac1c0002row41_col8,#T_516fb688_0fa4_11eb_b372_0242ac1c0002row41_col22,#T_516fb688_0fa4_11eb_b372_0242ac1c0002row41_col31,#T_516fb688_0fa4_11eb_b372_0242ac1c0002row42_col8,#T_516fb688_0fa4_11eb_b372_0242ac1c0002row42_col22,#T_516fb688_0fa4_11eb_b372_0242ac1c0002row42_col29{\n",
       "            background-color:  #ebeef2;\n",
       "            color:  #000000;\n",
       "        }#T_516fb688_0fa4_11eb_b372_0242ac1c0002row0_col9,#T_516fb688_0fa4_11eb_b372_0242ac1c0002row0_col14,#T_516fb688_0fa4_11eb_b372_0242ac1c0002row0_col17,#T_516fb688_0fa4_11eb_b372_0242ac1c0002row0_col18,#T_516fb688_0fa4_11eb_b372_0242ac1c0002row0_col19,#T_516fb688_0fa4_11eb_b372_0242ac1c0002row0_col20,#T_516fb688_0fa4_11eb_b372_0242ac1c0002row0_col23,#T_516fb688_0fa4_11eb_b372_0242ac1c0002row0_col26,#T_516fb688_0fa4_11eb_b372_0242ac1c0002row0_col31,#T_516fb688_0fa4_11eb_b372_0242ac1c0002row1_col6,#T_516fb688_0fa4_11eb_b372_0242ac1c0002row1_col8,#T_516fb688_0fa4_11eb_b372_0242ac1c0002row1_col9,#T_516fb688_0fa4_11eb_b372_0242ac1c0002row1_col14,#T_516fb688_0fa4_11eb_b372_0242ac1c0002row1_col17,#T_516fb688_0fa4_11eb_b372_0242ac1c0002row1_col18,#T_516fb688_0fa4_11eb_b372_0242ac1c0002row1_col19,#T_516fb688_0fa4_11eb_b372_0242ac1c0002row1_col20,#T_516fb688_0fa4_11eb_b372_0242ac1c0002row1_col22,#T_516fb688_0fa4_11eb_b372_0242ac1c0002row1_col23,#T_516fb688_0fa4_11eb_b372_0242ac1c0002row1_col26,#T_516fb688_0fa4_11eb_b372_0242ac1c0002row1_col31,#T_516fb688_0fa4_11eb_b372_0242ac1c0002row2_col6,#T_516fb688_0fa4_11eb_b372_0242ac1c0002row2_col8,#T_516fb688_0fa4_11eb_b372_0242ac1c0002row2_col14,#T_516fb688_0fa4_11eb_b372_0242ac1c0002row2_col17,#T_516fb688_0fa4_11eb_b372_0242ac1c0002row2_col18,#T_516fb688_0fa4_11eb_b372_0242ac1c0002row2_col19,#T_516fb688_0fa4_11eb_b372_0242ac1c0002row2_col20,#T_516fb688_0fa4_11eb_b372_0242ac1c0002row2_col22,#T_516fb688_0fa4_11eb_b372_0242ac1c0002row2_col23,#T_516fb688_0fa4_11eb_b372_0242ac1c0002row2_col26,#T_516fb688_0fa4_11eb_b372_0242ac1c0002row2_col27,#T_516fb688_0fa4_11eb_b372_0242ac1c0002row2_col28,#T_516fb688_0fa4_11eb_b372_0242ac1c0002row2_col29,#T_516fb688_0fa4_11eb_b372_0242ac1c0002row2_col30,#T_516fb688_0fa4_11eb_b372_0242ac1c0002row2_col33,#T_516fb688_0fa4_11eb_b372_0242ac1c0002row2_col34,#T_516fb688_0fa4_11eb_b372_0242ac1c0002row3_col14,#T_516fb688_0fa4_11eb_b372_0242ac1c0002row3_col18,#T_516fb688_0fa4_11eb_b372_0242ac1c0002row3_col19,#T_516fb688_0fa4_11eb_b372_0242ac1c0002row3_col20,#T_516fb688_0fa4_11eb_b372_0242ac1c0002row3_col23,#T_516fb688_0fa4_11eb_b372_0242ac1c0002row3_col26,#T_516fb688_0fa4_11eb_b372_0242ac1c0002row4_col6,#T_516fb688_0fa4_11eb_b372_0242ac1c0002row4_col9,#T_516fb688_0fa4_11eb_b372_0242ac1c0002row4_col14,#T_516fb688_0fa4_11eb_b372_0242ac1c0002row4_col17,#T_516fb688_0fa4_11eb_b372_0242ac1c0002row4_col18,#T_516fb688_0fa4_11eb_b372_0242ac1c0002row4_col19,#T_516fb688_0fa4_11eb_b372_0242ac1c0002row4_col20,#T_516fb688_0fa4_11eb_b372_0242ac1c0002row4_col23,#T_516fb688_0fa4_11eb_b372_0242ac1c0002row4_col26,#T_516fb688_0fa4_11eb_b372_0242ac1c0002row5_col3,#T_516fb688_0fa4_11eb_b372_0242ac1c0002row5_col9,#T_516fb688_0fa4_11eb_b372_0242ac1c0002row5_col14,#T_516fb688_0fa4_11eb_b372_0242ac1c0002row5_col17,#T_516fb688_0fa4_11eb_b372_0242ac1c0002row5_col18,#T_516fb688_0fa4_11eb_b372_0242ac1c0002row5_col19,#T_516fb688_0fa4_11eb_b372_0242ac1c0002row5_col20,#T_516fb688_0fa4_11eb_b372_0242ac1c0002row5_col23,#T_516fb688_0fa4_11eb_b372_0242ac1c0002row5_col26,#T_516fb688_0fa4_11eb_b372_0242ac1c0002row5_col29,#T_516fb688_0fa4_11eb_b372_0242ac1c0002row5_col31,#T_516fb688_0fa4_11eb_b372_0242ac1c0002row5_col32,#T_516fb688_0fa4_11eb_b372_0242ac1c0002row5_col33,#T_516fb688_0fa4_11eb_b372_0242ac1c0002row5_col34,#T_516fb688_0fa4_11eb_b372_0242ac1c0002row5_col36,#T_516fb688_0fa4_11eb_b372_0242ac1c0002row6_col0,#T_516fb688_0fa4_11eb_b372_0242ac1c0002row6_col1,#T_516fb688_0fa4_11eb_b372_0242ac1c0002row6_col2,#T_516fb688_0fa4_11eb_b372_0242ac1c0002row6_col4,#T_516fb688_0fa4_11eb_b372_0242ac1c0002row6_col9,#T_516fb688_0fa4_11eb_b372_0242ac1c0002row6_col14,#T_516fb688_0fa4_11eb_b372_0242ac1c0002row6_col17,#T_516fb688_0fa4_11eb_b372_0242ac1c0002row6_col18,#T_516fb688_0fa4_11eb_b372_0242ac1c0002row6_col19,#T_516fb688_0fa4_11eb_b372_0242ac1c0002row6_col20,#T_516fb688_0fa4_11eb_b372_0242ac1c0002row6_col22,#T_516fb688_0fa4_11eb_b372_0242ac1c0002row6_col23,#T_516fb688_0fa4_11eb_b372_0242ac1c0002row6_col26,#T_516fb688_0fa4_11eb_b372_0242ac1c0002row6_col29,#T_516fb688_0fa4_11eb_b372_0242ac1c0002row6_col36,#T_516fb688_0fa4_11eb_b372_0242ac1c0002row6_col37,#T_516fb688_0fa4_11eb_b372_0242ac1c0002row6_col38,#T_516fb688_0fa4_11eb_b372_0242ac1c0002row6_col41,#T_516fb688_0fa4_11eb_b372_0242ac1c0002row7_col9,#T_516fb688_0fa4_11eb_b372_0242ac1c0002row7_col14,#T_516fb688_0fa4_11eb_b372_0242ac1c0002row7_col19,#T_516fb688_0fa4_11eb_b372_0242ac1c0002row7_col20,#T_516fb688_0fa4_11eb_b372_0242ac1c0002row7_col23,#T_516fb688_0fa4_11eb_b372_0242ac1c0002row7_col26,#T_516fb688_0fa4_11eb_b372_0242ac1c0002row8_col9,#T_516fb688_0fa4_11eb_b372_0242ac1c0002row8_col14,#T_516fb688_0fa4_11eb_b372_0242ac1c0002row8_col17,#T_516fb688_0fa4_11eb_b372_0242ac1c0002row8_col18,#T_516fb688_0fa4_11eb_b372_0242ac1c0002row8_col19,#T_516fb688_0fa4_11eb_b372_0242ac1c0002row8_col20,#T_516fb688_0fa4_11eb_b372_0242ac1c0002row8_col23,#T_516fb688_0fa4_11eb_b372_0242ac1c0002row8_col26,#T_516fb688_0fa4_11eb_b372_0242ac1c0002row8_col29,#T_516fb688_0fa4_11eb_b372_0242ac1c0002row8_col30,#T_516fb688_0fa4_11eb_b372_0242ac1c0002row8_col35,#T_516fb688_0fa4_11eb_b372_0242ac1c0002row8_col36,#T_516fb688_0fa4_11eb_b372_0242ac1c0002row8_col38,#T_516fb688_0fa4_11eb_b372_0242ac1c0002row8_col42,#T_516fb688_0fa4_11eb_b372_0242ac1c0002row9_col3,#T_516fb688_0fa4_11eb_b372_0242ac1c0002row9_col7,#T_516fb688_0fa4_11eb_b372_0242ac1c0002row9_col8,#T_516fb688_0fa4_11eb_b372_0242ac1c0002row9_col14,#T_516fb688_0fa4_11eb_b372_0242ac1c0002row9_col17,#T_516fb688_0fa4_11eb_b372_0242ac1c0002row9_col18,#T_516fb688_0fa4_11eb_b372_0242ac1c0002row9_col19,#T_516fb688_0fa4_11eb_b372_0242ac1c0002row9_col20,#T_516fb688_0fa4_11eb_b372_0242ac1c0002row9_col23,#T_516fb688_0fa4_11eb_b372_0242ac1c0002row9_col26,#T_516fb688_0fa4_11eb_b372_0242ac1c0002row9_col27,#T_516fb688_0fa4_11eb_b372_0242ac1c0002row9_col29,#T_516fb688_0fa4_11eb_b372_0242ac1c0002row9_col30,#T_516fb688_0fa4_11eb_b372_0242ac1c0002row9_col33,#T_516fb688_0fa4_11eb_b372_0242ac1c0002row9_col35,#T_516fb688_0fa4_11eb_b372_0242ac1c0002row9_col38,#T_516fb688_0fa4_11eb_b372_0242ac1c0002row9_col39,#T_516fb688_0fa4_11eb_b372_0242ac1c0002row9_col40,#T_516fb688_0fa4_11eb_b372_0242ac1c0002row9_col42,#T_516fb688_0fa4_11eb_b372_0242ac1c0002row10_col7,#T_516fb688_0fa4_11eb_b372_0242ac1c0002row10_col9,#T_516fb688_0fa4_11eb_b372_0242ac1c0002row10_col14,#T_516fb688_0fa4_11eb_b372_0242ac1c0002row10_col18,#T_516fb688_0fa4_11eb_b372_0242ac1c0002row10_col19,#T_516fb688_0fa4_11eb_b372_0242ac1c0002row10_col20,#T_516fb688_0fa4_11eb_b372_0242ac1c0002row10_col22,#T_516fb688_0fa4_11eb_b372_0242ac1c0002row10_col23,#T_516fb688_0fa4_11eb_b372_0242ac1c0002row10_col26,#T_516fb688_0fa4_11eb_b372_0242ac1c0002row10_col29,#T_516fb688_0fa4_11eb_b372_0242ac1c0002row12_col7,#T_516fb688_0fa4_11eb_b372_0242ac1c0002row12_col8,#T_516fb688_0fa4_11eb_b372_0242ac1c0002row12_col9,#T_516fb688_0fa4_11eb_b372_0242ac1c0002row12_col10,#T_516fb688_0fa4_11eb_b372_0242ac1c0002row12_col13,#T_516fb688_0fa4_11eb_b372_0242ac1c0002row12_col14,#T_516fb688_0fa4_11eb_b372_0242ac1c0002row12_col18,#T_516fb688_0fa4_11eb_b372_0242ac1c0002row12_col19,#T_516fb688_0fa4_11eb_b372_0242ac1c0002row12_col20,#T_516fb688_0fa4_11eb_b372_0242ac1c0002row12_col22,#T_516fb688_0fa4_11eb_b372_0242ac1c0002row12_col23,#T_516fb688_0fa4_11eb_b372_0242ac1c0002row12_col26,#T_516fb688_0fa4_11eb_b372_0242ac1c0002row12_col29,#T_516fb688_0fa4_11eb_b372_0242ac1c0002row12_col30,#T_516fb688_0fa4_11eb_b372_0242ac1c0002row12_col42,#T_516fb688_0fa4_11eb_b372_0242ac1c0002row13_col7,#T_516fb688_0fa4_11eb_b372_0242ac1c0002row13_col8,#T_516fb688_0fa4_11eb_b372_0242ac1c0002row13_col9,#T_516fb688_0fa4_11eb_b372_0242ac1c0002row13_col10,#T_516fb688_0fa4_11eb_b372_0242ac1c0002row13_col12,#T_516fb688_0fa4_11eb_b372_0242ac1c0002row13_col14,#T_516fb688_0fa4_11eb_b372_0242ac1c0002row13_col18,#T_516fb688_0fa4_11eb_b372_0242ac1c0002row13_col19,#T_516fb688_0fa4_11eb_b372_0242ac1c0002row13_col20,#T_516fb688_0fa4_11eb_b372_0242ac1c0002row13_col21,#T_516fb688_0fa4_11eb_b372_0242ac1c0002row13_col22,#T_516fb688_0fa4_11eb_b372_0242ac1c0002row13_col23,#T_516fb688_0fa4_11eb_b372_0242ac1c0002row13_col26,#T_516fb688_0fa4_11eb_b372_0242ac1c0002row13_col29,#T_516fb688_0fa4_11eb_b372_0242ac1c0002row13_col30,#T_516fb688_0fa4_11eb_b372_0242ac1c0002row13_col33,#T_516fb688_0fa4_11eb_b372_0242ac1c0002row13_col42,#T_516fb688_0fa4_11eb_b372_0242ac1c0002row14_col3,#T_516fb688_0fa4_11eb_b372_0242ac1c0002row14_col9,#T_516fb688_0fa4_11eb_b372_0242ac1c0002row14_col17,#T_516fb688_0fa4_11eb_b372_0242ac1c0002row14_col18,#T_516fb688_0fa4_11eb_b372_0242ac1c0002row14_col19,#T_516fb688_0fa4_11eb_b372_0242ac1c0002row14_col20,#T_516fb688_0fa4_11eb_b372_0242ac1c0002row14_col23,#T_516fb688_0fa4_11eb_b372_0242ac1c0002row14_col26,#T_516fb688_0fa4_11eb_b372_0242ac1c0002row14_col27,#T_516fb688_0fa4_11eb_b372_0242ac1c0002row14_col29,#T_516fb688_0fa4_11eb_b372_0242ac1c0002row14_col30,#T_516fb688_0fa4_11eb_b372_0242ac1c0002row14_col35,#T_516fb688_0fa4_11eb_b372_0242ac1c0002row14_col38,#T_516fb688_0fa4_11eb_b372_0242ac1c0002row14_col39,#T_516fb688_0fa4_11eb_b372_0242ac1c0002row14_col40,#T_516fb688_0fa4_11eb_b372_0242ac1c0002row14_col42,#T_516fb688_0fa4_11eb_b372_0242ac1c0002row15_col9,#T_516fb688_0fa4_11eb_b372_0242ac1c0002row15_col14,#T_516fb688_0fa4_11eb_b372_0242ac1c0002row15_col16,#T_516fb688_0fa4_11eb_b372_0242ac1c0002row15_col18,#T_516fb688_0fa4_11eb_b372_0242ac1c0002row15_col19,#T_516fb688_0fa4_11eb_b372_0242ac1c0002row15_col20,#T_516fb688_0fa4_11eb_b372_0242ac1c0002row15_col23,#T_516fb688_0fa4_11eb_b372_0242ac1c0002row15_col29,#T_516fb688_0fa4_11eb_b372_0242ac1c0002row16_col9,#T_516fb688_0fa4_11eb_b372_0242ac1c0002row16_col14,#T_516fb688_0fa4_11eb_b372_0242ac1c0002row16_col15,#T_516fb688_0fa4_11eb_b372_0242ac1c0002row16_col18,#T_516fb688_0fa4_11eb_b372_0242ac1c0002row16_col19,#T_516fb688_0fa4_11eb_b372_0242ac1c0002row16_col20,#T_516fb688_0fa4_11eb_b372_0242ac1c0002row16_col23,#T_516fb688_0fa4_11eb_b372_0242ac1c0002row16_col26,#T_516fb688_0fa4_11eb_b372_0242ac1c0002row16_col29,#T_516fb688_0fa4_11eb_b372_0242ac1c0002row17_col3,#T_516fb688_0fa4_11eb_b372_0242ac1c0002row17_col9,#T_516fb688_0fa4_11eb_b372_0242ac1c0002row17_col14,#T_516fb688_0fa4_11eb_b372_0242ac1c0002row17_col18,#T_516fb688_0fa4_11eb_b372_0242ac1c0002row17_col19,#T_516fb688_0fa4_11eb_b372_0242ac1c0002row17_col20,#T_516fb688_0fa4_11eb_b372_0242ac1c0002row17_col23,#T_516fb688_0fa4_11eb_b372_0242ac1c0002row17_col26,#T_516fb688_0fa4_11eb_b372_0242ac1c0002row17_col29,#T_516fb688_0fa4_11eb_b372_0242ac1c0002row17_col30,#T_516fb688_0fa4_11eb_b372_0242ac1c0002row17_col35,#T_516fb688_0fa4_11eb_b372_0242ac1c0002row17_col36,#T_516fb688_0fa4_11eb_b372_0242ac1c0002row17_col38,#T_516fb688_0fa4_11eb_b372_0242ac1c0002row17_col42,#T_516fb688_0fa4_11eb_b372_0242ac1c0002row18_col3,#T_516fb688_0fa4_11eb_b372_0242ac1c0002row18_col9,#T_516fb688_0fa4_11eb_b372_0242ac1c0002row18_col14,#T_516fb688_0fa4_11eb_b372_0242ac1c0002row18_col17,#T_516fb688_0fa4_11eb_b372_0242ac1c0002row18_col19,#T_516fb688_0fa4_11eb_b372_0242ac1c0002row18_col20,#T_516fb688_0fa4_11eb_b372_0242ac1c0002row18_col23,#T_516fb688_0fa4_11eb_b372_0242ac1c0002row18_col26,#T_516fb688_0fa4_11eb_b372_0242ac1c0002row18_col29,#T_516fb688_0fa4_11eb_b372_0242ac1c0002row18_col30,#T_516fb688_0fa4_11eb_b372_0242ac1c0002row18_col35,#T_516fb688_0fa4_11eb_b372_0242ac1c0002row18_col36,#T_516fb688_0fa4_11eb_b372_0242ac1c0002row18_col38,#T_516fb688_0fa4_11eb_b372_0242ac1c0002row18_col39,#T_516fb688_0fa4_11eb_b372_0242ac1c0002row18_col40,#T_516fb688_0fa4_11eb_b372_0242ac1c0002row18_col42,#T_516fb688_0fa4_11eb_b372_0242ac1c0002row19_col3,#T_516fb688_0fa4_11eb_b372_0242ac1c0002row19_col9,#T_516fb688_0fa4_11eb_b372_0242ac1c0002row19_col14,#T_516fb688_0fa4_11eb_b372_0242ac1c0002row19_col17,#T_516fb688_0fa4_11eb_b372_0242ac1c0002row19_col18,#T_516fb688_0fa4_11eb_b372_0242ac1c0002row19_col20,#T_516fb688_0fa4_11eb_b372_0242ac1c0002row19_col23,#T_516fb688_0fa4_11eb_b372_0242ac1c0002row19_col26,#T_516fb688_0fa4_11eb_b372_0242ac1c0002row19_col29,#T_516fb688_0fa4_11eb_b372_0242ac1c0002row19_col30,#T_516fb688_0fa4_11eb_b372_0242ac1c0002row19_col35,#T_516fb688_0fa4_11eb_b372_0242ac1c0002row19_col36,#T_516fb688_0fa4_11eb_b372_0242ac1c0002row19_col38,#T_516fb688_0fa4_11eb_b372_0242ac1c0002row19_col39,#T_516fb688_0fa4_11eb_b372_0242ac1c0002row19_col40,#T_516fb688_0fa4_11eb_b372_0242ac1c0002row19_col42,#T_516fb688_0fa4_11eb_b372_0242ac1c0002row20_col3,#T_516fb688_0fa4_11eb_b372_0242ac1c0002row20_col9,#T_516fb688_0fa4_11eb_b372_0242ac1c0002row20_col14,#T_516fb688_0fa4_11eb_b372_0242ac1c0002row20_col17,#T_516fb688_0fa4_11eb_b372_0242ac1c0002row20_col18,#T_516fb688_0fa4_11eb_b372_0242ac1c0002row20_col19,#T_516fb688_0fa4_11eb_b372_0242ac1c0002row20_col23,#T_516fb688_0fa4_11eb_b372_0242ac1c0002row20_col26,#T_516fb688_0fa4_11eb_b372_0242ac1c0002row20_col27,#T_516fb688_0fa4_11eb_b372_0242ac1c0002row20_col29,#T_516fb688_0fa4_11eb_b372_0242ac1c0002row20_col30,#T_516fb688_0fa4_11eb_b372_0242ac1c0002row20_col35,#T_516fb688_0fa4_11eb_b372_0242ac1c0002row20_col36,#T_516fb688_0fa4_11eb_b372_0242ac1c0002row20_col38,#T_516fb688_0fa4_11eb_b372_0242ac1c0002row20_col39,#T_516fb688_0fa4_11eb_b372_0242ac1c0002row20_col40,#T_516fb688_0fa4_11eb_b372_0242ac1c0002row20_col42,#T_516fb688_0fa4_11eb_b372_0242ac1c0002row21_col9,#T_516fb688_0fa4_11eb_b372_0242ac1c0002row21_col14,#T_516fb688_0fa4_11eb_b372_0242ac1c0002row21_col17,#T_516fb688_0fa4_11eb_b372_0242ac1c0002row21_col18,#T_516fb688_0fa4_11eb_b372_0242ac1c0002row21_col19,#T_516fb688_0fa4_11eb_b372_0242ac1c0002row21_col20,#T_516fb688_0fa4_11eb_b372_0242ac1c0002row21_col23,#T_516fb688_0fa4_11eb_b372_0242ac1c0002row21_col26,#T_516fb688_0fa4_11eb_b372_0242ac1c0002row22_col3,#T_516fb688_0fa4_11eb_b372_0242ac1c0002row22_col7,#T_516fb688_0fa4_11eb_b372_0242ac1c0002row22_col8,#T_516fb688_0fa4_11eb_b372_0242ac1c0002row22_col9,#T_516fb688_0fa4_11eb_b372_0242ac1c0002row22_col14,#T_516fb688_0fa4_11eb_b372_0242ac1c0002row22_col17,#T_516fb688_0fa4_11eb_b372_0242ac1c0002row22_col18,#T_516fb688_0fa4_11eb_b372_0242ac1c0002row22_col19,#T_516fb688_0fa4_11eb_b372_0242ac1c0002row22_col20,#T_516fb688_0fa4_11eb_b372_0242ac1c0002row22_col26,#T_516fb688_0fa4_11eb_b372_0242ac1c0002row22_col29,#T_516fb688_0fa4_11eb_b372_0242ac1c0002row22_col30,#T_516fb688_0fa4_11eb_b372_0242ac1c0002row22_col35,#T_516fb688_0fa4_11eb_b372_0242ac1c0002row22_col36,#T_516fb688_0fa4_11eb_b372_0242ac1c0002row22_col38,#T_516fb688_0fa4_11eb_b372_0242ac1c0002row22_col39,#T_516fb688_0fa4_11eb_b372_0242ac1c0002row22_col42,#T_516fb688_0fa4_11eb_b372_0242ac1c0002row23_col3,#T_516fb688_0fa4_11eb_b372_0242ac1c0002row23_col9,#T_516fb688_0fa4_11eb_b372_0242ac1c0002row23_col14,#T_516fb688_0fa4_11eb_b372_0242ac1c0002row23_col17,#T_516fb688_0fa4_11eb_b372_0242ac1c0002row23_col18,#T_516fb688_0fa4_11eb_b372_0242ac1c0002row23_col19,#T_516fb688_0fa4_11eb_b372_0242ac1c0002row23_col20,#T_516fb688_0fa4_11eb_b372_0242ac1c0002row23_col26,#T_516fb688_0fa4_11eb_b372_0242ac1c0002row23_col29,#T_516fb688_0fa4_11eb_b372_0242ac1c0002row23_col30,#T_516fb688_0fa4_11eb_b372_0242ac1c0002row23_col35,#T_516fb688_0fa4_11eb_b372_0242ac1c0002row23_col36,#T_516fb688_0fa4_11eb_b372_0242ac1c0002row23_col38,#T_516fb688_0fa4_11eb_b372_0242ac1c0002row23_col39,#T_516fb688_0fa4_11eb_b372_0242ac1c0002row23_col40,#T_516fb688_0fa4_11eb_b372_0242ac1c0002row23_col42,#T_516fb688_0fa4_11eb_b372_0242ac1c0002row26_col3,#T_516fb688_0fa4_11eb_b372_0242ac1c0002row26_col9,#T_516fb688_0fa4_11eb_b372_0242ac1c0002row26_col14,#T_516fb688_0fa4_11eb_b372_0242ac1c0002row26_col17,#T_516fb688_0fa4_11eb_b372_0242ac1c0002row26_col18,#T_516fb688_0fa4_11eb_b372_0242ac1c0002row26_col19,#T_516fb688_0fa4_11eb_b372_0242ac1c0002row26_col20,#T_516fb688_0fa4_11eb_b372_0242ac1c0002row26_col23,#T_516fb688_0fa4_11eb_b372_0242ac1c0002row26_col28,#T_516fb688_0fa4_11eb_b372_0242ac1c0002row26_col29,#T_516fb688_0fa4_11eb_b372_0242ac1c0002row26_col30,#T_516fb688_0fa4_11eb_b372_0242ac1c0002row26_col35,#T_516fb688_0fa4_11eb_b372_0242ac1c0002row26_col36,#T_516fb688_0fa4_11eb_b372_0242ac1c0002row26_col38,#T_516fb688_0fa4_11eb_b372_0242ac1c0002row26_col39,#T_516fb688_0fa4_11eb_b372_0242ac1c0002row26_col40,#T_516fb688_0fa4_11eb_b372_0242ac1c0002row26_col42,#T_516fb688_0fa4_11eb_b372_0242ac1c0002row27_col9,#T_516fb688_0fa4_11eb_b372_0242ac1c0002row27_col14,#T_516fb688_0fa4_11eb_b372_0242ac1c0002row27_col18,#T_516fb688_0fa4_11eb_b372_0242ac1c0002row27_col19,#T_516fb688_0fa4_11eb_b372_0242ac1c0002row27_col20,#T_516fb688_0fa4_11eb_b372_0242ac1c0002row27_col23,#T_516fb688_0fa4_11eb_b372_0242ac1c0002row27_col26,#T_516fb688_0fa4_11eb_b372_0242ac1c0002row28_col14,#T_516fb688_0fa4_11eb_b372_0242ac1c0002row28_col18,#T_516fb688_0fa4_11eb_b372_0242ac1c0002row28_col19,#T_516fb688_0fa4_11eb_b372_0242ac1c0002row28_col23,#T_516fb688_0fa4_11eb_b372_0242ac1c0002row28_col26,#T_516fb688_0fa4_11eb_b372_0242ac1c0002row29_col8,#T_516fb688_0fa4_11eb_b372_0242ac1c0002row29_col9,#T_516fb688_0fa4_11eb_b372_0242ac1c0002row29_col14,#T_516fb688_0fa4_11eb_b372_0242ac1c0002row29_col17,#T_516fb688_0fa4_11eb_b372_0242ac1c0002row29_col18,#T_516fb688_0fa4_11eb_b372_0242ac1c0002row29_col19,#T_516fb688_0fa4_11eb_b372_0242ac1c0002row29_col20,#T_516fb688_0fa4_11eb_b372_0242ac1c0002row29_col23,#T_516fb688_0fa4_11eb_b372_0242ac1c0002row29_col26,#T_516fb688_0fa4_11eb_b372_0242ac1c0002row30_col9,#T_516fb688_0fa4_11eb_b372_0242ac1c0002row30_col14,#T_516fb688_0fa4_11eb_b372_0242ac1c0002row30_col17,#T_516fb688_0fa4_11eb_b372_0242ac1c0002row30_col18,#T_516fb688_0fa4_11eb_b372_0242ac1c0002row30_col19,#T_516fb688_0fa4_11eb_b372_0242ac1c0002row30_col20,#T_516fb688_0fa4_11eb_b372_0242ac1c0002row30_col23,#T_516fb688_0fa4_11eb_b372_0242ac1c0002row30_col26,#T_516fb688_0fa4_11eb_b372_0242ac1c0002row31_col0,#T_516fb688_0fa4_11eb_b372_0242ac1c0002row31_col1,#T_516fb688_0fa4_11eb_b372_0242ac1c0002row31_col5,#T_516fb688_0fa4_11eb_b372_0242ac1c0002row31_col9,#T_516fb688_0fa4_11eb_b372_0242ac1c0002row31_col14,#T_516fb688_0fa4_11eb_b372_0242ac1c0002row31_col18,#T_516fb688_0fa4_11eb_b372_0242ac1c0002row31_col19,#T_516fb688_0fa4_11eb_b372_0242ac1c0002row31_col20,#T_516fb688_0fa4_11eb_b372_0242ac1c0002row31_col23,#T_516fb688_0fa4_11eb_b372_0242ac1c0002row31_col26,#T_516fb688_0fa4_11eb_b372_0242ac1c0002row31_col35,#T_516fb688_0fa4_11eb_b372_0242ac1c0002row31_col36,#T_516fb688_0fa4_11eb_b372_0242ac1c0002row31_col37,#T_516fb688_0fa4_11eb_b372_0242ac1c0002row31_col38,#T_516fb688_0fa4_11eb_b372_0242ac1c0002row32_col5,#T_516fb688_0fa4_11eb_b372_0242ac1c0002row32_col14,#T_516fb688_0fa4_11eb_b372_0242ac1c0002row32_col17,#T_516fb688_0fa4_11eb_b372_0242ac1c0002row32_col18,#T_516fb688_0fa4_11eb_b372_0242ac1c0002row32_col19,#T_516fb688_0fa4_11eb_b372_0242ac1c0002row32_col20,#T_516fb688_0fa4_11eb_b372_0242ac1c0002row32_col22,#T_516fb688_0fa4_11eb_b372_0242ac1c0002row32_col23,#T_516fb688_0fa4_11eb_b372_0242ac1c0002row32_col26,#T_516fb688_0fa4_11eb_b372_0242ac1c0002row32_col36,#T_516fb688_0fa4_11eb_b372_0242ac1c0002row32_col40,#T_516fb688_0fa4_11eb_b372_0242ac1c0002row33_col3,#T_516fb688_0fa4_11eb_b372_0242ac1c0002row33_col9,#T_516fb688_0fa4_11eb_b372_0242ac1c0002row33_col14,#T_516fb688_0fa4_11eb_b372_0242ac1c0002row33_col17,#T_516fb688_0fa4_11eb_b372_0242ac1c0002row33_col18,#T_516fb688_0fa4_11eb_b372_0242ac1c0002row33_col19,#T_516fb688_0fa4_11eb_b372_0242ac1c0002row33_col20,#T_516fb688_0fa4_11eb_b372_0242ac1c0002row33_col23,#T_516fb688_0fa4_11eb_b372_0242ac1c0002row33_col26,#T_516fb688_0fa4_11eb_b372_0242ac1c0002row33_col35,#T_516fb688_0fa4_11eb_b372_0242ac1c0002row33_col36,#T_516fb688_0fa4_11eb_b372_0242ac1c0002row34_col5,#T_516fb688_0fa4_11eb_b372_0242ac1c0002row34_col9,#T_516fb688_0fa4_11eb_b372_0242ac1c0002row34_col14,#T_516fb688_0fa4_11eb_b372_0242ac1c0002row34_col17,#T_516fb688_0fa4_11eb_b372_0242ac1c0002row34_col18,#T_516fb688_0fa4_11eb_b372_0242ac1c0002row34_col19,#T_516fb688_0fa4_11eb_b372_0242ac1c0002row34_col20,#T_516fb688_0fa4_11eb_b372_0242ac1c0002row34_col23,#T_516fb688_0fa4_11eb_b372_0242ac1c0002row34_col26,#T_516fb688_0fa4_11eb_b372_0242ac1c0002row34_col36,#T_516fb688_0fa4_11eb_b372_0242ac1c0002row35_col14,#T_516fb688_0fa4_11eb_b372_0242ac1c0002row35_col17,#T_516fb688_0fa4_11eb_b372_0242ac1c0002row35_col18,#T_516fb688_0fa4_11eb_b372_0242ac1c0002row35_col19,#T_516fb688_0fa4_11eb_b372_0242ac1c0002row35_col20,#T_516fb688_0fa4_11eb_b372_0242ac1c0002row35_col23,#T_516fb688_0fa4_11eb_b372_0242ac1c0002row35_col26,#T_516fb688_0fa4_11eb_b372_0242ac1c0002row36_col14,#T_516fb688_0fa4_11eb_b372_0242ac1c0002row36_col17,#T_516fb688_0fa4_11eb_b372_0242ac1c0002row36_col18,#T_516fb688_0fa4_11eb_b372_0242ac1c0002row36_col19,#T_516fb688_0fa4_11eb_b372_0242ac1c0002row36_col20,#T_516fb688_0fa4_11eb_b372_0242ac1c0002row36_col23,#T_516fb688_0fa4_11eb_b372_0242ac1c0002row36_col26,#T_516fb688_0fa4_11eb_b372_0242ac1c0002row36_col33,#T_516fb688_0fa4_11eb_b372_0242ac1c0002row37_col9,#T_516fb688_0fa4_11eb_b372_0242ac1c0002row37_col14,#T_516fb688_0fa4_11eb_b372_0242ac1c0002row37_col17,#T_516fb688_0fa4_11eb_b372_0242ac1c0002row37_col18,#T_516fb688_0fa4_11eb_b372_0242ac1c0002row37_col19,#T_516fb688_0fa4_11eb_b372_0242ac1c0002row37_col20,#T_516fb688_0fa4_11eb_b372_0242ac1c0002row37_col23,#T_516fb688_0fa4_11eb_b372_0242ac1c0002row37_col26,#T_516fb688_0fa4_11eb_b372_0242ac1c0002row37_col31,#T_516fb688_0fa4_11eb_b372_0242ac1c0002row38_col9,#T_516fb688_0fa4_11eb_b372_0242ac1c0002row38_col14,#T_516fb688_0fa4_11eb_b372_0242ac1c0002row38_col17,#T_516fb688_0fa4_11eb_b372_0242ac1c0002row38_col18,#T_516fb688_0fa4_11eb_b372_0242ac1c0002row38_col19,#T_516fb688_0fa4_11eb_b372_0242ac1c0002row38_col20,#T_516fb688_0fa4_11eb_b372_0242ac1c0002row38_col23,#T_516fb688_0fa4_11eb_b372_0242ac1c0002row38_col26,#T_516fb688_0fa4_11eb_b372_0242ac1c0002row39_col9,#T_516fb688_0fa4_11eb_b372_0242ac1c0002row39_col14,#T_516fb688_0fa4_11eb_b372_0242ac1c0002row39_col18,#T_516fb688_0fa4_11eb_b372_0242ac1c0002row39_col19,#T_516fb688_0fa4_11eb_b372_0242ac1c0002row39_col20,#T_516fb688_0fa4_11eb_b372_0242ac1c0002row39_col23,#T_516fb688_0fa4_11eb_b372_0242ac1c0002row39_col26,#T_516fb688_0fa4_11eb_b372_0242ac1c0002row40_col9,#T_516fb688_0fa4_11eb_b372_0242ac1c0002row40_col14,#T_516fb688_0fa4_11eb_b372_0242ac1c0002row40_col18,#T_516fb688_0fa4_11eb_b372_0242ac1c0002row40_col19,#T_516fb688_0fa4_11eb_b372_0242ac1c0002row40_col20,#T_516fb688_0fa4_11eb_b372_0242ac1c0002row40_col23,#T_516fb688_0fa4_11eb_b372_0242ac1c0002row40_col26,#T_516fb688_0fa4_11eb_b372_0242ac1c0002row41_col9,#T_516fb688_0fa4_11eb_b372_0242ac1c0002row41_col14,#T_516fb688_0fa4_11eb_b372_0242ac1c0002row41_col17,#T_516fb688_0fa4_11eb_b372_0242ac1c0002row41_col18,#T_516fb688_0fa4_11eb_b372_0242ac1c0002row41_col19,#T_516fb688_0fa4_11eb_b372_0242ac1c0002row41_col20,#T_516fb688_0fa4_11eb_b372_0242ac1c0002row41_col23,#T_516fb688_0fa4_11eb_b372_0242ac1c0002row41_col26,#T_516fb688_0fa4_11eb_b372_0242ac1c0002row42_col9,#T_516fb688_0fa4_11eb_b372_0242ac1c0002row42_col14,#T_516fb688_0fa4_11eb_b372_0242ac1c0002row42_col17,#T_516fb688_0fa4_11eb_b372_0242ac1c0002row42_col18,#T_516fb688_0fa4_11eb_b372_0242ac1c0002row42_col19,#T_516fb688_0fa4_11eb_b372_0242ac1c0002row42_col20,#T_516fb688_0fa4_11eb_b372_0242ac1c0002row42_col23,#T_516fb688_0fa4_11eb_b372_0242ac1c0002row42_col26{\n",
       "            background-color:  #f0f1f3;\n",
       "            color:  #000000;\n",
       "        }#T_516fb688_0fa4_11eb_b372_0242ac1c0002row0_col10,#T_516fb688_0fa4_11eb_b372_0242ac1c0002row0_col16,#T_516fb688_0fa4_11eb_b372_0242ac1c0002row0_col28,#T_516fb688_0fa4_11eb_b372_0242ac1c0002row0_col29,#T_516fb688_0fa4_11eb_b372_0242ac1c0002row1_col2,#T_516fb688_0fa4_11eb_b372_0242ac1c0002row1_col10,#T_516fb688_0fa4_11eb_b372_0242ac1c0002row1_col27,#T_516fb688_0fa4_11eb_b372_0242ac1c0002row2_col1,#T_516fb688_0fa4_11eb_b372_0242ac1c0002row2_col10,#T_516fb688_0fa4_11eb_b372_0242ac1c0002row2_col15,#T_516fb688_0fa4_11eb_b372_0242ac1c0002row2_col16,#T_516fb688_0fa4_11eb_b372_0242ac1c0002row2_col21,#T_516fb688_0fa4_11eb_b372_0242ac1c0002row3_col5,#T_516fb688_0fa4_11eb_b372_0242ac1c0002row3_col31,#T_516fb688_0fa4_11eb_b372_0242ac1c0002row3_col32,#T_516fb688_0fa4_11eb_b372_0242ac1c0002row4_col13,#T_516fb688_0fa4_11eb_b372_0242ac1c0002row4_col15,#T_516fb688_0fa4_11eb_b372_0242ac1c0002row4_col30,#T_516fb688_0fa4_11eb_b372_0242ac1c0002row4_col33,#T_516fb688_0fa4_11eb_b372_0242ac1c0002row5_col4,#T_516fb688_0fa4_11eb_b372_0242ac1c0002row5_col15,#T_516fb688_0fa4_11eb_b372_0242ac1c0002row5_col16,#T_516fb688_0fa4_11eb_b372_0242ac1c0002row5_col35,#T_516fb688_0fa4_11eb_b372_0242ac1c0002row6_col31,#T_516fb688_0fa4_11eb_b372_0242ac1c0002row7_col5,#T_516fb688_0fa4_11eb_b372_0242ac1c0002row7_col6,#T_516fb688_0fa4_11eb_b372_0242ac1c0002row7_col10,#T_516fb688_0fa4_11eb_b372_0242ac1c0002row7_col13,#T_516fb688_0fa4_11eb_b372_0242ac1c0002row7_col15,#T_516fb688_0fa4_11eb_b372_0242ac1c0002row7_col16,#T_516fb688_0fa4_11eb_b372_0242ac1c0002row7_col21,#T_516fb688_0fa4_11eb_b372_0242ac1c0002row7_col40,#T_516fb688_0fa4_11eb_b372_0242ac1c0002row7_col41,#T_516fb688_0fa4_11eb_b372_0242ac1c0002row8_col10,#T_516fb688_0fa4_11eb_b372_0242ac1c0002row8_col21,#T_516fb688_0fa4_11eb_b372_0242ac1c0002row8_col27,#T_516fb688_0fa4_11eb_b372_0242ac1c0002row8_col28,#T_516fb688_0fa4_11eb_b372_0242ac1c0002row8_col40,#T_516fb688_0fa4_11eb_b372_0242ac1c0002row9_col10,#T_516fb688_0fa4_11eb_b372_0242ac1c0002row9_col16,#T_516fb688_0fa4_11eb_b372_0242ac1c0002row10_col4,#T_516fb688_0fa4_11eb_b372_0242ac1c0002row10_col5,#T_516fb688_0fa4_11eb_b372_0242ac1c0002row10_col21,#T_516fb688_0fa4_11eb_b372_0242ac1c0002row12_col1,#T_516fb688_0fa4_11eb_b372_0242ac1c0002row14_col4,#T_516fb688_0fa4_11eb_b372_0242ac1c0002row14_col10,#T_516fb688_0fa4_11eb_b372_0242ac1c0002row15_col2,#T_516fb688_0fa4_11eb_b372_0242ac1c0002row15_col3,#T_516fb688_0fa4_11eb_b372_0242ac1c0002row15_col4,#T_516fb688_0fa4_11eb_b372_0242ac1c0002row15_col34,#T_516fb688_0fa4_11eb_b372_0242ac1c0002row15_col39,#T_516fb688_0fa4_11eb_b372_0242ac1c0002row16_col2,#T_516fb688_0fa4_11eb_b372_0242ac1c0002row16_col4,#T_516fb688_0fa4_11eb_b372_0242ac1c0002row16_col21,#T_516fb688_0fa4_11eb_b372_0242ac1c0002row17_col4,#T_516fb688_0fa4_11eb_b372_0242ac1c0002row17_col6,#T_516fb688_0fa4_11eb_b372_0242ac1c0002row17_col15,#T_516fb688_0fa4_11eb_b372_0242ac1c0002row17_col16,#T_516fb688_0fa4_11eb_b372_0242ac1c0002row17_col27,#T_516fb688_0fa4_11eb_b372_0242ac1c0002row18_col4,#T_516fb688_0fa4_11eb_b372_0242ac1c0002row18_col6,#T_516fb688_0fa4_11eb_b372_0242ac1c0002row18_col15,#T_516fb688_0fa4_11eb_b372_0242ac1c0002row18_col16,#T_516fb688_0fa4_11eb_b372_0242ac1c0002row18_col21,#T_516fb688_0fa4_11eb_b372_0242ac1c0002row19_col4,#T_516fb688_0fa4_11eb_b372_0242ac1c0002row19_col6,#T_516fb688_0fa4_11eb_b372_0242ac1c0002row19_col10,#T_516fb688_0fa4_11eb_b372_0242ac1c0002row19_col15,#T_516fb688_0fa4_11eb_b372_0242ac1c0002row19_col16,#T_516fb688_0fa4_11eb_b372_0242ac1c0002row19_col21,#T_516fb688_0fa4_11eb_b372_0242ac1c0002row20_col6,#T_516fb688_0fa4_11eb_b372_0242ac1c0002row20_col10,#T_516fb688_0fa4_11eb_b372_0242ac1c0002row20_col15,#T_516fb688_0fa4_11eb_b372_0242ac1c0002row20_col16,#T_516fb688_0fa4_11eb_b372_0242ac1c0002row21_col10,#T_516fb688_0fa4_11eb_b372_0242ac1c0002row21_col12,#T_516fb688_0fa4_11eb_b372_0242ac1c0002row21_col15,#T_516fb688_0fa4_11eb_b372_0242ac1c0002row21_col16,#T_516fb688_0fa4_11eb_b372_0242ac1c0002row21_col32,#T_516fb688_0fa4_11eb_b372_0242ac1c0002row21_col33,#T_516fb688_0fa4_11eb_b372_0242ac1c0002row21_col34,#T_516fb688_0fa4_11eb_b372_0242ac1c0002row22_col4,#T_516fb688_0fa4_11eb_b372_0242ac1c0002row22_col10,#T_516fb688_0fa4_11eb_b372_0242ac1c0002row22_col12,#T_516fb688_0fa4_11eb_b372_0242ac1c0002row22_col16,#T_516fb688_0fa4_11eb_b372_0242ac1c0002row22_col21,#T_516fb688_0fa4_11eb_b372_0242ac1c0002row22_col27,#T_516fb688_0fa4_11eb_b372_0242ac1c0002row22_col28,#T_516fb688_0fa4_11eb_b372_0242ac1c0002row23_col4,#T_516fb688_0fa4_11eb_b372_0242ac1c0002row23_col6,#T_516fb688_0fa4_11eb_b372_0242ac1c0002row23_col10,#T_516fb688_0fa4_11eb_b372_0242ac1c0002row23_col15,#T_516fb688_0fa4_11eb_b372_0242ac1c0002row23_col16,#T_516fb688_0fa4_11eb_b372_0242ac1c0002row23_col21,#T_516fb688_0fa4_11eb_b372_0242ac1c0002row23_col22,#T_516fb688_0fa4_11eb_b372_0242ac1c0002row26_col4,#T_516fb688_0fa4_11eb_b372_0242ac1c0002row26_col6,#T_516fb688_0fa4_11eb_b372_0242ac1c0002row26_col10,#T_516fb688_0fa4_11eb_b372_0242ac1c0002row26_col15,#T_516fb688_0fa4_11eb_b372_0242ac1c0002row26_col16,#T_516fb688_0fa4_11eb_b372_0242ac1c0002row26_col21,#T_516fb688_0fa4_11eb_b372_0242ac1c0002row27_col8,#T_516fb688_0fa4_11eb_b372_0242ac1c0002row27_col22,#T_516fb688_0fa4_11eb_b372_0242ac1c0002row27_col31,#T_516fb688_0fa4_11eb_b372_0242ac1c0002row27_col33,#T_516fb688_0fa4_11eb_b372_0242ac1c0002row27_col36,#T_516fb688_0fa4_11eb_b372_0242ac1c0002row28_col8,#T_516fb688_0fa4_11eb_b372_0242ac1c0002row28_col22,#T_516fb688_0fa4_11eb_b372_0242ac1c0002row28_col31,#T_516fb688_0fa4_11eb_b372_0242ac1c0002row28_col32,#T_516fb688_0fa4_11eb_b372_0242ac1c0002row28_col33,#T_516fb688_0fa4_11eb_b372_0242ac1c0002row28_col36,#T_516fb688_0fa4_11eb_b372_0242ac1c0002row29_col1,#T_516fb688_0fa4_11eb_b372_0242ac1c0002row29_col10,#T_516fb688_0fa4_11eb_b372_0242ac1c0002row29_col16,#T_516fb688_0fa4_11eb_b372_0242ac1c0002row30_col16,#T_516fb688_0fa4_11eb_b372_0242ac1c0002row30_col33,#T_516fb688_0fa4_11eb_b372_0242ac1c0002row30_col36,#T_516fb688_0fa4_11eb_b372_0242ac1c0002row31_col10,#T_516fb688_0fa4_11eb_b372_0242ac1c0002row31_col16,#T_516fb688_0fa4_11eb_b372_0242ac1c0002row31_col21,#T_516fb688_0fa4_11eb_b372_0242ac1c0002row32_col0,#T_516fb688_0fa4_11eb_b372_0242ac1c0002row32_col10,#T_516fb688_0fa4_11eb_b372_0242ac1c0002row32_col15,#T_516fb688_0fa4_11eb_b372_0242ac1c0002row32_col16,#T_516fb688_0fa4_11eb_b372_0242ac1c0002row33_col6,#T_516fb688_0fa4_11eb_b372_0242ac1c0002row33_col10,#T_516fb688_0fa4_11eb_b372_0242ac1c0002row33_col15,#T_516fb688_0fa4_11eb_b372_0242ac1c0002row33_col16,#T_516fb688_0fa4_11eb_b372_0242ac1c0002row34_col6,#T_516fb688_0fa4_11eb_b372_0242ac1c0002row34_col10,#T_516fb688_0fa4_11eb_b372_0242ac1c0002row34_col16,#T_516fb688_0fa4_11eb_b372_0242ac1c0002row34_col39,#T_516fb688_0fa4_11eb_b372_0242ac1c0002row34_col41,#T_516fb688_0fa4_11eb_b372_0242ac1c0002row35_col29,#T_516fb688_0fa4_11eb_b372_0242ac1c0002row35_col34,#T_516fb688_0fa4_11eb_b372_0242ac1c0002row36_col27,#T_516fb688_0fa4_11eb_b372_0242ac1c0002row36_col28,#T_516fb688_0fa4_11eb_b372_0242ac1c0002row36_col30,#T_516fb688_0fa4_11eb_b372_0242ac1c0002row37_col10,#T_516fb688_0fa4_11eb_b372_0242ac1c0002row37_col28,#T_516fb688_0fa4_11eb_b372_0242ac1c0002row38_col6,#T_516fb688_0fa4_11eb_b372_0242ac1c0002row38_col34,#T_516fb688_0fa4_11eb_b372_0242ac1c0002row39_col5,#T_516fb688_0fa4_11eb_b372_0242ac1c0002row40_col8,#T_516fb688_0fa4_11eb_b372_0242ac1c0002row40_col22,#T_516fb688_0fa4_11eb_b372_0242ac1c0002row40_col31,#T_516fb688_0fa4_11eb_b372_0242ac1c0002row41_col7,#T_516fb688_0fa4_11eb_b372_0242ac1c0002row41_col10,#T_516fb688_0fa4_11eb_b372_0242ac1c0002row41_col15,#T_516fb688_0fa4_11eb_b372_0242ac1c0002row41_col16,#T_516fb688_0fa4_11eb_b372_0242ac1c0002row41_col28,#T_516fb688_0fa4_11eb_b372_0242ac1c0002row41_col29,#T_516fb688_0fa4_11eb_b372_0242ac1c0002row41_col34,#T_516fb688_0fa4_11eb_b372_0242ac1c0002row42_col33{\n",
       "            background-color:  #e2eaf1;\n",
       "            color:  #000000;\n",
       "        }#T_516fb688_0fa4_11eb_b372_0242ac1c0002row0_col11,#T_516fb688_0fa4_11eb_b372_0242ac1c0002row0_col24,#T_516fb688_0fa4_11eb_b372_0242ac1c0002row0_col25,#T_516fb688_0fa4_11eb_b372_0242ac1c0002row1_col11,#T_516fb688_0fa4_11eb_b372_0242ac1c0002row1_col24,#T_516fb688_0fa4_11eb_b372_0242ac1c0002row1_col25,#T_516fb688_0fa4_11eb_b372_0242ac1c0002row2_col11,#T_516fb688_0fa4_11eb_b372_0242ac1c0002row2_col24,#T_516fb688_0fa4_11eb_b372_0242ac1c0002row2_col25,#T_516fb688_0fa4_11eb_b372_0242ac1c0002row3_col11,#T_516fb688_0fa4_11eb_b372_0242ac1c0002row3_col24,#T_516fb688_0fa4_11eb_b372_0242ac1c0002row3_col25,#T_516fb688_0fa4_11eb_b372_0242ac1c0002row4_col11,#T_516fb688_0fa4_11eb_b372_0242ac1c0002row4_col24,#T_516fb688_0fa4_11eb_b372_0242ac1c0002row4_col25,#T_516fb688_0fa4_11eb_b372_0242ac1c0002row5_col11,#T_516fb688_0fa4_11eb_b372_0242ac1c0002row5_col24,#T_516fb688_0fa4_11eb_b372_0242ac1c0002row5_col25,#T_516fb688_0fa4_11eb_b372_0242ac1c0002row6_col11,#T_516fb688_0fa4_11eb_b372_0242ac1c0002row6_col24,#T_516fb688_0fa4_11eb_b372_0242ac1c0002row6_col25,#T_516fb688_0fa4_11eb_b372_0242ac1c0002row7_col11,#T_516fb688_0fa4_11eb_b372_0242ac1c0002row7_col24,#T_516fb688_0fa4_11eb_b372_0242ac1c0002row7_col25,#T_516fb688_0fa4_11eb_b372_0242ac1c0002row8_col11,#T_516fb688_0fa4_11eb_b372_0242ac1c0002row8_col24,#T_516fb688_0fa4_11eb_b372_0242ac1c0002row8_col25,#T_516fb688_0fa4_11eb_b372_0242ac1c0002row9_col11,#T_516fb688_0fa4_11eb_b372_0242ac1c0002row9_col24,#T_516fb688_0fa4_11eb_b372_0242ac1c0002row9_col25,#T_516fb688_0fa4_11eb_b372_0242ac1c0002row10_col11,#T_516fb688_0fa4_11eb_b372_0242ac1c0002row10_col24,#T_516fb688_0fa4_11eb_b372_0242ac1c0002row10_col25,#T_516fb688_0fa4_11eb_b372_0242ac1c0002row11_col0,#T_516fb688_0fa4_11eb_b372_0242ac1c0002row11_col1,#T_516fb688_0fa4_11eb_b372_0242ac1c0002row11_col2,#T_516fb688_0fa4_11eb_b372_0242ac1c0002row11_col3,#T_516fb688_0fa4_11eb_b372_0242ac1c0002row11_col4,#T_516fb688_0fa4_11eb_b372_0242ac1c0002row11_col5,#T_516fb688_0fa4_11eb_b372_0242ac1c0002row11_col6,#T_516fb688_0fa4_11eb_b372_0242ac1c0002row11_col7,#T_516fb688_0fa4_11eb_b372_0242ac1c0002row11_col8,#T_516fb688_0fa4_11eb_b372_0242ac1c0002row11_col9,#T_516fb688_0fa4_11eb_b372_0242ac1c0002row11_col10,#T_516fb688_0fa4_11eb_b372_0242ac1c0002row11_col11,#T_516fb688_0fa4_11eb_b372_0242ac1c0002row11_col12,#T_516fb688_0fa4_11eb_b372_0242ac1c0002row11_col13,#T_516fb688_0fa4_11eb_b372_0242ac1c0002row11_col14,#T_516fb688_0fa4_11eb_b372_0242ac1c0002row11_col15,#T_516fb688_0fa4_11eb_b372_0242ac1c0002row11_col16,#T_516fb688_0fa4_11eb_b372_0242ac1c0002row11_col17,#T_516fb688_0fa4_11eb_b372_0242ac1c0002row11_col18,#T_516fb688_0fa4_11eb_b372_0242ac1c0002row11_col19,#T_516fb688_0fa4_11eb_b372_0242ac1c0002row11_col20,#T_516fb688_0fa4_11eb_b372_0242ac1c0002row11_col21,#T_516fb688_0fa4_11eb_b372_0242ac1c0002row11_col22,#T_516fb688_0fa4_11eb_b372_0242ac1c0002row11_col23,#T_516fb688_0fa4_11eb_b372_0242ac1c0002row11_col24,#T_516fb688_0fa4_11eb_b372_0242ac1c0002row11_col25,#T_516fb688_0fa4_11eb_b372_0242ac1c0002row11_col26,#T_516fb688_0fa4_11eb_b372_0242ac1c0002row11_col27,#T_516fb688_0fa4_11eb_b372_0242ac1c0002row11_col28,#T_516fb688_0fa4_11eb_b372_0242ac1c0002row11_col29,#T_516fb688_0fa4_11eb_b372_0242ac1c0002row11_col30,#T_516fb688_0fa4_11eb_b372_0242ac1c0002row11_col31,#T_516fb688_0fa4_11eb_b372_0242ac1c0002row11_col32,#T_516fb688_0fa4_11eb_b372_0242ac1c0002row11_col33,#T_516fb688_0fa4_11eb_b372_0242ac1c0002row11_col34,#T_516fb688_0fa4_11eb_b372_0242ac1c0002row11_col35,#T_516fb688_0fa4_11eb_b372_0242ac1c0002row11_col36,#T_516fb688_0fa4_11eb_b372_0242ac1c0002row11_col37,#T_516fb688_0fa4_11eb_b372_0242ac1c0002row11_col38,#T_516fb688_0fa4_11eb_b372_0242ac1c0002row11_col39,#T_516fb688_0fa4_11eb_b372_0242ac1c0002row11_col40,#T_516fb688_0fa4_11eb_b372_0242ac1c0002row11_col41,#T_516fb688_0fa4_11eb_b372_0242ac1c0002row11_col42,#T_516fb688_0fa4_11eb_b372_0242ac1c0002row12_col11,#T_516fb688_0fa4_11eb_b372_0242ac1c0002row12_col24,#T_516fb688_0fa4_11eb_b372_0242ac1c0002row12_col25,#T_516fb688_0fa4_11eb_b372_0242ac1c0002row13_col11,#T_516fb688_0fa4_11eb_b372_0242ac1c0002row13_col24,#T_516fb688_0fa4_11eb_b372_0242ac1c0002row13_col25,#T_516fb688_0fa4_11eb_b372_0242ac1c0002row14_col11,#T_516fb688_0fa4_11eb_b372_0242ac1c0002row14_col24,#T_516fb688_0fa4_11eb_b372_0242ac1c0002row14_col25,#T_516fb688_0fa4_11eb_b372_0242ac1c0002row15_col11,#T_516fb688_0fa4_11eb_b372_0242ac1c0002row15_col24,#T_516fb688_0fa4_11eb_b372_0242ac1c0002row15_col25,#T_516fb688_0fa4_11eb_b372_0242ac1c0002row16_col11,#T_516fb688_0fa4_11eb_b372_0242ac1c0002row16_col24,#T_516fb688_0fa4_11eb_b372_0242ac1c0002row16_col25,#T_516fb688_0fa4_11eb_b372_0242ac1c0002row17_col11,#T_516fb688_0fa4_11eb_b372_0242ac1c0002row17_col24,#T_516fb688_0fa4_11eb_b372_0242ac1c0002row17_col25,#T_516fb688_0fa4_11eb_b372_0242ac1c0002row18_col11,#T_516fb688_0fa4_11eb_b372_0242ac1c0002row18_col24,#T_516fb688_0fa4_11eb_b372_0242ac1c0002row18_col25,#T_516fb688_0fa4_11eb_b372_0242ac1c0002row19_col11,#T_516fb688_0fa4_11eb_b372_0242ac1c0002row19_col24,#T_516fb688_0fa4_11eb_b372_0242ac1c0002row19_col25,#T_516fb688_0fa4_11eb_b372_0242ac1c0002row20_col11,#T_516fb688_0fa4_11eb_b372_0242ac1c0002row20_col24,#T_516fb688_0fa4_11eb_b372_0242ac1c0002row20_col25,#T_516fb688_0fa4_11eb_b372_0242ac1c0002row21_col11,#T_516fb688_0fa4_11eb_b372_0242ac1c0002row21_col24,#T_516fb688_0fa4_11eb_b372_0242ac1c0002row21_col25,#T_516fb688_0fa4_11eb_b372_0242ac1c0002row22_col11,#T_516fb688_0fa4_11eb_b372_0242ac1c0002row22_col24,#T_516fb688_0fa4_11eb_b372_0242ac1c0002row22_col25,#T_516fb688_0fa4_11eb_b372_0242ac1c0002row23_col11,#T_516fb688_0fa4_11eb_b372_0242ac1c0002row23_col24,#T_516fb688_0fa4_11eb_b372_0242ac1c0002row23_col25,#T_516fb688_0fa4_11eb_b372_0242ac1c0002row24_col0,#T_516fb688_0fa4_11eb_b372_0242ac1c0002row24_col1,#T_516fb688_0fa4_11eb_b372_0242ac1c0002row24_col2,#T_516fb688_0fa4_11eb_b372_0242ac1c0002row24_col3,#T_516fb688_0fa4_11eb_b372_0242ac1c0002row24_col4,#T_516fb688_0fa4_11eb_b372_0242ac1c0002row24_col5,#T_516fb688_0fa4_11eb_b372_0242ac1c0002row24_col6,#T_516fb688_0fa4_11eb_b372_0242ac1c0002row24_col7,#T_516fb688_0fa4_11eb_b372_0242ac1c0002row24_col8,#T_516fb688_0fa4_11eb_b372_0242ac1c0002row24_col9,#T_516fb688_0fa4_11eb_b372_0242ac1c0002row24_col10,#T_516fb688_0fa4_11eb_b372_0242ac1c0002row24_col11,#T_516fb688_0fa4_11eb_b372_0242ac1c0002row24_col12,#T_516fb688_0fa4_11eb_b372_0242ac1c0002row24_col13,#T_516fb688_0fa4_11eb_b372_0242ac1c0002row24_col14,#T_516fb688_0fa4_11eb_b372_0242ac1c0002row24_col15,#T_516fb688_0fa4_11eb_b372_0242ac1c0002row24_col16,#T_516fb688_0fa4_11eb_b372_0242ac1c0002row24_col17,#T_516fb688_0fa4_11eb_b372_0242ac1c0002row24_col18,#T_516fb688_0fa4_11eb_b372_0242ac1c0002row24_col19,#T_516fb688_0fa4_11eb_b372_0242ac1c0002row24_col20,#T_516fb688_0fa4_11eb_b372_0242ac1c0002row24_col21,#T_516fb688_0fa4_11eb_b372_0242ac1c0002row24_col22,#T_516fb688_0fa4_11eb_b372_0242ac1c0002row24_col23,#T_516fb688_0fa4_11eb_b372_0242ac1c0002row24_col24,#T_516fb688_0fa4_11eb_b372_0242ac1c0002row24_col25,#T_516fb688_0fa4_11eb_b372_0242ac1c0002row24_col26,#T_516fb688_0fa4_11eb_b372_0242ac1c0002row24_col27,#T_516fb688_0fa4_11eb_b372_0242ac1c0002row24_col28,#T_516fb688_0fa4_11eb_b372_0242ac1c0002row24_col29,#T_516fb688_0fa4_11eb_b372_0242ac1c0002row24_col30,#T_516fb688_0fa4_11eb_b372_0242ac1c0002row24_col31,#T_516fb688_0fa4_11eb_b372_0242ac1c0002row24_col32,#T_516fb688_0fa4_11eb_b372_0242ac1c0002row24_col33,#T_516fb688_0fa4_11eb_b372_0242ac1c0002row24_col34,#T_516fb688_0fa4_11eb_b372_0242ac1c0002row24_col35,#T_516fb688_0fa4_11eb_b372_0242ac1c0002row24_col36,#T_516fb688_0fa4_11eb_b372_0242ac1c0002row24_col37,#T_516fb688_0fa4_11eb_b372_0242ac1c0002row24_col38,#T_516fb688_0fa4_11eb_b372_0242ac1c0002row24_col39,#T_516fb688_0fa4_11eb_b372_0242ac1c0002row24_col40,#T_516fb688_0fa4_11eb_b372_0242ac1c0002row24_col41,#T_516fb688_0fa4_11eb_b372_0242ac1c0002row24_col42,#T_516fb688_0fa4_11eb_b372_0242ac1c0002row25_col0,#T_516fb688_0fa4_11eb_b372_0242ac1c0002row25_col1,#T_516fb688_0fa4_11eb_b372_0242ac1c0002row25_col2,#T_516fb688_0fa4_11eb_b372_0242ac1c0002row25_col3,#T_516fb688_0fa4_11eb_b372_0242ac1c0002row25_col4,#T_516fb688_0fa4_11eb_b372_0242ac1c0002row25_col5,#T_516fb688_0fa4_11eb_b372_0242ac1c0002row25_col6,#T_516fb688_0fa4_11eb_b372_0242ac1c0002row25_col7,#T_516fb688_0fa4_11eb_b372_0242ac1c0002row25_col8,#T_516fb688_0fa4_11eb_b372_0242ac1c0002row25_col9,#T_516fb688_0fa4_11eb_b372_0242ac1c0002row25_col10,#T_516fb688_0fa4_11eb_b372_0242ac1c0002row25_col11,#T_516fb688_0fa4_11eb_b372_0242ac1c0002row25_col12,#T_516fb688_0fa4_11eb_b372_0242ac1c0002row25_col13,#T_516fb688_0fa4_11eb_b372_0242ac1c0002row25_col14,#T_516fb688_0fa4_11eb_b372_0242ac1c0002row25_col15,#T_516fb688_0fa4_11eb_b372_0242ac1c0002row25_col16,#T_516fb688_0fa4_11eb_b372_0242ac1c0002row25_col17,#T_516fb688_0fa4_11eb_b372_0242ac1c0002row25_col18,#T_516fb688_0fa4_11eb_b372_0242ac1c0002row25_col19,#T_516fb688_0fa4_11eb_b372_0242ac1c0002row25_col20,#T_516fb688_0fa4_11eb_b372_0242ac1c0002row25_col21,#T_516fb688_0fa4_11eb_b372_0242ac1c0002row25_col22,#T_516fb688_0fa4_11eb_b372_0242ac1c0002row25_col23,#T_516fb688_0fa4_11eb_b372_0242ac1c0002row25_col24,#T_516fb688_0fa4_11eb_b372_0242ac1c0002row25_col25,#T_516fb688_0fa4_11eb_b372_0242ac1c0002row25_col26,#T_516fb688_0fa4_11eb_b372_0242ac1c0002row25_col27,#T_516fb688_0fa4_11eb_b372_0242ac1c0002row25_col28,#T_516fb688_0fa4_11eb_b372_0242ac1c0002row25_col29,#T_516fb688_0fa4_11eb_b372_0242ac1c0002row25_col30,#T_516fb688_0fa4_11eb_b372_0242ac1c0002row25_col31,#T_516fb688_0fa4_11eb_b372_0242ac1c0002row25_col32,#T_516fb688_0fa4_11eb_b372_0242ac1c0002row25_col33,#T_516fb688_0fa4_11eb_b372_0242ac1c0002row25_col34,#T_516fb688_0fa4_11eb_b372_0242ac1c0002row25_col35,#T_516fb688_0fa4_11eb_b372_0242ac1c0002row25_col36,#T_516fb688_0fa4_11eb_b372_0242ac1c0002row25_col37,#T_516fb688_0fa4_11eb_b372_0242ac1c0002row25_col38,#T_516fb688_0fa4_11eb_b372_0242ac1c0002row25_col39,#T_516fb688_0fa4_11eb_b372_0242ac1c0002row25_col40,#T_516fb688_0fa4_11eb_b372_0242ac1c0002row25_col41,#T_516fb688_0fa4_11eb_b372_0242ac1c0002row25_col42,#T_516fb688_0fa4_11eb_b372_0242ac1c0002row26_col11,#T_516fb688_0fa4_11eb_b372_0242ac1c0002row26_col24,#T_516fb688_0fa4_11eb_b372_0242ac1c0002row26_col25,#T_516fb688_0fa4_11eb_b372_0242ac1c0002row27_col11,#T_516fb688_0fa4_11eb_b372_0242ac1c0002row27_col24,#T_516fb688_0fa4_11eb_b372_0242ac1c0002row27_col25,#T_516fb688_0fa4_11eb_b372_0242ac1c0002row28_col11,#T_516fb688_0fa4_11eb_b372_0242ac1c0002row28_col24,#T_516fb688_0fa4_11eb_b372_0242ac1c0002row28_col25,#T_516fb688_0fa4_11eb_b372_0242ac1c0002row29_col11,#T_516fb688_0fa4_11eb_b372_0242ac1c0002row29_col24,#T_516fb688_0fa4_11eb_b372_0242ac1c0002row29_col25,#T_516fb688_0fa4_11eb_b372_0242ac1c0002row30_col11,#T_516fb688_0fa4_11eb_b372_0242ac1c0002row30_col24,#T_516fb688_0fa4_11eb_b372_0242ac1c0002row30_col25,#T_516fb688_0fa4_11eb_b372_0242ac1c0002row31_col11,#T_516fb688_0fa4_11eb_b372_0242ac1c0002row31_col24,#T_516fb688_0fa4_11eb_b372_0242ac1c0002row31_col25,#T_516fb688_0fa4_11eb_b372_0242ac1c0002row32_col11,#T_516fb688_0fa4_11eb_b372_0242ac1c0002row32_col24,#T_516fb688_0fa4_11eb_b372_0242ac1c0002row32_col25,#T_516fb688_0fa4_11eb_b372_0242ac1c0002row33_col11,#T_516fb688_0fa4_11eb_b372_0242ac1c0002row33_col24,#T_516fb688_0fa4_11eb_b372_0242ac1c0002row33_col25,#T_516fb688_0fa4_11eb_b372_0242ac1c0002row34_col11,#T_516fb688_0fa4_11eb_b372_0242ac1c0002row34_col24,#T_516fb688_0fa4_11eb_b372_0242ac1c0002row34_col25,#T_516fb688_0fa4_11eb_b372_0242ac1c0002row35_col11,#T_516fb688_0fa4_11eb_b372_0242ac1c0002row35_col24,#T_516fb688_0fa4_11eb_b372_0242ac1c0002row35_col25,#T_516fb688_0fa4_11eb_b372_0242ac1c0002row36_col11,#T_516fb688_0fa4_11eb_b372_0242ac1c0002row36_col24,#T_516fb688_0fa4_11eb_b372_0242ac1c0002row36_col25,#T_516fb688_0fa4_11eb_b372_0242ac1c0002row37_col11,#T_516fb688_0fa4_11eb_b372_0242ac1c0002row37_col24,#T_516fb688_0fa4_11eb_b372_0242ac1c0002row37_col25,#T_516fb688_0fa4_11eb_b372_0242ac1c0002row38_col11,#T_516fb688_0fa4_11eb_b372_0242ac1c0002row38_col24,#T_516fb688_0fa4_11eb_b372_0242ac1c0002row38_col25,#T_516fb688_0fa4_11eb_b372_0242ac1c0002row39_col11,#T_516fb688_0fa4_11eb_b372_0242ac1c0002row39_col24,#T_516fb688_0fa4_11eb_b372_0242ac1c0002row39_col25,#T_516fb688_0fa4_11eb_b372_0242ac1c0002row40_col11,#T_516fb688_0fa4_11eb_b372_0242ac1c0002row40_col24,#T_516fb688_0fa4_11eb_b372_0242ac1c0002row40_col25,#T_516fb688_0fa4_11eb_b372_0242ac1c0002row41_col11,#T_516fb688_0fa4_11eb_b372_0242ac1c0002row41_col24,#T_516fb688_0fa4_11eb_b372_0242ac1c0002row41_col25,#T_516fb688_0fa4_11eb_b372_0242ac1c0002row42_col11,#T_516fb688_0fa4_11eb_b372_0242ac1c0002row42_col24,#T_516fb688_0fa4_11eb_b372_0242ac1c0002row42_col25{\n",
       "            background-color:  #000000;\n",
       "            color:  #f1f1f1;\n",
       "        }#T_516fb688_0fa4_11eb_b372_0242ac1c0002row0_col13,#T_516fb688_0fa4_11eb_b372_0242ac1c0002row1_col30,#T_516fb688_0fa4_11eb_b372_0242ac1c0002row1_col36,#T_516fb688_0fa4_11eb_b372_0242ac1c0002row1_col40,#T_516fb688_0fa4_11eb_b372_0242ac1c0002row2_col4,#T_516fb688_0fa4_11eb_b372_0242ac1c0002row3_col13,#T_516fb688_0fa4_11eb_b372_0242ac1c0002row3_col15,#T_516fb688_0fa4_11eb_b372_0242ac1c0002row4_col34,#T_516fb688_0fa4_11eb_b372_0242ac1c0002row4_col36,#T_516fb688_0fa4_11eb_b372_0242ac1c0002row4_col40,#T_516fb688_0fa4_11eb_b372_0242ac1c0002row4_col42,#T_516fb688_0fa4_11eb_b372_0242ac1c0002row5_col30,#T_516fb688_0fa4_11eb_b372_0242ac1c0002row10_col40,#T_516fb688_0fa4_11eb_b372_0242ac1c0002row12_col6,#T_516fb688_0fa4_11eb_b372_0242ac1c0002row15_col12,#T_516fb688_0fa4_11eb_b372_0242ac1c0002row15_col13,#T_516fb688_0fa4_11eb_b372_0242ac1c0002row16_col12,#T_516fb688_0fa4_11eb_b372_0242ac1c0002row16_col13,#T_516fb688_0fa4_11eb_b372_0242ac1c0002row17_col12,#T_516fb688_0fa4_11eb_b372_0242ac1c0002row21_col0,#T_516fb688_0fa4_11eb_b372_0242ac1c0002row21_col41,#T_516fb688_0fa4_11eb_b372_0242ac1c0002row27_col5,#T_516fb688_0fa4_11eb_b372_0242ac1c0002row27_col37,#T_516fb688_0fa4_11eb_b372_0242ac1c0002row27_col41,#T_516fb688_0fa4_11eb_b372_0242ac1c0002row28_col35,#T_516fb688_0fa4_11eb_b372_0242ac1c0002row30_col4,#T_516fb688_0fa4_11eb_b372_0242ac1c0002row31_col4,#T_516fb688_0fa4_11eb_b372_0242ac1c0002row31_col33,#T_516fb688_0fa4_11eb_b372_0242ac1c0002row33_col31,#T_516fb688_0fa4_11eb_b372_0242ac1c0002row35_col12,#T_516fb688_0fa4_11eb_b372_0242ac1c0002row35_col13,#T_516fb688_0fa4_11eb_b372_0242ac1c0002row35_col28,#T_516fb688_0fa4_11eb_b372_0242ac1c0002row36_col21,#T_516fb688_0fa4_11eb_b372_0242ac1c0002row38_col12,#T_516fb688_0fa4_11eb_b372_0242ac1c0002row38_col13,#T_516fb688_0fa4_11eb_b372_0242ac1c0002row39_col12,#T_516fb688_0fa4_11eb_b372_0242ac1c0002row39_col13,#T_516fb688_0fa4_11eb_b372_0242ac1c0002row40_col5,#T_516fb688_0fa4_11eb_b372_0242ac1c0002row42_col2{\n",
       "            background-color:  #d3e2ef;\n",
       "            color:  #000000;\n",
       "        }#T_516fb688_0fa4_11eb_b372_0242ac1c0002row0_col21,#T_516fb688_0fa4_11eb_b372_0242ac1c0002row0_col30,#T_516fb688_0fa4_11eb_b372_0242ac1c0002row1_col21,#T_516fb688_0fa4_11eb_b372_0242ac1c0002row3_col6,#T_516fb688_0fa4_11eb_b372_0242ac1c0002row3_col12,#T_516fb688_0fa4_11eb_b372_0242ac1c0002row4_col21,#T_516fb688_0fa4_11eb_b372_0242ac1c0002row5_col21,#T_516fb688_0fa4_11eb_b372_0242ac1c0002row6_col16,#T_516fb688_0fa4_11eb_b372_0242ac1c0002row10_col28,#T_516fb688_0fa4_11eb_b372_0242ac1c0002row16_col6,#T_516fb688_0fa4_11eb_b372_0242ac1c0002row21_col1,#T_516fb688_0fa4_11eb_b372_0242ac1c0002row21_col4,#T_516fb688_0fa4_11eb_b372_0242ac1c0002row21_col5,#T_516fb688_0fa4_11eb_b372_0242ac1c0002row21_col35,#T_516fb688_0fa4_11eb_b372_0242ac1c0002row21_col37,#T_516fb688_0fa4_11eb_b372_0242ac1c0002row28_col38,#T_516fb688_0fa4_11eb_b372_0242ac1c0002row30_col1,#T_516fb688_0fa4_11eb_b372_0242ac1c0002row30_col5,#T_516fb688_0fa4_11eb_b372_0242ac1c0002row34_col4,#T_516fb688_0fa4_11eb_b372_0242ac1c0002row36_col1,#T_516fb688_0fa4_11eb_b372_0242ac1c0002row38_col28,#T_516fb688_0fa4_11eb_b372_0242ac1c0002row40_col2,#T_516fb688_0fa4_11eb_b372_0242ac1c0002row41_col30,#T_516fb688_0fa4_11eb_b372_0242ac1c0002row42_col5{\n",
       "            background-color:  #cee0ee;\n",
       "            color:  #000000;\n",
       "        }#T_516fb688_0fa4_11eb_b372_0242ac1c0002row0_col32,#T_516fb688_0fa4_11eb_b372_0242ac1c0002row1_col32,#T_516fb688_0fa4_11eb_b372_0242ac1c0002row2_col42,#T_516fb688_0fa4_11eb_b372_0242ac1c0002row3_col34,#T_516fb688_0fa4_11eb_b372_0242ac1c0002row4_col10,#T_516fb688_0fa4_11eb_b372_0242ac1c0002row4_col12,#T_516fb688_0fa4_11eb_b372_0242ac1c0002row4_col31,#T_516fb688_0fa4_11eb_b372_0242ac1c0002row4_col32,#T_516fb688_0fa4_11eb_b372_0242ac1c0002row5_col0,#T_516fb688_0fa4_11eb_b372_0242ac1c0002row5_col10,#T_516fb688_0fa4_11eb_b372_0242ac1c0002row5_col28,#T_516fb688_0fa4_11eb_b372_0242ac1c0002row5_col40,#T_516fb688_0fa4_11eb_b372_0242ac1c0002row5_col41,#T_516fb688_0fa4_11eb_b372_0242ac1c0002row6_col3,#T_516fb688_0fa4_11eb_b372_0242ac1c0002row6_col5,#T_516fb688_0fa4_11eb_b372_0242ac1c0002row7_col4,#T_516fb688_0fa4_11eb_b372_0242ac1c0002row7_col12,#T_516fb688_0fa4_11eb_b372_0242ac1c0002row7_col27,#T_516fb688_0fa4_11eb_b372_0242ac1c0002row7_col28,#T_516fb688_0fa4_11eb_b372_0242ac1c0002row8_col4,#T_516fb688_0fa4_11eb_b372_0242ac1c0002row8_col6,#T_516fb688_0fa4_11eb_b372_0242ac1c0002row8_col12,#T_516fb688_0fa4_11eb_b372_0242ac1c0002row8_col13,#T_516fb688_0fa4_11eb_b372_0242ac1c0002row8_col15,#T_516fb688_0fa4_11eb_b372_0242ac1c0002row8_col16,#T_516fb688_0fa4_11eb_b372_0242ac1c0002row9_col12,#T_516fb688_0fa4_11eb_b372_0242ac1c0002row9_col13,#T_516fb688_0fa4_11eb_b372_0242ac1c0002row10_col16,#T_516fb688_0fa4_11eb_b372_0242ac1c0002row12_col15,#T_516fb688_0fa4_11eb_b372_0242ac1c0002row12_col16,#T_516fb688_0fa4_11eb_b372_0242ac1c0002row13_col15,#T_516fb688_0fa4_11eb_b372_0242ac1c0002row13_col16,#T_516fb688_0fa4_11eb_b372_0242ac1c0002row14_col12,#T_516fb688_0fa4_11eb_b372_0242ac1c0002row14_col13,#T_516fb688_0fa4_11eb_b372_0242ac1c0002row15_col21,#T_516fb688_0fa4_11eb_b372_0242ac1c0002row17_col10,#T_516fb688_0fa4_11eb_b372_0242ac1c0002row18_col10,#T_516fb688_0fa4_11eb_b372_0242ac1c0002row18_col13,#T_516fb688_0fa4_11eb_b372_0242ac1c0002row19_col12,#T_516fb688_0fa4_11eb_b372_0242ac1c0002row19_col13,#T_516fb688_0fa4_11eb_b372_0242ac1c0002row20_col12,#T_516fb688_0fa4_11eb_b372_0242ac1c0002row20_col13,#T_516fb688_0fa4_11eb_b372_0242ac1c0002row21_col36,#T_516fb688_0fa4_11eb_b372_0242ac1c0002row22_col13,#T_516fb688_0fa4_11eb_b372_0242ac1c0002row22_col15,#T_516fb688_0fa4_11eb_b372_0242ac1c0002row23_col12,#T_516fb688_0fa4_11eb_b372_0242ac1c0002row26_col12,#T_516fb688_0fa4_11eb_b372_0242ac1c0002row26_col13,#T_516fb688_0fa4_11eb_b372_0242ac1c0002row27_col7,#T_516fb688_0fa4_11eb_b372_0242ac1c0002row27_col34,#T_516fb688_0fa4_11eb_b372_0242ac1c0002row28_col0,#T_516fb688_0fa4_11eb_b372_0242ac1c0002row28_col1,#T_516fb688_0fa4_11eb_b372_0242ac1c0002row28_col4,#T_516fb688_0fa4_11eb_b372_0242ac1c0002row28_col7,#T_516fb688_0fa4_11eb_b372_0242ac1c0002row28_col34,#T_516fb688_0fa4_11eb_b372_0242ac1c0002row28_col37,#T_516fb688_0fa4_11eb_b372_0242ac1c0002row28_col41,#T_516fb688_0fa4_11eb_b372_0242ac1c0002row29_col0,#T_516fb688_0fa4_11eb_b372_0242ac1c0002row29_col21,#T_516fb688_0fa4_11eb_b372_0242ac1c0002row29_col32,#T_516fb688_0fa4_11eb_b372_0242ac1c0002row29_col34,#T_516fb688_0fa4_11eb_b372_0242ac1c0002row29_col37,#T_516fb688_0fa4_11eb_b372_0242ac1c0002row29_col41,#T_516fb688_0fa4_11eb_b372_0242ac1c0002row30_col6,#T_516fb688_0fa4_11eb_b372_0242ac1c0002row30_col10,#T_516fb688_0fa4_11eb_b372_0242ac1c0002row30_col15,#T_516fb688_0fa4_11eb_b372_0242ac1c0002row30_col34,#T_516fb688_0fa4_11eb_b372_0242ac1c0002row31_col6,#T_516fb688_0fa4_11eb_b372_0242ac1c0002row31_col15,#T_516fb688_0fa4_11eb_b372_0242ac1c0002row31_col32,#T_516fb688_0fa4_11eb_b372_0242ac1c0002row32_col1,#T_516fb688_0fa4_11eb_b372_0242ac1c0002row32_col13,#T_516fb688_0fa4_11eb_b372_0242ac1c0002row32_col21,#T_516fb688_0fa4_11eb_b372_0242ac1c0002row32_col31,#T_516fb688_0fa4_11eb_b372_0242ac1c0002row32_col37,#T_516fb688_0fa4_11eb_b372_0242ac1c0002row32_col41,#T_516fb688_0fa4_11eb_b372_0242ac1c0002row33_col13,#T_516fb688_0fa4_11eb_b372_0242ac1c0002row34_col15,#T_516fb688_0fa4_11eb_b372_0242ac1c0002row34_col21,#T_516fb688_0fa4_11eb_b372_0242ac1c0002row35_col6,#T_516fb688_0fa4_11eb_b372_0242ac1c0002row35_col10,#T_516fb688_0fa4_11eb_b372_0242ac1c0002row35_col15,#T_516fb688_0fa4_11eb_b372_0242ac1c0002row35_col16,#T_516fb688_0fa4_11eb_b372_0242ac1c0002row35_col32,#T_516fb688_0fa4_11eb_b372_0242ac1c0002row36_col10,#T_516fb688_0fa4_11eb_b372_0242ac1c0002row36_col15,#T_516fb688_0fa4_11eb_b372_0242ac1c0002row36_col16,#T_516fb688_0fa4_11eb_b372_0242ac1c0002row37_col32,#T_516fb688_0fa4_11eb_b372_0242ac1c0002row38_col10,#T_516fb688_0fa4_11eb_b372_0242ac1c0002row38_col15,#T_516fb688_0fa4_11eb_b372_0242ac1c0002row38_col16,#T_516fb688_0fa4_11eb_b372_0242ac1c0002row38_col32,#T_516fb688_0fa4_11eb_b372_0242ac1c0002row39_col6,#T_516fb688_0fa4_11eb_b372_0242ac1c0002row39_col31,#T_516fb688_0fa4_11eb_b372_0242ac1c0002row39_col32,#T_516fb688_0fa4_11eb_b372_0242ac1c0002row40_col7,#T_516fb688_0fa4_11eb_b372_0242ac1c0002row40_col34,#T_516fb688_0fa4_11eb_b372_0242ac1c0002row41_col32,#T_516fb688_0fa4_11eb_b372_0242ac1c0002row42_col6,#T_516fb688_0fa4_11eb_b372_0242ac1c0002row42_col10,#T_516fb688_0fa4_11eb_b372_0242ac1c0002row42_col15,#T_516fb688_0fa4_11eb_b372_0242ac1c0002row42_col16,#T_516fb688_0fa4_11eb_b372_0242ac1c0002row42_col34{\n",
       "            background-color:  #dde7f0;\n",
       "            color:  #000000;\n",
       "        }#T_516fb688_0fa4_11eb_b372_0242ac1c0002row0_col35,#T_516fb688_0fa4_11eb_b372_0242ac1c0002row2_col36,#T_516fb688_0fa4_11eb_b372_0242ac1c0002row27_col40,#T_516fb688_0fa4_11eb_b372_0242ac1c0002row35_col0,#T_516fb688_0fa4_11eb_b372_0242ac1c0002row40_col27{\n",
       "            background-color:  #1d88d5;\n",
       "            color:  #000000;\n",
       "        }#T_516fb688_0fa4_11eb_b372_0242ac1c0002row0_col36,#T_516fb688_0fa4_11eb_b372_0242ac1c0002row2_col39,#T_516fb688_0fa4_11eb_b372_0242ac1c0002row3_col4,#T_516fb688_0fa4_11eb_b372_0242ac1c0002row27_col12,#T_516fb688_0fa4_11eb_b372_0242ac1c0002row27_col13,#T_516fb688_0fa4_11eb_b372_0242ac1c0002row28_col12,#T_516fb688_0fa4_11eb_b372_0242ac1c0002row28_col13,#T_516fb688_0fa4_11eb_b372_0242ac1c0002row28_col42,#T_516fb688_0fa4_11eb_b372_0242ac1c0002row35_col4,#T_516fb688_0fa4_11eb_b372_0242ac1c0002row36_col0,#T_516fb688_0fa4_11eb_b372_0242ac1c0002row37_col36,#T_516fb688_0fa4_11eb_b372_0242ac1c0002row38_col2,#T_516fb688_0fa4_11eb_b372_0242ac1c0002row39_col1,#T_516fb688_0fa4_11eb_b372_0242ac1c0002row40_col36,#T_516fb688_0fa4_11eb_b372_0242ac1c0002row41_col36,#T_516fb688_0fa4_11eb_b372_0242ac1c0002row42_col28{\n",
       "            background-color:  #abcfe9;\n",
       "            color:  #000000;\n",
       "        }#T_516fb688_0fa4_11eb_b372_0242ac1c0002row0_col37,#T_516fb688_0fa4_11eb_b372_0242ac1c0002row35_col41,#T_516fb688_0fa4_11eb_b372_0242ac1c0002row37_col0{\n",
       "            background-color:  #228ad6;\n",
       "            color:  #000000;\n",
       "        }#T_516fb688_0fa4_11eb_b372_0242ac1c0002row0_col38,#T_516fb688_0fa4_11eb_b372_0242ac1c0002row4_col41,#T_516fb688_0fa4_11eb_b372_0242ac1c0002row21_col27,#T_516fb688_0fa4_11eb_b372_0242ac1c0002row27_col28,#T_516fb688_0fa4_11eb_b372_0242ac1c0002row28_col27,#T_516fb688_0fa4_11eb_b372_0242ac1c0002row33_col34,#T_516fb688_0fa4_11eb_b372_0242ac1c0002row34_col33,#T_516fb688_0fa4_11eb_b372_0242ac1c0002row35_col36,#T_516fb688_0fa4_11eb_b372_0242ac1c0002row36_col35,#T_516fb688_0fa4_11eb_b372_0242ac1c0002row38_col0,#T_516fb688_0fa4_11eb_b372_0242ac1c0002row40_col21,#T_516fb688_0fa4_11eb_b372_0242ac1c0002row41_col4{\n",
       "            background-color:  #75b4e1;\n",
       "            color:  #000000;\n",
       "        }#T_516fb688_0fa4_11eb_b372_0242ac1c0002row0_col39,#T_516fb688_0fa4_11eb_b372_0242ac1c0002row3_col41,#T_516fb688_0fa4_11eb_b372_0242ac1c0002row21_col40,#T_516fb688_0fa4_11eb_b372_0242ac1c0002row30_col21,#T_516fb688_0fa4_11eb_b372_0242ac1c0002row37_col39,#T_516fb688_0fa4_11eb_b372_0242ac1c0002row39_col0,#T_516fb688_0fa4_11eb_b372_0242ac1c0002row41_col3{\n",
       "            background-color:  #7fb9e3;\n",
       "            color:  #000000;\n",
       "        }#T_516fb688_0fa4_11eb_b372_0242ac1c0002row0_col40,#T_516fb688_0fa4_11eb_b372_0242ac1c0002row0_col42,#T_516fb688_0fa4_11eb_b372_0242ac1c0002row1_col3,#T_516fb688_0fa4_11eb_b372_0242ac1c0002row6_col13,#T_516fb688_0fa4_11eb_b372_0242ac1c0002row12_col27,#T_516fb688_0fa4_11eb_b372_0242ac1c0002row12_col28,#T_516fb688_0fa4_11eb_b372_0242ac1c0002row15_col27,#T_516fb688_0fa4_11eb_b372_0242ac1c0002row16_col27,#T_516fb688_0fa4_11eb_b372_0242ac1c0002row27_col3,#T_516fb688_0fa4_11eb_b372_0242ac1c0002row37_col40,#T_516fb688_0fa4_11eb_b372_0242ac1c0002row39_col27,#T_516fb688_0fa4_11eb_b372_0242ac1c0002row40_col16{\n",
       "            background-color:  #bad6eb;\n",
       "            color:  #000000;\n",
       "        }#T_516fb688_0fa4_11eb_b372_0242ac1c0002row0_col41,#T_516fb688_0fa4_11eb_b372_0242ac1c0002row41_col0{\n",
       "            background-color:  #097ed2;\n",
       "            color:  #f1f1f1;\n",
       "        }#T_516fb688_0fa4_11eb_b372_0242ac1c0002row1_col0,#T_516fb688_0fa4_11eb_b372_0242ac1c0002row1_col35,#T_516fb688_0fa4_11eb_b372_0242ac1c0002row2_col3,#T_516fb688_0fa4_11eb_b372_0242ac1c0002row28_col30,#T_516fb688_0fa4_11eb_b372_0242ac1c0002row30_col28,#T_516fb688_0fa4_11eb_b372_0242ac1c0002row39_col2{\n",
       "            background-color:  #a2cae8;\n",
       "            color:  #000000;\n",
       "        }#T_516fb688_0fa4_11eb_b372_0242ac1c0002row1_col5,#T_516fb688_0fa4_11eb_b372_0242ac1c0002row5_col1,#T_516fb688_0fa4_11eb_b372_0242ac1c0002row6_col28,#T_516fb688_0fa4_11eb_b372_0242ac1c0002row6_col40,#T_516fb688_0fa4_11eb_b372_0242ac1c0002row35_col2,#T_516fb688_0fa4_11eb_b372_0242ac1c0002row36_col37,#T_516fb688_0fa4_11eb_b372_0242ac1c0002row36_col41,#T_516fb688_0fa4_11eb_b372_0242ac1c0002row38_col4{\n",
       "            background-color:  #a6cce8;\n",
       "            color:  #000000;\n",
       "        }#T_516fb688_0fa4_11eb_b372_0242ac1c0002row1_col37,#T_516fb688_0fa4_11eb_b372_0242ac1c0002row37_col1,#T_516fb688_0fa4_11eb_b372_0242ac1c0002row40_col42,#T_516fb688_0fa4_11eb_b372_0242ac1c0002row42_col40{\n",
       "            background-color:  #499edb;\n",
       "            color:  #000000;\n",
       "        }#T_516fb688_0fa4_11eb_b372_0242ac1c0002row1_col38,#T_516fb688_0fa4_11eb_b372_0242ac1c0002row35_col38,#T_516fb688_0fa4_11eb_b372_0242ac1c0002row35_col39,#T_516fb688_0fa4_11eb_b372_0242ac1c0002row37_col38,#T_516fb688_0fa4_11eb_b372_0242ac1c0002row38_col35,#T_516fb688_0fa4_11eb_b372_0242ac1c0002row39_col35{\n",
       "            background-color:  #3f99da;\n",
       "            color:  #000000;\n",
       "        }#T_516fb688_0fa4_11eb_b372_0242ac1c0002row1_col42,#T_516fb688_0fa4_11eb_b372_0242ac1c0002row2_col0,#T_516fb688_0fa4_11eb_b372_0242ac1c0002row2_col37,#T_516fb688_0fa4_11eb_b372_0242ac1c0002row6_col12,#T_516fb688_0fa4_11eb_b372_0242ac1c0002row10_col27,#T_516fb688_0fa4_11eb_b372_0242ac1c0002row13_col40,#T_516fb688_0fa4_11eb_b372_0242ac1c0002row15_col28,#T_516fb688_0fa4_11eb_b372_0242ac1c0002row16_col28,#T_516fb688_0fa4_11eb_b372_0242ac1c0002row27_col35,#T_516fb688_0fa4_11eb_b372_0242ac1c0002row28_col39,#T_516fb688_0fa4_11eb_b372_0242ac1c0002row30_col0,#T_516fb688_0fa4_11eb_b372_0242ac1c0002row30_col41,#T_516fb688_0fa4_11eb_b372_0242ac1c0002row35_col27,#T_516fb688_0fa4_11eb_b372_0242ac1c0002row36_col4,#T_516fb688_0fa4_11eb_b372_0242ac1c0002row37_col21,#T_516fb688_0fa4_11eb_b372_0242ac1c0002row37_col30,#T_516fb688_0fa4_11eb_b372_0242ac1c0002row39_col28,#T_516fb688_0fa4_11eb_b372_0242ac1c0002row40_col1,#T_516fb688_0fa4_11eb_b372_0242ac1c0002row41_col21,#T_516fb688_0fa4_11eb_b372_0242ac1c0002row42_col4{\n",
       "            background-color:  #c9deed;\n",
       "            color:  #000000;\n",
       "        }#T_516fb688_0fa4_11eb_b372_0242ac1c0002row2_col38,#T_516fb688_0fa4_11eb_b372_0242ac1c0002row3_col21,#T_516fb688_0fa4_11eb_b372_0242ac1c0002row3_col27,#T_516fb688_0fa4_11eb_b372_0242ac1c0002row4_col0,#T_516fb688_0fa4_11eb_b372_0242ac1c0002row4_col3,#T_516fb688_0fa4_11eb_b372_0242ac1c0002row4_col35,#T_516fb688_0fa4_11eb_b372_0242ac1c0002row4_col37,#T_516fb688_0fa4_11eb_b372_0242ac1c0002row4_col38,#T_516fb688_0fa4_11eb_b372_0242ac1c0002row37_col42,#T_516fb688_0fa4_11eb_b372_0242ac1c0002row38_col21,#T_516fb688_0fa4_11eb_b372_0242ac1c0002row39_col21,#T_516fb688_0fa4_11eb_b372_0242ac1c0002row40_col0,#T_516fb688_0fa4_11eb_b372_0242ac1c0002row40_col13,#T_516fb688_0fa4_11eb_b372_0242ac1c0002row40_col15,#T_516fb688_0fa4_11eb_b372_0242ac1c0002row41_col40,#T_516fb688_0fa4_11eb_b372_0242ac1c0002row41_col42,#T_516fb688_0fa4_11eb_b372_0242ac1c0002row42_col0{\n",
       "            background-color:  #b5d4ea;\n",
       "            color:  #000000;\n",
       "        }#T_516fb688_0fa4_11eb_b372_0242ac1c0002row3_col2,#T_516fb688_0fa4_11eb_b372_0242ac1c0002row6_col27,#T_516fb688_0fa4_11eb_b372_0242ac1c0002row35_col1,#T_516fb688_0fa4_11eb_b372_0242ac1c0002row35_col42,#T_516fb688_0fa4_11eb_b372_0242ac1c0002row38_col42,#T_516fb688_0fa4_11eb_b372_0242ac1c0002row42_col35,#T_516fb688_0fa4_11eb_b372_0242ac1c0002row42_col38{\n",
       "            background-color:  #97c5e6;\n",
       "            color:  #000000;\n",
       "        }#T_516fb688_0fa4_11eb_b372_0242ac1c0002row3_col28,#T_516fb688_0fa4_11eb_b372_0242ac1c0002row3_col30,#T_516fb688_0fa4_11eb_b372_0242ac1c0002row5_col37,#T_516fb688_0fa4_11eb_b372_0242ac1c0002row13_col27,#T_516fb688_0fa4_11eb_b372_0242ac1c0002row13_col28,#T_516fb688_0fa4_11eb_b372_0242ac1c0002row15_col40,#T_516fb688_0fa4_11eb_b372_0242ac1c0002row21_col39,#T_516fb688_0fa4_11eb_b372_0242ac1c0002row27_col10,#T_516fb688_0fa4_11eb_b372_0242ac1c0002row27_col39,#T_516fb688_0fa4_11eb_b372_0242ac1c0002row28_col15,#T_516fb688_0fa4_11eb_b372_0242ac1c0002row28_col16,#T_516fb688_0fa4_11eb_b372_0242ac1c0002row30_col38,#T_516fb688_0fa4_11eb_b372_0242ac1c0002row35_col21,#T_516fb688_0fa4_11eb_b372_0242ac1c0002row36_col42,#T_516fb688_0fa4_11eb_b372_0242ac1c0002row37_col5,#T_516fb688_0fa4_11eb_b372_0242ac1c0002row38_col5,#T_516fb688_0fa4_11eb_b372_0242ac1c0002row38_col30,#T_516fb688_0fa4_11eb_b372_0242ac1c0002row39_col30,#T_516fb688_0fa4_11eb_b372_0242ac1c0002row42_col36{\n",
       "            background-color:  #bfd8ec;\n",
       "            color:  #000000;\n",
       "        }#T_516fb688_0fa4_11eb_b372_0242ac1c0002row3_col35,#T_516fb688_0fa4_11eb_b372_0242ac1c0002row31_col34,#T_516fb688_0fa4_11eb_b372_0242ac1c0002row34_col31,#T_516fb688_0fa4_11eb_b372_0242ac1c0002row35_col3,#T_516fb688_0fa4_11eb_b372_0242ac1c0002row38_col1,#T_516fb688_0fa4_11eb_b372_0242ac1c0002row38_col37,#T_516fb688_0fa4_11eb_b372_0242ac1c0002row38_col39,#T_516fb688_0fa4_11eb_b372_0242ac1c0002row39_col38{\n",
       "            background-color:  #3a97d9;\n",
       "            color:  #000000;\n",
       "        }#T_516fb688_0fa4_11eb_b372_0242ac1c0002row3_col36,#T_516fb688_0fa4_11eb_b372_0242ac1c0002row4_col39,#T_516fb688_0fa4_11eb_b372_0242ac1c0002row32_col34,#T_516fb688_0fa4_11eb_b372_0242ac1c0002row34_col32,#T_516fb688_0fa4_11eb_b372_0242ac1c0002row39_col41{\n",
       "            background-color:  #5da8de;\n",
       "            color:  #000000;\n",
       "        }#T_516fb688_0fa4_11eb_b372_0242ac1c0002row3_col38,#T_516fb688_0fa4_11eb_b372_0242ac1c0002row38_col3{\n",
       "            background-color:  #3694d8;\n",
       "            color:  #000000;\n",
       "        }#T_516fb688_0fa4_11eb_b372_0242ac1c0002row3_col39,#T_516fb688_0fa4_11eb_b372_0242ac1c0002row36_col2,#T_516fb688_0fa4_11eb_b372_0242ac1c0002row39_col3{\n",
       "            background-color:  #1886d4;\n",
       "            color:  #000000;\n",
       "        }#T_516fb688_0fa4_11eb_b372_0242ac1c0002row3_col40,#T_516fb688_0fa4_11eb_b372_0242ac1c0002row27_col21,#T_516fb688_0fa4_11eb_b372_0242ac1c0002row36_col39,#T_516fb688_0fa4_11eb_b372_0242ac1c0002row38_col41,#T_516fb688_0fa4_11eb_b372_0242ac1c0002row40_col3,#T_516fb688_0fa4_11eb_b372_0242ac1c0002row41_col38{\n",
       "            background-color:  #71b2e1;\n",
       "            color:  #000000;\n",
       "        }#T_516fb688_0fa4_11eb_b372_0242ac1c0002row3_col42,#T_516fb688_0fa4_11eb_b372_0242ac1c0002row27_col6,#T_516fb688_0fa4_11eb_b372_0242ac1c0002row39_col42,#T_516fb688_0fa4_11eb_b372_0242ac1c0002row42_col3,#T_516fb688_0fa4_11eb_b372_0242ac1c0002row42_col39{\n",
       "            background-color:  #93c2e6;\n",
       "            color:  #000000;\n",
       "        }#T_516fb688_0fa4_11eb_b372_0242ac1c0002row21_col28,#T_516fb688_0fa4_11eb_b372_0242ac1c0002row27_col42,#T_516fb688_0fa4_11eb_b372_0242ac1c0002row30_col40,#T_516fb688_0fa4_11eb_b372_0242ac1c0002row40_col30,#T_516fb688_0fa4_11eb_b372_0242ac1c0002row42_col27{\n",
       "            background-color:  #66addf;\n",
       "            color:  #000000;\n",
       "        }#T_516fb688_0fa4_11eb_b372_0242ac1c0002row21_col42,#T_516fb688_0fa4_11eb_b372_0242ac1c0002row35_col40,#T_516fb688_0fa4_11eb_b372_0242ac1c0002row40_col35{\n",
       "            background-color:  #8ec0e5;\n",
       "            color:  #000000;\n",
       "        }#T_516fb688_0fa4_11eb_b372_0242ac1c0002row27_col30,#T_516fb688_0fa4_11eb_b372_0242ac1c0002row30_col27,#T_516fb688_0fa4_11eb_b372_0242ac1c0002row39_col4{\n",
       "            background-color:  #58a6dd;\n",
       "            color:  #000000;\n",
       "        }#T_516fb688_0fa4_11eb_b372_0242ac1c0002row28_col21,#T_516fb688_0fa4_11eb_b372_0242ac1c0002row36_col3,#T_516fb688_0fa4_11eb_b372_0242ac1c0002row41_col39{\n",
       "            background-color:  #62aadf;\n",
       "            color:  #000000;\n",
       "        }#T_516fb688_0fa4_11eb_b372_0242ac1c0002row30_col42,#T_516fb688_0fa4_11eb_b372_0242ac1c0002row42_col30{\n",
       "            background-color:  #1383d3;\n",
       "            color:  #000000;\n",
       "        }#T_516fb688_0fa4_11eb_b372_0242ac1c0002row35_col37{\n",
       "            background-color:  #2c90d7;\n",
       "            color:  #000000;\n",
       "        }#T_516fb688_0fa4_11eb_b372_0242ac1c0002row36_col38,#T_516fb688_0fa4_11eb_b372_0242ac1c0002row38_col36,#T_516fb688_0fa4_11eb_b372_0242ac1c0002row39_col37,#T_516fb688_0fa4_11eb_b372_0242ac1c0002row39_col40,#T_516fb688_0fa4_11eb_b372_0242ac1c0002row40_col39{\n",
       "            background-color:  #7ab6e2;\n",
       "            color:  #000000;\n",
       "        }#T_516fb688_0fa4_11eb_b372_0242ac1c0002row37_col35{\n",
       "            background-color:  #3192d8;\n",
       "            color:  #000000;\n",
       "        }#T_516fb688_0fa4_11eb_b372_0242ac1c0002row37_col41,#T_516fb688_0fa4_11eb_b372_0242ac1c0002row41_col35,#T_516fb688_0fa4_11eb_b372_0242ac1c0002row41_col37{\n",
       "            background-color:  #278dd6;\n",
       "            color:  #000000;\n",
       "        }#T_516fb688_0fa4_11eb_b372_0242ac1c0002row38_col40,#T_516fb688_0fa4_11eb_b372_0242ac1c0002row40_col38{\n",
       "            background-color:  #89bee4;\n",
       "            color:  #000000;\n",
       "        }#T_516fb688_0fa4_11eb_b372_0242ac1c0002row39_col36{\n",
       "            background-color:  #6bafe0;\n",
       "            color:  #000000;\n",
       "        }</style><table id=\"T_516fb688_0fa4_11eb_b372_0242ac1c0002\" ><thead>    <tr>        <th class=\"blank level0\" ></th>        <th class=\"col_heading level0 col0\" >time_in_hospital</th>        <th class=\"col_heading level0 col1\" >num_lab_procedures</th>        <th class=\"col_heading level0 col2\" >num_procedures</th>        <th class=\"col_heading level0 col3\" >num_medications</th>        <th class=\"col_heading level0 col4\" >number_diagnoses</th>        <th class=\"col_heading level0 col5\" >A1Cresult</th>        <th class=\"col_heading level0 col6\" >metformin</th>        <th class=\"col_heading level0 col7\" >repaglinide</th>        <th class=\"col_heading level0 col8\" >nateglinide</th>        <th class=\"col_heading level0 col9\" >chlorpropamide</th>        <th class=\"col_heading level0 col10\" >glimepiride</th>        <th class=\"col_heading level0 col11\" >acetohexamide</th>        <th class=\"col_heading level0 col12\" >glipizide</th>        <th class=\"col_heading level0 col13\" >glyburide</th>        <th class=\"col_heading level0 col14\" >tolbutamide</th>        <th class=\"col_heading level0 col15\" >pioglitazone</th>        <th class=\"col_heading level0 col16\" >rosiglitazone</th>        <th class=\"col_heading level0 col17\" >acarbose</th>        <th class=\"col_heading level0 col18\" >miglitol</th>        <th class=\"col_heading level0 col19\" >troglitazone</th>        <th class=\"col_heading level0 col20\" >tolazamide</th>        <th class=\"col_heading level0 col21\" >insulin</th>        <th class=\"col_heading level0 col22\" >glyburide-metformin</th>        <th class=\"col_heading level0 col23\" >glipizide-metformin</th>        <th class=\"col_heading level0 col24\" >glimepiride-pioglitazone</th>        <th class=\"col_heading level0 col25\" >metformin-rosiglitazone</th>        <th class=\"col_heading level0 col26\" >metformin-pioglitazone</th>        <th class=\"col_heading level0 col27\" >change</th>        <th class=\"col_heading level0 col28\" >diabetesMed</th>        <th class=\"col_heading level0 col29\" >readmitted</th>        <th class=\"col_heading level0 col30\" >numchange</th>        <th class=\"col_heading level0 col31\" >number_outpatient_log1p</th>        <th class=\"col_heading level0 col32\" >number_inpatient_log1p</th>        <th class=\"col_heading level0 col33\" >number_emergency_log1p</th>        <th class=\"col_heading level0 col34\" >service_utilization_log1p</th>        <th class=\"col_heading level0 col35\" >num_medications|time_in_hospital</th>        <th class=\"col_heading level0 col36\" >num_medications|num_procedures</th>        <th class=\"col_heading level0 col37\" >time_in_hospital|num_lab_procedures</th>        <th class=\"col_heading level0 col38\" >num_medications|num_lab_procedures</th>        <th class=\"col_heading level0 col39\" >num_medications|number_diagnoses</th>        <th class=\"col_heading level0 col40\" >change|num_medications</th>        <th class=\"col_heading level0 col41\" >number_diagnoses|time_in_hospital</th>        <th class=\"col_heading level0 col42\" >num_medications|numchange</th>    </tr></thead><tbody>\n",
       "                <tr>\n",
       "                        <th id=\"T_516fb688_0fa4_11eb_b372_0242ac1c0002level0_row0\" class=\"row_heading level0 row0\" >time_in_hospital</th>\n",
       "                        <td id=\"T_516fb688_0fa4_11eb_b372_0242ac1c0002row0_col0\" class=\"data row0 col0\" >1.000000</td>\n",
       "                        <td id=\"T_516fb688_0fa4_11eb_b372_0242ac1c0002row0_col1\" class=\"data row0 col1\" >0.320135</td>\n",
       "                        <td id=\"T_516fb688_0fa4_11eb_b372_0242ac1c0002row0_col2\" class=\"data row0 col2\" >0.144392</td>\n",
       "                        <td id=\"T_516fb688_0fa4_11eb_b372_0242ac1c0002row0_col3\" class=\"data row0 col3\" >0.441167</td>\n",
       "                        <td id=\"T_516fb688_0fa4_11eb_b372_0242ac1c0002row0_col4\" class=\"data row0 col4\" >0.224011</td>\n",
       "                        <td id=\"T_516fb688_0fa4_11eb_b372_0242ac1c0002row0_col5\" class=\"data row0 col5\" >0.074127</td>\n",
       "                        <td id=\"T_516fb688_0fa4_11eb_b372_0242ac1c0002row0_col6\" class=\"data row0 col6\" >-0.012421</td>\n",
       "                        <td id=\"T_516fb688_0fa4_11eb_b372_0242ac1c0002row0_col7\" class=\"data row0 col7\" >0.031130</td>\n",
       "                        <td id=\"T_516fb688_0fa4_11eb_b372_0242ac1c0002row0_col8\" class=\"data row0 col8\" >0.006653</td>\n",
       "                        <td id=\"T_516fb688_0fa4_11eb_b372_0242ac1c0002row0_col9\" class=\"data row0 col9\" >0.001164</td>\n",
       "                        <td id=\"T_516fb688_0fa4_11eb_b372_0242ac1c0002row0_col10\" class=\"data row0 col10\" >0.008496</td>\n",
       "                        <td id=\"T_516fb688_0fa4_11eb_b372_0242ac1c0002row0_col11\" class=\"data row0 col11\" >nan</td>\n",
       "                        <td id=\"T_516fb688_0fa4_11eb_b372_0242ac1c0002row0_col12\" class=\"data row0 col12\" >0.013698</td>\n",
       "                        <td id=\"T_516fb688_0fa4_11eb_b372_0242ac1c0002row0_col13\" class=\"data row0 col13\" >0.024610</td>\n",
       "                        <td id=\"T_516fb688_0fa4_11eb_b372_0242ac1c0002row0_col14\" class=\"data row0 col14\" >0.005062</td>\n",
       "                        <td id=\"T_516fb688_0fa4_11eb_b372_0242ac1c0002row0_col15\" class=\"data row0 col15\" >-0.004376</td>\n",
       "                        <td id=\"T_516fb688_0fa4_11eb_b372_0242ac1c0002row0_col16\" class=\"data row0 col16\" >-0.000813</td>\n",
       "                        <td id=\"T_516fb688_0fa4_11eb_b372_0242ac1c0002row0_col17\" class=\"data row0 col17\" >0.000816</td>\n",
       "                        <td id=\"T_516fb688_0fa4_11eb_b372_0242ac1c0002row0_col18\" class=\"data row0 col18\" >-0.002206</td>\n",
       "                        <td id=\"T_516fb688_0fa4_11eb_b372_0242ac1c0002row0_col19\" class=\"data row0 col19\" >0.005697</td>\n",
       "                        <td id=\"T_516fb688_0fa4_11eb_b372_0242ac1c0002row0_col20\" class=\"data row0 col20\" >-0.006658</td>\n",
       "                        <td id=\"T_516fb688_0fa4_11eb_b372_0242ac1c0002row0_col21\" class=\"data row0 col21\" >0.097371</td>\n",
       "                        <td id=\"T_516fb688_0fa4_11eb_b372_0242ac1c0002row0_col22\" class=\"data row0 col22\" >-0.000302</td>\n",
       "                        <td id=\"T_516fb688_0fa4_11eb_b372_0242ac1c0002row0_col23\" class=\"data row0 col23\" >0.002334</td>\n",
       "                        <td id=\"T_516fb688_0fa4_11eb_b372_0242ac1c0002row0_col24\" class=\"data row0 col24\" >nan</td>\n",
       "                        <td id=\"T_516fb688_0fa4_11eb_b372_0242ac1c0002row0_col25\" class=\"data row0 col25\" >nan</td>\n",
       "                        <td id=\"T_516fb688_0fa4_11eb_b372_0242ac1c0002row0_col26\" class=\"data row0 col26\" >0.002794</td>\n",
       "                        <td id=\"T_516fb688_0fa4_11eb_b372_0242ac1c0002row0_col27\" class=\"data row0 col27\" >0.094406</td>\n",
       "                        <td id=\"T_516fb688_0fa4_11eb_b372_0242ac1c0002row0_col28\" class=\"data row0 col28\" >0.059811</td>\n",
       "                        <td id=\"T_516fb688_0fa4_11eb_b372_0242ac1c0002row0_col29\" class=\"data row0 col29\" >0.055148</td>\n",
       "                        <td id=\"T_516fb688_0fa4_11eb_b372_0242ac1c0002row0_col30\" class=\"data row0 col30\" >0.139670</td>\n",
       "                        <td id=\"T_516fb688_0fa4_11eb_b372_0242ac1c0002row0_col31\" class=\"data row0 col31\" >-0.027614</td>\n",
       "                        <td id=\"T_516fb688_0fa4_11eb_b372_0242ac1c0002row0_col32\" class=\"data row0 col32\" >0.051496</td>\n",
       "                        <td id=\"T_516fb688_0fa4_11eb_b372_0242ac1c0002row0_col33\" class=\"data row0 col33\" >-0.001829</td>\n",
       "                        <td id=\"T_516fb688_0fa4_11eb_b372_0242ac1c0002row0_col34\" class=\"data row0 col34\" >0.006862</td>\n",
       "                        <td id=\"T_516fb688_0fa4_11eb_b372_0242ac1c0002row0_col35\" class=\"data row0 col35\" >0.859364</td>\n",
       "                        <td id=\"T_516fb688_0fa4_11eb_b372_0242ac1c0002row0_col36\" class=\"data row0 col36\" >0.270542</td>\n",
       "                        <td id=\"T_516fb688_0fa4_11eb_b372_0242ac1c0002row0_col37\" class=\"data row0 col37\" >0.853015</td>\n",
       "                        <td id=\"T_516fb688_0fa4_11eb_b372_0242ac1c0002row0_col38\" class=\"data row0 col38\" >0.502133</td>\n",
       "                        <td id=\"T_516fb688_0fa4_11eb_b372_0242ac1c0002row0_col39\" class=\"data row0 col39\" >0.456259</td>\n",
       "                        <td id=\"T_516fb688_0fa4_11eb_b372_0242ac1c0002row0_col40\" class=\"data row0 col40\" >0.231169</td>\n",
       "                        <td id=\"T_516fb688_0fa4_11eb_b372_0242ac1c0002row0_col41\" class=\"data row0 col41\" >0.938944</td>\n",
       "                        <td id=\"T_516fb688_0fa4_11eb_b372_0242ac1c0002row0_col42\" class=\"data row0 col42\" >0.229845</td>\n",
       "            </tr>\n",
       "            <tr>\n",
       "                        <th id=\"T_516fb688_0fa4_11eb_b372_0242ac1c0002level0_row1\" class=\"row_heading level0 row1\" >num_lab_procedures</th>\n",
       "                        <td id=\"T_516fb688_0fa4_11eb_b372_0242ac1c0002row1_col0\" class=\"data row1 col0\" >0.320135</td>\n",
       "                        <td id=\"T_516fb688_0fa4_11eb_b372_0242ac1c0002row1_col1\" class=\"data row1 col1\" >1.000000</td>\n",
       "                        <td id=\"T_516fb688_0fa4_11eb_b372_0242ac1c0002row1_col2\" class=\"data row1 col2\" >0.013923</td>\n",
       "                        <td id=\"T_516fb688_0fa4_11eb_b372_0242ac1c0002row1_col3\" class=\"data row1 col3\" >0.230888</td>\n",
       "                        <td id=\"T_516fb688_0fa4_11eb_b372_0242ac1c0002row1_col4\" class=\"data row1 col4\" >0.138471</td>\n",
       "                        <td id=\"T_516fb688_0fa4_11eb_b372_0242ac1c0002row1_col5\" class=\"data row1 col5\" >0.275953</td>\n",
       "                        <td id=\"T_516fb688_0fa4_11eb_b372_0242ac1c0002row1_col6\" class=\"data row1 col6\" >-0.050781</td>\n",
       "                        <td id=\"T_516fb688_0fa4_11eb_b372_0242ac1c0002row1_col7\" class=\"data row1 col7\" >0.004737</td>\n",
       "                        <td id=\"T_516fb688_0fa4_11eb_b372_0242ac1c0002row1_col8\" class=\"data row1 col8\" >-0.007755</td>\n",
       "                        <td id=\"T_516fb688_0fa4_11eb_b372_0242ac1c0002row1_col9\" class=\"data row1 col9\" >-0.002344</td>\n",
       "                        <td id=\"T_516fb688_0fa4_11eb_b372_0242ac1c0002row1_col10\" class=\"data row1 col10\" >-0.009528</td>\n",
       "                        <td id=\"T_516fb688_0fa4_11eb_b372_0242ac1c0002row1_col11\" class=\"data row1 col11\" >nan</td>\n",
       "                        <td id=\"T_516fb688_0fa4_11eb_b372_0242ac1c0002row1_col12\" class=\"data row1 col12\" >0.016552</td>\n",
       "                        <td id=\"T_516fb688_0fa4_11eb_b372_0242ac1c0002row1_col13\" class=\"data row1 col13\" >0.002659</td>\n",
       "                        <td id=\"T_516fb688_0fa4_11eb_b372_0242ac1c0002row1_col14\" class=\"data row1 col14\" >0.000595</td>\n",
       "                        <td id=\"T_516fb688_0fa4_11eb_b372_0242ac1c0002row1_col15\" class=\"data row1 col15\" >-0.017770</td>\n",
       "                        <td id=\"T_516fb688_0fa4_11eb_b372_0242ac1c0002row1_col16\" class=\"data row1 col16\" >-0.008809</td>\n",
       "                        <td id=\"T_516fb688_0fa4_11eb_b372_0242ac1c0002row1_col17\" class=\"data row1 col17\" >-0.001930</td>\n",
       "                        <td id=\"T_516fb688_0fa4_11eb_b372_0242ac1c0002row1_col18\" class=\"data row1 col18\" >-0.003635</td>\n",
       "                        <td id=\"T_516fb688_0fa4_11eb_b372_0242ac1c0002row1_col19\" class=\"data row1 col19\" >0.005200</td>\n",
       "                        <td id=\"T_516fb688_0fa4_11eb_b372_0242ac1c0002row1_col20\" class=\"data row1 col20\" >-0.001007</td>\n",
       "                        <td id=\"T_516fb688_0fa4_11eb_b372_0242ac1c0002row1_col21\" class=\"data row1 col21\" >0.100137</td>\n",
       "                        <td id=\"T_516fb688_0fa4_11eb_b372_0242ac1c0002row1_col22\" class=\"data row1 col22\" >-0.014247</td>\n",
       "                        <td id=\"T_516fb688_0fa4_11eb_b372_0242ac1c0002row1_col23\" class=\"data row1 col23\" >-0.003791</td>\n",
       "                        <td id=\"T_516fb688_0fa4_11eb_b372_0242ac1c0002row1_col24\" class=\"data row1 col24\" >nan</td>\n",
       "                        <td id=\"T_516fb688_0fa4_11eb_b372_0242ac1c0002row1_col25\" class=\"data row1 col25\" >nan</td>\n",
       "                        <td id=\"T_516fb688_0fa4_11eb_b372_0242ac1c0002row1_col26\" class=\"data row1 col26\" >-0.003981</td>\n",
       "                        <td id=\"T_516fb688_0fa4_11eb_b372_0242ac1c0002row1_col27\" class=\"data row1 col27\" >0.064560</td>\n",
       "                        <td id=\"T_516fb688_0fa4_11eb_b372_0242ac1c0002row1_col28\" class=\"data row1 col28\" >0.037476</td>\n",
       "                        <td id=\"T_516fb688_0fa4_11eb_b372_0242ac1c0002row1_col29\" class=\"data row1 col29\" >0.025644</td>\n",
       "                        <td id=\"T_516fb688_0fa4_11eb_b372_0242ac1c0002row1_col30\" class=\"data row1 col30\" >0.111876</td>\n",
       "                        <td id=\"T_516fb688_0fa4_11eb_b372_0242ac1c0002row1_col31\" class=\"data row1 col31\" >-0.041207</td>\n",
       "                        <td id=\"T_516fb688_0fa4_11eb_b372_0242ac1c0002row1_col32\" class=\"data row1 col32\" >0.049153</td>\n",
       "                        <td id=\"T_516fb688_0fa4_11eb_b372_0242ac1c0002row1_col33\" class=\"data row1 col33\" >0.006784</td>\n",
       "                        <td id=\"T_516fb688_0fa4_11eb_b372_0242ac1c0002row1_col34\" class=\"data row1 col34\" >-0.001783</td>\n",
       "                        <td id=\"T_516fb688_0fa4_11eb_b372_0242ac1c0002row1_col35\" class=\"data row1 col35\" >0.328828</td>\n",
       "                        <td id=\"T_516fb688_0fa4_11eb_b372_0242ac1c0002row1_col36\" class=\"data row1 col36\" >0.114754</td>\n",
       "                        <td id=\"T_516fb688_0fa4_11eb_b372_0242ac1c0002row1_col37\" class=\"data row1 col37\" >0.674595</td>\n",
       "                        <td id=\"T_516fb688_0fa4_11eb_b372_0242ac1c0002row1_col38\" class=\"data row1 col38\" >0.732844</td>\n",
       "                        <td id=\"T_516fb688_0fa4_11eb_b372_0242ac1c0002row1_col39\" class=\"data row1 col39\" >0.258944</td>\n",
       "                        <td id=\"T_516fb688_0fa4_11eb_b372_0242ac1c0002row1_col40\" class=\"data row1 col40\" >0.135242</td>\n",
       "                        <td id=\"T_516fb688_0fa4_11eb_b372_0242ac1c0002row1_col41\" class=\"data row1 col41\" >0.322335</td>\n",
       "                        <td id=\"T_516fb688_0fa4_11eb_b372_0242ac1c0002row1_col42\" class=\"data row1 col42\" >0.155882</td>\n",
       "            </tr>\n",
       "            <tr>\n",
       "                        <th id=\"T_516fb688_0fa4_11eb_b372_0242ac1c0002level0_row2\" class=\"row_heading level0 row2\" >num_procedures</th>\n",
       "                        <td id=\"T_516fb688_0fa4_11eb_b372_0242ac1c0002row2_col0\" class=\"data row2 col0\" >0.144392</td>\n",
       "                        <td id=\"T_516fb688_0fa4_11eb_b372_0242ac1c0002row2_col1\" class=\"data row2 col1\" >0.013923</td>\n",
       "                        <td id=\"T_516fb688_0fa4_11eb_b372_0242ac1c0002row2_col2\" class=\"data row2 col2\" >1.000000</td>\n",
       "                        <td id=\"T_516fb688_0fa4_11eb_b372_0242ac1c0002row2_col3\" class=\"data row2 col3\" >0.334918</td>\n",
       "                        <td id=\"T_516fb688_0fa4_11eb_b372_0242ac1c0002row2_col4\" class=\"data row2 col4\" >0.060380</td>\n",
       "                        <td id=\"T_516fb688_0fa4_11eb_b372_0242ac1c0002row2_col5\" class=\"data row2 col5\" >-0.029517</td>\n",
       "                        <td id=\"T_516fb688_0fa4_11eb_b372_0242ac1c0002row2_col6\" class=\"data row2 col6\" >-0.057326</td>\n",
       "                        <td id=\"T_516fb688_0fa4_11eb_b372_0242ac1c0002row2_col7\" class=\"data row2 col7\" >0.003596</td>\n",
       "                        <td id=\"T_516fb688_0fa4_11eb_b372_0242ac1c0002row2_col8\" class=\"data row2 col8\" >-0.005481</td>\n",
       "                        <td id=\"T_516fb688_0fa4_11eb_b372_0242ac1c0002row2_col9\" class=\"data row2 col9\" >0.005286</td>\n",
       "                        <td id=\"T_516fb688_0fa4_11eb_b372_0242ac1c0002row2_col10\" class=\"data row2 col10\" >0.005021</td>\n",
       "                        <td id=\"T_516fb688_0fa4_11eb_b372_0242ac1c0002row2_col11\" class=\"data row2 col11\" >nan</td>\n",
       "                        <td id=\"T_516fb688_0fa4_11eb_b372_0242ac1c0002row2_col12\" class=\"data row2 col12\" >0.004639</td>\n",
       "                        <td id=\"T_516fb688_0fa4_11eb_b372_0242ac1c0002row2_col13\" class=\"data row2 col13\" >0.002828</td>\n",
       "                        <td id=\"T_516fb688_0fa4_11eb_b372_0242ac1c0002row2_col14\" class=\"data row2 col14\" >0.000057</td>\n",
       "                        <td id=\"T_516fb688_0fa4_11eb_b372_0242ac1c0002row2_col15\" class=\"data row2 col15\" >0.012495</td>\n",
       "                        <td id=\"T_516fb688_0fa4_11eb_b372_0242ac1c0002row2_col16\" class=\"data row2 col16\" >0.008016</td>\n",
       "                        <td id=\"T_516fb688_0fa4_11eb_b372_0242ac1c0002row2_col17\" class=\"data row2 col17\" >-0.001833</td>\n",
       "                        <td id=\"T_516fb688_0fa4_11eb_b372_0242ac1c0002row2_col18\" class=\"data row2 col18\" >0.001009</td>\n",
       "                        <td id=\"T_516fb688_0fa4_11eb_b372_0242ac1c0002row2_col19\" class=\"data row2 col19\" >-0.005735</td>\n",
       "                        <td id=\"T_516fb688_0fa4_11eb_b372_0242ac1c0002row2_col20\" class=\"data row2 col20\" >-0.000290</td>\n",
       "                        <td id=\"T_516fb688_0fa4_11eb_b372_0242ac1c0002row2_col21\" class=\"data row2 col21\" >0.002454</td>\n",
       "                        <td id=\"T_516fb688_0fa4_11eb_b372_0242ac1c0002row2_col22\" class=\"data row2 col22\" >-0.009110</td>\n",
       "                        <td id=\"T_516fb688_0fa4_11eb_b372_0242ac1c0002row2_col23\" class=\"data row2 col23\" >-0.003373</td>\n",
       "                        <td id=\"T_516fb688_0fa4_11eb_b372_0242ac1c0002row2_col24\" class=\"data row2 col24\" >nan</td>\n",
       "                        <td id=\"T_516fb688_0fa4_11eb_b372_0242ac1c0002row2_col25\" class=\"data row2 col25\" >nan</td>\n",
       "                        <td id=\"T_516fb688_0fa4_11eb_b372_0242ac1c0002row2_col26\" class=\"data row2 col26\" >-0.000936</td>\n",
       "                        <td id=\"T_516fb688_0fa4_11eb_b372_0242ac1c0002row2_col27\" class=\"data row2 col27\" >-0.016197</td>\n",
       "                        <td id=\"T_516fb688_0fa4_11eb_b372_0242ac1c0002row2_col28\" class=\"data row2 col28\" >-0.017345</td>\n",
       "                        <td id=\"T_516fb688_0fa4_11eb_b372_0242ac1c0002row2_col29\" class=\"data row2 col29\" >0.002086</td>\n",
       "                        <td id=\"T_516fb688_0fa4_11eb_b372_0242ac1c0002row2_col30\" class=\"data row2 col30\" >-0.010997</td>\n",
       "                        <td id=\"T_516fb688_0fa4_11eb_b372_0242ac1c0002row2_col31\" class=\"data row2 col31\" >-0.017295</td>\n",
       "                        <td id=\"T_516fb688_0fa4_11eb_b372_0242ac1c0002row2_col32\" class=\"data row2 col32\" >-0.012699</td>\n",
       "                        <td id=\"T_516fb688_0fa4_11eb_b372_0242ac1c0002row2_col33\" class=\"data row2 col33\" >-0.026767</td>\n",
       "                        <td id=\"T_516fb688_0fa4_11eb_b372_0242ac1c0002row2_col34\" class=\"data row2 col34\" >-0.030508</td>\n",
       "                        <td id=\"T_516fb688_0fa4_11eb_b372_0242ac1c0002row2_col35\" class=\"data row2 col35\" >0.263700</td>\n",
       "                        <td id=\"T_516fb688_0fa4_11eb_b372_0242ac1c0002row2_col36\" class=\"data row2 col36\" >0.877783</td>\n",
       "                        <td id=\"T_516fb688_0fa4_11eb_b372_0242ac1c0002row2_col37\" class=\"data row2 col37\" >0.138598</td>\n",
       "                        <td id=\"T_516fb688_0fa4_11eb_b372_0242ac1c0002row2_col38\" class=\"data row2 col38\" >0.244440</td>\n",
       "                        <td id=\"T_516fb688_0fa4_11eb_b372_0242ac1c0002row2_col39\" class=\"data row2 col39\" >0.292403</td>\n",
       "                        <td id=\"T_516fb688_0fa4_11eb_b372_0242ac1c0002row2_col40\" class=\"data row2 col40\" >0.109633</td>\n",
       "                        <td id=\"T_516fb688_0fa4_11eb_b372_0242ac1c0002row2_col41\" class=\"data row2 col41\" >0.153126</td>\n",
       "                        <td id=\"T_516fb688_0fa4_11eb_b372_0242ac1c0002row2_col42\" class=\"data row2 col42\" >0.075090</td>\n",
       "            </tr>\n",
       "            <tr>\n",
       "                        <th id=\"T_516fb688_0fa4_11eb_b372_0242ac1c0002level0_row3\" class=\"row_heading level0 row3\" >num_medications</th>\n",
       "                        <td id=\"T_516fb688_0fa4_11eb_b372_0242ac1c0002row3_col0\" class=\"data row3 col0\" >0.441167</td>\n",
       "                        <td id=\"T_516fb688_0fa4_11eb_b372_0242ac1c0002row3_col1\" class=\"data row3 col1\" >0.230888</td>\n",
       "                        <td id=\"T_516fb688_0fa4_11eb_b372_0242ac1c0002row3_col2\" class=\"data row3 col2\" >0.334918</td>\n",
       "                        <td id=\"T_516fb688_0fa4_11eb_b372_0242ac1c0002row3_col3\" class=\"data row3 col3\" >1.000000</td>\n",
       "                        <td id=\"T_516fb688_0fa4_11eb_b372_0242ac1c0002row3_col4\" class=\"data row3 col4\" >0.246879</td>\n",
       "                        <td id=\"T_516fb688_0fa4_11eb_b372_0242ac1c0002row3_col5\" class=\"data row3 col5\" >0.017807</td>\n",
       "                        <td id=\"T_516fb688_0fa4_11eb_b372_0242ac1c0002row3_col6\" class=\"data row3 col6\" >0.079213</td>\n",
       "                        <td id=\"T_516fb688_0fa4_11eb_b372_0242ac1c0002row3_col7\" class=\"data row3 col7\" >0.025270</td>\n",
       "                        <td id=\"T_516fb688_0fa4_11eb_b372_0242ac1c0002row3_col8\" class=\"data row3 col8\" >0.029485</td>\n",
       "                        <td id=\"T_516fb688_0fa4_11eb_b372_0242ac1c0002row3_col9\" class=\"data row3 col9\" >0.002097</td>\n",
       "                        <td id=\"T_516fb688_0fa4_11eb_b372_0242ac1c0002row3_col10\" class=\"data row3 col10\" >0.043243</td>\n",
       "                        <td id=\"T_516fb688_0fa4_11eb_b372_0242ac1c0002row3_col11\" class=\"data row3 col11\" >nan</td>\n",
       "                        <td id=\"T_516fb688_0fa4_11eb_b372_0242ac1c0002row3_col12\" class=\"data row3 col12\" >0.055362</td>\n",
       "                        <td id=\"T_516fb688_0fa4_11eb_b372_0242ac1c0002row3_col13\" class=\"data row3 col13\" >0.043031</td>\n",
       "                        <td id=\"T_516fb688_0fa4_11eb_b372_0242ac1c0002row3_col14\" class=\"data row3 col14\" >0.005079</td>\n",
       "                        <td id=\"T_516fb688_0fa4_11eb_b372_0242ac1c0002row3_col15\" class=\"data row3 col15\" >0.074775</td>\n",
       "                        <td id=\"T_516fb688_0fa4_11eb_b372_0242ac1c0002row3_col16\" class=\"data row3 col16\" >0.058254</td>\n",
       "                        <td id=\"T_516fb688_0fa4_11eb_b372_0242ac1c0002row3_col17\" class=\"data row3 col17\" >0.013927</td>\n",
       "                        <td id=\"T_516fb688_0fa4_11eb_b372_0242ac1c0002row3_col18\" class=\"data row3 col18\" >0.003052</td>\n",
       "                        <td id=\"T_516fb688_0fa4_11eb_b372_0242ac1c0002row3_col19\" class=\"data row3 col19\" >0.004254</td>\n",
       "                        <td id=\"T_516fb688_0fa4_11eb_b372_0242ac1c0002row3_col20\" class=\"data row3 col20\" >-0.001558</td>\n",
       "                        <td id=\"T_516fb688_0fa4_11eb_b372_0242ac1c0002row3_col21\" class=\"data row3 col21\" >0.194339</td>\n",
       "                        <td id=\"T_516fb688_0fa4_11eb_b372_0242ac1c0002row3_col22\" class=\"data row3 col22\" >0.008746</td>\n",
       "                        <td id=\"T_516fb688_0fa4_11eb_b372_0242ac1c0002row3_col23\" class=\"data row3 col23\" >0.004263</td>\n",
       "                        <td id=\"T_516fb688_0fa4_11eb_b372_0242ac1c0002row3_col24\" class=\"data row3 col24\" >nan</td>\n",
       "                        <td id=\"T_516fb688_0fa4_11eb_b372_0242ac1c0002row3_col25\" class=\"data row3 col25\" >nan</td>\n",
       "                        <td id=\"T_516fb688_0fa4_11eb_b372_0242ac1c0002row3_col26\" class=\"data row3 col26\" >0.002838</td>\n",
       "                        <td id=\"T_516fb688_0fa4_11eb_b372_0242ac1c0002row3_col27\" class=\"data row3 col27\" >0.233256</td>\n",
       "                        <td id=\"T_516fb688_0fa4_11eb_b372_0242ac1c0002row3_col28\" class=\"data row3 col28\" >0.190055</td>\n",
       "                        <td id=\"T_516fb688_0fa4_11eb_b372_0242ac1c0002row3_col29\" class=\"data row3 col29\" >0.038768</td>\n",
       "                        <td id=\"T_516fb688_0fa4_11eb_b372_0242ac1c0002row3_col30\" class=\"data row3 col30\" >0.193801</td>\n",
       "                        <td id=\"T_516fb688_0fa4_11eb_b372_0242ac1c0002row3_col31\" class=\"data row3 col31\" >0.031576</td>\n",
       "                        <td id=\"T_516fb688_0fa4_11eb_b372_0242ac1c0002row3_col32\" class=\"data row3 col32\" >0.034802</td>\n",
       "                        <td id=\"T_516fb688_0fa4_11eb_b372_0242ac1c0002row3_col33\" class=\"data row3 col33\" >0.013399</td>\n",
       "                        <td id=\"T_516fb688_0fa4_11eb_b372_0242ac1c0002row3_col34\" class=\"data row3 col34\" >0.045034</td>\n",
       "                        <td id=\"T_516fb688_0fa4_11eb_b372_0242ac1c0002row3_col35\" class=\"data row3 col35\" >0.752726</td>\n",
       "                        <td id=\"T_516fb688_0fa4_11eb_b372_0242ac1c0002row3_col36\" class=\"data row3 col36\" >0.599321</td>\n",
       "                        <td id=\"T_516fb688_0fa4_11eb_b372_0242ac1c0002row3_col37\" class=\"data row3 col37\" >0.439898</td>\n",
       "                        <td id=\"T_516fb688_0fa4_11eb_b372_0242ac1c0002row3_col38\" class=\"data row3 col38\" >0.772237</td>\n",
       "                        <td id=\"T_516fb688_0fa4_11eb_b372_0242ac1c0002row3_col39\" class=\"data row3 col39\" >0.898603</td>\n",
       "                        <td id=\"T_516fb688_0fa4_11eb_b372_0242ac1c0002row3_col40\" class=\"data row3 col40\" >0.530894</td>\n",
       "                        <td id=\"T_516fb688_0fa4_11eb_b372_0242ac1c0002row3_col41\" class=\"data row3 col41\" >0.459725</td>\n",
       "                        <td id=\"T_516fb688_0fa4_11eb_b372_0242ac1c0002row3_col42\" class=\"data row3 col42\" >0.392592</td>\n",
       "            </tr>\n",
       "            <tr>\n",
       "                        <th id=\"T_516fb688_0fa4_11eb_b372_0242ac1c0002level0_row4\" class=\"row_heading level0 row4\" >number_diagnoses</th>\n",
       "                        <td id=\"T_516fb688_0fa4_11eb_b372_0242ac1c0002row4_col0\" class=\"data row4 col0\" >0.224011</td>\n",
       "                        <td id=\"T_516fb688_0fa4_11eb_b372_0242ac1c0002row4_col1\" class=\"data row4 col1\" >0.138471</td>\n",
       "                        <td id=\"T_516fb688_0fa4_11eb_b372_0242ac1c0002row4_col2\" class=\"data row4 col2\" >0.060380</td>\n",
       "                        <td id=\"T_516fb688_0fa4_11eb_b372_0242ac1c0002row4_col3\" class=\"data row4 col3\" >0.246879</td>\n",
       "                        <td id=\"T_516fb688_0fa4_11eb_b372_0242ac1c0002row4_col4\" class=\"data row4 col4\" >1.000000</td>\n",
       "                        <td id=\"T_516fb688_0fa4_11eb_b372_0242ac1c0002row4_col5\" class=\"data row4 col5\" >0.002965</td>\n",
       "                        <td id=\"T_516fb688_0fa4_11eb_b372_0242ac1c0002row4_col6\" class=\"data row4 col6\" >-0.072136</td>\n",
       "                        <td id=\"T_516fb688_0fa4_11eb_b372_0242ac1c0002row4_col7\" class=\"data row4 col7\" >0.031346</td>\n",
       "                        <td id=\"T_516fb688_0fa4_11eb_b372_0242ac1c0002row4_col8\" class=\"data row4 col8\" >0.014555</td>\n",
       "                        <td id=\"T_516fb688_0fa4_11eb_b372_0242ac1c0002row4_col9\" class=\"data row4 col9\" >-0.015598</td>\n",
       "                        <td id=\"T_516fb688_0fa4_11eb_b372_0242ac1c0002row4_col10\" class=\"data row4 col10\" >0.011962</td>\n",
       "                        <td id=\"T_516fb688_0fa4_11eb_b372_0242ac1c0002row4_col11\" class=\"data row4 col11\" >nan</td>\n",
       "                        <td id=\"T_516fb688_0fa4_11eb_b372_0242ac1c0002row4_col12\" class=\"data row4 col12\" >-0.012608</td>\n",
       "                        <td id=\"T_516fb688_0fa4_11eb_b372_0242ac1c0002row4_col13\" class=\"data row4 col13\" >-0.024172</td>\n",
       "                        <td id=\"T_516fb688_0fa4_11eb_b372_0242ac1c0002row4_col14\" class=\"data row4 col14\" >0.000012</td>\n",
       "                        <td id=\"T_516fb688_0fa4_11eb_b372_0242ac1c0002row4_col15\" class=\"data row4 col15\" >0.004104</td>\n",
       "                        <td id=\"T_516fb688_0fa4_11eb_b372_0242ac1c0002row4_col16\" class=\"data row4 col16\" >-0.006777</td>\n",
       "                        <td id=\"T_516fb688_0fa4_11eb_b372_0242ac1c0002row4_col17\" class=\"data row4 col17\" >0.006827</td>\n",
       "                        <td id=\"T_516fb688_0fa4_11eb_b372_0242ac1c0002row4_col18\" class=\"data row4 col18\" >-0.001207</td>\n",
       "                        <td id=\"T_516fb688_0fa4_11eb_b372_0242ac1c0002row4_col19\" class=\"data row4 col19\" >0.005222</td>\n",
       "                        <td id=\"T_516fb688_0fa4_11eb_b372_0242ac1c0002row4_col20\" class=\"data row4 col20\" >-0.010419</td>\n",
       "                        <td id=\"T_516fb688_0fa4_11eb_b372_0242ac1c0002row4_col21\" class=\"data row4 col21\" >0.090370</td>\n",
       "                        <td id=\"T_516fb688_0fa4_11eb_b372_0242ac1c0002row4_col22\" class=\"data row4 col22\" >-0.002435</td>\n",
       "                        <td id=\"T_516fb688_0fa4_11eb_b372_0242ac1c0002row4_col23\" class=\"data row4 col23\" >0.001743</td>\n",
       "                        <td id=\"T_516fb688_0fa4_11eb_b372_0242ac1c0002row4_col24\" class=\"data row4 col24\" >nan</td>\n",
       "                        <td id=\"T_516fb688_0fa4_11eb_b372_0242ac1c0002row4_col25\" class=\"data row4 col25\" >nan</td>\n",
       "                        <td id=\"T_516fb688_0fa4_11eb_b372_0242ac1c0002row4_col26\" class=\"data row4 col26\" >-0.007024</td>\n",
       "                        <td id=\"T_516fb688_0fa4_11eb_b372_0242ac1c0002row4_col27\" class=\"data row4 col27\" >0.042334</td>\n",
       "                        <td id=\"T_516fb688_0fa4_11eb_b372_0242ac1c0002row4_col28\" class=\"data row4 col28\" >0.022503</td>\n",
       "                        <td id=\"T_516fb688_0fa4_11eb_b372_0242ac1c0002row4_col29\" class=\"data row4 col29\" >0.039630</td>\n",
       "                        <td id=\"T_516fb688_0fa4_11eb_b372_0242ac1c0002row4_col30\" class=\"data row4 col30\" >0.065829</td>\n",
       "                        <td id=\"T_516fb688_0fa4_11eb_b372_0242ac1c0002row4_col31\" class=\"data row4 col31\" >0.057902</td>\n",
       "                        <td id=\"T_516fb688_0fa4_11eb_b372_0242ac1c0002row4_col32\" class=\"data row4 col32\" >0.051598</td>\n",
       "                        <td id=\"T_516fb688_0fa4_11eb_b372_0242ac1c0002row4_col33\" class=\"data row4 col33\" >0.050317</td>\n",
       "                        <td id=\"T_516fb688_0fa4_11eb_b372_0242ac1c0002row4_col34\" class=\"data row4 col34\" >0.086039</td>\n",
       "                        <td id=\"T_516fb688_0fa4_11eb_b372_0242ac1c0002row4_col35\" class=\"data row4 col35\" >0.244135</td>\n",
       "                        <td id=\"T_516fb688_0fa4_11eb_b372_0242ac1c0002row4_col36\" class=\"data row4 col36\" >0.111045</td>\n",
       "                        <td id=\"T_516fb688_0fa4_11eb_b372_0242ac1c0002row4_col37\" class=\"data row4 col37\" >0.219112</td>\n",
       "                        <td id=\"T_516fb688_0fa4_11eb_b372_0242ac1c0002row4_col38\" class=\"data row4 col38\" >0.250720</td>\n",
       "                        <td id=\"T_516fb688_0fa4_11eb_b372_0242ac1c0002row4_col39\" class=\"data row4 col39\" >0.599241</td>\n",
       "                        <td id=\"T_516fb688_0fa4_11eb_b372_0242ac1c0002row4_col40\" class=\"data row4 col40\" >0.123807</td>\n",
       "                        <td id=\"T_516fb688_0fa4_11eb_b372_0242ac1c0002row4_col41\" class=\"data row4 col41\" >0.484368</td>\n",
       "                        <td id=\"T_516fb688_0fa4_11eb_b372_0242ac1c0002row4_col42\" class=\"data row4 col42\" >0.120178</td>\n",
       "            </tr>\n",
       "            <tr>\n",
       "                        <th id=\"T_516fb688_0fa4_11eb_b372_0242ac1c0002level0_row5\" class=\"row_heading level0 row5\" >A1Cresult</th>\n",
       "                        <td id=\"T_516fb688_0fa4_11eb_b372_0242ac1c0002row5_col0\" class=\"data row5 col0\" >0.074127</td>\n",
       "                        <td id=\"T_516fb688_0fa4_11eb_b372_0242ac1c0002row5_col1\" class=\"data row5 col1\" >0.275953</td>\n",
       "                        <td id=\"T_516fb688_0fa4_11eb_b372_0242ac1c0002row5_col2\" class=\"data row5 col2\" >-0.029517</td>\n",
       "                        <td id=\"T_516fb688_0fa4_11eb_b372_0242ac1c0002row5_col3\" class=\"data row5 col3\" >0.017807</td>\n",
       "                        <td id=\"T_516fb688_0fa4_11eb_b372_0242ac1c0002row5_col4\" class=\"data row5 col4\" >0.002965</td>\n",
       "                        <td id=\"T_516fb688_0fa4_11eb_b372_0242ac1c0002row5_col5\" class=\"data row5 col5\" >1.000000</td>\n",
       "                        <td id=\"T_516fb688_0fa4_11eb_b372_0242ac1c0002row5_col6\" class=\"data row5 col6\" >0.037758</td>\n",
       "                        <td id=\"T_516fb688_0fa4_11eb_b372_0242ac1c0002row5_col7\" class=\"data row5 col7\" >0.017018</td>\n",
       "                        <td id=\"T_516fb688_0fa4_11eb_b372_0242ac1c0002row5_col8\" class=\"data row5 col8\" >0.001161</td>\n",
       "                        <td id=\"T_516fb688_0fa4_11eb_b372_0242ac1c0002row5_col9\" class=\"data row5 col9\" >-0.001984</td>\n",
       "                        <td id=\"T_516fb688_0fa4_11eb_b372_0242ac1c0002row5_col10\" class=\"data row5 col10\" >0.018481</td>\n",
       "                        <td id=\"T_516fb688_0fa4_11eb_b372_0242ac1c0002row5_col11\" class=\"data row5 col11\" >nan</td>\n",
       "                        <td id=\"T_516fb688_0fa4_11eb_b372_0242ac1c0002row5_col12\" class=\"data row5 col12\" >0.008055</td>\n",
       "                        <td id=\"T_516fb688_0fa4_11eb_b372_0242ac1c0002row5_col13\" class=\"data row5 col13\" >0.003427</td>\n",
       "                        <td id=\"T_516fb688_0fa4_11eb_b372_0242ac1c0002row5_col14\" class=\"data row5 col14\" >-0.001884</td>\n",
       "                        <td id=\"T_516fb688_0fa4_11eb_b372_0242ac1c0002row5_col15\" class=\"data row5 col15\" >-0.003550</td>\n",
       "                        <td id=\"T_516fb688_0fa4_11eb_b372_0242ac1c0002row5_col16\" class=\"data row5 col16\" >0.004826</td>\n",
       "                        <td id=\"T_516fb688_0fa4_11eb_b372_0242ac1c0002row5_col17\" class=\"data row5 col17\" >0.000822</td>\n",
       "                        <td id=\"T_516fb688_0fa4_11eb_b372_0242ac1c0002row5_col18\" class=\"data row5 col18\" >-0.002303</td>\n",
       "                        <td id=\"T_516fb688_0fa4_11eb_b372_0242ac1c0002row5_col19\" class=\"data row5 col19\" >-0.003314</td>\n",
       "                        <td id=\"T_516fb688_0fa4_11eb_b372_0242ac1c0002row5_col20\" class=\"data row5 col20\" >-0.001725</td>\n",
       "                        <td id=\"T_516fb688_0fa4_11eb_b372_0242ac1c0002row5_col21\" class=\"data row5 col21\" >0.097721</td>\n",
       "                        <td id=\"T_516fb688_0fa4_11eb_b372_0242ac1c0002row5_col22\" class=\"data row5 col22\" >-0.002506</td>\n",
       "                        <td id=\"T_516fb688_0fa4_11eb_b372_0242ac1c0002row5_col23\" class=\"data row5 col23\" >0.003027</td>\n",
       "                        <td id=\"T_516fb688_0fa4_11eb_b372_0242ac1c0002row5_col24\" class=\"data row5 col24\" >nan</td>\n",
       "                        <td id=\"T_516fb688_0fa4_11eb_b372_0242ac1c0002row5_col25\" class=\"data row5 col25\" >nan</td>\n",
       "                        <td id=\"T_516fb688_0fa4_11eb_b372_0242ac1c0002row5_col26\" class=\"data row5 col26\" >-0.001913</td>\n",
       "                        <td id=\"T_516fb688_0fa4_11eb_b372_0242ac1c0002row5_col27\" class=\"data row5 col27\" >0.093606</td>\n",
       "                        <td id=\"T_516fb688_0fa4_11eb_b372_0242ac1c0002row5_col28\" class=\"data row5 col28\" >0.072348</td>\n",
       "                        <td id=\"T_516fb688_0fa4_11eb_b372_0242ac1c0002row5_col29\" class=\"data row5 col29\" >-0.005258</td>\n",
       "                        <td id=\"T_516fb688_0fa4_11eb_b372_0242ac1c0002row5_col30\" class=\"data row5 col30\" >0.111597</td>\n",
       "                        <td id=\"T_516fb688_0fa4_11eb_b372_0242ac1c0002row5_col31\" class=\"data row5 col31\" >-0.032616</td>\n",
       "                        <td id=\"T_516fb688_0fa4_11eb_b372_0242ac1c0002row5_col32\" class=\"data row5 col32\" >-0.044000</td>\n",
       "                        <td id=\"T_516fb688_0fa4_11eb_b372_0242ac1c0002row5_col33\" class=\"data row5 col33\" >-0.011517</td>\n",
       "                        <td id=\"T_516fb688_0fa4_11eb_b372_0242ac1c0002row5_col34\" class=\"data row5 col34\" >-0.050729</td>\n",
       "                        <td id=\"T_516fb688_0fa4_11eb_b372_0242ac1c0002row5_col35\" class=\"data row5 col35\" >0.062720</td>\n",
       "                        <td id=\"T_516fb688_0fa4_11eb_b372_0242ac1c0002row5_col36\" class=\"data row5 col36\" >0.001700</td>\n",
       "                        <td id=\"T_516fb688_0fa4_11eb_b372_0242ac1c0002row5_col37\" class=\"data row5 col37\" >0.179762</td>\n",
       "                        <td id=\"T_516fb688_0fa4_11eb_b372_0242ac1c0002row5_col38\" class=\"data row5 col38\" >0.178755</td>\n",
       "                        <td id=\"T_516fb688_0fa4_11eb_b372_0242ac1c0002row5_col39\" class=\"data row5 col39\" >0.028221</td>\n",
       "                        <td id=\"T_516fb688_0fa4_11eb_b372_0242ac1c0002row5_col40\" class=\"data row5 col40\" >0.078234</td>\n",
       "                        <td id=\"T_516fb688_0fa4_11eb_b372_0242ac1c0002row5_col41\" class=\"data row5 col41\" >0.061569</td>\n",
       "                        <td id=\"T_516fb688_0fa4_11eb_b372_0242ac1c0002row5_col42\" class=\"data row5 col42\" >0.099571</td>\n",
       "            </tr>\n",
       "            <tr>\n",
       "                        <th id=\"T_516fb688_0fa4_11eb_b372_0242ac1c0002level0_row6\" class=\"row_heading level0 row6\" >metformin</th>\n",
       "                        <td id=\"T_516fb688_0fa4_11eb_b372_0242ac1c0002row6_col0\" class=\"data row6 col0\" >-0.012421</td>\n",
       "                        <td id=\"T_516fb688_0fa4_11eb_b372_0242ac1c0002row6_col1\" class=\"data row6 col1\" >-0.050781</td>\n",
       "                        <td id=\"T_516fb688_0fa4_11eb_b372_0242ac1c0002row6_col2\" class=\"data row6 col2\" >-0.057326</td>\n",
       "                        <td id=\"T_516fb688_0fa4_11eb_b372_0242ac1c0002row6_col3\" class=\"data row6 col3\" >0.079213</td>\n",
       "                        <td id=\"T_516fb688_0fa4_11eb_b372_0242ac1c0002row6_col4\" class=\"data row6 col4\" >-0.072136</td>\n",
       "                        <td id=\"T_516fb688_0fa4_11eb_b372_0242ac1c0002row6_col5\" class=\"data row6 col5\" >0.037758</td>\n",
       "                        <td id=\"T_516fb688_0fa4_11eb_b372_0242ac1c0002row6_col6\" class=\"data row6 col6\" >1.000000</td>\n",
       "                        <td id=\"T_516fb688_0fa4_11eb_b372_0242ac1c0002row6_col7\" class=\"data row6 col7\" >0.004808</td>\n",
       "                        <td id=\"T_516fb688_0fa4_11eb_b372_0242ac1c0002row6_col8\" class=\"data row6 col8\" >0.015700</td>\n",
       "                        <td id=\"T_516fb688_0fa4_11eb_b372_0242ac1c0002row6_col9\" class=\"data row6 col9\" >-0.011728</td>\n",
       "                        <td id=\"T_516fb688_0fa4_11eb_b372_0242ac1c0002row6_col10\" class=\"data row6 col10\" >0.040138</td>\n",
       "                        <td id=\"T_516fb688_0fa4_11eb_b372_0242ac1c0002row6_col11\" class=\"data row6 col11\" >nan</td>\n",
       "                        <td id=\"T_516fb688_0fa4_11eb_b372_0242ac1c0002row6_col12\" class=\"data row6 col12\" >0.074350</td>\n",
       "                        <td id=\"T_516fb688_0fa4_11eb_b372_0242ac1c0002row6_col13\" class=\"data row6 col13\" >0.137700</td>\n",
       "                        <td id=\"T_516fb688_0fa4_11eb_b372_0242ac1c0002row6_col14\" class=\"data row6 col14\" >-0.008118</td>\n",
       "                        <td id=\"T_516fb688_0fa4_11eb_b372_0242ac1c0002row6_col15\" class=\"data row6 col15\" >0.053039</td>\n",
       "                        <td id=\"T_516fb688_0fa4_11eb_b372_0242ac1c0002row6_col16\" class=\"data row6 col16\" >0.094224</td>\n",
       "                        <td id=\"T_516fb688_0fa4_11eb_b372_0242ac1c0002row6_col17\" class=\"data row6 col17\" >0.007915</td>\n",
       "                        <td id=\"T_516fb688_0fa4_11eb_b372_0242ac1c0002row6_col18\" class=\"data row6 col18\" >0.011794</td>\n",
       "                        <td id=\"T_516fb688_0fa4_11eb_b372_0242ac1c0002row6_col19\" class=\"data row6 col19\" >-0.003630</td>\n",
       "                        <td id=\"T_516fb688_0fa4_11eb_b372_0242ac1c0002row6_col20\" class=\"data row6 col20\" >-0.001183</td>\n",
       "                        <td id=\"T_516fb688_0fa4_11eb_b372_0242ac1c0002row6_col21\" class=\"data row6 col21\" >-0.024419</td>\n",
       "                        <td id=\"T_516fb688_0fa4_11eb_b372_0242ac1c0002row6_col22\" class=\"data row6 col22\" >-0.026028</td>\n",
       "                        <td id=\"T_516fb688_0fa4_11eb_b372_0242ac1c0002row6_col23\" class=\"data row6 col23\" >-0.001732</td>\n",
       "                        <td id=\"T_516fb688_0fa4_11eb_b372_0242ac1c0002row6_col24\" class=\"data row6 col24\" >nan</td>\n",
       "                        <td id=\"T_516fb688_0fa4_11eb_b372_0242ac1c0002row6_col25\" class=\"data row6 col25\" >nan</td>\n",
       "                        <td id=\"T_516fb688_0fa4_11eb_b372_0242ac1c0002row6_col26\" class=\"data row6 col26\" >0.007992</td>\n",
       "                        <td id=\"T_516fb688_0fa4_11eb_b372_0242ac1c0002row6_col27\" class=\"data row6 col27\" >0.353272</td>\n",
       "                        <td id=\"T_516fb688_0fa4_11eb_b372_0242ac1c0002row6_col28\" class=\"data row6 col28\" >0.297217</td>\n",
       "                        <td id=\"T_516fb688_0fa4_11eb_b372_0242ac1c0002row6_col29\" class=\"data row6 col29\" >-0.010145</td>\n",
       "                        <td id=\"T_516fb688_0fa4_11eb_b372_0242ac1c0002row6_col30\" class=\"data row6 col30\" >0.019618</td>\n",
       "                        <td id=\"T_516fb688_0fa4_11eb_b372_0242ac1c0002row6_col31\" class=\"data row6 col31\" >0.026385</td>\n",
       "                        <td id=\"T_516fb688_0fa4_11eb_b372_0242ac1c0002row6_col32\" class=\"data row6 col32\" >-0.018782</td>\n",
       "                        <td id=\"T_516fb688_0fa4_11eb_b372_0242ac1c0002row6_col33\" class=\"data row6 col33\" >-0.002027</td>\n",
       "                        <td id=\"T_516fb688_0fa4_11eb_b372_0242ac1c0002row6_col34\" class=\"data row6 col34\" >0.008378</td>\n",
       "                        <td id=\"T_516fb688_0fa4_11eb_b372_0242ac1c0002row6_col35\" class=\"data row6 col35\" >0.018048</td>\n",
       "                        <td id=\"T_516fb688_0fa4_11eb_b372_0242ac1c0002row6_col36\" class=\"data row6 col36\" >-0.012299</td>\n",
       "                        <td id=\"T_516fb688_0fa4_11eb_b372_0242ac1c0002row6_col37\" class=\"data row6 col37\" >-0.035697</td>\n",
       "                        <td id=\"T_516fb688_0fa4_11eb_b372_0242ac1c0002row6_col38\" class=\"data row6 col38\" >0.008037</td>\n",
       "                        <td id=\"T_516fb688_0fa4_11eb_b372_0242ac1c0002row6_col39\" class=\"data row6 col39\" >0.029440</td>\n",
       "                        <td id=\"T_516fb688_0fa4_11eb_b372_0242ac1c0002row6_col40\" class=\"data row6 col40\" >0.300672</td>\n",
       "                        <td id=\"T_516fb688_0fa4_11eb_b372_0242ac1c0002row6_col41\" class=\"data row6 col41\" >-0.034162</td>\n",
       "                        <td id=\"T_516fb688_0fa4_11eb_b372_0242ac1c0002row6_col42\" class=\"data row6 col42\" >0.026116</td>\n",
       "            </tr>\n",
       "            <tr>\n",
       "                        <th id=\"T_516fb688_0fa4_11eb_b372_0242ac1c0002level0_row7\" class=\"row_heading level0 row7\" >repaglinide</th>\n",
       "                        <td id=\"T_516fb688_0fa4_11eb_b372_0242ac1c0002row7_col0\" class=\"data row7 col0\" >0.031130</td>\n",
       "                        <td id=\"T_516fb688_0fa4_11eb_b372_0242ac1c0002row7_col1\" class=\"data row7 col1\" >0.004737</td>\n",
       "                        <td id=\"T_516fb688_0fa4_11eb_b372_0242ac1c0002row7_col2\" class=\"data row7 col2\" >0.003596</td>\n",
       "                        <td id=\"T_516fb688_0fa4_11eb_b372_0242ac1c0002row7_col3\" class=\"data row7 col3\" >0.025270</td>\n",
       "                        <td id=\"T_516fb688_0fa4_11eb_b372_0242ac1c0002row7_col4\" class=\"data row7 col4\" >0.031346</td>\n",
       "                        <td id=\"T_516fb688_0fa4_11eb_b372_0242ac1c0002row7_col5\" class=\"data row7 col5\" >0.017018</td>\n",
       "                        <td id=\"T_516fb688_0fa4_11eb_b372_0242ac1c0002row7_col6\" class=\"data row7 col6\" >0.004808</td>\n",
       "                        <td id=\"T_516fb688_0fa4_11eb_b372_0242ac1c0002row7_col7\" class=\"data row7 col7\" >1.000000</td>\n",
       "                        <td id=\"T_516fb688_0fa4_11eb_b372_0242ac1c0002row7_col8\" class=\"data row7 col8\" >0.001098</td>\n",
       "                        <td id=\"T_516fb688_0fa4_11eb_b372_0242ac1c0002row7_col9\" class=\"data row7 col9\" >-0.003697</td>\n",
       "                        <td id=\"T_516fb688_0fa4_11eb_b372_0242ac1c0002row7_col10\" class=\"data row7 col10\" >-0.008599</td>\n",
       "                        <td id=\"T_516fb688_0fa4_11eb_b372_0242ac1c0002row7_col11\" class=\"data row7 col11\" >nan</td>\n",
       "                        <td id=\"T_516fb688_0fa4_11eb_b372_0242ac1c0002row7_col12\" class=\"data row7 col12\" >-0.020277</td>\n",
       "                        <td id=\"T_516fb688_0fa4_11eb_b372_0242ac1c0002row7_col13\" class=\"data row7 col13\" >-0.023441</td>\n",
       "                        <td id=\"T_516fb688_0fa4_11eb_b372_0242ac1c0002row7_col14\" class=\"data row7 col14\" >-0.001789</td>\n",
       "                        <td id=\"T_516fb688_0fa4_11eb_b372_0242ac1c0002row7_col15\" class=\"data row7 col15\" >0.015039</td>\n",
       "                        <td id=\"T_516fb688_0fa4_11eb_b372_0242ac1c0002row7_col16\" class=\"data row7 col16\" >0.017576</td>\n",
       "                        <td id=\"T_516fb688_0fa4_11eb_b372_0242ac1c0002row7_col17\" class=\"data row7 col17\" >0.024239</td>\n",
       "                        <td id=\"T_516fb688_0fa4_11eb_b372_0242ac1c0002row7_col18\" class=\"data row7 col18\" >0.025697</td>\n",
       "                        <td id=\"T_516fb688_0fa4_11eb_b372_0242ac1c0002row7_col19\" class=\"data row7 col19\" >-0.000800</td>\n",
       "                        <td id=\"T_516fb688_0fa4_11eb_b372_0242ac1c0002row7_col20\" class=\"data row7 col20\" >-0.002401</td>\n",
       "                        <td id=\"T_516fb688_0fa4_11eb_b372_0242ac1c0002row7_col21\" class=\"data row7 col21\" >0.009263</td>\n",
       "                        <td id=\"T_516fb688_0fa4_11eb_b372_0242ac1c0002row7_col22\" class=\"data row7 col22\" >-0.005950</td>\n",
       "                        <td id=\"T_516fb688_0fa4_11eb_b372_0242ac1c0002row7_col23\" class=\"data row7 col23\" >-0.001222</td>\n",
       "                        <td id=\"T_516fb688_0fa4_11eb_b372_0242ac1c0002row7_col24\" class=\"data row7 col24\" >nan</td>\n",
       "                        <td id=\"T_516fb688_0fa4_11eb_b372_0242ac1c0002row7_col25\" class=\"data row7 col25\" >nan</td>\n",
       "                        <td id=\"T_516fb688_0fa4_11eb_b372_0242ac1c0002row7_col26\" class=\"data row7 col26\" >-0.000462</td>\n",
       "                        <td id=\"T_516fb688_0fa4_11eb_b372_0242ac1c0002row7_col27\" class=\"data row7 col27\" >0.076469</td>\n",
       "                        <td id=\"T_516fb688_0fa4_11eb_b372_0242ac1c0002row7_col28\" class=\"data row7 col28\" >0.065508</td>\n",
       "                        <td id=\"T_516fb688_0fa4_11eb_b372_0242ac1c0002row7_col29\" class=\"data row7 col29\" >0.015210</td>\n",
       "                        <td id=\"T_516fb688_0fa4_11eb_b372_0242ac1c0002row7_col30\" class=\"data row7 col30\" >0.031696</td>\n",
       "                        <td id=\"T_516fb688_0fa4_11eb_b372_0242ac1c0002row7_col31\" class=\"data row7 col31\" >0.000443</td>\n",
       "                        <td id=\"T_516fb688_0fa4_11eb_b372_0242ac1c0002row7_col32\" class=\"data row7 col32\" >0.010728</td>\n",
       "                        <td id=\"T_516fb688_0fa4_11eb_b372_0242ac1c0002row7_col33\" class=\"data row7 col33\" >0.009063</td>\n",
       "                        <td id=\"T_516fb688_0fa4_11eb_b372_0242ac1c0002row7_col34\" class=\"data row7 col34\" >0.009623</td>\n",
       "                        <td id=\"T_516fb688_0fa4_11eb_b372_0242ac1c0002row7_col35\" class=\"data row7 col35\" >0.031432</td>\n",
       "                        <td id=\"T_516fb688_0fa4_11eb_b372_0242ac1c0002row7_col36\" class=\"data row7 col36\" >0.008609</td>\n",
       "                        <td id=\"T_516fb688_0fa4_11eb_b372_0242ac1c0002row7_col37\" class=\"data row7 col37\" >0.025028</td>\n",
       "                        <td id=\"T_516fb688_0fa4_11eb_b372_0242ac1c0002row7_col38\" class=\"data row7 col38\" >0.021517</td>\n",
       "                        <td id=\"T_516fb688_0fa4_11eb_b372_0242ac1c0002row7_col39\" class=\"data row7 col39\" >0.035126</td>\n",
       "                        <td id=\"T_516fb688_0fa4_11eb_b372_0242ac1c0002row7_col40\" class=\"data row7 col40\" >0.069362</td>\n",
       "                        <td id=\"T_516fb688_0fa4_11eb_b372_0242ac1c0002row7_col41\" class=\"data row7 col41\" >0.039709</td>\n",
       "                        <td id=\"T_516fb688_0fa4_11eb_b372_0242ac1c0002row7_col42\" class=\"data row7 col42\" >0.031813</td>\n",
       "            </tr>\n",
       "            <tr>\n",
       "                        <th id=\"T_516fb688_0fa4_11eb_b372_0242ac1c0002level0_row8\" class=\"row_heading level0 row8\" >nateglinide</th>\n",
       "                        <td id=\"T_516fb688_0fa4_11eb_b372_0242ac1c0002row8_col0\" class=\"data row8 col0\" >0.006653</td>\n",
       "                        <td id=\"T_516fb688_0fa4_11eb_b372_0242ac1c0002row8_col1\" class=\"data row8 col1\" >-0.007755</td>\n",
       "                        <td id=\"T_516fb688_0fa4_11eb_b372_0242ac1c0002row8_col2\" class=\"data row8 col2\" >-0.005481</td>\n",
       "                        <td id=\"T_516fb688_0fa4_11eb_b372_0242ac1c0002row8_col3\" class=\"data row8 col3\" >0.029485</td>\n",
       "                        <td id=\"T_516fb688_0fa4_11eb_b372_0242ac1c0002row8_col4\" class=\"data row8 col4\" >0.014555</td>\n",
       "                        <td id=\"T_516fb688_0fa4_11eb_b372_0242ac1c0002row8_col5\" class=\"data row8 col5\" >0.001161</td>\n",
       "                        <td id=\"T_516fb688_0fa4_11eb_b372_0242ac1c0002row8_col6\" class=\"data row8 col6\" >0.015700</td>\n",
       "                        <td id=\"T_516fb688_0fa4_11eb_b372_0242ac1c0002row8_col7\" class=\"data row8 col7\" >0.001098</td>\n",
       "                        <td id=\"T_516fb688_0fa4_11eb_b372_0242ac1c0002row8_col8\" class=\"data row8 col8\" >1.000000</td>\n",
       "                        <td id=\"T_516fb688_0fa4_11eb_b372_0242ac1c0002row8_col9\" class=\"data row8 col9\" >-0.002783</td>\n",
       "                        <td id=\"T_516fb688_0fa4_11eb_b372_0242ac1c0002row8_col10\" class=\"data row8 col10\" >0.008967</td>\n",
       "                        <td id=\"T_516fb688_0fa4_11eb_b372_0242ac1c0002row8_col11\" class=\"data row8 col11\" >nan</td>\n",
       "                        <td id=\"T_516fb688_0fa4_11eb_b372_0242ac1c0002row8_col12\" class=\"data row8 col12\" >-0.015822</td>\n",
       "                        <td id=\"T_516fb688_0fa4_11eb_b372_0242ac1c0002row8_col13\" class=\"data row8 col13\" >-0.022631</td>\n",
       "                        <td id=\"T_516fb688_0fa4_11eb_b372_0242ac1c0002row8_col14\" class=\"data row8 col14\" >-0.001347</td>\n",
       "                        <td id=\"T_516fb688_0fa4_11eb_b372_0242ac1c0002row8_col15\" class=\"data row8 col15\" >0.028734</td>\n",
       "                        <td id=\"T_516fb688_0fa4_11eb_b372_0242ac1c0002row8_col16\" class=\"data row8 col16\" >0.018491</td>\n",
       "                        <td id=\"T_516fb688_0fa4_11eb_b372_0242ac1c0002row8_col17\" class=\"data row8 col17\" >0.003627</td>\n",
       "                        <td id=\"T_516fb688_0fa4_11eb_b372_0242ac1c0002row8_col18\" class=\"data row8 col18\" >0.010738</td>\n",
       "                        <td id=\"T_516fb688_0fa4_11eb_b372_0242ac1c0002row8_col19\" class=\"data row8 col19\" >-0.000602</td>\n",
       "                        <td id=\"T_516fb688_0fa4_11eb_b372_0242ac1c0002row8_col20\" class=\"data row8 col20\" >-0.001807</td>\n",
       "                        <td id=\"T_516fb688_0fa4_11eb_b372_0242ac1c0002row8_col21\" class=\"data row8 col21\" >0.000635</td>\n",
       "                        <td id=\"T_516fb688_0fa4_11eb_b372_0242ac1c0002row8_col22\" class=\"data row8 col22\" >-0.002443</td>\n",
       "                        <td id=\"T_516fb688_0fa4_11eb_b372_0242ac1c0002row8_col23\" class=\"data row8 col23\" >-0.000920</td>\n",
       "                        <td id=\"T_516fb688_0fa4_11eb_b372_0242ac1c0002row8_col24\" class=\"data row8 col24\" >nan</td>\n",
       "                        <td id=\"T_516fb688_0fa4_11eb_b372_0242ac1c0002row8_col25\" class=\"data row8 col25\" >nan</td>\n",
       "                        <td id=\"T_516fb688_0fa4_11eb_b372_0242ac1c0002row8_col26\" class=\"data row8 col26\" >-0.000348</td>\n",
       "                        <td id=\"T_516fb688_0fa4_11eb_b372_0242ac1c0002row8_col27\" class=\"data row8 col27\" >0.057636</td>\n",
       "                        <td id=\"T_516fb688_0fa4_11eb_b372_0242ac1c0002row8_col28\" class=\"data row8 col28\" >0.049318</td>\n",
       "                        <td id=\"T_516fb688_0fa4_11eb_b372_0242ac1c0002row8_col29\" class=\"data row8 col29\" >-0.003099</td>\n",
       "                        <td id=\"T_516fb688_0fa4_11eb_b372_0242ac1c0002row8_col30\" class=\"data row8 col30\" >0.004386</td>\n",
       "                        <td id=\"T_516fb688_0fa4_11eb_b372_0242ac1c0002row8_col31\" class=\"data row8 col31\" >0.012479</td>\n",
       "                        <td id=\"T_516fb688_0fa4_11eb_b372_0242ac1c0002row8_col32\" class=\"data row8 col32\" >-0.001072</td>\n",
       "                        <td id=\"T_516fb688_0fa4_11eb_b372_0242ac1c0002row8_col33\" class=\"data row8 col33\" >0.006641</td>\n",
       "                        <td id=\"T_516fb688_0fa4_11eb_b372_0242ac1c0002row8_col34\" class=\"data row8 col34\" >0.010621</td>\n",
       "                        <td id=\"T_516fb688_0fa4_11eb_b372_0242ac1c0002row8_col35\" class=\"data row8 col35\" >0.015039</td>\n",
       "                        <td id=\"T_516fb688_0fa4_11eb_b372_0242ac1c0002row8_col36\" class=\"data row8 col36\" >0.001288</td>\n",
       "                        <td id=\"T_516fb688_0fa4_11eb_b372_0242ac1c0002row8_col37\" class=\"data row8 col37\" >-0.001129</td>\n",
       "                        <td id=\"T_516fb688_0fa4_11eb_b372_0242ac1c0002row8_col38\" class=\"data row8 col38\" >0.012676</td>\n",
       "                        <td id=\"T_516fb688_0fa4_11eb_b372_0242ac1c0002row8_col39\" class=\"data row8 col39\" >0.029302</td>\n",
       "                        <td id=\"T_516fb688_0fa4_11eb_b372_0242ac1c0002row8_col40\" class=\"data row8 col40\" >0.056540</td>\n",
       "                        <td id=\"T_516fb688_0fa4_11eb_b372_0242ac1c0002row8_col41\" class=\"data row8 col41\" >0.011296</td>\n",
       "                        <td id=\"T_516fb688_0fa4_11eb_b372_0242ac1c0002row8_col42\" class=\"data row8 col42\" >0.007844</td>\n",
       "            </tr>\n",
       "            <tr>\n",
       "                        <th id=\"T_516fb688_0fa4_11eb_b372_0242ac1c0002level0_row9\" class=\"row_heading level0 row9\" >chlorpropamide</th>\n",
       "                        <td id=\"T_516fb688_0fa4_11eb_b372_0242ac1c0002row9_col0\" class=\"data row9 col0\" >0.001164</td>\n",
       "                        <td id=\"T_516fb688_0fa4_11eb_b372_0242ac1c0002row9_col1\" class=\"data row9 col1\" >-0.002344</td>\n",
       "                        <td id=\"T_516fb688_0fa4_11eb_b372_0242ac1c0002row9_col2\" class=\"data row9 col2\" >0.005286</td>\n",
       "                        <td id=\"T_516fb688_0fa4_11eb_b372_0242ac1c0002row9_col3\" class=\"data row9 col3\" >0.002097</td>\n",
       "                        <td id=\"T_516fb688_0fa4_11eb_b372_0242ac1c0002row9_col4\" class=\"data row9 col4\" >-0.015598</td>\n",
       "                        <td id=\"T_516fb688_0fa4_11eb_b372_0242ac1c0002row9_col5\" class=\"data row9 col5\" >-0.001984</td>\n",
       "                        <td id=\"T_516fb688_0fa4_11eb_b372_0242ac1c0002row9_col6\" class=\"data row9 col6\" >-0.011728</td>\n",
       "                        <td id=\"T_516fb688_0fa4_11eb_b372_0242ac1c0002row9_col7\" class=\"data row9 col7\" >-0.003697</td>\n",
       "                        <td id=\"T_516fb688_0fa4_11eb_b372_0242ac1c0002row9_col8\" class=\"data row9 col8\" >-0.002783</td>\n",
       "                        <td id=\"T_516fb688_0fa4_11eb_b372_0242ac1c0002row9_col9\" class=\"data row9 col9\" >1.000000</td>\n",
       "                        <td id=\"T_516fb688_0fa4_11eb_b372_0242ac1c0002row9_col10\" class=\"data row9 col10\" >-0.007629</td>\n",
       "                        <td id=\"T_516fb688_0fa4_11eb_b372_0242ac1c0002row9_col11\" class=\"data row9 col11\" >nan</td>\n",
       "                        <td id=\"T_516fb688_0fa4_11eb_b372_0242ac1c0002row9_col12\" class=\"data row9 col12\" >-0.010807</td>\n",
       "                        <td id=\"T_516fb688_0fa4_11eb_b372_0242ac1c0002row9_col13\" class=\"data row9 col13\" >-0.006495</td>\n",
       "                        <td id=\"T_516fb688_0fa4_11eb_b372_0242ac1c0002row9_col14\" class=\"data row9 col14\" >-0.000519</td>\n",
       "                        <td id=\"T_516fb688_0fa4_11eb_b372_0242ac1c0002row9_col15\" class=\"data row9 col15\" >-0.007238</td>\n",
       "                        <td id=\"T_516fb688_0fa4_11eb_b372_0242ac1c0002row9_col16\" class=\"data row9 col16\" >-0.000380</td>\n",
       "                        <td id=\"T_516fb688_0fa4_11eb_b372_0242ac1c0002row9_col17\" class=\"data row9 col17\" >-0.001649</td>\n",
       "                        <td id=\"T_516fb688_0fa4_11eb_b372_0242ac1c0002row9_col18\" class=\"data row9 col18\" >-0.000536</td>\n",
       "                        <td id=\"T_516fb688_0fa4_11eb_b372_0242ac1c0002row9_col19\" class=\"data row9 col19\" >-0.000232</td>\n",
       "                        <td id=\"T_516fb688_0fa4_11eb_b372_0242ac1c0002row9_col20\" class=\"data row9 col20\" >-0.000697</td>\n",
       "                        <td id=\"T_516fb688_0fa4_11eb_b372_0242ac1c0002row9_col21\" class=\"data row9 col21\" >-0.018902</td>\n",
       "                        <td id=\"T_516fb688_0fa4_11eb_b372_0242ac1c0002row9_col22\" class=\"data row9 col22\" >-0.002767</td>\n",
       "                        <td id=\"T_516fb688_0fa4_11eb_b372_0242ac1c0002row9_col23\" class=\"data row9 col23\" >-0.000355</td>\n",
       "                        <td id=\"T_516fb688_0fa4_11eb_b372_0242ac1c0002row9_col24\" class=\"data row9 col24\" >nan</td>\n",
       "                        <td id=\"T_516fb688_0fa4_11eb_b372_0242ac1c0002row9_col25\" class=\"data row9 col25\" >nan</td>\n",
       "                        <td id=\"T_516fb688_0fa4_11eb_b372_0242ac1c0002row9_col26\" class=\"data row9 col26\" >-0.000134</td>\n",
       "                        <td id=\"T_516fb688_0fa4_11eb_b372_0242ac1c0002row9_col27\" class=\"data row9 col27\" >-0.005877</td>\n",
       "                        <td id=\"T_516fb688_0fa4_11eb_b372_0242ac1c0002row9_col28\" class=\"data row9 col28\" >0.019013</td>\n",
       "                        <td id=\"T_516fb688_0fa4_11eb_b372_0242ac1c0002row9_col29\" class=\"data row9 col29\" >-0.004472</td>\n",
       "                        <td id=\"T_516fb688_0fa4_11eb_b372_0242ac1c0002row9_col30\" class=\"data row9 col30\" >-0.009139</td>\n",
       "                        <td id=\"T_516fb688_0fa4_11eb_b372_0242ac1c0002row9_col31\" class=\"data row9 col31\" >-0.004668</td>\n",
       "                        <td id=\"T_516fb688_0fa4_11eb_b372_0242ac1c0002row9_col32\" class=\"data row9 col32\" >0.004656</td>\n",
       "                        <td id=\"T_516fb688_0fa4_11eb_b372_0242ac1c0002row9_col33\" class=\"data row9 col33\" >-0.007722</td>\n",
       "                        <td id=\"T_516fb688_0fa4_11eb_b372_0242ac1c0002row9_col34\" class=\"data row9 col34\" >-0.003291</td>\n",
       "                        <td id=\"T_516fb688_0fa4_11eb_b372_0242ac1c0002row9_col35\" class=\"data row9 col35\" >0.002754</td>\n",
       "                        <td id=\"T_516fb688_0fa4_11eb_b372_0242ac1c0002row9_col36\" class=\"data row9 col36\" >0.009563</td>\n",
       "                        <td id=\"T_516fb688_0fa4_11eb_b372_0242ac1c0002row9_col37\" class=\"data row9 col37\" >-0.002886</td>\n",
       "                        <td id=\"T_516fb688_0fa4_11eb_b372_0242ac1c0002row9_col38\" class=\"data row9 col38\" >-0.002773</td>\n",
       "                        <td id=\"T_516fb688_0fa4_11eb_b372_0242ac1c0002row9_col39\" class=\"data row9 col39\" >-0.007142</td>\n",
       "                        <td id=\"T_516fb688_0fa4_11eb_b372_0242ac1c0002row9_col40\" class=\"data row9 col40\" >-0.005111</td>\n",
       "                        <td id=\"T_516fb688_0fa4_11eb_b372_0242ac1c0002row9_col41\" class=\"data row9 col41\" >-0.004561</td>\n",
       "                        <td id=\"T_516fb688_0fa4_11eb_b372_0242ac1c0002row9_col42\" class=\"data row9 col42\" >-0.008050</td>\n",
       "            </tr>\n",
       "            <tr>\n",
       "                        <th id=\"T_516fb688_0fa4_11eb_b372_0242ac1c0002level0_row10\" class=\"row_heading level0 row10\" >glimepiride</th>\n",
       "                        <td id=\"T_516fb688_0fa4_11eb_b372_0242ac1c0002row10_col0\" class=\"data row10 col0\" >0.008496</td>\n",
       "                        <td id=\"T_516fb688_0fa4_11eb_b372_0242ac1c0002row10_col1\" class=\"data row10 col1\" >-0.009528</td>\n",
       "                        <td id=\"T_516fb688_0fa4_11eb_b372_0242ac1c0002row10_col2\" class=\"data row10 col2\" >0.005021</td>\n",
       "                        <td id=\"T_516fb688_0fa4_11eb_b372_0242ac1c0002row10_col3\" class=\"data row10 col3\" >0.043243</td>\n",
       "                        <td id=\"T_516fb688_0fa4_11eb_b372_0242ac1c0002row10_col4\" class=\"data row10 col4\" >0.011962</td>\n",
       "                        <td id=\"T_516fb688_0fa4_11eb_b372_0242ac1c0002row10_col5\" class=\"data row10 col5\" >0.018481</td>\n",
       "                        <td id=\"T_516fb688_0fa4_11eb_b372_0242ac1c0002row10_col6\" class=\"data row10 col6\" >0.040138</td>\n",
       "                        <td id=\"T_516fb688_0fa4_11eb_b372_0242ac1c0002row10_col7\" class=\"data row10 col7\" >-0.008599</td>\n",
       "                        <td id=\"T_516fb688_0fa4_11eb_b372_0242ac1c0002row10_col8\" class=\"data row10 col8\" >0.008967</td>\n",
       "                        <td id=\"T_516fb688_0fa4_11eb_b372_0242ac1c0002row10_col9\" class=\"data row10 col9\" >-0.007629</td>\n",
       "                        <td id=\"T_516fb688_0fa4_11eb_b372_0242ac1c0002row10_col10\" class=\"data row10 col10\" >1.000000</td>\n",
       "                        <td id=\"T_516fb688_0fa4_11eb_b372_0242ac1c0002row10_col11\" class=\"data row10 col11\" >nan</td>\n",
       "                        <td id=\"T_516fb688_0fa4_11eb_b372_0242ac1c0002row10_col12\" class=\"data row10 col12\" >-0.074772</td>\n",
       "                        <td id=\"T_516fb688_0fa4_11eb_b372_0242ac1c0002row10_col13\" class=\"data row10 col13\" >-0.072741</td>\n",
       "                        <td id=\"T_516fb688_0fa4_11eb_b372_0242ac1c0002row10_col14\" class=\"data row10 col14\" >-0.003692</td>\n",
       "                        <td id=\"T_516fb688_0fa4_11eb_b372_0242ac1c0002row10_col15\" class=\"data row10 col15\" >0.050735</td>\n",
       "                        <td id=\"T_516fb688_0fa4_11eb_b372_0242ac1c0002row10_col16\" class=\"data row10 col16\" >0.036556</td>\n",
       "                        <td id=\"T_516fb688_0fa4_11eb_b372_0242ac1c0002row10_col17\" class=\"data row10 col17\" >0.015443</td>\n",
       "                        <td id=\"T_516fb688_0fa4_11eb_b372_0242ac1c0002row10_col18\" class=\"data row10 col18\" >0.014714</td>\n",
       "                        <td id=\"T_516fb688_0fa4_11eb_b372_0242ac1c0002row10_col19\" class=\"data row10 col19\" >0.009045</td>\n",
       "                        <td id=\"T_516fb688_0fa4_11eb_b372_0242ac1c0002row10_col20\" class=\"data row10 col20\" >-0.004954</td>\n",
       "                        <td id=\"T_516fb688_0fa4_11eb_b372_0242ac1c0002row10_col21\" class=\"data row10 col21\" >0.007557</td>\n",
       "                        <td id=\"T_516fb688_0fa4_11eb_b372_0242ac1c0002row10_col22\" class=\"data row10 col22\" >-0.009730</td>\n",
       "                        <td id=\"T_516fb688_0fa4_11eb_b372_0242ac1c0002row10_col23\" class=\"data row10 col23\" >-0.002522</td>\n",
       "                        <td id=\"T_516fb688_0fa4_11eb_b372_0242ac1c0002row10_col24\" class=\"data row10 col24\" >nan</td>\n",
       "                        <td id=\"T_516fb688_0fa4_11eb_b372_0242ac1c0002row10_col25\" class=\"data row10 col25\" >nan</td>\n",
       "                        <td id=\"T_516fb688_0fa4_11eb_b372_0242ac1c0002row10_col26\" class=\"data row10 col26\" >-0.000953</td>\n",
       "                        <td id=\"T_516fb688_0fa4_11eb_b372_0242ac1c0002row10_col27\" class=\"data row10 col27\" >0.147047</td>\n",
       "                        <td id=\"T_516fb688_0fa4_11eb_b372_0242ac1c0002row10_col28\" class=\"data row10 col28\" >0.135177</td>\n",
       "                        <td id=\"T_516fb688_0fa4_11eb_b372_0242ac1c0002row10_col29\" class=\"data row10 col29\" >-0.004056</td>\n",
       "                        <td id=\"T_516fb688_0fa4_11eb_b372_0242ac1c0002row10_col30\" class=\"data row10 col30\" >0.020934</td>\n",
       "                        <td id=\"T_516fb688_0fa4_11eb_b372_0242ac1c0002row10_col31\" class=\"data row10 col31\" >0.000339</td>\n",
       "                        <td id=\"T_516fb688_0fa4_11eb_b372_0242ac1c0002row10_col32\" class=\"data row10 col32\" >0.004602</td>\n",
       "                        <td id=\"T_516fb688_0fa4_11eb_b372_0242ac1c0002row10_col33\" class=\"data row10 col33\" >0.004850</td>\n",
       "                        <td id=\"T_516fb688_0fa4_11eb_b372_0242ac1c0002row10_col34\" class=\"data row10 col34\" >0.004660</td>\n",
       "                        <td id=\"T_516fb688_0fa4_11eb_b372_0242ac1c0002row10_col35\" class=\"data row10 col35\" >0.020308</td>\n",
       "                        <td id=\"T_516fb688_0fa4_11eb_b372_0242ac1c0002row10_col36\" class=\"data row10 col36\" >0.013268</td>\n",
       "                        <td id=\"T_516fb688_0fa4_11eb_b372_0242ac1c0002row10_col37\" class=\"data row10 col37\" >0.001713</td>\n",
       "                        <td id=\"T_516fb688_0fa4_11eb_b372_0242ac1c0002row10_col38\" class=\"data row10 col38\" >0.021409</td>\n",
       "                        <td id=\"T_516fb688_0fa4_11eb_b372_0242ac1c0002row10_col39\" class=\"data row10 col39\" >0.038734</td>\n",
       "                        <td id=\"T_516fb688_0fa4_11eb_b372_0242ac1c0002row10_col40\" class=\"data row10 col40\" >0.130815</td>\n",
       "                        <td id=\"T_516fb688_0fa4_11eb_b372_0242ac1c0002row10_col41\" class=\"data row10 col41\" >0.009943</td>\n",
       "                        <td id=\"T_516fb688_0fa4_11eb_b372_0242ac1c0002row10_col42\" class=\"data row10 col42\" >0.026048</td>\n",
       "            </tr>\n",
       "            <tr>\n",
       "                        <th id=\"T_516fb688_0fa4_11eb_b372_0242ac1c0002level0_row11\" class=\"row_heading level0 row11\" >acetohexamide</th>\n",
       "                        <td id=\"T_516fb688_0fa4_11eb_b372_0242ac1c0002row11_col0\" class=\"data row11 col0\" >nan</td>\n",
       "                        <td id=\"T_516fb688_0fa4_11eb_b372_0242ac1c0002row11_col1\" class=\"data row11 col1\" >nan</td>\n",
       "                        <td id=\"T_516fb688_0fa4_11eb_b372_0242ac1c0002row11_col2\" class=\"data row11 col2\" >nan</td>\n",
       "                        <td id=\"T_516fb688_0fa4_11eb_b372_0242ac1c0002row11_col3\" class=\"data row11 col3\" >nan</td>\n",
       "                        <td id=\"T_516fb688_0fa4_11eb_b372_0242ac1c0002row11_col4\" class=\"data row11 col4\" >nan</td>\n",
       "                        <td id=\"T_516fb688_0fa4_11eb_b372_0242ac1c0002row11_col5\" class=\"data row11 col5\" >nan</td>\n",
       "                        <td id=\"T_516fb688_0fa4_11eb_b372_0242ac1c0002row11_col6\" class=\"data row11 col6\" >nan</td>\n",
       "                        <td id=\"T_516fb688_0fa4_11eb_b372_0242ac1c0002row11_col7\" class=\"data row11 col7\" >nan</td>\n",
       "                        <td id=\"T_516fb688_0fa4_11eb_b372_0242ac1c0002row11_col8\" class=\"data row11 col8\" >nan</td>\n",
       "                        <td id=\"T_516fb688_0fa4_11eb_b372_0242ac1c0002row11_col9\" class=\"data row11 col9\" >nan</td>\n",
       "                        <td id=\"T_516fb688_0fa4_11eb_b372_0242ac1c0002row11_col10\" class=\"data row11 col10\" >nan</td>\n",
       "                        <td id=\"T_516fb688_0fa4_11eb_b372_0242ac1c0002row11_col11\" class=\"data row11 col11\" >nan</td>\n",
       "                        <td id=\"T_516fb688_0fa4_11eb_b372_0242ac1c0002row11_col12\" class=\"data row11 col12\" >nan</td>\n",
       "                        <td id=\"T_516fb688_0fa4_11eb_b372_0242ac1c0002row11_col13\" class=\"data row11 col13\" >nan</td>\n",
       "                        <td id=\"T_516fb688_0fa4_11eb_b372_0242ac1c0002row11_col14\" class=\"data row11 col14\" >nan</td>\n",
       "                        <td id=\"T_516fb688_0fa4_11eb_b372_0242ac1c0002row11_col15\" class=\"data row11 col15\" >nan</td>\n",
       "                        <td id=\"T_516fb688_0fa4_11eb_b372_0242ac1c0002row11_col16\" class=\"data row11 col16\" >nan</td>\n",
       "                        <td id=\"T_516fb688_0fa4_11eb_b372_0242ac1c0002row11_col17\" class=\"data row11 col17\" >nan</td>\n",
       "                        <td id=\"T_516fb688_0fa4_11eb_b372_0242ac1c0002row11_col18\" class=\"data row11 col18\" >nan</td>\n",
       "                        <td id=\"T_516fb688_0fa4_11eb_b372_0242ac1c0002row11_col19\" class=\"data row11 col19\" >nan</td>\n",
       "                        <td id=\"T_516fb688_0fa4_11eb_b372_0242ac1c0002row11_col20\" class=\"data row11 col20\" >nan</td>\n",
       "                        <td id=\"T_516fb688_0fa4_11eb_b372_0242ac1c0002row11_col21\" class=\"data row11 col21\" >nan</td>\n",
       "                        <td id=\"T_516fb688_0fa4_11eb_b372_0242ac1c0002row11_col22\" class=\"data row11 col22\" >nan</td>\n",
       "                        <td id=\"T_516fb688_0fa4_11eb_b372_0242ac1c0002row11_col23\" class=\"data row11 col23\" >nan</td>\n",
       "                        <td id=\"T_516fb688_0fa4_11eb_b372_0242ac1c0002row11_col24\" class=\"data row11 col24\" >nan</td>\n",
       "                        <td id=\"T_516fb688_0fa4_11eb_b372_0242ac1c0002row11_col25\" class=\"data row11 col25\" >nan</td>\n",
       "                        <td id=\"T_516fb688_0fa4_11eb_b372_0242ac1c0002row11_col26\" class=\"data row11 col26\" >nan</td>\n",
       "                        <td id=\"T_516fb688_0fa4_11eb_b372_0242ac1c0002row11_col27\" class=\"data row11 col27\" >nan</td>\n",
       "                        <td id=\"T_516fb688_0fa4_11eb_b372_0242ac1c0002row11_col28\" class=\"data row11 col28\" >nan</td>\n",
       "                        <td id=\"T_516fb688_0fa4_11eb_b372_0242ac1c0002row11_col29\" class=\"data row11 col29\" >nan</td>\n",
       "                        <td id=\"T_516fb688_0fa4_11eb_b372_0242ac1c0002row11_col30\" class=\"data row11 col30\" >nan</td>\n",
       "                        <td id=\"T_516fb688_0fa4_11eb_b372_0242ac1c0002row11_col31\" class=\"data row11 col31\" >nan</td>\n",
       "                        <td id=\"T_516fb688_0fa4_11eb_b372_0242ac1c0002row11_col32\" class=\"data row11 col32\" >nan</td>\n",
       "                        <td id=\"T_516fb688_0fa4_11eb_b372_0242ac1c0002row11_col33\" class=\"data row11 col33\" >nan</td>\n",
       "                        <td id=\"T_516fb688_0fa4_11eb_b372_0242ac1c0002row11_col34\" class=\"data row11 col34\" >nan</td>\n",
       "                        <td id=\"T_516fb688_0fa4_11eb_b372_0242ac1c0002row11_col35\" class=\"data row11 col35\" >nan</td>\n",
       "                        <td id=\"T_516fb688_0fa4_11eb_b372_0242ac1c0002row11_col36\" class=\"data row11 col36\" >nan</td>\n",
       "                        <td id=\"T_516fb688_0fa4_11eb_b372_0242ac1c0002row11_col37\" class=\"data row11 col37\" >nan</td>\n",
       "                        <td id=\"T_516fb688_0fa4_11eb_b372_0242ac1c0002row11_col38\" class=\"data row11 col38\" >nan</td>\n",
       "                        <td id=\"T_516fb688_0fa4_11eb_b372_0242ac1c0002row11_col39\" class=\"data row11 col39\" >nan</td>\n",
       "                        <td id=\"T_516fb688_0fa4_11eb_b372_0242ac1c0002row11_col40\" class=\"data row11 col40\" >nan</td>\n",
       "                        <td id=\"T_516fb688_0fa4_11eb_b372_0242ac1c0002row11_col41\" class=\"data row11 col41\" >nan</td>\n",
       "                        <td id=\"T_516fb688_0fa4_11eb_b372_0242ac1c0002row11_col42\" class=\"data row11 col42\" >nan</td>\n",
       "            </tr>\n",
       "            <tr>\n",
       "                        <th id=\"T_516fb688_0fa4_11eb_b372_0242ac1c0002level0_row12\" class=\"row_heading level0 row12\" >glipizide</th>\n",
       "                        <td id=\"T_516fb688_0fa4_11eb_b372_0242ac1c0002row12_col0\" class=\"data row12 col0\" >0.013698</td>\n",
       "                        <td id=\"T_516fb688_0fa4_11eb_b372_0242ac1c0002row12_col1\" class=\"data row12 col1\" >0.016552</td>\n",
       "                        <td id=\"T_516fb688_0fa4_11eb_b372_0242ac1c0002row12_col2\" class=\"data row12 col2\" >0.004639</td>\n",
       "                        <td id=\"T_516fb688_0fa4_11eb_b372_0242ac1c0002row12_col3\" class=\"data row12 col3\" >0.055362</td>\n",
       "                        <td id=\"T_516fb688_0fa4_11eb_b372_0242ac1c0002row12_col4\" class=\"data row12 col4\" >-0.012608</td>\n",
       "                        <td id=\"T_516fb688_0fa4_11eb_b372_0242ac1c0002row12_col5\" class=\"data row12 col5\" >0.008055</td>\n",
       "                        <td id=\"T_516fb688_0fa4_11eb_b372_0242ac1c0002row12_col6\" class=\"data row12 col6\" >0.074350</td>\n",
       "                        <td id=\"T_516fb688_0fa4_11eb_b372_0242ac1c0002row12_col7\" class=\"data row12 col7\" >-0.020277</td>\n",
       "                        <td id=\"T_516fb688_0fa4_11eb_b372_0242ac1c0002row12_col8\" class=\"data row12 col8\" >-0.015822</td>\n",
       "                        <td id=\"T_516fb688_0fa4_11eb_b372_0242ac1c0002row12_col9\" class=\"data row12 col9\" >-0.010807</td>\n",
       "                        <td id=\"T_516fb688_0fa4_11eb_b372_0242ac1c0002row12_col10\" class=\"data row12 col10\" >-0.074772</td>\n",
       "                        <td id=\"T_516fb688_0fa4_11eb_b372_0242ac1c0002row12_col11\" class=\"data row12 col11\" >nan</td>\n",
       "                        <td id=\"T_516fb688_0fa4_11eb_b372_0242ac1c0002row12_col12\" class=\"data row12 col12\" >1.000000</td>\n",
       "                        <td id=\"T_516fb688_0fa4_11eb_b372_0242ac1c0002row12_col13\" class=\"data row12 col13\" >-0.112234</td>\n",
       "                        <td id=\"T_516fb688_0fa4_11eb_b372_0242ac1c0002row12_col14\" class=\"data row12 col14\" >-0.005980</td>\n",
       "                        <td id=\"T_516fb688_0fa4_11eb_b372_0242ac1c0002row12_col15\" class=\"data row12 col15\" >0.038924</td>\n",
       "                        <td id=\"T_516fb688_0fa4_11eb_b372_0242ac1c0002row12_col16\" class=\"data row12 col16\" >0.036272</td>\n",
       "                        <td id=\"T_516fb688_0fa4_11eb_b372_0242ac1c0002row12_col17\" class=\"data row12 col17\" >0.024425</td>\n",
       "                        <td id=\"T_516fb688_0fa4_11eb_b372_0242ac1c0002row12_col18\" class=\"data row12 col18\" >0.000021</td>\n",
       "                        <td id=\"T_516fb688_0fa4_11eb_b372_0242ac1c0002row12_col19\" class=\"data row12 col19\" >-0.002674</td>\n",
       "                        <td id=\"T_516fb688_0fa4_11eb_b372_0242ac1c0002row12_col20\" class=\"data row12 col20\" >-0.008024</td>\n",
       "                        <td id=\"T_516fb688_0fa4_11eb_b372_0242ac1c0002row12_col21\" class=\"data row12 col21\" >-0.025815</td>\n",
       "                        <td id=\"T_516fb688_0fa4_11eb_b372_0242ac1c0002row12_col22\" class=\"data row12 col22\" >-0.027632</td>\n",
       "                        <td id=\"T_516fb688_0fa4_11eb_b372_0242ac1c0002row12_col23\" class=\"data row12 col23\" >-0.004085</td>\n",
       "                        <td id=\"T_516fb688_0fa4_11eb_b372_0242ac1c0002row12_col24\" class=\"data row12 col24\" >nan</td>\n",
       "                        <td id=\"T_516fb688_0fa4_11eb_b372_0242ac1c0002row12_col25\" class=\"data row12 col25\" >nan</td>\n",
       "                        <td id=\"T_516fb688_0fa4_11eb_b372_0242ac1c0002row12_col26\" class=\"data row12 col26\" >-0.001544</td>\n",
       "                        <td id=\"T_516fb688_0fa4_11eb_b372_0242ac1c0002row12_col27\" class=\"data row12 col27\" >0.208118</td>\n",
       "                        <td id=\"T_516fb688_0fa4_11eb_b372_0242ac1c0002row12_col28\" class=\"data row12 col28\" >0.218949</td>\n",
       "                        <td id=\"T_516fb688_0fa4_11eb_b372_0242ac1c0002row12_col29\" class=\"data row12 col29\" >0.008599</td>\n",
       "                        <td id=\"T_516fb688_0fa4_11eb_b372_0242ac1c0002row12_col30\" class=\"data row12 col30\" >0.003208</td>\n",
       "                        <td id=\"T_516fb688_0fa4_11eb_b372_0242ac1c0002row12_col31\" class=\"data row12 col31\" >0.005120</td>\n",
       "                        <td id=\"T_516fb688_0fa4_11eb_b372_0242ac1c0002row12_col32\" class=\"data row12 col32\" >0.001004</td>\n",
       "                        <td id=\"T_516fb688_0fa4_11eb_b372_0242ac1c0002row12_col33\" class=\"data row12 col33\" >0.002147</td>\n",
       "                        <td id=\"T_516fb688_0fa4_11eb_b372_0242ac1c0002row12_col34\" class=\"data row12 col34\" >0.004322</td>\n",
       "                        <td id=\"T_516fb688_0fa4_11eb_b372_0242ac1c0002row12_col35\" class=\"data row12 col35\" >0.027586</td>\n",
       "                        <td id=\"T_516fb688_0fa4_11eb_b372_0242ac1c0002row12_col36\" class=\"data row12 col36\" >0.017685</td>\n",
       "                        <td id=\"T_516fb688_0fa4_11eb_b372_0242ac1c0002row12_col37\" class=\"data row12 col37\" >0.016832</td>\n",
       "                        <td id=\"T_516fb688_0fa4_11eb_b372_0242ac1c0002row12_col38\" class=\"data row12 col38\" >0.041483</td>\n",
       "                        <td id=\"T_516fb688_0fa4_11eb_b372_0242ac1c0002row12_col39\" class=\"data row12 col39\" >0.036529</td>\n",
       "                        <td id=\"T_516fb688_0fa4_11eb_b372_0242ac1c0002row12_col40\" class=\"data row12 col40\" >0.181777</td>\n",
       "                        <td id=\"T_516fb688_0fa4_11eb_b372_0242ac1c0002row12_col41\" class=\"data row12 col41\" >0.005299</td>\n",
       "                        <td id=\"T_516fb688_0fa4_11eb_b372_0242ac1c0002row12_col42\" class=\"data row12 col42\" >0.010536</td>\n",
       "            </tr>\n",
       "            <tr>\n",
       "                        <th id=\"T_516fb688_0fa4_11eb_b372_0242ac1c0002level0_row13\" class=\"row_heading level0 row13\" >glyburide</th>\n",
       "                        <td id=\"T_516fb688_0fa4_11eb_b372_0242ac1c0002row13_col0\" class=\"data row13 col0\" >0.024610</td>\n",
       "                        <td id=\"T_516fb688_0fa4_11eb_b372_0242ac1c0002row13_col1\" class=\"data row13 col1\" >0.002659</td>\n",
       "                        <td id=\"T_516fb688_0fa4_11eb_b372_0242ac1c0002row13_col2\" class=\"data row13 col2\" >0.002828</td>\n",
       "                        <td id=\"T_516fb688_0fa4_11eb_b372_0242ac1c0002row13_col3\" class=\"data row13 col3\" >0.043031</td>\n",
       "                        <td id=\"T_516fb688_0fa4_11eb_b372_0242ac1c0002row13_col4\" class=\"data row13 col4\" >-0.024172</td>\n",
       "                        <td id=\"T_516fb688_0fa4_11eb_b372_0242ac1c0002row13_col5\" class=\"data row13 col5\" >0.003427</td>\n",
       "                        <td id=\"T_516fb688_0fa4_11eb_b372_0242ac1c0002row13_col6\" class=\"data row13 col6\" >0.137700</td>\n",
       "                        <td id=\"T_516fb688_0fa4_11eb_b372_0242ac1c0002row13_col7\" class=\"data row13 col7\" >-0.023441</td>\n",
       "                        <td id=\"T_516fb688_0fa4_11eb_b372_0242ac1c0002row13_col8\" class=\"data row13 col8\" >-0.022631</td>\n",
       "                        <td id=\"T_516fb688_0fa4_11eb_b372_0242ac1c0002row13_col9\" class=\"data row13 col9\" >-0.006495</td>\n",
       "                        <td id=\"T_516fb688_0fa4_11eb_b372_0242ac1c0002row13_col10\" class=\"data row13 col10\" >-0.072741</td>\n",
       "                        <td id=\"T_516fb688_0fa4_11eb_b372_0242ac1c0002row13_col11\" class=\"data row13 col11\" >nan</td>\n",
       "                        <td id=\"T_516fb688_0fa4_11eb_b372_0242ac1c0002row13_col12\" class=\"data row13 col12\" >-0.112234</td>\n",
       "                        <td id=\"T_516fb688_0fa4_11eb_b372_0242ac1c0002row13_col13\" class=\"data row13 col13\" >1.000000</td>\n",
       "                        <td id=\"T_516fb688_0fa4_11eb_b372_0242ac1c0002row13_col14\" class=\"data row13 col14\" >-0.002134</td>\n",
       "                        <td id=\"T_516fb688_0fa4_11eb_b372_0242ac1c0002row13_col15\" class=\"data row13 col15\" >0.021268</td>\n",
       "                        <td id=\"T_516fb688_0fa4_11eb_b372_0242ac1c0002row13_col16\" class=\"data row13 col16\" >0.029915</td>\n",
       "                        <td id=\"T_516fb688_0fa4_11eb_b372_0242ac1c0002row13_col17\" class=\"data row13 col17\" >0.017805</td>\n",
       "                        <td id=\"T_516fb688_0fa4_11eb_b372_0242ac1c0002row13_col18\" class=\"data row13 col18\" >-0.002424</td>\n",
       "                        <td id=\"T_516fb688_0fa4_11eb_b372_0242ac1c0002row13_col19\" class=\"data row13 col19\" >-0.002474</td>\n",
       "                        <td id=\"T_516fb688_0fa4_11eb_b372_0242ac1c0002row13_col20\" class=\"data row13 col20\" >-0.007422</td>\n",
       "                        <td id=\"T_516fb688_0fa4_11eb_b372_0242ac1c0002row13_col21\" class=\"data row13 col21\" >-0.070759</td>\n",
       "                        <td id=\"T_516fb688_0fa4_11eb_b372_0242ac1c0002row13_col22\" class=\"data row13 col22\" >-0.010859</td>\n",
       "                        <td id=\"T_516fb688_0fa4_11eb_b372_0242ac1c0002row13_col23\" class=\"data row13 col23\" >0.001194</td>\n",
       "                        <td id=\"T_516fb688_0fa4_11eb_b372_0242ac1c0002row13_col24\" class=\"data row13 col24\" >nan</td>\n",
       "                        <td id=\"T_516fb688_0fa4_11eb_b372_0242ac1c0002row13_col25\" class=\"data row13 col25\" >nan</td>\n",
       "                        <td id=\"T_516fb688_0fa4_11eb_b372_0242ac1c0002row13_col26\" class=\"data row13 col26\" >-0.001428</td>\n",
       "                        <td id=\"T_516fb688_0fa4_11eb_b372_0242ac1c0002row13_col27\" class=\"data row13 col27\" >0.199645</td>\n",
       "                        <td id=\"T_516fb688_0fa4_11eb_b372_0242ac1c0002row13_col28\" class=\"data row13 col28\" >0.202533</td>\n",
       "                        <td id=\"T_516fb688_0fa4_11eb_b372_0242ac1c0002row13_col29\" class=\"data row13 col29\" >0.007832</td>\n",
       "                        <td id=\"T_516fb688_0fa4_11eb_b372_0242ac1c0002row13_col30\" class=\"data row13 col30\" >-0.000153</td>\n",
       "                        <td id=\"T_516fb688_0fa4_11eb_b372_0242ac1c0002row13_col31\" class=\"data row13 col31\" >0.012753</td>\n",
       "                        <td id=\"T_516fb688_0fa4_11eb_b372_0242ac1c0002row13_col32\" class=\"data row13 col32\" >-0.001704</td>\n",
       "                        <td id=\"T_516fb688_0fa4_11eb_b372_0242ac1c0002row13_col33\" class=\"data row13 col33\" >-0.013783</td>\n",
       "                        <td id=\"T_516fb688_0fa4_11eb_b372_0242ac1c0002row13_col34\" class=\"data row13 col34\" >0.002845</td>\n",
       "                        <td id=\"T_516fb688_0fa4_11eb_b372_0242ac1c0002row13_col35\" class=\"data row13 col35\" >0.032526</td>\n",
       "                        <td id=\"T_516fb688_0fa4_11eb_b372_0242ac1c0002row13_col36\" class=\"data row13 col36\" >0.017877</td>\n",
       "                        <td id=\"T_516fb688_0fa4_11eb_b372_0242ac1c0002row13_col37\" class=\"data row13 col37\" >0.016103</td>\n",
       "                        <td id=\"T_516fb688_0fa4_11eb_b372_0242ac1c0002row13_col38\" class=\"data row13 col38\" >0.023594</td>\n",
       "                        <td id=\"T_516fb688_0fa4_11eb_b372_0242ac1c0002row13_col39\" class=\"data row13 col39\" >0.021799</td>\n",
       "                        <td id=\"T_516fb688_0fa4_11eb_b372_0242ac1c0002row13_col40\" class=\"data row13 col40\" >0.165521</td>\n",
       "                        <td id=\"T_516fb688_0fa4_11eb_b372_0242ac1c0002row13_col41\" class=\"data row13 col41\" >0.013082</td>\n",
       "                        <td id=\"T_516fb688_0fa4_11eb_b372_0242ac1c0002row13_col42\" class=\"data row13 col42\" >0.001708</td>\n",
       "            </tr>\n",
       "            <tr>\n",
       "                        <th id=\"T_516fb688_0fa4_11eb_b372_0242ac1c0002level0_row14\" class=\"row_heading level0 row14\" >tolbutamide</th>\n",
       "                        <td id=\"T_516fb688_0fa4_11eb_b372_0242ac1c0002row14_col0\" class=\"data row14 col0\" >0.005062</td>\n",
       "                        <td id=\"T_516fb688_0fa4_11eb_b372_0242ac1c0002row14_col1\" class=\"data row14 col1\" >0.000595</td>\n",
       "                        <td id=\"T_516fb688_0fa4_11eb_b372_0242ac1c0002row14_col2\" class=\"data row14 col2\" >0.000057</td>\n",
       "                        <td id=\"T_516fb688_0fa4_11eb_b372_0242ac1c0002row14_col3\" class=\"data row14 col3\" >0.005079</td>\n",
       "                        <td id=\"T_516fb688_0fa4_11eb_b372_0242ac1c0002row14_col4\" class=\"data row14 col4\" >0.000012</td>\n",
       "                        <td id=\"T_516fb688_0fa4_11eb_b372_0242ac1c0002row14_col5\" class=\"data row14 col5\" >-0.001884</td>\n",
       "                        <td id=\"T_516fb688_0fa4_11eb_b372_0242ac1c0002row14_col6\" class=\"data row14 col6\" >-0.008118</td>\n",
       "                        <td id=\"T_516fb688_0fa4_11eb_b372_0242ac1c0002row14_col7\" class=\"data row14 col7\" >-0.001789</td>\n",
       "                        <td id=\"T_516fb688_0fa4_11eb_b372_0242ac1c0002row14_col8\" class=\"data row14 col8\" >-0.001347</td>\n",
       "                        <td id=\"T_516fb688_0fa4_11eb_b372_0242ac1c0002row14_col9\" class=\"data row14 col9\" >-0.000519</td>\n",
       "                        <td id=\"T_516fb688_0fa4_11eb_b372_0242ac1c0002row14_col10\" class=\"data row14 col10\" >-0.003692</td>\n",
       "                        <td id=\"T_516fb688_0fa4_11eb_b372_0242ac1c0002row14_col11\" class=\"data row14 col11\" >nan</td>\n",
       "                        <td id=\"T_516fb688_0fa4_11eb_b372_0242ac1c0002row14_col12\" class=\"data row14 col12\" >-0.005980</td>\n",
       "                        <td id=\"T_516fb688_0fa4_11eb_b372_0242ac1c0002row14_col13\" class=\"data row14 col13\" >-0.002134</td>\n",
       "                        <td id=\"T_516fb688_0fa4_11eb_b372_0242ac1c0002row14_col14\" class=\"data row14 col14\" >1.000000</td>\n",
       "                        <td id=\"T_516fb688_0fa4_11eb_b372_0242ac1c0002row14_col15\" class=\"data row14 col15\" >-0.004454</td>\n",
       "                        <td id=\"T_516fb688_0fa4_11eb_b372_0242ac1c0002row14_col16\" class=\"data row14 col16\" >-0.004192</td>\n",
       "                        <td id=\"T_516fb688_0fa4_11eb_b372_0242ac1c0002row14_col17\" class=\"data row14 col17\" >-0.000798</td>\n",
       "                        <td id=\"T_516fb688_0fa4_11eb_b372_0242ac1c0002row14_col18\" class=\"data row14 col18\" >-0.000260</td>\n",
       "                        <td id=\"T_516fb688_0fa4_11eb_b372_0242ac1c0002row14_col19\" class=\"data row14 col19\" >-0.000112</td>\n",
       "                        <td id=\"T_516fb688_0fa4_11eb_b372_0242ac1c0002row14_col20\" class=\"data row14 col20\" >-0.000337</td>\n",
       "                        <td id=\"T_516fb688_0fa4_11eb_b372_0242ac1c0002row14_col21\" class=\"data row14 col21\" >-0.007132</td>\n",
       "                        <td id=\"T_516fb688_0fa4_11eb_b372_0242ac1c0002row14_col22\" class=\"data row14 col22\" >-0.001339</td>\n",
       "                        <td id=\"T_516fb688_0fa4_11eb_b372_0242ac1c0002row14_col23\" class=\"data row14 col23\" >-0.000172</td>\n",
       "                        <td id=\"T_516fb688_0fa4_11eb_b372_0242ac1c0002row14_col24\" class=\"data row14 col24\" >nan</td>\n",
       "                        <td id=\"T_516fb688_0fa4_11eb_b372_0242ac1c0002row14_col25\" class=\"data row14 col25\" >nan</td>\n",
       "                        <td id=\"T_516fb688_0fa4_11eb_b372_0242ac1c0002row14_col26\" class=\"data row14 col26\" >-0.000065</td>\n",
       "                        <td id=\"T_516fb688_0fa4_11eb_b372_0242ac1c0002row14_col27\" class=\"data row14 col27\" >-0.003177</td>\n",
       "                        <td id=\"T_516fb688_0fa4_11eb_b372_0242ac1c0002row14_col28\" class=\"data row14 col28\" >0.009201</td>\n",
       "                        <td id=\"T_516fb688_0fa4_11eb_b372_0242ac1c0002row14_col29\" class=\"data row14 col29\" >-0.001039</td>\n",
       "                        <td id=\"T_516fb688_0fa4_11eb_b372_0242ac1c0002row14_col30\" class=\"data row14 col30\" >-0.006041</td>\n",
       "                        <td id=\"T_516fb688_0fa4_11eb_b372_0242ac1c0002row14_col31\" class=\"data row14 col31\" >-0.002074</td>\n",
       "                        <td id=\"T_516fb688_0fa4_11eb_b372_0242ac1c0002row14_col32\" class=\"data row14 col32\" >-0.001058</td>\n",
       "                        <td id=\"T_516fb688_0fa4_11eb_b372_0242ac1c0002row14_col33\" class=\"data row14 col33\" >-0.003737</td>\n",
       "                        <td id=\"T_516fb688_0fa4_11eb_b372_0242ac1c0002row14_col34\" class=\"data row14 col34\" >-0.003354</td>\n",
       "                        <td id=\"T_516fb688_0fa4_11eb_b372_0242ac1c0002row14_col35\" class=\"data row14 col35\" >0.006270</td>\n",
       "                        <td id=\"T_516fb688_0fa4_11eb_b372_0242ac1c0002row14_col36\" class=\"data row14 col36\" >0.004016</td>\n",
       "                        <td id=\"T_516fb688_0fa4_11eb_b372_0242ac1c0002row14_col37\" class=\"data row14 col37\" >0.004698</td>\n",
       "                        <td id=\"T_516fb688_0fa4_11eb_b372_0242ac1c0002row14_col38\" class=\"data row14 col38\" >0.004260</td>\n",
       "                        <td id=\"T_516fb688_0fa4_11eb_b372_0242ac1c0002row14_col39\" class=\"data row14 col39\" >0.005101</td>\n",
       "                        <td id=\"T_516fb688_0fa4_11eb_b372_0242ac1c0002row14_col40\" class=\"data row14 col40\" >0.000765</td>\n",
       "                        <td id=\"T_516fb688_0fa4_11eb_b372_0242ac1c0002row14_col41\" class=\"data row14 col41\" >0.003839</td>\n",
       "                        <td id=\"T_516fb688_0fa4_11eb_b372_0242ac1c0002row14_col42\" class=\"data row14 col42\" >-0.004868</td>\n",
       "            </tr>\n",
       "            <tr>\n",
       "                        <th id=\"T_516fb688_0fa4_11eb_b372_0242ac1c0002level0_row15\" class=\"row_heading level0 row15\" >pioglitazone</th>\n",
       "                        <td id=\"T_516fb688_0fa4_11eb_b372_0242ac1c0002row15_col0\" class=\"data row15 col0\" >-0.004376</td>\n",
       "                        <td id=\"T_516fb688_0fa4_11eb_b372_0242ac1c0002row15_col1\" class=\"data row15 col1\" >-0.017770</td>\n",
       "                        <td id=\"T_516fb688_0fa4_11eb_b372_0242ac1c0002row15_col2\" class=\"data row15 col2\" >0.012495</td>\n",
       "                        <td id=\"T_516fb688_0fa4_11eb_b372_0242ac1c0002row15_col3\" class=\"data row15 col3\" >0.074775</td>\n",
       "                        <td id=\"T_516fb688_0fa4_11eb_b372_0242ac1c0002row15_col4\" class=\"data row15 col4\" >0.004104</td>\n",
       "                        <td id=\"T_516fb688_0fa4_11eb_b372_0242ac1c0002row15_col5\" class=\"data row15 col5\" >-0.003550</td>\n",
       "                        <td id=\"T_516fb688_0fa4_11eb_b372_0242ac1c0002row15_col6\" class=\"data row15 col6\" >0.053039</td>\n",
       "                        <td id=\"T_516fb688_0fa4_11eb_b372_0242ac1c0002row15_col7\" class=\"data row15 col7\" >0.015039</td>\n",
       "                        <td id=\"T_516fb688_0fa4_11eb_b372_0242ac1c0002row15_col8\" class=\"data row15 col8\" >0.028734</td>\n",
       "                        <td id=\"T_516fb688_0fa4_11eb_b372_0242ac1c0002row15_col9\" class=\"data row15 col9\" >-0.007238</td>\n",
       "                        <td id=\"T_516fb688_0fa4_11eb_b372_0242ac1c0002row15_col10\" class=\"data row15 col10\" >0.050735</td>\n",
       "                        <td id=\"T_516fb688_0fa4_11eb_b372_0242ac1c0002row15_col11\" class=\"data row15 col11\" >nan</td>\n",
       "                        <td id=\"T_516fb688_0fa4_11eb_b372_0242ac1c0002row15_col12\" class=\"data row15 col12\" >0.038924</td>\n",
       "                        <td id=\"T_516fb688_0fa4_11eb_b372_0242ac1c0002row15_col13\" class=\"data row15 col13\" >0.021268</td>\n",
       "                        <td id=\"T_516fb688_0fa4_11eb_b372_0242ac1c0002row15_col14\" class=\"data row15 col14\" >-0.004454</td>\n",
       "                        <td id=\"T_516fb688_0fa4_11eb_b372_0242ac1c0002row15_col15\" class=\"data row15 col15\" >1.000000</td>\n",
       "                        <td id=\"T_516fb688_0fa4_11eb_b372_0242ac1c0002row15_col16\" class=\"data row15 col16\" >-0.067796</td>\n",
       "                        <td id=\"T_516fb688_0fa4_11eb_b372_0242ac1c0002row15_col17\" class=\"data row15 col17\" >0.015307</td>\n",
       "                        <td id=\"T_516fb688_0fa4_11eb_b372_0242ac1c0002row15_col18\" class=\"data row15 col18\" >-0.000670</td>\n",
       "                        <td id=\"T_516fb688_0fa4_11eb_b372_0242ac1c0002row15_col19\" class=\"data row15 col19\" >-0.001992</td>\n",
       "                        <td id=\"T_516fb688_0fa4_11eb_b372_0242ac1c0002row15_col20\" class=\"data row15 col20\" >-0.002951</td>\n",
       "                        <td id=\"T_516fb688_0fa4_11eb_b372_0242ac1c0002row15_col21\" class=\"data row15 col21\" >0.016176</td>\n",
       "                        <td id=\"T_516fb688_0fa4_11eb_b372_0242ac1c0002row15_col22\" class=\"data row15 col22\" >0.030717</td>\n",
       "                        <td id=\"T_516fb688_0fa4_11eb_b372_0242ac1c0002row15_col23\" class=\"data row15 col23\" >0.002898</td>\n",
       "                        <td id=\"T_516fb688_0fa4_11eb_b372_0242ac1c0002row15_col24\" class=\"data row15 col24\" >nan</td>\n",
       "                        <td id=\"T_516fb688_0fa4_11eb_b372_0242ac1c0002row15_col25\" class=\"data row15 col25\" >nan</td>\n",
       "                        <td id=\"T_516fb688_0fa4_11eb_b372_0242ac1c0002row15_col26\" class=\"data row15 col26\" >0.014567</td>\n",
       "                        <td id=\"T_516fb688_0fa4_11eb_b372_0242ac1c0002row15_col27\" class=\"data row15 col27\" >0.214111</td>\n",
       "                        <td id=\"T_516fb688_0fa4_11eb_b372_0242ac1c0002row15_col28\" class=\"data row15 col28\" >0.163065</td>\n",
       "                        <td id=\"T_516fb688_0fa4_11eb_b372_0242ac1c0002row15_col29\" class=\"data row15 col29\" >-0.003919</td>\n",
       "                        <td id=\"T_516fb688_0fa4_11eb_b372_0242ac1c0002row15_col30\" class=\"data row15 col30\" >0.023759</td>\n",
       "                        <td id=\"T_516fb688_0fa4_11eb_b372_0242ac1c0002row15_col31\" class=\"data row15 col31\" >0.019669</td>\n",
       "                        <td id=\"T_516fb688_0fa4_11eb_b372_0242ac1c0002row15_col32\" class=\"data row15 col32\" >-0.002900</td>\n",
       "                        <td id=\"T_516fb688_0fa4_11eb_b372_0242ac1c0002row15_col33\" class=\"data row15 col33\" >0.017299</td>\n",
       "                        <td id=\"T_516fb688_0fa4_11eb_b372_0242ac1c0002row15_col34\" class=\"data row15 col34\" >0.018303</td>\n",
       "                        <td id=\"T_516fb688_0fa4_11eb_b372_0242ac1c0002row15_col35\" class=\"data row15 col35\" >0.024894</td>\n",
       "                        <td id=\"T_516fb688_0fa4_11eb_b372_0242ac1c0002row15_col36\" class=\"data row15 col36\" >0.027700</td>\n",
       "                        <td id=\"T_516fb688_0fa4_11eb_b372_0242ac1c0002row15_col37\" class=\"data row15 col37\" >-0.012461</td>\n",
       "                        <td id=\"T_516fb688_0fa4_11eb_b372_0242ac1c0002row15_col38\" class=\"data row15 col38\" >0.031206</td>\n",
       "                        <td id=\"T_516fb688_0fa4_11eb_b372_0242ac1c0002row15_col39\" class=\"data row15 col39\" >0.058632</td>\n",
       "                        <td id=\"T_516fb688_0fa4_11eb_b372_0242ac1c0002row15_col40\" class=\"data row15 col40\" >0.197647</td>\n",
       "                        <td id=\"T_516fb688_0fa4_11eb_b372_0242ac1c0002row15_col41\" class=\"data row15 col41\" >-0.002923</td>\n",
       "                        <td id=\"T_516fb688_0fa4_11eb_b372_0242ac1c0002row15_col42\" class=\"data row15 col42\" >0.036254</td>\n",
       "            </tr>\n",
       "            <tr>\n",
       "                        <th id=\"T_516fb688_0fa4_11eb_b372_0242ac1c0002level0_row16\" class=\"row_heading level0 row16\" >rosiglitazone</th>\n",
       "                        <td id=\"T_516fb688_0fa4_11eb_b372_0242ac1c0002row16_col0\" class=\"data row16 col0\" >-0.000813</td>\n",
       "                        <td id=\"T_516fb688_0fa4_11eb_b372_0242ac1c0002row16_col1\" class=\"data row16 col1\" >-0.008809</td>\n",
       "                        <td id=\"T_516fb688_0fa4_11eb_b372_0242ac1c0002row16_col2\" class=\"data row16 col2\" >0.008016</td>\n",
       "                        <td id=\"T_516fb688_0fa4_11eb_b372_0242ac1c0002row16_col3\" class=\"data row16 col3\" >0.058254</td>\n",
       "                        <td id=\"T_516fb688_0fa4_11eb_b372_0242ac1c0002row16_col4\" class=\"data row16 col4\" >-0.006777</td>\n",
       "                        <td id=\"T_516fb688_0fa4_11eb_b372_0242ac1c0002row16_col5\" class=\"data row16 col5\" >0.004826</td>\n",
       "                        <td id=\"T_516fb688_0fa4_11eb_b372_0242ac1c0002row16_col6\" class=\"data row16 col6\" >0.094224</td>\n",
       "                        <td id=\"T_516fb688_0fa4_11eb_b372_0242ac1c0002row16_col7\" class=\"data row16 col7\" >0.017576</td>\n",
       "                        <td id=\"T_516fb688_0fa4_11eb_b372_0242ac1c0002row16_col8\" class=\"data row16 col8\" >0.018491</td>\n",
       "                        <td id=\"T_516fb688_0fa4_11eb_b372_0242ac1c0002row16_col9\" class=\"data row16 col9\" >-0.000380</td>\n",
       "                        <td id=\"T_516fb688_0fa4_11eb_b372_0242ac1c0002row16_col10\" class=\"data row16 col10\" >0.036556</td>\n",
       "                        <td id=\"T_516fb688_0fa4_11eb_b372_0242ac1c0002row16_col11\" class=\"data row16 col11\" >nan</td>\n",
       "                        <td id=\"T_516fb688_0fa4_11eb_b372_0242ac1c0002row16_col12\" class=\"data row16 col12\" >0.036272</td>\n",
       "                        <td id=\"T_516fb688_0fa4_11eb_b372_0242ac1c0002row16_col13\" class=\"data row16 col13\" >0.029915</td>\n",
       "                        <td id=\"T_516fb688_0fa4_11eb_b372_0242ac1c0002row16_col14\" class=\"data row16 col14\" >-0.004192</td>\n",
       "                        <td id=\"T_516fb688_0fa4_11eb_b372_0242ac1c0002row16_col15\" class=\"data row16 col15\" >-0.067796</td>\n",
       "                        <td id=\"T_516fb688_0fa4_11eb_b372_0242ac1c0002row16_col16\" class=\"data row16 col16\" >1.000000</td>\n",
       "                        <td id=\"T_516fb688_0fa4_11eb_b372_0242ac1c0002row16_col17\" class=\"data row16 col17\" >0.010967</td>\n",
       "                        <td id=\"T_516fb688_0fa4_11eb_b372_0242ac1c0002row16_col18\" class=\"data row16 col18\" >0.003950</td>\n",
       "                        <td id=\"T_516fb688_0fa4_11eb_b372_0242ac1c0002row16_col19\" class=\"data row16 col19\" >0.007685</td>\n",
       "                        <td id=\"T_516fb688_0fa4_11eb_b372_0242ac1c0002row16_col20\" class=\"data row16 col20\" >0.003936</td>\n",
       "                        <td id=\"T_516fb688_0fa4_11eb_b372_0242ac1c0002row16_col21\" class=\"data row16 col21\" >0.012106</td>\n",
       "                        <td id=\"T_516fb688_0fa4_11eb_b372_0242ac1c0002row16_col22\" class=\"data row16 col22\" >0.009168</td>\n",
       "                        <td id=\"T_516fb688_0fa4_11eb_b372_0242ac1c0002row16_col23\" class=\"data row16 col23\" >-0.002864</td>\n",
       "                        <td id=\"T_516fb688_0fa4_11eb_b372_0242ac1c0002row16_col24\" class=\"data row16 col24\" >nan</td>\n",
       "                        <td id=\"T_516fb688_0fa4_11eb_b372_0242ac1c0002row16_col25\" class=\"data row16 col25\" >nan</td>\n",
       "                        <td id=\"T_516fb688_0fa4_11eb_b372_0242ac1c0002row16_col26\" class=\"data row16 col26\" >-0.001082</td>\n",
       "                        <td id=\"T_516fb688_0fa4_11eb_b372_0242ac1c0002row16_col27\" class=\"data row16 col27\" >0.213550</td>\n",
       "                        <td id=\"T_516fb688_0fa4_11eb_b372_0242ac1c0002row16_col28\" class=\"data row16 col28\" >0.153498</td>\n",
       "                        <td id=\"T_516fb688_0fa4_11eb_b372_0242ac1c0002row16_col29\" class=\"data row16 col29\" >-0.000120</td>\n",
       "                        <td id=\"T_516fb688_0fa4_11eb_b372_0242ac1c0002row16_col30\" class=\"data row16 col30\" >0.016788</td>\n",
       "                        <td id=\"T_516fb688_0fa4_11eb_b372_0242ac1c0002row16_col31\" class=\"data row16 col31\" >0.011725</td>\n",
       "                        <td id=\"T_516fb688_0fa4_11eb_b372_0242ac1c0002row16_col32\" class=\"data row16 col32\" >-0.001924</td>\n",
       "                        <td id=\"T_516fb688_0fa4_11eb_b372_0242ac1c0002row16_col33\" class=\"data row16 col33\" >0.013211</td>\n",
       "                        <td id=\"T_516fb688_0fa4_11eb_b372_0242ac1c0002row16_col34\" class=\"data row16 col34\" >0.012051</td>\n",
       "                        <td id=\"T_516fb688_0fa4_11eb_b372_0242ac1c0002row16_col35\" class=\"data row16 col35\" >0.020520</td>\n",
       "                        <td id=\"T_516fb688_0fa4_11eb_b372_0242ac1c0002row16_col36\" class=\"data row16 col36\" >0.022630</td>\n",
       "                        <td id=\"T_516fb688_0fa4_11eb_b372_0242ac1c0002row16_col37\" class=\"data row16 col37\" >-0.006097</td>\n",
       "                        <td id=\"T_516fb688_0fa4_11eb_b372_0242ac1c0002row16_col38\" class=\"data row16 col38\" >0.026479</td>\n",
       "                        <td id=\"T_516fb688_0fa4_11eb_b372_0242ac1c0002row16_col39\" class=\"data row16 col39\" >0.043455</td>\n",
       "                        <td id=\"T_516fb688_0fa4_11eb_b372_0242ac1c0002row16_col40\" class=\"data row16 col40\" >0.188100</td>\n",
       "                        <td id=\"T_516fb688_0fa4_11eb_b372_0242ac1c0002row16_col41\" class=\"data row16 col41\" >-0.001731</td>\n",
       "                        <td id=\"T_516fb688_0fa4_11eb_b372_0242ac1c0002row16_col42\" class=\"data row16 col42\" >0.024600</td>\n",
       "            </tr>\n",
       "            <tr>\n",
       "                        <th id=\"T_516fb688_0fa4_11eb_b372_0242ac1c0002level0_row17\" class=\"row_heading level0 row17\" >acarbose</th>\n",
       "                        <td id=\"T_516fb688_0fa4_11eb_b372_0242ac1c0002row17_col0\" class=\"data row17 col0\" >0.000816</td>\n",
       "                        <td id=\"T_516fb688_0fa4_11eb_b372_0242ac1c0002row17_col1\" class=\"data row17 col1\" >-0.001930</td>\n",
       "                        <td id=\"T_516fb688_0fa4_11eb_b372_0242ac1c0002row17_col2\" class=\"data row17 col2\" >-0.001833</td>\n",
       "                        <td id=\"T_516fb688_0fa4_11eb_b372_0242ac1c0002row17_col3\" class=\"data row17 col3\" >0.013927</td>\n",
       "                        <td id=\"T_516fb688_0fa4_11eb_b372_0242ac1c0002row17_col4\" class=\"data row17 col4\" >0.006827</td>\n",
       "                        <td id=\"T_516fb688_0fa4_11eb_b372_0242ac1c0002row17_col5\" class=\"data row17 col5\" >0.000822</td>\n",
       "                        <td id=\"T_516fb688_0fa4_11eb_b372_0242ac1c0002row17_col6\" class=\"data row17 col6\" >0.007915</td>\n",
       "                        <td id=\"T_516fb688_0fa4_11eb_b372_0242ac1c0002row17_col7\" class=\"data row17 col7\" >0.024239</td>\n",
       "                        <td id=\"T_516fb688_0fa4_11eb_b372_0242ac1c0002row17_col8\" class=\"data row17 col8\" >0.003627</td>\n",
       "                        <td id=\"T_516fb688_0fa4_11eb_b372_0242ac1c0002row17_col9\" class=\"data row17 col9\" >-0.001649</td>\n",
       "                        <td id=\"T_516fb688_0fa4_11eb_b372_0242ac1c0002row17_col10\" class=\"data row17 col10\" >0.015443</td>\n",
       "                        <td id=\"T_516fb688_0fa4_11eb_b372_0242ac1c0002row17_col11\" class=\"data row17 col11\" >nan</td>\n",
       "                        <td id=\"T_516fb688_0fa4_11eb_b372_0242ac1c0002row17_col12\" class=\"data row17 col12\" >0.024425</td>\n",
       "                        <td id=\"T_516fb688_0fa4_11eb_b372_0242ac1c0002row17_col13\" class=\"data row17 col13\" >0.017805</td>\n",
       "                        <td id=\"T_516fb688_0fa4_11eb_b372_0242ac1c0002row17_col14\" class=\"data row17 col14\" >-0.000798</td>\n",
       "                        <td id=\"T_516fb688_0fa4_11eb_b372_0242ac1c0002row17_col15\" class=\"data row17 col15\" >0.015307</td>\n",
       "                        <td id=\"T_516fb688_0fa4_11eb_b372_0242ac1c0002row17_col16\" class=\"data row17 col16\" >0.010967</td>\n",
       "                        <td id=\"T_516fb688_0fa4_11eb_b372_0242ac1c0002row17_col17\" class=\"data row17 col17\" >1.000000</td>\n",
       "                        <td id=\"T_516fb688_0fa4_11eb_b372_0242ac1c0002row17_col18\" class=\"data row17 col18\" >-0.000824</td>\n",
       "                        <td id=\"T_516fb688_0fa4_11eb_b372_0242ac1c0002row17_col19\" class=\"data row17 col19\" >-0.000357</td>\n",
       "                        <td id=\"T_516fb688_0fa4_11eb_b372_0242ac1c0002row17_col20\" class=\"data row17 col20\" >-0.001071</td>\n",
       "                        <td id=\"T_516fb688_0fa4_11eb_b372_0242ac1c0002row17_col21\" class=\"data row17 col21\" >-0.009492</td>\n",
       "                        <td id=\"T_516fb688_0fa4_11eb_b372_0242ac1c0002row17_col22\" class=\"data row17 col22\" >0.003698</td>\n",
       "                        <td id=\"T_516fb688_0fa4_11eb_b372_0242ac1c0002row17_col23\" class=\"data row17 col23\" >-0.000545</td>\n",
       "                        <td id=\"T_516fb688_0fa4_11eb_b372_0242ac1c0002row17_col24\" class=\"data row17 col24\" >nan</td>\n",
       "                        <td id=\"T_516fb688_0fa4_11eb_b372_0242ac1c0002row17_col25\" class=\"data row17 col25\" >nan</td>\n",
       "                        <td id=\"T_516fb688_0fa4_11eb_b372_0242ac1c0002row17_col26\" class=\"data row17 col26\" >-0.000206</td>\n",
       "                        <td id=\"T_516fb688_0fa4_11eb_b372_0242ac1c0002row17_col27\" class=\"data row17 col27\" >0.047567</td>\n",
       "                        <td id=\"T_516fb688_0fa4_11eb_b372_0242ac1c0002row17_col28\" class=\"data row17 col28\" >0.029225</td>\n",
       "                        <td id=\"T_516fb688_0fa4_11eb_b372_0242ac1c0002row17_col29\" class=\"data row17 col29\" >-0.000987</td>\n",
       "                        <td id=\"T_516fb688_0fa4_11eb_b372_0242ac1c0002row17_col30\" class=\"data row17 col30\" >0.007066</td>\n",
       "                        <td id=\"T_516fb688_0fa4_11eb_b372_0242ac1c0002row17_col31\" class=\"data row17 col31\" >0.015288</td>\n",
       "                        <td id=\"T_516fb688_0fa4_11eb_b372_0242ac1c0002row17_col32\" class=\"data row17 col32\" >-0.003439</td>\n",
       "                        <td id=\"T_516fb688_0fa4_11eb_b372_0242ac1c0002row17_col33\" class=\"data row17 col33\" >0.000076</td>\n",
       "                        <td id=\"T_516fb688_0fa4_11eb_b372_0242ac1c0002row17_col34\" class=\"data row17 col34\" >0.009057</td>\n",
       "                        <td id=\"T_516fb688_0fa4_11eb_b372_0242ac1c0002row17_col35\" class=\"data row17 col35\" >0.005709</td>\n",
       "                        <td id=\"T_516fb688_0fa4_11eb_b372_0242ac1c0002row17_col36\" class=\"data row17 col36\" >0.000178</td>\n",
       "                        <td id=\"T_516fb688_0fa4_11eb_b372_0242ac1c0002row17_col37\" class=\"data row17 col37\" >0.001241</td>\n",
       "                        <td id=\"T_516fb688_0fa4_11eb_b372_0242ac1c0002row17_col38\" class=\"data row17 col38\" >0.008641</td>\n",
       "                        <td id=\"T_516fb688_0fa4_11eb_b372_0242ac1c0002row17_col39\" class=\"data row17 col39\" >0.014076</td>\n",
       "                        <td id=\"T_516fb688_0fa4_11eb_b372_0242ac1c0002row17_col40\" class=\"data row17 col40\" >0.043305</td>\n",
       "                        <td id=\"T_516fb688_0fa4_11eb_b372_0242ac1c0002row17_col41\" class=\"data row17 col41\" >0.003593</td>\n",
       "                        <td id=\"T_516fb688_0fa4_11eb_b372_0242ac1c0002row17_col42\" class=\"data row17 col42\" >0.010020</td>\n",
       "            </tr>\n",
       "            <tr>\n",
       "                        <th id=\"T_516fb688_0fa4_11eb_b372_0242ac1c0002level0_row18\" class=\"row_heading level0 row18\" >miglitol</th>\n",
       "                        <td id=\"T_516fb688_0fa4_11eb_b372_0242ac1c0002row18_col0\" class=\"data row18 col0\" >-0.002206</td>\n",
       "                        <td id=\"T_516fb688_0fa4_11eb_b372_0242ac1c0002row18_col1\" class=\"data row18 col1\" >-0.003635</td>\n",
       "                        <td id=\"T_516fb688_0fa4_11eb_b372_0242ac1c0002row18_col2\" class=\"data row18 col2\" >0.001009</td>\n",
       "                        <td id=\"T_516fb688_0fa4_11eb_b372_0242ac1c0002row18_col3\" class=\"data row18 col3\" >0.003052</td>\n",
       "                        <td id=\"T_516fb688_0fa4_11eb_b372_0242ac1c0002row18_col4\" class=\"data row18 col4\" >-0.001207</td>\n",
       "                        <td id=\"T_516fb688_0fa4_11eb_b372_0242ac1c0002row18_col5\" class=\"data row18 col5\" >-0.002303</td>\n",
       "                        <td id=\"T_516fb688_0fa4_11eb_b372_0242ac1c0002row18_col6\" class=\"data row18 col6\" >0.011794</td>\n",
       "                        <td id=\"T_516fb688_0fa4_11eb_b372_0242ac1c0002row18_col7\" class=\"data row18 col7\" >0.025697</td>\n",
       "                        <td id=\"T_516fb688_0fa4_11eb_b372_0242ac1c0002row18_col8\" class=\"data row18 col8\" >0.010738</td>\n",
       "                        <td id=\"T_516fb688_0fa4_11eb_b372_0242ac1c0002row18_col9\" class=\"data row18 col9\" >-0.000536</td>\n",
       "                        <td id=\"T_516fb688_0fa4_11eb_b372_0242ac1c0002row18_col10\" class=\"data row18 col10\" >0.014714</td>\n",
       "                        <td id=\"T_516fb688_0fa4_11eb_b372_0242ac1c0002row18_col11\" class=\"data row18 col11\" >nan</td>\n",
       "                        <td id=\"T_516fb688_0fa4_11eb_b372_0242ac1c0002row18_col12\" class=\"data row18 col12\" >0.000021</td>\n",
       "                        <td id=\"T_516fb688_0fa4_11eb_b372_0242ac1c0002row18_col13\" class=\"data row18 col13\" >-0.002424</td>\n",
       "                        <td id=\"T_516fb688_0fa4_11eb_b372_0242ac1c0002row18_col14\" class=\"data row18 col14\" >-0.000260</td>\n",
       "                        <td id=\"T_516fb688_0fa4_11eb_b372_0242ac1c0002row18_col15\" class=\"data row18 col15\" >-0.000670</td>\n",
       "                        <td id=\"T_516fb688_0fa4_11eb_b372_0242ac1c0002row18_col16\" class=\"data row18 col16\" >0.003950</td>\n",
       "                        <td id=\"T_516fb688_0fa4_11eb_b372_0242ac1c0002row18_col17\" class=\"data row18 col17\" >-0.000824</td>\n",
       "                        <td id=\"T_516fb688_0fa4_11eb_b372_0242ac1c0002row18_col18\" class=\"data row18 col18\" >1.000000</td>\n",
       "                        <td id=\"T_516fb688_0fa4_11eb_b372_0242ac1c0002row18_col19\" class=\"data row18 col19\" >-0.000116</td>\n",
       "                        <td id=\"T_516fb688_0fa4_11eb_b372_0242ac1c0002row18_col20\" class=\"data row18 col20\" >-0.000348</td>\n",
       "                        <td id=\"T_516fb688_0fa4_11eb_b372_0242ac1c0002row18_col21\" class=\"data row18 col21\" >-0.003818</td>\n",
       "                        <td id=\"T_516fb688_0fa4_11eb_b372_0242ac1c0002row18_col22\" class=\"data row18 col22\" >-0.001383</td>\n",
       "                        <td id=\"T_516fb688_0fa4_11eb_b372_0242ac1c0002row18_col23\" class=\"data row18 col23\" >-0.000177</td>\n",
       "                        <td id=\"T_516fb688_0fa4_11eb_b372_0242ac1c0002row18_col24\" class=\"data row18 col24\" >nan</td>\n",
       "                        <td id=\"T_516fb688_0fa4_11eb_b372_0242ac1c0002row18_col25\" class=\"data row18 col25\" >nan</td>\n",
       "                        <td id=\"T_516fb688_0fa4_11eb_b372_0242ac1c0002row18_col26\" class=\"data row18 col26\" >-0.000067</td>\n",
       "                        <td id=\"T_516fb688_0fa4_11eb_b372_0242ac1c0002row18_col27\" class=\"data row18 col27\" >0.012553</td>\n",
       "                        <td id=\"T_516fb688_0fa4_11eb_b372_0242ac1c0002row18_col28\" class=\"data row18 col28\" >0.009503</td>\n",
       "                        <td id=\"T_516fb688_0fa4_11eb_b372_0242ac1c0002row18_col29\" class=\"data row18 col29\" >-0.004988</td>\n",
       "                        <td id=\"T_516fb688_0fa4_11eb_b372_0242ac1c0002row18_col30\" class=\"data row18 col30\" >0.000936</td>\n",
       "                        <td id=\"T_516fb688_0fa4_11eb_b372_0242ac1c0002row18_col31\" class=\"data row18 col31\" >0.002220</td>\n",
       "                        <td id=\"T_516fb688_0fa4_11eb_b372_0242ac1c0002row18_col32\" class=\"data row18 col32\" >-0.001336</td>\n",
       "                        <td id=\"T_516fb688_0fa4_11eb_b372_0242ac1c0002row18_col33\" class=\"data row18 col33\" >0.014469</td>\n",
       "                        <td id=\"T_516fb688_0fa4_11eb_b372_0242ac1c0002row18_col34\" class=\"data row18 col34\" >0.006753</td>\n",
       "                        <td id=\"T_516fb688_0fa4_11eb_b372_0242ac1c0002row18_col35\" class=\"data row18 col35\" >-0.000506</td>\n",
       "                        <td id=\"T_516fb688_0fa4_11eb_b372_0242ac1c0002row18_col36\" class=\"data row18 col36\" >0.002387</td>\n",
       "                        <td id=\"T_516fb688_0fa4_11eb_b372_0242ac1c0002row18_col37\" class=\"data row18 col37\" >-0.003097</td>\n",
       "                        <td id=\"T_516fb688_0fa4_11eb_b372_0242ac1c0002row18_col38\" class=\"data row18 col38\" >-0.000539</td>\n",
       "                        <td id=\"T_516fb688_0fa4_11eb_b372_0242ac1c0002row18_col39\" class=\"data row18 col39\" >0.001609</td>\n",
       "                        <td id=\"T_516fb688_0fa4_11eb_b372_0242ac1c0002row18_col40\" class=\"data row18 col40\" >0.010670</td>\n",
       "                        <td id=\"T_516fb688_0fa4_11eb_b372_0242ac1c0002row18_col41\" class=\"data row18 col41\" >-0.002801</td>\n",
       "                        <td id=\"T_516fb688_0fa4_11eb_b372_0242ac1c0002row18_col42\" class=\"data row18 col42\" >0.001914</td>\n",
       "            </tr>\n",
       "            <tr>\n",
       "                        <th id=\"T_516fb688_0fa4_11eb_b372_0242ac1c0002level0_row19\" class=\"row_heading level0 row19\" >troglitazone</th>\n",
       "                        <td id=\"T_516fb688_0fa4_11eb_b372_0242ac1c0002row19_col0\" class=\"data row19 col0\" >0.005697</td>\n",
       "                        <td id=\"T_516fb688_0fa4_11eb_b372_0242ac1c0002row19_col1\" class=\"data row19 col1\" >0.005200</td>\n",
       "                        <td id=\"T_516fb688_0fa4_11eb_b372_0242ac1c0002row19_col2\" class=\"data row19 col2\" >-0.005735</td>\n",
       "                        <td id=\"T_516fb688_0fa4_11eb_b372_0242ac1c0002row19_col3\" class=\"data row19 col3\" >0.004254</td>\n",
       "                        <td id=\"T_516fb688_0fa4_11eb_b372_0242ac1c0002row19_col4\" class=\"data row19 col4\" >0.005222</td>\n",
       "                        <td id=\"T_516fb688_0fa4_11eb_b372_0242ac1c0002row19_col5\" class=\"data row19 col5\" >-0.003314</td>\n",
       "                        <td id=\"T_516fb688_0fa4_11eb_b372_0242ac1c0002row19_col6\" class=\"data row19 col6\" >-0.003630</td>\n",
       "                        <td id=\"T_516fb688_0fa4_11eb_b372_0242ac1c0002row19_col7\" class=\"data row19 col7\" >-0.000800</td>\n",
       "                        <td id=\"T_516fb688_0fa4_11eb_b372_0242ac1c0002row19_col8\" class=\"data row19 col8\" >-0.000602</td>\n",
       "                        <td id=\"T_516fb688_0fa4_11eb_b372_0242ac1c0002row19_col9\" class=\"data row19 col9\" >-0.000232</td>\n",
       "                        <td id=\"T_516fb688_0fa4_11eb_b372_0242ac1c0002row19_col10\" class=\"data row19 col10\" >0.009045</td>\n",
       "                        <td id=\"T_516fb688_0fa4_11eb_b372_0242ac1c0002row19_col11\" class=\"data row19 col11\" >nan</td>\n",
       "                        <td id=\"T_516fb688_0fa4_11eb_b372_0242ac1c0002row19_col12\" class=\"data row19 col12\" >-0.002674</td>\n",
       "                        <td id=\"T_516fb688_0fa4_11eb_b372_0242ac1c0002row19_col13\" class=\"data row19 col13\" >-0.002474</td>\n",
       "                        <td id=\"T_516fb688_0fa4_11eb_b372_0242ac1c0002row19_col14\" class=\"data row19 col14\" >-0.000112</td>\n",
       "                        <td id=\"T_516fb688_0fa4_11eb_b372_0242ac1c0002row19_col15\" class=\"data row19 col15\" >-0.001992</td>\n",
       "                        <td id=\"T_516fb688_0fa4_11eb_b372_0242ac1c0002row19_col16\" class=\"data row19 col16\" >0.007685</td>\n",
       "                        <td id=\"T_516fb688_0fa4_11eb_b372_0242ac1c0002row19_col17\" class=\"data row19 col17\" >-0.000357</td>\n",
       "                        <td id=\"T_516fb688_0fa4_11eb_b372_0242ac1c0002row19_col18\" class=\"data row19 col18\" >-0.000116</td>\n",
       "                        <td id=\"T_516fb688_0fa4_11eb_b372_0242ac1c0002row19_col19\" class=\"data row19 col19\" >1.000000</td>\n",
       "                        <td id=\"T_516fb688_0fa4_11eb_b372_0242ac1c0002row19_col20\" class=\"data row19 col20\" >-0.000151</td>\n",
       "                        <td id=\"T_516fb688_0fa4_11eb_b372_0242ac1c0002row19_col21\" class=\"data row19 col21\" >0.002482</td>\n",
       "                        <td id=\"T_516fb688_0fa4_11eb_b372_0242ac1c0002row19_col22\" class=\"data row19 col22\" >-0.000599</td>\n",
       "                        <td id=\"T_516fb688_0fa4_11eb_b372_0242ac1c0002row19_col23\" class=\"data row19 col23\" >-0.000077</td>\n",
       "                        <td id=\"T_516fb688_0fa4_11eb_b372_0242ac1c0002row19_col24\" class=\"data row19 col24\" >nan</td>\n",
       "                        <td id=\"T_516fb688_0fa4_11eb_b372_0242ac1c0002row19_col25\" class=\"data row19 col25\" >nan</td>\n",
       "                        <td id=\"T_516fb688_0fa4_11eb_b372_0242ac1c0002row19_col26\" class=\"data row19 col26\" >-0.000029</td>\n",
       "                        <td id=\"T_516fb688_0fa4_11eb_b372_0242ac1c0002row19_col27\" class=\"data row19 col27\" >0.008118</td>\n",
       "                        <td id=\"T_516fb688_0fa4_11eb_b372_0242ac1c0002row19_col28\" class=\"data row19 col28\" >0.004114</td>\n",
       "                        <td id=\"T_516fb688_0fa4_11eb_b372_0242ac1c0002row19_col29\" class=\"data row19 col29\" >-0.002160</td>\n",
       "                        <td id=\"T_516fb688_0fa4_11eb_b372_0242ac1c0002row19_col30\" class=\"data row19 col30\" >0.001818</td>\n",
       "                        <td id=\"T_516fb688_0fa4_11eb_b372_0242ac1c0002row19_col31\" class=\"data row19 col31\" >-0.002254</td>\n",
       "                        <td id=\"T_516fb688_0fa4_11eb_b372_0242ac1c0002row19_col32\" class=\"data row19 col32\" >-0.002165</td>\n",
       "                        <td id=\"T_516fb688_0fa4_11eb_b372_0242ac1c0002row19_col33\" class=\"data row19 col33\" >-0.001671</td>\n",
       "                        <td id=\"T_516fb688_0fa4_11eb_b372_0242ac1c0002row19_col34\" class=\"data row19 col34\" >-0.003439</td>\n",
       "                        <td id=\"T_516fb688_0fa4_11eb_b372_0242ac1c0002row19_col35\" class=\"data row19 col35\" >0.006373</td>\n",
       "                        <td id=\"T_516fb688_0fa4_11eb_b372_0242ac1c0002row19_col36\" class=\"data row19 col36\" >-0.004740</td>\n",
       "                        <td id=\"T_516fb688_0fa4_11eb_b372_0242ac1c0002row19_col37\" class=\"data row19 col37\" >0.007540</td>\n",
       "                        <td id=\"T_516fb688_0fa4_11eb_b372_0242ac1c0002row19_col38\" class=\"data row19 col38\" >0.006461</td>\n",
       "                        <td id=\"T_516fb688_0fa4_11eb_b372_0242ac1c0002row19_col39\" class=\"data row19 col39\" >0.006022</td>\n",
       "                        <td id=\"T_516fb688_0fa4_11eb_b372_0242ac1c0002row19_col40\" class=\"data row19 col40\" >0.008812</td>\n",
       "                        <td id=\"T_516fb688_0fa4_11eb_b372_0242ac1c0002row19_col41\" class=\"data row19 col41\" >0.007241</td>\n",
       "                        <td id=\"T_516fb688_0fa4_11eb_b372_0242ac1c0002row19_col42\" class=\"data row19 col42\" >0.001172</td>\n",
       "            </tr>\n",
       "            <tr>\n",
       "                        <th id=\"T_516fb688_0fa4_11eb_b372_0242ac1c0002level0_row20\" class=\"row_heading level0 row20\" >tolazamide</th>\n",
       "                        <td id=\"T_516fb688_0fa4_11eb_b372_0242ac1c0002row20_col0\" class=\"data row20 col0\" >-0.006658</td>\n",
       "                        <td id=\"T_516fb688_0fa4_11eb_b372_0242ac1c0002row20_col1\" class=\"data row20 col1\" >-0.001007</td>\n",
       "                        <td id=\"T_516fb688_0fa4_11eb_b372_0242ac1c0002row20_col2\" class=\"data row20 col2\" >-0.000290</td>\n",
       "                        <td id=\"T_516fb688_0fa4_11eb_b372_0242ac1c0002row20_col3\" class=\"data row20 col3\" >-0.001558</td>\n",
       "                        <td id=\"T_516fb688_0fa4_11eb_b372_0242ac1c0002row20_col4\" class=\"data row20 col4\" >-0.010419</td>\n",
       "                        <td id=\"T_516fb688_0fa4_11eb_b372_0242ac1c0002row20_col5\" class=\"data row20 col5\" >-0.001725</td>\n",
       "                        <td id=\"T_516fb688_0fa4_11eb_b372_0242ac1c0002row20_col6\" class=\"data row20 col6\" >-0.001183</td>\n",
       "                        <td id=\"T_516fb688_0fa4_11eb_b372_0242ac1c0002row20_col7\" class=\"data row20 col7\" >-0.002401</td>\n",
       "                        <td id=\"T_516fb688_0fa4_11eb_b372_0242ac1c0002row20_col8\" class=\"data row20 col8\" >-0.001807</td>\n",
       "                        <td id=\"T_516fb688_0fa4_11eb_b372_0242ac1c0002row20_col9\" class=\"data row20 col9\" >-0.000697</td>\n",
       "                        <td id=\"T_516fb688_0fa4_11eb_b372_0242ac1c0002row20_col10\" class=\"data row20 col10\" >-0.004954</td>\n",
       "                        <td id=\"T_516fb688_0fa4_11eb_b372_0242ac1c0002row20_col11\" class=\"data row20 col11\" >nan</td>\n",
       "                        <td id=\"T_516fb688_0fa4_11eb_b372_0242ac1c0002row20_col12\" class=\"data row20 col12\" >-0.008024</td>\n",
       "                        <td id=\"T_516fb688_0fa4_11eb_b372_0242ac1c0002row20_col13\" class=\"data row20 col13\" >-0.007422</td>\n",
       "                        <td id=\"T_516fb688_0fa4_11eb_b372_0242ac1c0002row20_col14\" class=\"data row20 col14\" >-0.000337</td>\n",
       "                        <td id=\"T_516fb688_0fa4_11eb_b372_0242ac1c0002row20_col15\" class=\"data row20 col15\" >-0.002951</td>\n",
       "                        <td id=\"T_516fb688_0fa4_11eb_b372_0242ac1c0002row20_col16\" class=\"data row20 col16\" >0.003936</td>\n",
       "                        <td id=\"T_516fb688_0fa4_11eb_b372_0242ac1c0002row20_col17\" class=\"data row20 col17\" >-0.001071</td>\n",
       "                        <td id=\"T_516fb688_0fa4_11eb_b372_0242ac1c0002row20_col18\" class=\"data row20 col18\" >-0.000348</td>\n",
       "                        <td id=\"T_516fb688_0fa4_11eb_b372_0242ac1c0002row20_col19\" class=\"data row20 col19\" >-0.000151</td>\n",
       "                        <td id=\"T_516fb688_0fa4_11eb_b372_0242ac1c0002row20_col20\" class=\"data row20 col20\" >1.000000</td>\n",
       "                        <td id=\"T_516fb688_0fa4_11eb_b372_0242ac1c0002row20_col21\" class=\"data row20 col21\" >-0.011461</td>\n",
       "                        <td id=\"T_516fb688_0fa4_11eb_b372_0242ac1c0002row20_col22\" class=\"data row20 col22\" >-0.001797</td>\n",
       "                        <td id=\"T_516fb688_0fa4_11eb_b372_0242ac1c0002row20_col23\" class=\"data row20 col23\" >-0.000230</td>\n",
       "                        <td id=\"T_516fb688_0fa4_11eb_b372_0242ac1c0002row20_col24\" class=\"data row20 col24\" >nan</td>\n",
       "                        <td id=\"T_516fb688_0fa4_11eb_b372_0242ac1c0002row20_col25\" class=\"data row20 col25\" >nan</td>\n",
       "                        <td id=\"T_516fb688_0fa4_11eb_b372_0242ac1c0002row20_col26\" class=\"data row20 col26\" >-0.000087</td>\n",
       "                        <td id=\"T_516fb688_0fa4_11eb_b372_0242ac1c0002row20_col27\" class=\"data row20 col27\" >-0.001083</td>\n",
       "                        <td id=\"T_516fb688_0fa4_11eb_b372_0242ac1c0002row20_col28\" class=\"data row20 col28\" >0.012345</td>\n",
       "                        <td id=\"T_516fb688_0fa4_11eb_b372_0242ac1c0002row20_col29\" class=\"data row20 col29\" >-0.003654</td>\n",
       "                        <td id=\"T_516fb688_0fa4_11eb_b372_0242ac1c0002row20_col30\" class=\"data row20 col30\" >-0.009613</td>\n",
       "                        <td id=\"T_516fb688_0fa4_11eb_b372_0242ac1c0002row20_col31\" class=\"data row20 col31\" >-0.004552</td>\n",
       "                        <td id=\"T_516fb688_0fa4_11eb_b372_0242ac1c0002row20_col32\" class=\"data row20 col32\" >-0.003675</td>\n",
       "                        <td id=\"T_516fb688_0fa4_11eb_b372_0242ac1c0002row20_col33\" class=\"data row20 col33\" >0.002041</td>\n",
       "                        <td id=\"T_516fb688_0fa4_11eb_b372_0242ac1c0002row20_col34\" class=\"data row20 col34\" >-0.004525</td>\n",
       "                        <td id=\"T_516fb688_0fa4_11eb_b372_0242ac1c0002row20_col35\" class=\"data row20 col35\" >-0.004828</td>\n",
       "                        <td id=\"T_516fb688_0fa4_11eb_b372_0242ac1c0002row20_col36\" class=\"data row20 col36\" >-0.001396</td>\n",
       "                        <td id=\"T_516fb688_0fa4_11eb_b372_0242ac1c0002row20_col37\" class=\"data row20 col37\" >-0.005061</td>\n",
       "                        <td id=\"T_516fb688_0fa4_11eb_b372_0242ac1c0002row20_col38\" class=\"data row20 col38\" >-0.001927</td>\n",
       "                        <td id=\"T_516fb688_0fa4_11eb_b372_0242ac1c0002row20_col39\" class=\"data row20 col39\" >-0.006957</td>\n",
       "                        <td id=\"T_516fb688_0fa4_11eb_b372_0242ac1c0002row20_col40\" class=\"data row20 col40\" >-0.003511</td>\n",
       "                        <td id=\"T_516fb688_0fa4_11eb_b372_0242ac1c0002row20_col41\" class=\"data row20 col41\" >-0.008850</td>\n",
       "                        <td id=\"T_516fb688_0fa4_11eb_b372_0242ac1c0002row20_col42\" class=\"data row20 col42\" >-0.008610</td>\n",
       "            </tr>\n",
       "            <tr>\n",
       "                        <th id=\"T_516fb688_0fa4_11eb_b372_0242ac1c0002level0_row21\" class=\"row_heading level0 row21\" >insulin</th>\n",
       "                        <td id=\"T_516fb688_0fa4_11eb_b372_0242ac1c0002row21_col0\" class=\"data row21 col0\" >0.097371</td>\n",
       "                        <td id=\"T_516fb688_0fa4_11eb_b372_0242ac1c0002row21_col1\" class=\"data row21 col1\" >0.100137</td>\n",
       "                        <td id=\"T_516fb688_0fa4_11eb_b372_0242ac1c0002row21_col2\" class=\"data row21 col2\" >0.002454</td>\n",
       "                        <td id=\"T_516fb688_0fa4_11eb_b372_0242ac1c0002row21_col3\" class=\"data row21 col3\" >0.194339</td>\n",
       "                        <td id=\"T_516fb688_0fa4_11eb_b372_0242ac1c0002row21_col4\" class=\"data row21 col4\" >0.090370</td>\n",
       "                        <td id=\"T_516fb688_0fa4_11eb_b372_0242ac1c0002row21_col5\" class=\"data row21 col5\" >0.097721</td>\n",
       "                        <td id=\"T_516fb688_0fa4_11eb_b372_0242ac1c0002row21_col6\" class=\"data row21 col6\" >-0.024419</td>\n",
       "                        <td id=\"T_516fb688_0fa4_11eb_b372_0242ac1c0002row21_col7\" class=\"data row21 col7\" >0.009263</td>\n",
       "                        <td id=\"T_516fb688_0fa4_11eb_b372_0242ac1c0002row21_col8\" class=\"data row21 col8\" >0.000635</td>\n",
       "                        <td id=\"T_516fb688_0fa4_11eb_b372_0242ac1c0002row21_col9\" class=\"data row21 col9\" >-0.018902</td>\n",
       "                        <td id=\"T_516fb688_0fa4_11eb_b372_0242ac1c0002row21_col10\" class=\"data row21 col10\" >0.007557</td>\n",
       "                        <td id=\"T_516fb688_0fa4_11eb_b372_0242ac1c0002row21_col11\" class=\"data row21 col11\" >nan</td>\n",
       "                        <td id=\"T_516fb688_0fa4_11eb_b372_0242ac1c0002row21_col12\" class=\"data row21 col12\" >-0.025815</td>\n",
       "                        <td id=\"T_516fb688_0fa4_11eb_b372_0242ac1c0002row21_col13\" class=\"data row21 col13\" >-0.070759</td>\n",
       "                        <td id=\"T_516fb688_0fa4_11eb_b372_0242ac1c0002row21_col14\" class=\"data row21 col14\" >-0.007132</td>\n",
       "                        <td id=\"T_516fb688_0fa4_11eb_b372_0242ac1c0002row21_col15\" class=\"data row21 col15\" >0.016176</td>\n",
       "                        <td id=\"T_516fb688_0fa4_11eb_b372_0242ac1c0002row21_col16\" class=\"data row21 col16\" >0.012106</td>\n",
       "                        <td id=\"T_516fb688_0fa4_11eb_b372_0242ac1c0002row21_col17\" class=\"data row21 col17\" >-0.009492</td>\n",
       "                        <td id=\"T_516fb688_0fa4_11eb_b372_0242ac1c0002row21_col18\" class=\"data row21 col18\" >-0.003818</td>\n",
       "                        <td id=\"T_516fb688_0fa4_11eb_b372_0242ac1c0002row21_col19\" class=\"data row21 col19\" >0.002482</td>\n",
       "                        <td id=\"T_516fb688_0fa4_11eb_b372_0242ac1c0002row21_col20\" class=\"data row21 col20\" >-0.011461</td>\n",
       "                        <td id=\"T_516fb688_0fa4_11eb_b372_0242ac1c0002row21_col21\" class=\"data row21 col21\" >1.000000</td>\n",
       "                        <td id=\"T_516fb688_0fa4_11eb_b372_0242ac1c0002row21_col22\" class=\"data row21 col22\" >0.012805</td>\n",
       "                        <td id=\"T_516fb688_0fa4_11eb_b372_0242ac1c0002row21_col23\" class=\"data row21 col23\" >-0.001365</td>\n",
       "                        <td id=\"T_516fb688_0fa4_11eb_b372_0242ac1c0002row21_col24\" class=\"data row21 col24\" >nan</td>\n",
       "                        <td id=\"T_516fb688_0fa4_11eb_b372_0242ac1c0002row21_col25\" class=\"data row21 col25\" >nan</td>\n",
       "                        <td id=\"T_516fb688_0fa4_11eb_b372_0242ac1c0002row21_col26\" class=\"data row21 col26\" >0.004162</td>\n",
       "                        <td id=\"T_516fb688_0fa4_11eb_b372_0242ac1c0002row21_col27\" class=\"data row21 col27\" >0.500103</td>\n",
       "                        <td id=\"T_516fb688_0fa4_11eb_b372_0242ac1c0002row21_col28\" class=\"data row21 col28\" >0.570727</td>\n",
       "                        <td id=\"T_516fb688_0fa4_11eb_b372_0242ac1c0002row21_col29\" class=\"data row21 col29\" >0.024412</td>\n",
       "                        <td id=\"T_516fb688_0fa4_11eb_b372_0242ac1c0002row21_col30\" class=\"data row21 col30\" >0.436229</td>\n",
       "                        <td id=\"T_516fb688_0fa4_11eb_b372_0242ac1c0002row21_col31\" class=\"data row21 col31\" >-0.006063</td>\n",
       "                        <td id=\"T_516fb688_0fa4_11eb_b372_0242ac1c0002row21_col32\" class=\"data row21 col32\" >0.022707</td>\n",
       "                        <td id=\"T_516fb688_0fa4_11eb_b372_0242ac1c0002row21_col33\" class=\"data row21 col33\" >0.038694</td>\n",
       "                        <td id=\"T_516fb688_0fa4_11eb_b372_0242ac1c0002row21_col34\" class=\"data row21 col34\" >0.023755</td>\n",
       "                        <td id=\"T_516fb688_0fa4_11eb_b372_0242ac1c0002row21_col35\" class=\"data row21 col35\" >0.153239</td>\n",
       "                        <td id=\"T_516fb688_0fa4_11eb_b372_0242ac1c0002row21_col36\" class=\"data row21 col36\" >0.069351</td>\n",
       "                        <td id=\"T_516fb688_0fa4_11eb_b372_0242ac1c0002row21_col37\" class=\"data row21 col37\" >0.111552</td>\n",
       "                        <td id=\"T_516fb688_0fa4_11eb_b372_0242ac1c0002row21_col38\" class=\"data row21 col38\" >0.188883</td>\n",
       "                        <td id=\"T_516fb688_0fa4_11eb_b372_0242ac1c0002row21_col39\" class=\"data row21 col39\" >0.201644</td>\n",
       "                        <td id=\"T_516fb688_0fa4_11eb_b372_0242ac1c0002row21_col40\" class=\"data row21 col40\" >0.465142</td>\n",
       "                        <td id=\"T_516fb688_0fa4_11eb_b372_0242ac1c0002row21_col41\" class=\"data row21 col41\" >0.109075</td>\n",
       "                        <td id=\"T_516fb688_0fa4_11eb_b372_0242ac1c0002row21_col42\" class=\"data row21 col42\" >0.404228</td>\n",
       "            </tr>\n",
       "            <tr>\n",
       "                        <th id=\"T_516fb688_0fa4_11eb_b372_0242ac1c0002level0_row22\" class=\"row_heading level0 row22\" >glyburide-metformin</th>\n",
       "                        <td id=\"T_516fb688_0fa4_11eb_b372_0242ac1c0002row22_col0\" class=\"data row22 col0\" >-0.000302</td>\n",
       "                        <td id=\"T_516fb688_0fa4_11eb_b372_0242ac1c0002row22_col1\" class=\"data row22 col1\" >-0.014247</td>\n",
       "                        <td id=\"T_516fb688_0fa4_11eb_b372_0242ac1c0002row22_col2\" class=\"data row22 col2\" >-0.009110</td>\n",
       "                        <td id=\"T_516fb688_0fa4_11eb_b372_0242ac1c0002row22_col3\" class=\"data row22 col3\" >0.008746</td>\n",
       "                        <td id=\"T_516fb688_0fa4_11eb_b372_0242ac1c0002row22_col4\" class=\"data row22 col4\" >-0.002435</td>\n",
       "                        <td id=\"T_516fb688_0fa4_11eb_b372_0242ac1c0002row22_col5\" class=\"data row22 col5\" >-0.002506</td>\n",
       "                        <td id=\"T_516fb688_0fa4_11eb_b372_0242ac1c0002row22_col6\" class=\"data row22 col6\" >-0.026028</td>\n",
       "                        <td id=\"T_516fb688_0fa4_11eb_b372_0242ac1c0002row22_col7\" class=\"data row22 col7\" >-0.005950</td>\n",
       "                        <td id=\"T_516fb688_0fa4_11eb_b372_0242ac1c0002row22_col8\" class=\"data row22 col8\" >-0.002443</td>\n",
       "                        <td id=\"T_516fb688_0fa4_11eb_b372_0242ac1c0002row22_col9\" class=\"data row22 col9\" >-0.002767</td>\n",
       "                        <td id=\"T_516fb688_0fa4_11eb_b372_0242ac1c0002row22_col10\" class=\"data row22 col10\" >-0.009730</td>\n",
       "                        <td id=\"T_516fb688_0fa4_11eb_b372_0242ac1c0002row22_col11\" class=\"data row22 col11\" >nan</td>\n",
       "                        <td id=\"T_516fb688_0fa4_11eb_b372_0242ac1c0002row22_col12\" class=\"data row22 col12\" >-0.027632</td>\n",
       "                        <td id=\"T_516fb688_0fa4_11eb_b372_0242ac1c0002row22_col13\" class=\"data row22 col13\" >-0.010859</td>\n",
       "                        <td id=\"T_516fb688_0fa4_11eb_b372_0242ac1c0002row22_col14\" class=\"data row22 col14\" >-0.001339</td>\n",
       "                        <td id=\"T_516fb688_0fa4_11eb_b372_0242ac1c0002row22_col15\" class=\"data row22 col15\" >0.030717</td>\n",
       "                        <td id=\"T_516fb688_0fa4_11eb_b372_0242ac1c0002row22_col16\" class=\"data row22 col16\" >0.009168</td>\n",
       "                        <td id=\"T_516fb688_0fa4_11eb_b372_0242ac1c0002row22_col17\" class=\"data row22 col17\" >0.003698</td>\n",
       "                        <td id=\"T_516fb688_0fa4_11eb_b372_0242ac1c0002row22_col18\" class=\"data row22 col18\" >-0.001383</td>\n",
       "                        <td id=\"T_516fb688_0fa4_11eb_b372_0242ac1c0002row22_col19\" class=\"data row22 col19\" >-0.000599</td>\n",
       "                        <td id=\"T_516fb688_0fa4_11eb_b372_0242ac1c0002row22_col20\" class=\"data row22 col20\" >-0.001797</td>\n",
       "                        <td id=\"T_516fb688_0fa4_11eb_b372_0242ac1c0002row22_col21\" class=\"data row22 col21\" >0.012805</td>\n",
       "                        <td id=\"T_516fb688_0fa4_11eb_b372_0242ac1c0002row22_col22\" class=\"data row22 col22\" >1.000000</td>\n",
       "                        <td id=\"T_516fb688_0fa4_11eb_b372_0242ac1c0002row22_col23\" class=\"data row22 col23\" >0.035973</td>\n",
       "                        <td id=\"T_516fb688_0fa4_11eb_b372_0242ac1c0002row22_col24\" class=\"data row22 col24\" >nan</td>\n",
       "                        <td id=\"T_516fb688_0fa4_11eb_b372_0242ac1c0002row22_col25\" class=\"data row22 col25\" >nan</td>\n",
       "                        <td id=\"T_516fb688_0fa4_11eb_b372_0242ac1c0002row22_col26\" class=\"data row22 col26\" >-0.000346</td>\n",
       "                        <td id=\"T_516fb688_0fa4_11eb_b372_0242ac1c0002row22_col27\" class=\"data row22 col27\" >0.047156</td>\n",
       "                        <td id=\"T_516fb688_0fa4_11eb_b372_0242ac1c0002row22_col28\" class=\"data row22 col28\" >0.049027</td>\n",
       "                        <td id=\"T_516fb688_0fa4_11eb_b372_0242ac1c0002row22_col29\" class=\"data row22 col29\" >-0.000664</td>\n",
       "                        <td id=\"T_516fb688_0fa4_11eb_b372_0242ac1c0002row22_col30\" class=\"data row22 col30\" >0.006383</td>\n",
       "                        <td id=\"T_516fb688_0fa4_11eb_b372_0242ac1c0002row22_col31\" class=\"data row22 col31\" >-0.001389</td>\n",
       "                        <td id=\"T_516fb688_0fa4_11eb_b372_0242ac1c0002row22_col32\" class=\"data row22 col32\" >-0.010068</td>\n",
       "                        <td id=\"T_516fb688_0fa4_11eb_b372_0242ac1c0002row22_col33\" class=\"data row22 col33\" >0.002444</td>\n",
       "                        <td id=\"T_516fb688_0fa4_11eb_b372_0242ac1c0002row22_col34\" class=\"data row22 col34\" >-0.004200</td>\n",
       "                        <td id=\"T_516fb688_0fa4_11eb_b372_0242ac1c0002row22_col35\" class=\"data row22 col35\" >0.003776</td>\n",
       "                        <td id=\"T_516fb688_0fa4_11eb_b372_0242ac1c0002row22_col36\" class=\"data row22 col36\" >-0.003401</td>\n",
       "                        <td id=\"T_516fb688_0fa4_11eb_b372_0242ac1c0002row22_col37\" class=\"data row22 col37\" >-0.007003</td>\n",
       "                        <td id=\"T_516fb688_0fa4_11eb_b372_0242ac1c0002row22_col38\" class=\"data row22 col38\" >-0.000958</td>\n",
       "                        <td id=\"T_516fb688_0fa4_11eb_b372_0242ac1c0002row22_col39\" class=\"data row22 col39\" >0.007012</td>\n",
       "                        <td id=\"T_516fb688_0fa4_11eb_b372_0242ac1c0002row22_col40\" class=\"data row22 col40\" >0.041203</td>\n",
       "                        <td id=\"T_516fb688_0fa4_11eb_b372_0242ac1c0002row22_col41\" class=\"data row22 col41\" >0.000368</td>\n",
       "                        <td id=\"T_516fb688_0fa4_11eb_b372_0242ac1c0002row22_col42\" class=\"data row22 col42\" >0.008083</td>\n",
       "            </tr>\n",
       "            <tr>\n",
       "                        <th id=\"T_516fb688_0fa4_11eb_b372_0242ac1c0002level0_row23\" class=\"row_heading level0 row23\" >glipizide-metformin</th>\n",
       "                        <td id=\"T_516fb688_0fa4_11eb_b372_0242ac1c0002row23_col0\" class=\"data row23 col0\" >0.002334</td>\n",
       "                        <td id=\"T_516fb688_0fa4_11eb_b372_0242ac1c0002row23_col1\" class=\"data row23 col1\" >-0.003791</td>\n",
       "                        <td id=\"T_516fb688_0fa4_11eb_b372_0242ac1c0002row23_col2\" class=\"data row23 col2\" >-0.003373</td>\n",
       "                        <td id=\"T_516fb688_0fa4_11eb_b372_0242ac1c0002row23_col3\" class=\"data row23 col3\" >0.004263</td>\n",
       "                        <td id=\"T_516fb688_0fa4_11eb_b372_0242ac1c0002row23_col4\" class=\"data row23 col4\" >0.001743</td>\n",
       "                        <td id=\"T_516fb688_0fa4_11eb_b372_0242ac1c0002row23_col5\" class=\"data row23 col5\" >0.003027</td>\n",
       "                        <td id=\"T_516fb688_0fa4_11eb_b372_0242ac1c0002row23_col6\" class=\"data row23 col6\" >-0.001732</td>\n",
       "                        <td id=\"T_516fb688_0fa4_11eb_b372_0242ac1c0002row23_col7\" class=\"data row23 col7\" >-0.001222</td>\n",
       "                        <td id=\"T_516fb688_0fa4_11eb_b372_0242ac1c0002row23_col8\" class=\"data row23 col8\" >-0.000920</td>\n",
       "                        <td id=\"T_516fb688_0fa4_11eb_b372_0242ac1c0002row23_col9\" class=\"data row23 col9\" >-0.000355</td>\n",
       "                        <td id=\"T_516fb688_0fa4_11eb_b372_0242ac1c0002row23_col10\" class=\"data row23 col10\" >-0.002522</td>\n",
       "                        <td id=\"T_516fb688_0fa4_11eb_b372_0242ac1c0002row23_col11\" class=\"data row23 col11\" >nan</td>\n",
       "                        <td id=\"T_516fb688_0fa4_11eb_b372_0242ac1c0002row23_col12\" class=\"data row23 col12\" >-0.004085</td>\n",
       "                        <td id=\"T_516fb688_0fa4_11eb_b372_0242ac1c0002row23_col13\" class=\"data row23 col13\" >0.001194</td>\n",
       "                        <td id=\"T_516fb688_0fa4_11eb_b372_0242ac1c0002row23_col14\" class=\"data row23 col14\" >-0.000172</td>\n",
       "                        <td id=\"T_516fb688_0fa4_11eb_b372_0242ac1c0002row23_col15\" class=\"data row23 col15\" >0.002898</td>\n",
       "                        <td id=\"T_516fb688_0fa4_11eb_b372_0242ac1c0002row23_col16\" class=\"data row23 col16\" >-0.002864</td>\n",
       "                        <td id=\"T_516fb688_0fa4_11eb_b372_0242ac1c0002row23_col17\" class=\"data row23 col17\" >-0.000545</td>\n",
       "                        <td id=\"T_516fb688_0fa4_11eb_b372_0242ac1c0002row23_col18\" class=\"data row23 col18\" >-0.000177</td>\n",
       "                        <td id=\"T_516fb688_0fa4_11eb_b372_0242ac1c0002row23_col19\" class=\"data row23 col19\" >-0.000077</td>\n",
       "                        <td id=\"T_516fb688_0fa4_11eb_b372_0242ac1c0002row23_col20\" class=\"data row23 col20\" >-0.000230</td>\n",
       "                        <td id=\"T_516fb688_0fa4_11eb_b372_0242ac1c0002row23_col21\" class=\"data row23 col21\" >-0.001365</td>\n",
       "                        <td id=\"T_516fb688_0fa4_11eb_b372_0242ac1c0002row23_col22\" class=\"data row23 col22\" >0.035973</td>\n",
       "                        <td id=\"T_516fb688_0fa4_11eb_b372_0242ac1c0002row23_col23\" class=\"data row23 col23\" >1.000000</td>\n",
       "                        <td id=\"T_516fb688_0fa4_11eb_b372_0242ac1c0002row23_col24\" class=\"data row23 col24\" >nan</td>\n",
       "                        <td id=\"T_516fb688_0fa4_11eb_b372_0242ac1c0002row23_col25\" class=\"data row23 col25\" >nan</td>\n",
       "                        <td id=\"T_516fb688_0fa4_11eb_b372_0242ac1c0002row23_col26\" class=\"data row23 col26\" >-0.000044</td>\n",
       "                        <td id=\"T_516fb688_0fa4_11eb_b372_0242ac1c0002row23_col27\" class=\"data row23 col27\" >0.006156</td>\n",
       "                        <td id=\"T_516fb688_0fa4_11eb_b372_0242ac1c0002row23_col28\" class=\"data row23 col28\" >0.006285</td>\n",
       "                        <td id=\"T_516fb688_0fa4_11eb_b372_0242ac1c0002row23_col29\" class=\"data row23 col29\" >-0.003299</td>\n",
       "                        <td id=\"T_516fb688_0fa4_11eb_b372_0242ac1c0002row23_col30\" class=\"data row23 col30\" >-0.002154</td>\n",
       "                        <td id=\"T_516fb688_0fa4_11eb_b372_0242ac1c0002row23_col31\" class=\"data row23 col31\" >0.013927</td>\n",
       "                        <td id=\"T_516fb688_0fa4_11eb_b372_0242ac1c0002row23_col32\" class=\"data row23 col32\" >-0.003307</td>\n",
       "                        <td id=\"T_516fb688_0fa4_11eb_b372_0242ac1c0002row23_col33\" class=\"data row23 col33\" >-0.002553</td>\n",
       "                        <td id=\"T_516fb688_0fa4_11eb_b372_0242ac1c0002row23_col34\" class=\"data row23 col34\" >0.007442</td>\n",
       "                        <td id=\"T_516fb688_0fa4_11eb_b372_0242ac1c0002row23_col35\" class=\"data row23 col35\" >0.001675</td>\n",
       "                        <td id=\"T_516fb688_0fa4_11eb_b372_0242ac1c0002row23_col36\" class=\"data row23 col36\" >-0.002665</td>\n",
       "                        <td id=\"T_516fb688_0fa4_11eb_b372_0242ac1c0002row23_col37\" class=\"data row23 col37\" >-0.002966</td>\n",
       "                        <td id=\"T_516fb688_0fa4_11eb_b372_0242ac1c0002row23_col38\" class=\"data row23 col38\" >-0.000539</td>\n",
       "                        <td id=\"T_516fb688_0fa4_11eb_b372_0242ac1c0002row23_col39\" class=\"data row23 col39\" >0.003577</td>\n",
       "                        <td id=\"T_516fb688_0fa4_11eb_b372_0242ac1c0002row23_col40\" class=\"data row23 col40\" >0.007318</td>\n",
       "                        <td id=\"T_516fb688_0fa4_11eb_b372_0242ac1c0002row23_col41\" class=\"data row23 col41\" >0.002137</td>\n",
       "                        <td id=\"T_516fb688_0fa4_11eb_b372_0242ac1c0002row23_col42\" class=\"data row23 col42\" >-0.001108</td>\n",
       "            </tr>\n",
       "            <tr>\n",
       "                        <th id=\"T_516fb688_0fa4_11eb_b372_0242ac1c0002level0_row24\" class=\"row_heading level0 row24\" >glimepiride-pioglitazone</th>\n",
       "                        <td id=\"T_516fb688_0fa4_11eb_b372_0242ac1c0002row24_col0\" class=\"data row24 col0\" >nan</td>\n",
       "                        <td id=\"T_516fb688_0fa4_11eb_b372_0242ac1c0002row24_col1\" class=\"data row24 col1\" >nan</td>\n",
       "                        <td id=\"T_516fb688_0fa4_11eb_b372_0242ac1c0002row24_col2\" class=\"data row24 col2\" >nan</td>\n",
       "                        <td id=\"T_516fb688_0fa4_11eb_b372_0242ac1c0002row24_col3\" class=\"data row24 col3\" >nan</td>\n",
       "                        <td id=\"T_516fb688_0fa4_11eb_b372_0242ac1c0002row24_col4\" class=\"data row24 col4\" >nan</td>\n",
       "                        <td id=\"T_516fb688_0fa4_11eb_b372_0242ac1c0002row24_col5\" class=\"data row24 col5\" >nan</td>\n",
       "                        <td id=\"T_516fb688_0fa4_11eb_b372_0242ac1c0002row24_col6\" class=\"data row24 col6\" >nan</td>\n",
       "                        <td id=\"T_516fb688_0fa4_11eb_b372_0242ac1c0002row24_col7\" class=\"data row24 col7\" >nan</td>\n",
       "                        <td id=\"T_516fb688_0fa4_11eb_b372_0242ac1c0002row24_col8\" class=\"data row24 col8\" >nan</td>\n",
       "                        <td id=\"T_516fb688_0fa4_11eb_b372_0242ac1c0002row24_col9\" class=\"data row24 col9\" >nan</td>\n",
       "                        <td id=\"T_516fb688_0fa4_11eb_b372_0242ac1c0002row24_col10\" class=\"data row24 col10\" >nan</td>\n",
       "                        <td id=\"T_516fb688_0fa4_11eb_b372_0242ac1c0002row24_col11\" class=\"data row24 col11\" >nan</td>\n",
       "                        <td id=\"T_516fb688_0fa4_11eb_b372_0242ac1c0002row24_col12\" class=\"data row24 col12\" >nan</td>\n",
       "                        <td id=\"T_516fb688_0fa4_11eb_b372_0242ac1c0002row24_col13\" class=\"data row24 col13\" >nan</td>\n",
       "                        <td id=\"T_516fb688_0fa4_11eb_b372_0242ac1c0002row24_col14\" class=\"data row24 col14\" >nan</td>\n",
       "                        <td id=\"T_516fb688_0fa4_11eb_b372_0242ac1c0002row24_col15\" class=\"data row24 col15\" >nan</td>\n",
       "                        <td id=\"T_516fb688_0fa4_11eb_b372_0242ac1c0002row24_col16\" class=\"data row24 col16\" >nan</td>\n",
       "                        <td id=\"T_516fb688_0fa4_11eb_b372_0242ac1c0002row24_col17\" class=\"data row24 col17\" >nan</td>\n",
       "                        <td id=\"T_516fb688_0fa4_11eb_b372_0242ac1c0002row24_col18\" class=\"data row24 col18\" >nan</td>\n",
       "                        <td id=\"T_516fb688_0fa4_11eb_b372_0242ac1c0002row24_col19\" class=\"data row24 col19\" >nan</td>\n",
       "                        <td id=\"T_516fb688_0fa4_11eb_b372_0242ac1c0002row24_col20\" class=\"data row24 col20\" >nan</td>\n",
       "                        <td id=\"T_516fb688_0fa4_11eb_b372_0242ac1c0002row24_col21\" class=\"data row24 col21\" >nan</td>\n",
       "                        <td id=\"T_516fb688_0fa4_11eb_b372_0242ac1c0002row24_col22\" class=\"data row24 col22\" >nan</td>\n",
       "                        <td id=\"T_516fb688_0fa4_11eb_b372_0242ac1c0002row24_col23\" class=\"data row24 col23\" >nan</td>\n",
       "                        <td id=\"T_516fb688_0fa4_11eb_b372_0242ac1c0002row24_col24\" class=\"data row24 col24\" >nan</td>\n",
       "                        <td id=\"T_516fb688_0fa4_11eb_b372_0242ac1c0002row24_col25\" class=\"data row24 col25\" >nan</td>\n",
       "                        <td id=\"T_516fb688_0fa4_11eb_b372_0242ac1c0002row24_col26\" class=\"data row24 col26\" >nan</td>\n",
       "                        <td id=\"T_516fb688_0fa4_11eb_b372_0242ac1c0002row24_col27\" class=\"data row24 col27\" >nan</td>\n",
       "                        <td id=\"T_516fb688_0fa4_11eb_b372_0242ac1c0002row24_col28\" class=\"data row24 col28\" >nan</td>\n",
       "                        <td id=\"T_516fb688_0fa4_11eb_b372_0242ac1c0002row24_col29\" class=\"data row24 col29\" >nan</td>\n",
       "                        <td id=\"T_516fb688_0fa4_11eb_b372_0242ac1c0002row24_col30\" class=\"data row24 col30\" >nan</td>\n",
       "                        <td id=\"T_516fb688_0fa4_11eb_b372_0242ac1c0002row24_col31\" class=\"data row24 col31\" >nan</td>\n",
       "                        <td id=\"T_516fb688_0fa4_11eb_b372_0242ac1c0002row24_col32\" class=\"data row24 col32\" >nan</td>\n",
       "                        <td id=\"T_516fb688_0fa4_11eb_b372_0242ac1c0002row24_col33\" class=\"data row24 col33\" >nan</td>\n",
       "                        <td id=\"T_516fb688_0fa4_11eb_b372_0242ac1c0002row24_col34\" class=\"data row24 col34\" >nan</td>\n",
       "                        <td id=\"T_516fb688_0fa4_11eb_b372_0242ac1c0002row24_col35\" class=\"data row24 col35\" >nan</td>\n",
       "                        <td id=\"T_516fb688_0fa4_11eb_b372_0242ac1c0002row24_col36\" class=\"data row24 col36\" >nan</td>\n",
       "                        <td id=\"T_516fb688_0fa4_11eb_b372_0242ac1c0002row24_col37\" class=\"data row24 col37\" >nan</td>\n",
       "                        <td id=\"T_516fb688_0fa4_11eb_b372_0242ac1c0002row24_col38\" class=\"data row24 col38\" >nan</td>\n",
       "                        <td id=\"T_516fb688_0fa4_11eb_b372_0242ac1c0002row24_col39\" class=\"data row24 col39\" >nan</td>\n",
       "                        <td id=\"T_516fb688_0fa4_11eb_b372_0242ac1c0002row24_col40\" class=\"data row24 col40\" >nan</td>\n",
       "                        <td id=\"T_516fb688_0fa4_11eb_b372_0242ac1c0002row24_col41\" class=\"data row24 col41\" >nan</td>\n",
       "                        <td id=\"T_516fb688_0fa4_11eb_b372_0242ac1c0002row24_col42\" class=\"data row24 col42\" >nan</td>\n",
       "            </tr>\n",
       "            <tr>\n",
       "                        <th id=\"T_516fb688_0fa4_11eb_b372_0242ac1c0002level0_row25\" class=\"row_heading level0 row25\" >metformin-rosiglitazone</th>\n",
       "                        <td id=\"T_516fb688_0fa4_11eb_b372_0242ac1c0002row25_col0\" class=\"data row25 col0\" >nan</td>\n",
       "                        <td id=\"T_516fb688_0fa4_11eb_b372_0242ac1c0002row25_col1\" class=\"data row25 col1\" >nan</td>\n",
       "                        <td id=\"T_516fb688_0fa4_11eb_b372_0242ac1c0002row25_col2\" class=\"data row25 col2\" >nan</td>\n",
       "                        <td id=\"T_516fb688_0fa4_11eb_b372_0242ac1c0002row25_col3\" class=\"data row25 col3\" >nan</td>\n",
       "                        <td id=\"T_516fb688_0fa4_11eb_b372_0242ac1c0002row25_col4\" class=\"data row25 col4\" >nan</td>\n",
       "                        <td id=\"T_516fb688_0fa4_11eb_b372_0242ac1c0002row25_col5\" class=\"data row25 col5\" >nan</td>\n",
       "                        <td id=\"T_516fb688_0fa4_11eb_b372_0242ac1c0002row25_col6\" class=\"data row25 col6\" >nan</td>\n",
       "                        <td id=\"T_516fb688_0fa4_11eb_b372_0242ac1c0002row25_col7\" class=\"data row25 col7\" >nan</td>\n",
       "                        <td id=\"T_516fb688_0fa4_11eb_b372_0242ac1c0002row25_col8\" class=\"data row25 col8\" >nan</td>\n",
       "                        <td id=\"T_516fb688_0fa4_11eb_b372_0242ac1c0002row25_col9\" class=\"data row25 col9\" >nan</td>\n",
       "                        <td id=\"T_516fb688_0fa4_11eb_b372_0242ac1c0002row25_col10\" class=\"data row25 col10\" >nan</td>\n",
       "                        <td id=\"T_516fb688_0fa4_11eb_b372_0242ac1c0002row25_col11\" class=\"data row25 col11\" >nan</td>\n",
       "                        <td id=\"T_516fb688_0fa4_11eb_b372_0242ac1c0002row25_col12\" class=\"data row25 col12\" >nan</td>\n",
       "                        <td id=\"T_516fb688_0fa4_11eb_b372_0242ac1c0002row25_col13\" class=\"data row25 col13\" >nan</td>\n",
       "                        <td id=\"T_516fb688_0fa4_11eb_b372_0242ac1c0002row25_col14\" class=\"data row25 col14\" >nan</td>\n",
       "                        <td id=\"T_516fb688_0fa4_11eb_b372_0242ac1c0002row25_col15\" class=\"data row25 col15\" >nan</td>\n",
       "                        <td id=\"T_516fb688_0fa4_11eb_b372_0242ac1c0002row25_col16\" class=\"data row25 col16\" >nan</td>\n",
       "                        <td id=\"T_516fb688_0fa4_11eb_b372_0242ac1c0002row25_col17\" class=\"data row25 col17\" >nan</td>\n",
       "                        <td id=\"T_516fb688_0fa4_11eb_b372_0242ac1c0002row25_col18\" class=\"data row25 col18\" >nan</td>\n",
       "                        <td id=\"T_516fb688_0fa4_11eb_b372_0242ac1c0002row25_col19\" class=\"data row25 col19\" >nan</td>\n",
       "                        <td id=\"T_516fb688_0fa4_11eb_b372_0242ac1c0002row25_col20\" class=\"data row25 col20\" >nan</td>\n",
       "                        <td id=\"T_516fb688_0fa4_11eb_b372_0242ac1c0002row25_col21\" class=\"data row25 col21\" >nan</td>\n",
       "                        <td id=\"T_516fb688_0fa4_11eb_b372_0242ac1c0002row25_col22\" class=\"data row25 col22\" >nan</td>\n",
       "                        <td id=\"T_516fb688_0fa4_11eb_b372_0242ac1c0002row25_col23\" class=\"data row25 col23\" >nan</td>\n",
       "                        <td id=\"T_516fb688_0fa4_11eb_b372_0242ac1c0002row25_col24\" class=\"data row25 col24\" >nan</td>\n",
       "                        <td id=\"T_516fb688_0fa4_11eb_b372_0242ac1c0002row25_col25\" class=\"data row25 col25\" >nan</td>\n",
       "                        <td id=\"T_516fb688_0fa4_11eb_b372_0242ac1c0002row25_col26\" class=\"data row25 col26\" >nan</td>\n",
       "                        <td id=\"T_516fb688_0fa4_11eb_b372_0242ac1c0002row25_col27\" class=\"data row25 col27\" >nan</td>\n",
       "                        <td id=\"T_516fb688_0fa4_11eb_b372_0242ac1c0002row25_col28\" class=\"data row25 col28\" >nan</td>\n",
       "                        <td id=\"T_516fb688_0fa4_11eb_b372_0242ac1c0002row25_col29\" class=\"data row25 col29\" >nan</td>\n",
       "                        <td id=\"T_516fb688_0fa4_11eb_b372_0242ac1c0002row25_col30\" class=\"data row25 col30\" >nan</td>\n",
       "                        <td id=\"T_516fb688_0fa4_11eb_b372_0242ac1c0002row25_col31\" class=\"data row25 col31\" >nan</td>\n",
       "                        <td id=\"T_516fb688_0fa4_11eb_b372_0242ac1c0002row25_col32\" class=\"data row25 col32\" >nan</td>\n",
       "                        <td id=\"T_516fb688_0fa4_11eb_b372_0242ac1c0002row25_col33\" class=\"data row25 col33\" >nan</td>\n",
       "                        <td id=\"T_516fb688_0fa4_11eb_b372_0242ac1c0002row25_col34\" class=\"data row25 col34\" >nan</td>\n",
       "                        <td id=\"T_516fb688_0fa4_11eb_b372_0242ac1c0002row25_col35\" class=\"data row25 col35\" >nan</td>\n",
       "                        <td id=\"T_516fb688_0fa4_11eb_b372_0242ac1c0002row25_col36\" class=\"data row25 col36\" >nan</td>\n",
       "                        <td id=\"T_516fb688_0fa4_11eb_b372_0242ac1c0002row25_col37\" class=\"data row25 col37\" >nan</td>\n",
       "                        <td id=\"T_516fb688_0fa4_11eb_b372_0242ac1c0002row25_col38\" class=\"data row25 col38\" >nan</td>\n",
       "                        <td id=\"T_516fb688_0fa4_11eb_b372_0242ac1c0002row25_col39\" class=\"data row25 col39\" >nan</td>\n",
       "                        <td id=\"T_516fb688_0fa4_11eb_b372_0242ac1c0002row25_col40\" class=\"data row25 col40\" >nan</td>\n",
       "                        <td id=\"T_516fb688_0fa4_11eb_b372_0242ac1c0002row25_col41\" class=\"data row25 col41\" >nan</td>\n",
       "                        <td id=\"T_516fb688_0fa4_11eb_b372_0242ac1c0002row25_col42\" class=\"data row25 col42\" >nan</td>\n",
       "            </tr>\n",
       "            <tr>\n",
       "                        <th id=\"T_516fb688_0fa4_11eb_b372_0242ac1c0002level0_row26\" class=\"row_heading level0 row26\" >metformin-pioglitazone</th>\n",
       "                        <td id=\"T_516fb688_0fa4_11eb_b372_0242ac1c0002row26_col0\" class=\"data row26 col0\" >0.002794</td>\n",
       "                        <td id=\"T_516fb688_0fa4_11eb_b372_0242ac1c0002row26_col1\" class=\"data row26 col1\" >-0.003981</td>\n",
       "                        <td id=\"T_516fb688_0fa4_11eb_b372_0242ac1c0002row26_col2\" class=\"data row26 col2\" >-0.000936</td>\n",
       "                        <td id=\"T_516fb688_0fa4_11eb_b372_0242ac1c0002row26_col3\" class=\"data row26 col3\" >0.002838</td>\n",
       "                        <td id=\"T_516fb688_0fa4_11eb_b372_0242ac1c0002row26_col4\" class=\"data row26 col4\" >-0.007024</td>\n",
       "                        <td id=\"T_516fb688_0fa4_11eb_b372_0242ac1c0002row26_col5\" class=\"data row26 col5\" >-0.001913</td>\n",
       "                        <td id=\"T_516fb688_0fa4_11eb_b372_0242ac1c0002row26_col6\" class=\"data row26 col6\" >0.007992</td>\n",
       "                        <td id=\"T_516fb688_0fa4_11eb_b372_0242ac1c0002row26_col7\" class=\"data row26 col7\" >-0.000462</td>\n",
       "                        <td id=\"T_516fb688_0fa4_11eb_b372_0242ac1c0002row26_col8\" class=\"data row26 col8\" >-0.000348</td>\n",
       "                        <td id=\"T_516fb688_0fa4_11eb_b372_0242ac1c0002row26_col9\" class=\"data row26 col9\" >-0.000134</td>\n",
       "                        <td id=\"T_516fb688_0fa4_11eb_b372_0242ac1c0002row26_col10\" class=\"data row26 col10\" >-0.000953</td>\n",
       "                        <td id=\"T_516fb688_0fa4_11eb_b372_0242ac1c0002row26_col11\" class=\"data row26 col11\" >nan</td>\n",
       "                        <td id=\"T_516fb688_0fa4_11eb_b372_0242ac1c0002row26_col12\" class=\"data row26 col12\" >-0.001544</td>\n",
       "                        <td id=\"T_516fb688_0fa4_11eb_b372_0242ac1c0002row26_col13\" class=\"data row26 col13\" >-0.001428</td>\n",
       "                        <td id=\"T_516fb688_0fa4_11eb_b372_0242ac1c0002row26_col14\" class=\"data row26 col14\" >-0.000065</td>\n",
       "                        <td id=\"T_516fb688_0fa4_11eb_b372_0242ac1c0002row26_col15\" class=\"data row26 col15\" >0.014567</td>\n",
       "                        <td id=\"T_516fb688_0fa4_11eb_b372_0242ac1c0002row26_col16\" class=\"data row26 col16\" >-0.001082</td>\n",
       "                        <td id=\"T_516fb688_0fa4_11eb_b372_0242ac1c0002row26_col17\" class=\"data row26 col17\" >-0.000206</td>\n",
       "                        <td id=\"T_516fb688_0fa4_11eb_b372_0242ac1c0002row26_col18\" class=\"data row26 col18\" >-0.000067</td>\n",
       "                        <td id=\"T_516fb688_0fa4_11eb_b372_0242ac1c0002row26_col19\" class=\"data row26 col19\" >-0.000029</td>\n",
       "                        <td id=\"T_516fb688_0fa4_11eb_b372_0242ac1c0002row26_col20\" class=\"data row26 col20\" >-0.000087</td>\n",
       "                        <td id=\"T_516fb688_0fa4_11eb_b372_0242ac1c0002row26_col21\" class=\"data row26 col21\" >0.004162</td>\n",
       "                        <td id=\"T_516fb688_0fa4_11eb_b372_0242ac1c0002row26_col22\" class=\"data row26 col22\" >-0.000346</td>\n",
       "                        <td id=\"T_516fb688_0fa4_11eb_b372_0242ac1c0002row26_col23\" class=\"data row26 col23\" >-0.000044</td>\n",
       "                        <td id=\"T_516fb688_0fa4_11eb_b372_0242ac1c0002row26_col24\" class=\"data row26 col24\" >nan</td>\n",
       "                        <td id=\"T_516fb688_0fa4_11eb_b372_0242ac1c0002row26_col25\" class=\"data row26 col25\" >nan</td>\n",
       "                        <td id=\"T_516fb688_0fa4_11eb_b372_0242ac1c0002row26_col26\" class=\"data row26 col26\" >1.000000</td>\n",
       "                        <td id=\"T_516fb688_0fa4_11eb_b372_0242ac1c0002row26_col27\" class=\"data row26 col27\" >0.004687</td>\n",
       "                        <td id=\"T_516fb688_0fa4_11eb_b372_0242ac1c0002row26_col28\" class=\"data row26 col28\" >0.002375</td>\n",
       "                        <td id=\"T_516fb688_0fa4_11eb_b372_0242ac1c0002row26_col29\" class=\"data row26 col29\" >-0.001247</td>\n",
       "                        <td id=\"T_516fb688_0fa4_11eb_b372_0242ac1c0002row26_col30\" class=\"data row26 col30\" >0.007572</td>\n",
       "                        <td id=\"T_516fb688_0fa4_11eb_b372_0242ac1c0002row26_col31\" class=\"data row26 col31\" >-0.001301</td>\n",
       "                        <td id=\"T_516fb688_0fa4_11eb_b372_0242ac1c0002row26_col32\" class=\"data row26 col32\" >-0.001250</td>\n",
       "                        <td id=\"T_516fb688_0fa4_11eb_b372_0242ac1c0002row26_col33\" class=\"data row26 col33\" >-0.000965</td>\n",
       "                        <td id=\"T_516fb688_0fa4_11eb_b372_0242ac1c0002row26_col34\" class=\"data row26 col34\" >-0.001986</td>\n",
       "                        <td id=\"T_516fb688_0fa4_11eb_b372_0242ac1c0002row26_col35\" class=\"data row26 col35\" >0.002792</td>\n",
       "                        <td id=\"T_516fb688_0fa4_11eb_b372_0242ac1c0002row26_col36\" class=\"data row26 col36\" >-0.000555</td>\n",
       "                        <td id=\"T_516fb688_0fa4_11eb_b372_0242ac1c0002row26_col37\" class=\"data row26 col37\" >-0.001195</td>\n",
       "                        <td id=\"T_516fb688_0fa4_11eb_b372_0242ac1c0002row26_col38\" class=\"data row26 col38\" >-0.001672</td>\n",
       "                        <td id=\"T_516fb688_0fa4_11eb_b372_0242ac1c0002row26_col39\" class=\"data row26 col39\" >-0.002026</td>\n",
       "                        <td id=\"T_516fb688_0fa4_11eb_b372_0242ac1c0002row26_col40\" class=\"data row26 col40\" >0.005370</td>\n",
       "                        <td id=\"T_516fb688_0fa4_11eb_b372_0242ac1c0002row26_col41\" class=\"data row26 col41\" >-0.001211</td>\n",
       "                        <td id=\"T_516fb688_0fa4_11eb_b372_0242ac1c0002row26_col42\" class=\"data row26 col42\" >0.008009</td>\n",
       "            </tr>\n",
       "            <tr>\n",
       "                        <th id=\"T_516fb688_0fa4_11eb_b372_0242ac1c0002level0_row27\" class=\"row_heading level0 row27\" >change</th>\n",
       "                        <td id=\"T_516fb688_0fa4_11eb_b372_0242ac1c0002row27_col0\" class=\"data row27 col0\" >0.094406</td>\n",
       "                        <td id=\"T_516fb688_0fa4_11eb_b372_0242ac1c0002row27_col1\" class=\"data row27 col1\" >0.064560</td>\n",
       "                        <td id=\"T_516fb688_0fa4_11eb_b372_0242ac1c0002row27_col2\" class=\"data row27 col2\" >-0.016197</td>\n",
       "                        <td id=\"T_516fb688_0fa4_11eb_b372_0242ac1c0002row27_col3\" class=\"data row27 col3\" >0.233256</td>\n",
       "                        <td id=\"T_516fb688_0fa4_11eb_b372_0242ac1c0002row27_col4\" class=\"data row27 col4\" >0.042334</td>\n",
       "                        <td id=\"T_516fb688_0fa4_11eb_b372_0242ac1c0002row27_col5\" class=\"data row27 col5\" >0.093606</td>\n",
       "                        <td id=\"T_516fb688_0fa4_11eb_b372_0242ac1c0002row27_col6\" class=\"data row27 col6\" >0.353272</td>\n",
       "                        <td id=\"T_516fb688_0fa4_11eb_b372_0242ac1c0002row27_col7\" class=\"data row27 col7\" >0.076469</td>\n",
       "                        <td id=\"T_516fb688_0fa4_11eb_b372_0242ac1c0002row27_col8\" class=\"data row27 col8\" >0.057636</td>\n",
       "                        <td id=\"T_516fb688_0fa4_11eb_b372_0242ac1c0002row27_col9\" class=\"data row27 col9\" >-0.005877</td>\n",
       "                        <td id=\"T_516fb688_0fa4_11eb_b372_0242ac1c0002row27_col10\" class=\"data row27 col10\" >0.147047</td>\n",
       "                        <td id=\"T_516fb688_0fa4_11eb_b372_0242ac1c0002row27_col11\" class=\"data row27 col11\" >nan</td>\n",
       "                        <td id=\"T_516fb688_0fa4_11eb_b372_0242ac1c0002row27_col12\" class=\"data row27 col12\" >0.208118</td>\n",
       "                        <td id=\"T_516fb688_0fa4_11eb_b372_0242ac1c0002row27_col13\" class=\"data row27 col13\" >0.199645</td>\n",
       "                        <td id=\"T_516fb688_0fa4_11eb_b372_0242ac1c0002row27_col14\" class=\"data row27 col14\" >-0.003177</td>\n",
       "                        <td id=\"T_516fb688_0fa4_11eb_b372_0242ac1c0002row27_col15\" class=\"data row27 col15\" >0.214111</td>\n",
       "                        <td id=\"T_516fb688_0fa4_11eb_b372_0242ac1c0002row27_col16\" class=\"data row27 col16\" >0.213550</td>\n",
       "                        <td id=\"T_516fb688_0fa4_11eb_b372_0242ac1c0002row27_col17\" class=\"data row27 col17\" >0.047567</td>\n",
       "                        <td id=\"T_516fb688_0fa4_11eb_b372_0242ac1c0002row27_col18\" class=\"data row27 col18\" >0.012553</td>\n",
       "                        <td id=\"T_516fb688_0fa4_11eb_b372_0242ac1c0002row27_col19\" class=\"data row27 col19\" >0.008118</td>\n",
       "                        <td id=\"T_516fb688_0fa4_11eb_b372_0242ac1c0002row27_col20\" class=\"data row27 col20\" >-0.001083</td>\n",
       "                        <td id=\"T_516fb688_0fa4_11eb_b372_0242ac1c0002row27_col21\" class=\"data row27 col21\" >0.500103</td>\n",
       "                        <td id=\"T_516fb688_0fa4_11eb_b372_0242ac1c0002row27_col22\" class=\"data row27 col22\" >0.047156</td>\n",
       "                        <td id=\"T_516fb688_0fa4_11eb_b372_0242ac1c0002row27_col23\" class=\"data row27 col23\" >0.006156</td>\n",
       "                        <td id=\"T_516fb688_0fa4_11eb_b372_0242ac1c0002row27_col24\" class=\"data row27 col24\" >nan</td>\n",
       "                        <td id=\"T_516fb688_0fa4_11eb_b372_0242ac1c0002row27_col25\" class=\"data row27 col25\" >nan</td>\n",
       "                        <td id=\"T_516fb688_0fa4_11eb_b372_0242ac1c0002row27_col26\" class=\"data row27 col26\" >0.004687</td>\n",
       "                        <td id=\"T_516fb688_0fa4_11eb_b372_0242ac1c0002row27_col27\" class=\"data row27 col27\" >1.000000</td>\n",
       "                        <td id=\"T_516fb688_0fa4_11eb_b372_0242ac1c0002row27_col28\" class=\"data row27 col28\" >0.506831</td>\n",
       "                        <td id=\"T_516fb688_0fa4_11eb_b372_0242ac1c0002row27_col29\" class=\"data row27 col29\" >0.015655</td>\n",
       "                        <td id=\"T_516fb688_0fa4_11eb_b372_0242ac1c0002row27_col30\" class=\"data row27 col30\" >0.618935</td>\n",
       "                        <td id=\"T_516fb688_0fa4_11eb_b372_0242ac1c0002row27_col31\" class=\"data row27 col31\" >0.028525</td>\n",
       "                        <td id=\"T_516fb688_0fa4_11eb_b372_0242ac1c0002row27_col32\" class=\"data row27 col32\" >0.004306</td>\n",
       "                        <td id=\"T_516fb688_0fa4_11eb_b372_0242ac1c0002row27_col33\" class=\"data row27 col33\" >0.041209</td>\n",
       "                        <td id=\"T_516fb688_0fa4_11eb_b372_0242ac1c0002row27_col34\" class=\"data row27 col34\" >0.039341</td>\n",
       "                        <td id=\"T_516fb688_0fa4_11eb_b372_0242ac1c0002row27_col35\" class=\"data row27 col35\" >0.161669</td>\n",
       "                        <td id=\"T_516fb688_0fa4_11eb_b372_0242ac1c0002row27_col36\" class=\"data row27 col36\" >0.064005</td>\n",
       "                        <td id=\"T_516fb688_0fa4_11eb_b372_0242ac1c0002row27_col37\" class=\"data row27 col37\" >0.093834</td>\n",
       "                        <td id=\"T_516fb688_0fa4_11eb_b372_0242ac1c0002row27_col38\" class=\"data row27 col38\" >0.185125</td>\n",
       "                        <td id=\"T_516fb688_0fa4_11eb_b372_0242ac1c0002row27_col39\" class=\"data row27 col39\" >0.208860</td>\n",
       "                        <td id=\"T_516fb688_0fa4_11eb_b372_0242ac1c0002row27_col40\" class=\"data row27 col40\" >0.870098</td>\n",
       "                        <td id=\"T_516fb688_0fa4_11eb_b372_0242ac1c0002row27_col41\" class=\"data row27 col41\" >0.095595</td>\n",
       "                        <td id=\"T_516fb688_0fa4_11eb_b372_0242ac1c0002row27_col42\" class=\"data row27 col42\" >0.556823</td>\n",
       "            </tr>\n",
       "            <tr>\n",
       "                        <th id=\"T_516fb688_0fa4_11eb_b372_0242ac1c0002level0_row28\" class=\"row_heading level0 row28\" >diabetesMed</th>\n",
       "                        <td id=\"T_516fb688_0fa4_11eb_b372_0242ac1c0002row28_col0\" class=\"data row28 col0\" >0.059811</td>\n",
       "                        <td id=\"T_516fb688_0fa4_11eb_b372_0242ac1c0002row28_col1\" class=\"data row28 col1\" >0.037476</td>\n",
       "                        <td id=\"T_516fb688_0fa4_11eb_b372_0242ac1c0002row28_col2\" class=\"data row28 col2\" >-0.017345</td>\n",
       "                        <td id=\"T_516fb688_0fa4_11eb_b372_0242ac1c0002row28_col3\" class=\"data row28 col3\" >0.190055</td>\n",
       "                        <td id=\"T_516fb688_0fa4_11eb_b372_0242ac1c0002row28_col4\" class=\"data row28 col4\" >0.022503</td>\n",
       "                        <td id=\"T_516fb688_0fa4_11eb_b372_0242ac1c0002row28_col5\" class=\"data row28 col5\" >0.072348</td>\n",
       "                        <td id=\"T_516fb688_0fa4_11eb_b372_0242ac1c0002row28_col6\" class=\"data row28 col6\" >0.297217</td>\n",
       "                        <td id=\"T_516fb688_0fa4_11eb_b372_0242ac1c0002row28_col7\" class=\"data row28 col7\" >0.065508</td>\n",
       "                        <td id=\"T_516fb688_0fa4_11eb_b372_0242ac1c0002row28_col8\" class=\"data row28 col8\" >0.049318</td>\n",
       "                        <td id=\"T_516fb688_0fa4_11eb_b372_0242ac1c0002row28_col9\" class=\"data row28 col9\" >0.019013</td>\n",
       "                        <td id=\"T_516fb688_0fa4_11eb_b372_0242ac1c0002row28_col10\" class=\"data row28 col10\" >0.135177</td>\n",
       "                        <td id=\"T_516fb688_0fa4_11eb_b372_0242ac1c0002row28_col11\" class=\"data row28 col11\" >nan</td>\n",
       "                        <td id=\"T_516fb688_0fa4_11eb_b372_0242ac1c0002row28_col12\" class=\"data row28 col12\" >0.218949</td>\n",
       "                        <td id=\"T_516fb688_0fa4_11eb_b372_0242ac1c0002row28_col13\" class=\"data row28 col13\" >0.202533</td>\n",
       "                        <td id=\"T_516fb688_0fa4_11eb_b372_0242ac1c0002row28_col14\" class=\"data row28 col14\" >0.009201</td>\n",
       "                        <td id=\"T_516fb688_0fa4_11eb_b372_0242ac1c0002row28_col15\" class=\"data row28 col15\" >0.163065</td>\n",
       "                        <td id=\"T_516fb688_0fa4_11eb_b372_0242ac1c0002row28_col16\" class=\"data row28 col16\" >0.153498</td>\n",
       "                        <td id=\"T_516fb688_0fa4_11eb_b372_0242ac1c0002row28_col17\" class=\"data row28 col17\" >0.029225</td>\n",
       "                        <td id=\"T_516fb688_0fa4_11eb_b372_0242ac1c0002row28_col18\" class=\"data row28 col18\" >0.009503</td>\n",
       "                        <td id=\"T_516fb688_0fa4_11eb_b372_0242ac1c0002row28_col19\" class=\"data row28 col19\" >0.004114</td>\n",
       "                        <td id=\"T_516fb688_0fa4_11eb_b372_0242ac1c0002row28_col20\" class=\"data row28 col20\" >0.012345</td>\n",
       "                        <td id=\"T_516fb688_0fa4_11eb_b372_0242ac1c0002row28_col21\" class=\"data row28 col21\" >0.570727</td>\n",
       "                        <td id=\"T_516fb688_0fa4_11eb_b372_0242ac1c0002row28_col22\" class=\"data row28 col22\" >0.049027</td>\n",
       "                        <td id=\"T_516fb688_0fa4_11eb_b372_0242ac1c0002row28_col23\" class=\"data row28 col23\" >0.006285</td>\n",
       "                        <td id=\"T_516fb688_0fa4_11eb_b372_0242ac1c0002row28_col24\" class=\"data row28 col24\" >nan</td>\n",
       "                        <td id=\"T_516fb688_0fa4_11eb_b372_0242ac1c0002row28_col25\" class=\"data row28 col25\" >nan</td>\n",
       "                        <td id=\"T_516fb688_0fa4_11eb_b372_0242ac1c0002row28_col26\" class=\"data row28 col26\" >0.002375</td>\n",
       "                        <td id=\"T_516fb688_0fa4_11eb_b372_0242ac1c0002row28_col27\" class=\"data row28 col27\" >0.506831</td>\n",
       "                        <td id=\"T_516fb688_0fa4_11eb_b372_0242ac1c0002row28_col28\" class=\"data row28 col28\" >1.000000</td>\n",
       "                        <td id=\"T_516fb688_0fa4_11eb_b372_0242ac1c0002row28_col29\" class=\"data row28 col29\" >0.028342</td>\n",
       "                        <td id=\"T_516fb688_0fa4_11eb_b372_0242ac1c0002row28_col30\" class=\"data row28 col30\" >0.313695</td>\n",
       "                        <td id=\"T_516fb688_0fa4_11eb_b372_0242ac1c0002row28_col31\" class=\"data row28 col31\" >0.026523</td>\n",
       "                        <td id=\"T_516fb688_0fa4_11eb_b372_0242ac1c0002row28_col32\" class=\"data row28 col32\" >0.019661</td>\n",
       "                        <td id=\"T_516fb688_0fa4_11eb_b372_0242ac1c0002row28_col33\" class=\"data row28 col33\" >0.035930</td>\n",
       "                        <td id=\"T_516fb688_0fa4_11eb_b372_0242ac1c0002row28_col34\" class=\"data row28 col34\" >0.043157</td>\n",
       "                        <td id=\"T_516fb688_0fa4_11eb_b372_0242ac1c0002row28_col35\" class=\"data row28 col35\" >0.115724</td>\n",
       "                        <td id=\"T_516fb688_0fa4_11eb_b372_0242ac1c0002row28_col36\" class=\"data row28 col36\" >0.049720</td>\n",
       "                        <td id=\"T_516fb688_0fa4_11eb_b372_0242ac1c0002row28_col37\" class=\"data row28 col37\" >0.057710</td>\n",
       "                        <td id=\"T_516fb688_0fa4_11eb_b372_0242ac1c0002row28_col38\" class=\"data row28 col38\" >0.139589</td>\n",
       "                        <td id=\"T_516fb688_0fa4_11eb_b372_0242ac1c0002row28_col39\" class=\"data row28 col39\" >0.163490</td>\n",
       "                        <td id=\"T_516fb688_0fa4_11eb_b372_0242ac1c0002row28_col40\" class=\"data row28 col40\" >0.440992</td>\n",
       "                        <td id=\"T_516fb688_0fa4_11eb_b372_0242ac1c0002row28_col41\" class=\"data row28 col41\" >0.057019</td>\n",
       "                        <td id=\"T_516fb688_0fa4_11eb_b372_0242ac1c0002row28_col42\" class=\"data row28 col42\" >0.282215</td>\n",
       "            </tr>\n",
       "            <tr>\n",
       "                        <th id=\"T_516fb688_0fa4_11eb_b372_0242ac1c0002level0_row29\" class=\"row_heading level0 row29\" >readmitted</th>\n",
       "                        <td id=\"T_516fb688_0fa4_11eb_b372_0242ac1c0002row29_col0\" class=\"data row29 col0\" >0.055148</td>\n",
       "                        <td id=\"T_516fb688_0fa4_11eb_b372_0242ac1c0002row29_col1\" class=\"data row29 col1\" >0.025644</td>\n",
       "                        <td id=\"T_516fb688_0fa4_11eb_b372_0242ac1c0002row29_col2\" class=\"data row29 col2\" >0.002086</td>\n",
       "                        <td id=\"T_516fb688_0fa4_11eb_b372_0242ac1c0002row29_col3\" class=\"data row29 col3\" >0.038768</td>\n",
       "                        <td id=\"T_516fb688_0fa4_11eb_b372_0242ac1c0002row29_col4\" class=\"data row29 col4\" >0.039630</td>\n",
       "                        <td id=\"T_516fb688_0fa4_11eb_b372_0242ac1c0002row29_col5\" class=\"data row29 col5\" >-0.005258</td>\n",
       "                        <td id=\"T_516fb688_0fa4_11eb_b372_0242ac1c0002row29_col6\" class=\"data row29 col6\" >-0.010145</td>\n",
       "                        <td id=\"T_516fb688_0fa4_11eb_b372_0242ac1c0002row29_col7\" class=\"data row29 col7\" >0.015210</td>\n",
       "                        <td id=\"T_516fb688_0fa4_11eb_b372_0242ac1c0002row29_col8\" class=\"data row29 col8\" >-0.003099</td>\n",
       "                        <td id=\"T_516fb688_0fa4_11eb_b372_0242ac1c0002row29_col9\" class=\"data row29 col9\" >-0.004472</td>\n",
       "                        <td id=\"T_516fb688_0fa4_11eb_b372_0242ac1c0002row29_col10\" class=\"data row29 col10\" >-0.004056</td>\n",
       "                        <td id=\"T_516fb688_0fa4_11eb_b372_0242ac1c0002row29_col11\" class=\"data row29 col11\" >nan</td>\n",
       "                        <td id=\"T_516fb688_0fa4_11eb_b372_0242ac1c0002row29_col12\" class=\"data row29 col12\" >0.008599</td>\n",
       "                        <td id=\"T_516fb688_0fa4_11eb_b372_0242ac1c0002row29_col13\" class=\"data row29 col13\" >0.007832</td>\n",
       "                        <td id=\"T_516fb688_0fa4_11eb_b372_0242ac1c0002row29_col14\" class=\"data row29 col14\" >-0.001039</td>\n",
       "                        <td id=\"T_516fb688_0fa4_11eb_b372_0242ac1c0002row29_col15\" class=\"data row29 col15\" >-0.003919</td>\n",
       "                        <td id=\"T_516fb688_0fa4_11eb_b372_0242ac1c0002row29_col16\" class=\"data row29 col16\" >-0.000120</td>\n",
       "                        <td id=\"T_516fb688_0fa4_11eb_b372_0242ac1c0002row29_col17\" class=\"data row29 col17\" >-0.000987</td>\n",
       "                        <td id=\"T_516fb688_0fa4_11eb_b372_0242ac1c0002row29_col18\" class=\"data row29 col18\" >-0.004988</td>\n",
       "                        <td id=\"T_516fb688_0fa4_11eb_b372_0242ac1c0002row29_col19\" class=\"data row29 col19\" >-0.002160</td>\n",
       "                        <td id=\"T_516fb688_0fa4_11eb_b372_0242ac1c0002row29_col20\" class=\"data row29 col20\" >-0.003654</td>\n",
       "                        <td id=\"T_516fb688_0fa4_11eb_b372_0242ac1c0002row29_col21\" class=\"data row29 col21\" >0.024412</td>\n",
       "                        <td id=\"T_516fb688_0fa4_11eb_b372_0242ac1c0002row29_col22\" class=\"data row29 col22\" >-0.000664</td>\n",
       "                        <td id=\"T_516fb688_0fa4_11eb_b372_0242ac1c0002row29_col23\" class=\"data row29 col23\" >-0.003299</td>\n",
       "                        <td id=\"T_516fb688_0fa4_11eb_b372_0242ac1c0002row29_col24\" class=\"data row29 col24\" >nan</td>\n",
       "                        <td id=\"T_516fb688_0fa4_11eb_b372_0242ac1c0002row29_col25\" class=\"data row29 col25\" >nan</td>\n",
       "                        <td id=\"T_516fb688_0fa4_11eb_b372_0242ac1c0002row29_col26\" class=\"data row29 col26\" >-0.001247</td>\n",
       "                        <td id=\"T_516fb688_0fa4_11eb_b372_0242ac1c0002row29_col27\" class=\"data row29 col27\" >0.015655</td>\n",
       "                        <td id=\"T_516fb688_0fa4_11eb_b372_0242ac1c0002row29_col28\" class=\"data row29 col28\" >0.028342</td>\n",
       "                        <td id=\"T_516fb688_0fa4_11eb_b372_0242ac1c0002row29_col29\" class=\"data row29 col29\" >1.000000</td>\n",
       "                        <td id=\"T_516fb688_0fa4_11eb_b372_0242ac1c0002row29_col30\" class=\"data row29 col30\" >0.022920</td>\n",
       "                        <td id=\"T_516fb688_0fa4_11eb_b372_0242ac1c0002row29_col31\" class=\"data row29 col31\" >0.010549</td>\n",
       "                        <td id=\"T_516fb688_0fa4_11eb_b372_0242ac1c0002row29_col32\" class=\"data row29 col32\" >0.048917</td>\n",
       "                        <td id=\"T_516fb688_0fa4_11eb_b372_0242ac1c0002row29_col33\" class=\"data row29 col33\" >0.013197</td>\n",
       "                        <td id=\"T_516fb688_0fa4_11eb_b372_0242ac1c0002row29_col34\" class=\"data row29 col34\" >0.037833</td>\n",
       "                        <td id=\"T_516fb688_0fa4_11eb_b372_0242ac1c0002row29_col35\" class=\"data row29 col35\" >0.052970</td>\n",
       "                        <td id=\"T_516fb688_0fa4_11eb_b372_0242ac1c0002row29_col36\" class=\"data row29 col36\" >0.013976</td>\n",
       "                        <td id=\"T_516fb688_0fa4_11eb_b372_0242ac1c0002row29_col37\" class=\"data row29 col37\" >0.047584</td>\n",
       "                        <td id=\"T_516fb688_0fa4_11eb_b372_0242ac1c0002row29_col38\" class=\"data row29 col38\" >0.040720</td>\n",
       "                        <td id=\"T_516fb688_0fa4_11eb_b372_0242ac1c0002row29_col39\" class=\"data row29 col39\" >0.047413</td>\n",
       "                        <td id=\"T_516fb688_0fa4_11eb_b372_0242ac1c0002row29_col40\" class=\"data row29 col40\" >0.025510</td>\n",
       "                        <td id=\"T_516fb688_0fa4_11eb_b372_0242ac1c0002row29_col41\" class=\"data row29 col41\" >0.058735</td>\n",
       "                        <td id=\"T_516fb688_0fa4_11eb_b372_0242ac1c0002row29_col42\" class=\"data row29 col42\" >0.026751</td>\n",
       "            </tr>\n",
       "            <tr>\n",
       "                        <th id=\"T_516fb688_0fa4_11eb_b372_0242ac1c0002level0_row30\" class=\"row_heading level0 row30\" >numchange</th>\n",
       "                        <td id=\"T_516fb688_0fa4_11eb_b372_0242ac1c0002row30_col0\" class=\"data row30 col0\" >0.139670</td>\n",
       "                        <td id=\"T_516fb688_0fa4_11eb_b372_0242ac1c0002row30_col1\" class=\"data row30 col1\" >0.111876</td>\n",
       "                        <td id=\"T_516fb688_0fa4_11eb_b372_0242ac1c0002row30_col2\" class=\"data row30 col2\" >-0.010997</td>\n",
       "                        <td id=\"T_516fb688_0fa4_11eb_b372_0242ac1c0002row30_col3\" class=\"data row30 col3\" >0.193801</td>\n",
       "                        <td id=\"T_516fb688_0fa4_11eb_b372_0242ac1c0002row30_col4\" class=\"data row30 col4\" >0.065829</td>\n",
       "                        <td id=\"T_516fb688_0fa4_11eb_b372_0242ac1c0002row30_col5\" class=\"data row30 col5\" >0.111597</td>\n",
       "                        <td id=\"T_516fb688_0fa4_11eb_b372_0242ac1c0002row30_col6\" class=\"data row30 col6\" >0.019618</td>\n",
       "                        <td id=\"T_516fb688_0fa4_11eb_b372_0242ac1c0002row30_col7\" class=\"data row30 col7\" >0.031696</td>\n",
       "                        <td id=\"T_516fb688_0fa4_11eb_b372_0242ac1c0002row30_col8\" class=\"data row30 col8\" >0.004386</td>\n",
       "                        <td id=\"T_516fb688_0fa4_11eb_b372_0242ac1c0002row30_col9\" class=\"data row30 col9\" >-0.009139</td>\n",
       "                        <td id=\"T_516fb688_0fa4_11eb_b372_0242ac1c0002row30_col10\" class=\"data row30 col10\" >0.020934</td>\n",
       "                        <td id=\"T_516fb688_0fa4_11eb_b372_0242ac1c0002row30_col11\" class=\"data row30 col11\" >nan</td>\n",
       "                        <td id=\"T_516fb688_0fa4_11eb_b372_0242ac1c0002row30_col12\" class=\"data row30 col12\" >0.003208</td>\n",
       "                        <td id=\"T_516fb688_0fa4_11eb_b372_0242ac1c0002row30_col13\" class=\"data row30 col13\" >-0.000153</td>\n",
       "                        <td id=\"T_516fb688_0fa4_11eb_b372_0242ac1c0002row30_col14\" class=\"data row30 col14\" >-0.006041</td>\n",
       "                        <td id=\"T_516fb688_0fa4_11eb_b372_0242ac1c0002row30_col15\" class=\"data row30 col15\" >0.023759</td>\n",
       "                        <td id=\"T_516fb688_0fa4_11eb_b372_0242ac1c0002row30_col16\" class=\"data row30 col16\" >0.016788</td>\n",
       "                        <td id=\"T_516fb688_0fa4_11eb_b372_0242ac1c0002row30_col17\" class=\"data row30 col17\" >0.007066</td>\n",
       "                        <td id=\"T_516fb688_0fa4_11eb_b372_0242ac1c0002row30_col18\" class=\"data row30 col18\" >0.000936</td>\n",
       "                        <td id=\"T_516fb688_0fa4_11eb_b372_0242ac1c0002row30_col19\" class=\"data row30 col19\" >0.001818</td>\n",
       "                        <td id=\"T_516fb688_0fa4_11eb_b372_0242ac1c0002row30_col20\" class=\"data row30 col20\" >-0.009613</td>\n",
       "                        <td id=\"T_516fb688_0fa4_11eb_b372_0242ac1c0002row30_col21\" class=\"data row30 col21\" >0.436229</td>\n",
       "                        <td id=\"T_516fb688_0fa4_11eb_b372_0242ac1c0002row30_col22\" class=\"data row30 col22\" >0.006383</td>\n",
       "                        <td id=\"T_516fb688_0fa4_11eb_b372_0242ac1c0002row30_col23\" class=\"data row30 col23\" >-0.002154</td>\n",
       "                        <td id=\"T_516fb688_0fa4_11eb_b372_0242ac1c0002row30_col24\" class=\"data row30 col24\" >nan</td>\n",
       "                        <td id=\"T_516fb688_0fa4_11eb_b372_0242ac1c0002row30_col25\" class=\"data row30 col25\" >nan</td>\n",
       "                        <td id=\"T_516fb688_0fa4_11eb_b372_0242ac1c0002row30_col26\" class=\"data row30 col26\" >0.007572</td>\n",
       "                        <td id=\"T_516fb688_0fa4_11eb_b372_0242ac1c0002row30_col27\" class=\"data row30 col27\" >0.618935</td>\n",
       "                        <td id=\"T_516fb688_0fa4_11eb_b372_0242ac1c0002row30_col28\" class=\"data row30 col28\" >0.313695</td>\n",
       "                        <td id=\"T_516fb688_0fa4_11eb_b372_0242ac1c0002row30_col29\" class=\"data row30 col29\" >0.022920</td>\n",
       "                        <td id=\"T_516fb688_0fa4_11eb_b372_0242ac1c0002row30_col30\" class=\"data row30 col30\" >1.000000</td>\n",
       "                        <td id=\"T_516fb688_0fa4_11eb_b372_0242ac1c0002row30_col31\" class=\"data row30 col31\" >0.016943</td>\n",
       "                        <td id=\"T_516fb688_0fa4_11eb_b372_0242ac1c0002row30_col32\" class=\"data row30 col32\" >0.009691</td>\n",
       "                        <td id=\"T_516fb688_0fa4_11eb_b372_0242ac1c0002row30_col33\" class=\"data row30 col33\" >0.046878</td>\n",
       "                        <td id=\"T_516fb688_0fa4_11eb_b372_0242ac1c0002row30_col34\" class=\"data row30 col34\" >0.036396</td>\n",
       "                        <td id=\"T_516fb688_0fa4_11eb_b372_0242ac1c0002row30_col35\" class=\"data row30 col35\" >0.185334</td>\n",
       "                        <td id=\"T_516fb688_0fa4_11eb_b372_0242ac1c0002row30_col36\" class=\"data row30 col36\" >0.059514</td>\n",
       "                        <td id=\"T_516fb688_0fa4_11eb_b372_0242ac1c0002row30_col37\" class=\"data row30 col37\" >0.151253</td>\n",
       "                        <td id=\"T_516fb688_0fa4_11eb_b372_0242ac1c0002row30_col38\" class=\"data row30 col38\" >0.199196</td>\n",
       "                        <td id=\"T_516fb688_0fa4_11eb_b372_0242ac1c0002row30_col39\" class=\"data row30 col39\" >0.192987</td>\n",
       "                        <td id=\"T_516fb688_0fa4_11eb_b372_0242ac1c0002row30_col40\" class=\"data row30 col40\" >0.575151</td>\n",
       "                        <td id=\"T_516fb688_0fa4_11eb_b372_0242ac1c0002row30_col41\" class=\"data row30 col41\" >0.143910</td>\n",
       "                        <td id=\"T_516fb688_0fa4_11eb_b372_0242ac1c0002row30_col42\" class=\"data row30 col42\" >0.899647</td>\n",
       "            </tr>\n",
       "            <tr>\n",
       "                        <th id=\"T_516fb688_0fa4_11eb_b372_0242ac1c0002level0_row31\" class=\"row_heading level0 row31\" >number_outpatient_log1p</th>\n",
       "                        <td id=\"T_516fb688_0fa4_11eb_b372_0242ac1c0002row31_col0\" class=\"data row31 col0\" >-0.027614</td>\n",
       "                        <td id=\"T_516fb688_0fa4_11eb_b372_0242ac1c0002row31_col1\" class=\"data row31 col1\" >-0.041207</td>\n",
       "                        <td id=\"T_516fb688_0fa4_11eb_b372_0242ac1c0002row31_col2\" class=\"data row31 col2\" >-0.017295</td>\n",
       "                        <td id=\"T_516fb688_0fa4_11eb_b372_0242ac1c0002row31_col3\" class=\"data row31 col3\" >0.031576</td>\n",
       "                        <td id=\"T_516fb688_0fa4_11eb_b372_0242ac1c0002row31_col4\" class=\"data row31 col4\" >0.057902</td>\n",
       "                        <td id=\"T_516fb688_0fa4_11eb_b372_0242ac1c0002row31_col5\" class=\"data row31 col5\" >-0.032616</td>\n",
       "                        <td id=\"T_516fb688_0fa4_11eb_b372_0242ac1c0002row31_col6\" class=\"data row31 col6\" >0.026385</td>\n",
       "                        <td id=\"T_516fb688_0fa4_11eb_b372_0242ac1c0002row31_col7\" class=\"data row31 col7\" >0.000443</td>\n",
       "                        <td id=\"T_516fb688_0fa4_11eb_b372_0242ac1c0002row31_col8\" class=\"data row31 col8\" >0.012479</td>\n",
       "                        <td id=\"T_516fb688_0fa4_11eb_b372_0242ac1c0002row31_col9\" class=\"data row31 col9\" >-0.004668</td>\n",
       "                        <td id=\"T_516fb688_0fa4_11eb_b372_0242ac1c0002row31_col10\" class=\"data row31 col10\" >0.000339</td>\n",
       "                        <td id=\"T_516fb688_0fa4_11eb_b372_0242ac1c0002row31_col11\" class=\"data row31 col11\" >nan</td>\n",
       "                        <td id=\"T_516fb688_0fa4_11eb_b372_0242ac1c0002row31_col12\" class=\"data row31 col12\" >0.005120</td>\n",
       "                        <td id=\"T_516fb688_0fa4_11eb_b372_0242ac1c0002row31_col13\" class=\"data row31 col13\" >0.012753</td>\n",
       "                        <td id=\"T_516fb688_0fa4_11eb_b372_0242ac1c0002row31_col14\" class=\"data row31 col14\" >-0.002074</td>\n",
       "                        <td id=\"T_516fb688_0fa4_11eb_b372_0242ac1c0002row31_col15\" class=\"data row31 col15\" >0.019669</td>\n",
       "                        <td id=\"T_516fb688_0fa4_11eb_b372_0242ac1c0002row31_col16\" class=\"data row31 col16\" >0.011725</td>\n",
       "                        <td id=\"T_516fb688_0fa4_11eb_b372_0242ac1c0002row31_col17\" class=\"data row31 col17\" >0.015288</td>\n",
       "                        <td id=\"T_516fb688_0fa4_11eb_b372_0242ac1c0002row31_col18\" class=\"data row31 col18\" >0.002220</td>\n",
       "                        <td id=\"T_516fb688_0fa4_11eb_b372_0242ac1c0002row31_col19\" class=\"data row31 col19\" >-0.002254</td>\n",
       "                        <td id=\"T_516fb688_0fa4_11eb_b372_0242ac1c0002row31_col20\" class=\"data row31 col20\" >-0.004552</td>\n",
       "                        <td id=\"T_516fb688_0fa4_11eb_b372_0242ac1c0002row31_col21\" class=\"data row31 col21\" >-0.006063</td>\n",
       "                        <td id=\"T_516fb688_0fa4_11eb_b372_0242ac1c0002row31_col22\" class=\"data row31 col22\" >-0.001389</td>\n",
       "                        <td id=\"T_516fb688_0fa4_11eb_b372_0242ac1c0002row31_col23\" class=\"data row31 col23\" >0.013927</td>\n",
       "                        <td id=\"T_516fb688_0fa4_11eb_b372_0242ac1c0002row31_col24\" class=\"data row31 col24\" >nan</td>\n",
       "                        <td id=\"T_516fb688_0fa4_11eb_b372_0242ac1c0002row31_col25\" class=\"data row31 col25\" >nan</td>\n",
       "                        <td id=\"T_516fb688_0fa4_11eb_b372_0242ac1c0002row31_col26\" class=\"data row31 col26\" >-0.001301</td>\n",
       "                        <td id=\"T_516fb688_0fa4_11eb_b372_0242ac1c0002row31_col27\" class=\"data row31 col27\" >0.028525</td>\n",
       "                        <td id=\"T_516fb688_0fa4_11eb_b372_0242ac1c0002row31_col28\" class=\"data row31 col28\" >0.026523</td>\n",
       "                        <td id=\"T_516fb688_0fa4_11eb_b372_0242ac1c0002row31_col29\" class=\"data row31 col29\" >0.010549</td>\n",
       "                        <td id=\"T_516fb688_0fa4_11eb_b372_0242ac1c0002row31_col30\" class=\"data row31 col30\" >0.016943</td>\n",
       "                        <td id=\"T_516fb688_0fa4_11eb_b372_0242ac1c0002row31_col31\" class=\"data row31 col31\" >1.000000</td>\n",
       "                        <td id=\"T_516fb688_0fa4_11eb_b372_0242ac1c0002row31_col32\" class=\"data row31 col32\" >0.056963</td>\n",
       "                        <td id=\"T_516fb688_0fa4_11eb_b372_0242ac1c0002row31_col33\" class=\"data row31 col33\" >0.099488</td>\n",
       "                        <td id=\"T_516fb688_0fa4_11eb_b372_0242ac1c0002row31_col34\" class=\"data row31 col34\" >0.734528</td>\n",
       "                        <td id=\"T_516fb688_0fa4_11eb_b372_0242ac1c0002row31_col35\" class=\"data row31 col35\" >-0.005056</td>\n",
       "                        <td id=\"T_516fb688_0fa4_11eb_b372_0242ac1c0002row31_col36\" class=\"data row31 col36\" >-0.010396</td>\n",
       "                        <td id=\"T_516fb688_0fa4_11eb_b372_0242ac1c0002row31_col37\" class=\"data row31 col37\" >-0.034477</td>\n",
       "                        <td id=\"T_516fb688_0fa4_11eb_b372_0242ac1c0002row31_col38\" class=\"data row31 col38\" >-0.005645</td>\n",
       "                        <td id=\"T_516fb688_0fa4_11eb_b372_0242ac1c0002row31_col39\" class=\"data row31 col39\" >0.044675</td>\n",
       "                        <td id=\"T_516fb688_0fa4_11eb_b372_0242ac1c0002row31_col40\" class=\"data row31 col40\" >0.032175</td>\n",
       "                        <td id=\"T_516fb688_0fa4_11eb_b372_0242ac1c0002row31_col41\" class=\"data row31 col41\" >-0.006313</td>\n",
       "                        <td id=\"T_516fb688_0fa4_11eb_b372_0242ac1c0002row31_col42\" class=\"data row31 col42\" >0.019635</td>\n",
       "            </tr>\n",
       "            <tr>\n",
       "                        <th id=\"T_516fb688_0fa4_11eb_b372_0242ac1c0002level0_row32\" class=\"row_heading level0 row32\" >number_inpatient_log1p</th>\n",
       "                        <td id=\"T_516fb688_0fa4_11eb_b372_0242ac1c0002row32_col0\" class=\"data row32 col0\" >0.051496</td>\n",
       "                        <td id=\"T_516fb688_0fa4_11eb_b372_0242ac1c0002row32_col1\" class=\"data row32 col1\" >0.049153</td>\n",
       "                        <td id=\"T_516fb688_0fa4_11eb_b372_0242ac1c0002row32_col2\" class=\"data row32 col2\" >-0.012699</td>\n",
       "                        <td id=\"T_516fb688_0fa4_11eb_b372_0242ac1c0002row32_col3\" class=\"data row32 col3\" >0.034802</td>\n",
       "                        <td id=\"T_516fb688_0fa4_11eb_b372_0242ac1c0002row32_col4\" class=\"data row32 col4\" >0.051598</td>\n",
       "                        <td id=\"T_516fb688_0fa4_11eb_b372_0242ac1c0002row32_col5\" class=\"data row32 col5\" >-0.044000</td>\n",
       "                        <td id=\"T_516fb688_0fa4_11eb_b372_0242ac1c0002row32_col6\" class=\"data row32 col6\" >-0.018782</td>\n",
       "                        <td id=\"T_516fb688_0fa4_11eb_b372_0242ac1c0002row32_col7\" class=\"data row32 col7\" >0.010728</td>\n",
       "                        <td id=\"T_516fb688_0fa4_11eb_b372_0242ac1c0002row32_col8\" class=\"data row32 col8\" >-0.001072</td>\n",
       "                        <td id=\"T_516fb688_0fa4_11eb_b372_0242ac1c0002row32_col9\" class=\"data row32 col9\" >0.004656</td>\n",
       "                        <td id=\"T_516fb688_0fa4_11eb_b372_0242ac1c0002row32_col10\" class=\"data row32 col10\" >0.004602</td>\n",
       "                        <td id=\"T_516fb688_0fa4_11eb_b372_0242ac1c0002row32_col11\" class=\"data row32 col11\" >nan</td>\n",
       "                        <td id=\"T_516fb688_0fa4_11eb_b372_0242ac1c0002row32_col12\" class=\"data row32 col12\" >0.001004</td>\n",
       "                        <td id=\"T_516fb688_0fa4_11eb_b372_0242ac1c0002row32_col13\" class=\"data row32 col13\" >-0.001704</td>\n",
       "                        <td id=\"T_516fb688_0fa4_11eb_b372_0242ac1c0002row32_col14\" class=\"data row32 col14\" >-0.001058</td>\n",
       "                        <td id=\"T_516fb688_0fa4_11eb_b372_0242ac1c0002row32_col15\" class=\"data row32 col15\" >-0.002900</td>\n",
       "                        <td id=\"T_516fb688_0fa4_11eb_b372_0242ac1c0002row32_col16\" class=\"data row32 col16\" >-0.001924</td>\n",
       "                        <td id=\"T_516fb688_0fa4_11eb_b372_0242ac1c0002row32_col17\" class=\"data row32 col17\" >-0.003439</td>\n",
       "                        <td id=\"T_516fb688_0fa4_11eb_b372_0242ac1c0002row32_col18\" class=\"data row32 col18\" >-0.001336</td>\n",
       "                        <td id=\"T_516fb688_0fa4_11eb_b372_0242ac1c0002row32_col19\" class=\"data row32 col19\" >-0.002165</td>\n",
       "                        <td id=\"T_516fb688_0fa4_11eb_b372_0242ac1c0002row32_col20\" class=\"data row32 col20\" >-0.003675</td>\n",
       "                        <td id=\"T_516fb688_0fa4_11eb_b372_0242ac1c0002row32_col21\" class=\"data row32 col21\" >0.022707</td>\n",
       "                        <td id=\"T_516fb688_0fa4_11eb_b372_0242ac1c0002row32_col22\" class=\"data row32 col22\" >-0.010068</td>\n",
       "                        <td id=\"T_516fb688_0fa4_11eb_b372_0242ac1c0002row32_col23\" class=\"data row32 col23\" >-0.003307</td>\n",
       "                        <td id=\"T_516fb688_0fa4_11eb_b372_0242ac1c0002row32_col24\" class=\"data row32 col24\" >nan</td>\n",
       "                        <td id=\"T_516fb688_0fa4_11eb_b372_0242ac1c0002row32_col25\" class=\"data row32 col25\" >nan</td>\n",
       "                        <td id=\"T_516fb688_0fa4_11eb_b372_0242ac1c0002row32_col26\" class=\"data row32 col26\" >-0.001250</td>\n",
       "                        <td id=\"T_516fb688_0fa4_11eb_b372_0242ac1c0002row32_col27\" class=\"data row32 col27\" >0.004306</td>\n",
       "                        <td id=\"T_516fb688_0fa4_11eb_b372_0242ac1c0002row32_col28\" class=\"data row32 col28\" >0.019661</td>\n",
       "                        <td id=\"T_516fb688_0fa4_11eb_b372_0242ac1c0002row32_col29\" class=\"data row32 col29\" >0.048917</td>\n",
       "                        <td id=\"T_516fb688_0fa4_11eb_b372_0242ac1c0002row32_col30\" class=\"data row32 col30\" >0.009691</td>\n",
       "                        <td id=\"T_516fb688_0fa4_11eb_b372_0242ac1c0002row32_col31\" class=\"data row32 col31\" >0.056963</td>\n",
       "                        <td id=\"T_516fb688_0fa4_11eb_b372_0242ac1c0002row32_col32\" class=\"data row32 col32\" >1.000000</td>\n",
       "                        <td id=\"T_516fb688_0fa4_11eb_b372_0242ac1c0002row32_col33\" class=\"data row32 col33\" >0.077569</td>\n",
       "                        <td id=\"T_516fb688_0fa4_11eb_b372_0242ac1c0002row32_col34\" class=\"data row32 col34\" >0.582655</td>\n",
       "                        <td id=\"T_516fb688_0fa4_11eb_b372_0242ac1c0002row32_col35\" class=\"data row32 col35\" >0.042231</td>\n",
       "                        <td id=\"T_516fb688_0fa4_11eb_b372_0242ac1c0002row32_col36\" class=\"data row32 col36\" >-0.001959</td>\n",
       "                        <td id=\"T_516fb688_0fa4_11eb_b372_0242ac1c0002row32_col37\" class=\"data row32 col37\" >0.052001</td>\n",
       "                        <td id=\"T_516fb688_0fa4_11eb_b372_0242ac1c0002row32_col38\" class=\"data row32 col38\" >0.049587</td>\n",
       "                        <td id=\"T_516fb688_0fa4_11eb_b372_0242ac1c0002row32_col39\" class=\"data row32 col39\" >0.049109</td>\n",
       "                        <td id=\"T_516fb688_0fa4_11eb_b372_0242ac1c0002row32_col40\" class=\"data row32 col40\" >0.011245</td>\n",
       "                        <td id=\"T_516fb688_0fa4_11eb_b372_0242ac1c0002row32_col41\" class=\"data row32 col41\" >0.056947</td>\n",
       "                        <td id=\"T_516fb688_0fa4_11eb_b372_0242ac1c0002row32_col42\" class=\"data row32 col42\" >0.012799</td>\n",
       "            </tr>\n",
       "            <tr>\n",
       "                        <th id=\"T_516fb688_0fa4_11eb_b372_0242ac1c0002level0_row33\" class=\"row_heading level0 row33\" >number_emergency_log1p</th>\n",
       "                        <td id=\"T_516fb688_0fa4_11eb_b372_0242ac1c0002row33_col0\" class=\"data row33 col0\" >-0.001829</td>\n",
       "                        <td id=\"T_516fb688_0fa4_11eb_b372_0242ac1c0002row33_col1\" class=\"data row33 col1\" >0.006784</td>\n",
       "                        <td id=\"T_516fb688_0fa4_11eb_b372_0242ac1c0002row33_col2\" class=\"data row33 col2\" >-0.026767</td>\n",
       "                        <td id=\"T_516fb688_0fa4_11eb_b372_0242ac1c0002row33_col3\" class=\"data row33 col3\" >0.013399</td>\n",
       "                        <td id=\"T_516fb688_0fa4_11eb_b372_0242ac1c0002row33_col4\" class=\"data row33 col4\" >0.050317</td>\n",
       "                        <td id=\"T_516fb688_0fa4_11eb_b372_0242ac1c0002row33_col5\" class=\"data row33 col5\" >-0.011517</td>\n",
       "                        <td id=\"T_516fb688_0fa4_11eb_b372_0242ac1c0002row33_col6\" class=\"data row33 col6\" >-0.002027</td>\n",
       "                        <td id=\"T_516fb688_0fa4_11eb_b372_0242ac1c0002row33_col7\" class=\"data row33 col7\" >0.009063</td>\n",
       "                        <td id=\"T_516fb688_0fa4_11eb_b372_0242ac1c0002row33_col8\" class=\"data row33 col8\" >0.006641</td>\n",
       "                        <td id=\"T_516fb688_0fa4_11eb_b372_0242ac1c0002row33_col9\" class=\"data row33 col9\" >-0.007722</td>\n",
       "                        <td id=\"T_516fb688_0fa4_11eb_b372_0242ac1c0002row33_col10\" class=\"data row33 col10\" >0.004850</td>\n",
       "                        <td id=\"T_516fb688_0fa4_11eb_b372_0242ac1c0002row33_col11\" class=\"data row33 col11\" >nan</td>\n",
       "                        <td id=\"T_516fb688_0fa4_11eb_b372_0242ac1c0002row33_col12\" class=\"data row33 col12\" >0.002147</td>\n",
       "                        <td id=\"T_516fb688_0fa4_11eb_b372_0242ac1c0002row33_col13\" class=\"data row33 col13\" >-0.013783</td>\n",
       "                        <td id=\"T_516fb688_0fa4_11eb_b372_0242ac1c0002row33_col14\" class=\"data row33 col14\" >-0.003737</td>\n",
       "                        <td id=\"T_516fb688_0fa4_11eb_b372_0242ac1c0002row33_col15\" class=\"data row33 col15\" >0.017299</td>\n",
       "                        <td id=\"T_516fb688_0fa4_11eb_b372_0242ac1c0002row33_col16\" class=\"data row33 col16\" >0.013211</td>\n",
       "                        <td id=\"T_516fb688_0fa4_11eb_b372_0242ac1c0002row33_col17\" class=\"data row33 col17\" >0.000076</td>\n",
       "                        <td id=\"T_516fb688_0fa4_11eb_b372_0242ac1c0002row33_col18\" class=\"data row33 col18\" >0.014469</td>\n",
       "                        <td id=\"T_516fb688_0fa4_11eb_b372_0242ac1c0002row33_col19\" class=\"data row33 col19\" >-0.001671</td>\n",
       "                        <td id=\"T_516fb688_0fa4_11eb_b372_0242ac1c0002row33_col20\" class=\"data row33 col20\" >0.002041</td>\n",
       "                        <td id=\"T_516fb688_0fa4_11eb_b372_0242ac1c0002row33_col21\" class=\"data row33 col21\" >0.038694</td>\n",
       "                        <td id=\"T_516fb688_0fa4_11eb_b372_0242ac1c0002row33_col22\" class=\"data row33 col22\" >0.002444</td>\n",
       "                        <td id=\"T_516fb688_0fa4_11eb_b372_0242ac1c0002row33_col23\" class=\"data row33 col23\" >-0.002553</td>\n",
       "                        <td id=\"T_516fb688_0fa4_11eb_b372_0242ac1c0002row33_col24\" class=\"data row33 col24\" >nan</td>\n",
       "                        <td id=\"T_516fb688_0fa4_11eb_b372_0242ac1c0002row33_col25\" class=\"data row33 col25\" >nan</td>\n",
       "                        <td id=\"T_516fb688_0fa4_11eb_b372_0242ac1c0002row33_col26\" class=\"data row33 col26\" >-0.000965</td>\n",
       "                        <td id=\"T_516fb688_0fa4_11eb_b372_0242ac1c0002row33_col27\" class=\"data row33 col27\" >0.041209</td>\n",
       "                        <td id=\"T_516fb688_0fa4_11eb_b372_0242ac1c0002row33_col28\" class=\"data row33 col28\" >0.035930</td>\n",
       "                        <td id=\"T_516fb688_0fa4_11eb_b372_0242ac1c0002row33_col29\" class=\"data row33 col29\" >0.013197</td>\n",
       "                        <td id=\"T_516fb688_0fa4_11eb_b372_0242ac1c0002row33_col30\" class=\"data row33 col30\" >0.046878</td>\n",
       "                        <td id=\"T_516fb688_0fa4_11eb_b372_0242ac1c0002row33_col31\" class=\"data row33 col31\" >0.099488</td>\n",
       "                        <td id=\"T_516fb688_0fa4_11eb_b372_0242ac1c0002row33_col32\" class=\"data row33 col32\" >0.077569</td>\n",
       "                        <td id=\"T_516fb688_0fa4_11eb_b372_0242ac1c0002row33_col33\" class=\"data row33 col33\" >1.000000</td>\n",
       "                        <td id=\"T_516fb688_0fa4_11eb_b372_0242ac1c0002row33_col34\" class=\"data row33 col34\" >0.491853</td>\n",
       "                        <td id=\"T_516fb688_0fa4_11eb_b372_0242ac1c0002row33_col35\" class=\"data row33 col35\" >0.006251</td>\n",
       "                        <td id=\"T_516fb688_0fa4_11eb_b372_0242ac1c0002row33_col36\" class=\"data row33 col36\" >-0.017012</td>\n",
       "                        <td id=\"T_516fb688_0fa4_11eb_b372_0242ac1c0002row33_col37\" class=\"data row33 col37\" >-0.000069</td>\n",
       "                        <td id=\"T_516fb688_0fa4_11eb_b372_0242ac1c0002row33_col38\" class=\"data row33 col38\" >0.014957</td>\n",
       "                        <td id=\"T_516fb688_0fa4_11eb_b372_0242ac1c0002row33_col39\" class=\"data row33 col39\" >0.032862</td>\n",
       "                        <td id=\"T_516fb688_0fa4_11eb_b372_0242ac1c0002row33_col40\" class=\"data row33 col40\" >0.034737</td>\n",
       "                        <td id=\"T_516fb688_0fa4_11eb_b372_0242ac1c0002row33_col41\" class=\"data row33 col41\" >0.015964</td>\n",
       "                        <td id=\"T_516fb688_0fa4_11eb_b372_0242ac1c0002row33_col42\" class=\"data row33 col42\" >0.041916</td>\n",
       "            </tr>\n",
       "            <tr>\n",
       "                        <th id=\"T_516fb688_0fa4_11eb_b372_0242ac1c0002level0_row34\" class=\"row_heading level0 row34\" >service_utilization_log1p</th>\n",
       "                        <td id=\"T_516fb688_0fa4_11eb_b372_0242ac1c0002row34_col0\" class=\"data row34 col0\" >0.006862</td>\n",
       "                        <td id=\"T_516fb688_0fa4_11eb_b372_0242ac1c0002row34_col1\" class=\"data row34 col1\" >-0.001783</td>\n",
       "                        <td id=\"T_516fb688_0fa4_11eb_b372_0242ac1c0002row34_col2\" class=\"data row34 col2\" >-0.030508</td>\n",
       "                        <td id=\"T_516fb688_0fa4_11eb_b372_0242ac1c0002row34_col3\" class=\"data row34 col3\" >0.045034</td>\n",
       "                        <td id=\"T_516fb688_0fa4_11eb_b372_0242ac1c0002row34_col4\" class=\"data row34 col4\" >0.086039</td>\n",
       "                        <td id=\"T_516fb688_0fa4_11eb_b372_0242ac1c0002row34_col5\" class=\"data row34 col5\" >-0.050729</td>\n",
       "                        <td id=\"T_516fb688_0fa4_11eb_b372_0242ac1c0002row34_col6\" class=\"data row34 col6\" >0.008378</td>\n",
       "                        <td id=\"T_516fb688_0fa4_11eb_b372_0242ac1c0002row34_col7\" class=\"data row34 col7\" >0.009623</td>\n",
       "                        <td id=\"T_516fb688_0fa4_11eb_b372_0242ac1c0002row34_col8\" class=\"data row34 col8\" >0.010621</td>\n",
       "                        <td id=\"T_516fb688_0fa4_11eb_b372_0242ac1c0002row34_col9\" class=\"data row34 col9\" >-0.003291</td>\n",
       "                        <td id=\"T_516fb688_0fa4_11eb_b372_0242ac1c0002row34_col10\" class=\"data row34 col10\" >0.004660</td>\n",
       "                        <td id=\"T_516fb688_0fa4_11eb_b372_0242ac1c0002row34_col11\" class=\"data row34 col11\" >nan</td>\n",
       "                        <td id=\"T_516fb688_0fa4_11eb_b372_0242ac1c0002row34_col12\" class=\"data row34 col12\" >0.004322</td>\n",
       "                        <td id=\"T_516fb688_0fa4_11eb_b372_0242ac1c0002row34_col13\" class=\"data row34 col13\" >0.002845</td>\n",
       "                        <td id=\"T_516fb688_0fa4_11eb_b372_0242ac1c0002row34_col14\" class=\"data row34 col14\" >-0.003354</td>\n",
       "                        <td id=\"T_516fb688_0fa4_11eb_b372_0242ac1c0002row34_col15\" class=\"data row34 col15\" >0.018303</td>\n",
       "                        <td id=\"T_516fb688_0fa4_11eb_b372_0242ac1c0002row34_col16\" class=\"data row34 col16\" >0.012051</td>\n",
       "                        <td id=\"T_516fb688_0fa4_11eb_b372_0242ac1c0002row34_col17\" class=\"data row34 col17\" >0.009057</td>\n",
       "                        <td id=\"T_516fb688_0fa4_11eb_b372_0242ac1c0002row34_col18\" class=\"data row34 col18\" >0.006753</td>\n",
       "                        <td id=\"T_516fb688_0fa4_11eb_b372_0242ac1c0002row34_col19\" class=\"data row34 col19\" >-0.003439</td>\n",
       "                        <td id=\"T_516fb688_0fa4_11eb_b372_0242ac1c0002row34_col20\" class=\"data row34 col20\" >-0.004525</td>\n",
       "                        <td id=\"T_516fb688_0fa4_11eb_b372_0242ac1c0002row34_col21\" class=\"data row34 col21\" >0.023755</td>\n",
       "                        <td id=\"T_516fb688_0fa4_11eb_b372_0242ac1c0002row34_col22\" class=\"data row34 col22\" >-0.004200</td>\n",
       "                        <td id=\"T_516fb688_0fa4_11eb_b372_0242ac1c0002row34_col23\" class=\"data row34 col23\" >0.007442</td>\n",
       "                        <td id=\"T_516fb688_0fa4_11eb_b372_0242ac1c0002row34_col24\" class=\"data row34 col24\" >nan</td>\n",
       "                        <td id=\"T_516fb688_0fa4_11eb_b372_0242ac1c0002row34_col25\" class=\"data row34 col25\" >nan</td>\n",
       "                        <td id=\"T_516fb688_0fa4_11eb_b372_0242ac1c0002row34_col26\" class=\"data row34 col26\" >-0.001986</td>\n",
       "                        <td id=\"T_516fb688_0fa4_11eb_b372_0242ac1c0002row34_col27\" class=\"data row34 col27\" >0.039341</td>\n",
       "                        <td id=\"T_516fb688_0fa4_11eb_b372_0242ac1c0002row34_col28\" class=\"data row34 col28\" >0.043157</td>\n",
       "                        <td id=\"T_516fb688_0fa4_11eb_b372_0242ac1c0002row34_col29\" class=\"data row34 col29\" >0.037833</td>\n",
       "                        <td id=\"T_516fb688_0fa4_11eb_b372_0242ac1c0002row34_col30\" class=\"data row34 col30\" >0.036396</td>\n",
       "                        <td id=\"T_516fb688_0fa4_11eb_b372_0242ac1c0002row34_col31\" class=\"data row34 col31\" >0.734528</td>\n",
       "                        <td id=\"T_516fb688_0fa4_11eb_b372_0242ac1c0002row34_col32\" class=\"data row34 col32\" >0.582655</td>\n",
       "                        <td id=\"T_516fb688_0fa4_11eb_b372_0242ac1c0002row34_col33\" class=\"data row34 col33\" >0.491853</td>\n",
       "                        <td id=\"T_516fb688_0fa4_11eb_b372_0242ac1c0002row34_col34\" class=\"data row34 col34\" >1.000000</td>\n",
       "                        <td id=\"T_516fb688_0fa4_11eb_b372_0242ac1c0002row34_col35\" class=\"data row34 col35\" >0.020718</td>\n",
       "                        <td id=\"T_516fb688_0fa4_11eb_b372_0242ac1c0002row34_col36\" class=\"data row34 col36\" >-0.016205</td>\n",
       "                        <td id=\"T_516fb688_0fa4_11eb_b372_0242ac1c0002row34_col37\" class=\"data row34 col37\" >0.002228</td>\n",
       "                        <td id=\"T_516fb688_0fa4_11eb_b372_0242ac1c0002row34_col38\" class=\"data row34 col38\" >0.026661</td>\n",
       "                        <td id=\"T_516fb688_0fa4_11eb_b372_0242ac1c0002row34_col39\" class=\"data row34 col39\" >0.068788</td>\n",
       "                        <td id=\"T_516fb688_0fa4_11eb_b372_0242ac1c0002row34_col40\" class=\"data row34 col40\" >0.042267</td>\n",
       "                        <td id=\"T_516fb688_0fa4_11eb_b372_0242ac1c0002row34_col41\" class=\"data row34 col41\" >0.031079</td>\n",
       "                        <td id=\"T_516fb688_0fa4_11eb_b372_0242ac1c0002row34_col42\" class=\"data row34 col42\" >0.037462</td>\n",
       "            </tr>\n",
       "            <tr>\n",
       "                        <th id=\"T_516fb688_0fa4_11eb_b372_0242ac1c0002level0_row35\" class=\"row_heading level0 row35\" >num_medications|time_in_hospital</th>\n",
       "                        <td id=\"T_516fb688_0fa4_11eb_b372_0242ac1c0002row35_col0\" class=\"data row35 col0\" >0.859364</td>\n",
       "                        <td id=\"T_516fb688_0fa4_11eb_b372_0242ac1c0002row35_col1\" class=\"data row35 col1\" >0.328828</td>\n",
       "                        <td id=\"T_516fb688_0fa4_11eb_b372_0242ac1c0002row35_col2\" class=\"data row35 col2\" >0.263700</td>\n",
       "                        <td id=\"T_516fb688_0fa4_11eb_b372_0242ac1c0002row35_col3\" class=\"data row35 col3\" >0.752726</td>\n",
       "                        <td id=\"T_516fb688_0fa4_11eb_b372_0242ac1c0002row35_col4\" class=\"data row35 col4\" >0.244135</td>\n",
       "                        <td id=\"T_516fb688_0fa4_11eb_b372_0242ac1c0002row35_col5\" class=\"data row35 col5\" >0.062720</td>\n",
       "                        <td id=\"T_516fb688_0fa4_11eb_b372_0242ac1c0002row35_col6\" class=\"data row35 col6\" >0.018048</td>\n",
       "                        <td id=\"T_516fb688_0fa4_11eb_b372_0242ac1c0002row35_col7\" class=\"data row35 col7\" >0.031432</td>\n",
       "                        <td id=\"T_516fb688_0fa4_11eb_b372_0242ac1c0002row35_col8\" class=\"data row35 col8\" >0.015039</td>\n",
       "                        <td id=\"T_516fb688_0fa4_11eb_b372_0242ac1c0002row35_col9\" class=\"data row35 col9\" >0.002754</td>\n",
       "                        <td id=\"T_516fb688_0fa4_11eb_b372_0242ac1c0002row35_col10\" class=\"data row35 col10\" >0.020308</td>\n",
       "                        <td id=\"T_516fb688_0fa4_11eb_b372_0242ac1c0002row35_col11\" class=\"data row35 col11\" >nan</td>\n",
       "                        <td id=\"T_516fb688_0fa4_11eb_b372_0242ac1c0002row35_col12\" class=\"data row35 col12\" >0.027586</td>\n",
       "                        <td id=\"T_516fb688_0fa4_11eb_b372_0242ac1c0002row35_col13\" class=\"data row35 col13\" >0.032526</td>\n",
       "                        <td id=\"T_516fb688_0fa4_11eb_b372_0242ac1c0002row35_col14\" class=\"data row35 col14\" >0.006270</td>\n",
       "                        <td id=\"T_516fb688_0fa4_11eb_b372_0242ac1c0002row35_col15\" class=\"data row35 col15\" >0.024894</td>\n",
       "                        <td id=\"T_516fb688_0fa4_11eb_b372_0242ac1c0002row35_col16\" class=\"data row35 col16\" >0.020520</td>\n",
       "                        <td id=\"T_516fb688_0fa4_11eb_b372_0242ac1c0002row35_col17\" class=\"data row35 col17\" >0.005709</td>\n",
       "                        <td id=\"T_516fb688_0fa4_11eb_b372_0242ac1c0002row35_col18\" class=\"data row35 col18\" >-0.000506</td>\n",
       "                        <td id=\"T_516fb688_0fa4_11eb_b372_0242ac1c0002row35_col19\" class=\"data row35 col19\" >0.006373</td>\n",
       "                        <td id=\"T_516fb688_0fa4_11eb_b372_0242ac1c0002row35_col20\" class=\"data row35 col20\" >-0.004828</td>\n",
       "                        <td id=\"T_516fb688_0fa4_11eb_b372_0242ac1c0002row35_col21\" class=\"data row35 col21\" >0.153239</td>\n",
       "                        <td id=\"T_516fb688_0fa4_11eb_b372_0242ac1c0002row35_col22\" class=\"data row35 col22\" >0.003776</td>\n",
       "                        <td id=\"T_516fb688_0fa4_11eb_b372_0242ac1c0002row35_col23\" class=\"data row35 col23\" >0.001675</td>\n",
       "                        <td id=\"T_516fb688_0fa4_11eb_b372_0242ac1c0002row35_col24\" class=\"data row35 col24\" >nan</td>\n",
       "                        <td id=\"T_516fb688_0fa4_11eb_b372_0242ac1c0002row35_col25\" class=\"data row35 col25\" >nan</td>\n",
       "                        <td id=\"T_516fb688_0fa4_11eb_b372_0242ac1c0002row35_col26\" class=\"data row35 col26\" >0.002792</td>\n",
       "                        <td id=\"T_516fb688_0fa4_11eb_b372_0242ac1c0002row35_col27\" class=\"data row35 col27\" >0.161669</td>\n",
       "                        <td id=\"T_516fb688_0fa4_11eb_b372_0242ac1c0002row35_col28\" class=\"data row35 col28\" >0.115724</td>\n",
       "                        <td id=\"T_516fb688_0fa4_11eb_b372_0242ac1c0002row35_col29\" class=\"data row35 col29\" >0.052970</td>\n",
       "                        <td id=\"T_516fb688_0fa4_11eb_b372_0242ac1c0002row35_col30\" class=\"data row35 col30\" >0.185334</td>\n",
       "                        <td id=\"T_516fb688_0fa4_11eb_b372_0242ac1c0002row35_col31\" class=\"data row35 col31\" >-0.005056</td>\n",
       "                        <td id=\"T_516fb688_0fa4_11eb_b372_0242ac1c0002row35_col32\" class=\"data row35 col32\" >0.042231</td>\n",
       "                        <td id=\"T_516fb688_0fa4_11eb_b372_0242ac1c0002row35_col33\" class=\"data row35 col33\" >0.006251</td>\n",
       "                        <td id=\"T_516fb688_0fa4_11eb_b372_0242ac1c0002row35_col34\" class=\"data row35 col34\" >0.020718</td>\n",
       "                        <td id=\"T_516fb688_0fa4_11eb_b372_0242ac1c0002row35_col35\" class=\"data row35 col35\" >1.000000</td>\n",
       "                        <td id=\"T_516fb688_0fa4_11eb_b372_0242ac1c0002row35_col36\" class=\"data row35 col36\" >0.498182</td>\n",
       "                        <td id=\"T_516fb688_0fa4_11eb_b372_0242ac1c0002row35_col37\" class=\"data row35 col37\" >0.796443</td>\n",
       "                        <td id=\"T_516fb688_0fa4_11eb_b372_0242ac1c0002row35_col38\" class=\"data row35 col38\" >0.727277</td>\n",
       "                        <td id=\"T_516fb688_0fa4_11eb_b372_0242ac1c0002row35_col39\" class=\"data row35 col39\" >0.725126</td>\n",
       "                        <td id=\"T_516fb688_0fa4_11eb_b372_0242ac1c0002row35_col40\" class=\"data row35 col40\" >0.408339</td>\n",
       "                        <td id=\"T_516fb688_0fa4_11eb_b372_0242ac1c0002row35_col41\" class=\"data row35 col41\" >0.838125</td>\n",
       "                        <td id=\"T_516fb688_0fa4_11eb_b372_0242ac1c0002row35_col42\" class=\"data row35 col42\" >0.358450</td>\n",
       "            </tr>\n",
       "            <tr>\n",
       "                        <th id=\"T_516fb688_0fa4_11eb_b372_0242ac1c0002level0_row36\" class=\"row_heading level0 row36\" >num_medications|num_procedures</th>\n",
       "                        <td id=\"T_516fb688_0fa4_11eb_b372_0242ac1c0002row36_col0\" class=\"data row36 col0\" >0.270542</td>\n",
       "                        <td id=\"T_516fb688_0fa4_11eb_b372_0242ac1c0002row36_col1\" class=\"data row36 col1\" >0.114754</td>\n",
       "                        <td id=\"T_516fb688_0fa4_11eb_b372_0242ac1c0002row36_col2\" class=\"data row36 col2\" >0.877783</td>\n",
       "                        <td id=\"T_516fb688_0fa4_11eb_b372_0242ac1c0002row36_col3\" class=\"data row36 col3\" >0.599321</td>\n",
       "                        <td id=\"T_516fb688_0fa4_11eb_b372_0242ac1c0002row36_col4\" class=\"data row36 col4\" >0.111045</td>\n",
       "                        <td id=\"T_516fb688_0fa4_11eb_b372_0242ac1c0002row36_col5\" class=\"data row36 col5\" >0.001700</td>\n",
       "                        <td id=\"T_516fb688_0fa4_11eb_b372_0242ac1c0002row36_col6\" class=\"data row36 col6\" >-0.012299</td>\n",
       "                        <td id=\"T_516fb688_0fa4_11eb_b372_0242ac1c0002row36_col7\" class=\"data row36 col7\" >0.008609</td>\n",
       "                        <td id=\"T_516fb688_0fa4_11eb_b372_0242ac1c0002row36_col8\" class=\"data row36 col8\" >0.001288</td>\n",
       "                        <td id=\"T_516fb688_0fa4_11eb_b372_0242ac1c0002row36_col9\" class=\"data row36 col9\" >0.009563</td>\n",
       "                        <td id=\"T_516fb688_0fa4_11eb_b372_0242ac1c0002row36_col10\" class=\"data row36 col10\" >0.013268</td>\n",
       "                        <td id=\"T_516fb688_0fa4_11eb_b372_0242ac1c0002row36_col11\" class=\"data row36 col11\" >nan</td>\n",
       "                        <td id=\"T_516fb688_0fa4_11eb_b372_0242ac1c0002row36_col12\" class=\"data row36 col12\" >0.017685</td>\n",
       "                        <td id=\"T_516fb688_0fa4_11eb_b372_0242ac1c0002row36_col13\" class=\"data row36 col13\" >0.017877</td>\n",
       "                        <td id=\"T_516fb688_0fa4_11eb_b372_0242ac1c0002row36_col14\" class=\"data row36 col14\" >0.004016</td>\n",
       "                        <td id=\"T_516fb688_0fa4_11eb_b372_0242ac1c0002row36_col15\" class=\"data row36 col15\" >0.027700</td>\n",
       "                        <td id=\"T_516fb688_0fa4_11eb_b372_0242ac1c0002row36_col16\" class=\"data row36 col16\" >0.022630</td>\n",
       "                        <td id=\"T_516fb688_0fa4_11eb_b372_0242ac1c0002row36_col17\" class=\"data row36 col17\" >0.000178</td>\n",
       "                        <td id=\"T_516fb688_0fa4_11eb_b372_0242ac1c0002row36_col18\" class=\"data row36 col18\" >0.002387</td>\n",
       "                        <td id=\"T_516fb688_0fa4_11eb_b372_0242ac1c0002row36_col19\" class=\"data row36 col19\" >-0.004740</td>\n",
       "                        <td id=\"T_516fb688_0fa4_11eb_b372_0242ac1c0002row36_col20\" class=\"data row36 col20\" >-0.001396</td>\n",
       "                        <td id=\"T_516fb688_0fa4_11eb_b372_0242ac1c0002row36_col21\" class=\"data row36 col21\" >0.069351</td>\n",
       "                        <td id=\"T_516fb688_0fa4_11eb_b372_0242ac1c0002row36_col22\" class=\"data row36 col22\" >-0.003401</td>\n",
       "                        <td id=\"T_516fb688_0fa4_11eb_b372_0242ac1c0002row36_col23\" class=\"data row36 col23\" >-0.002665</td>\n",
       "                        <td id=\"T_516fb688_0fa4_11eb_b372_0242ac1c0002row36_col24\" class=\"data row36 col24\" >nan</td>\n",
       "                        <td id=\"T_516fb688_0fa4_11eb_b372_0242ac1c0002row36_col25\" class=\"data row36 col25\" >nan</td>\n",
       "                        <td id=\"T_516fb688_0fa4_11eb_b372_0242ac1c0002row36_col26\" class=\"data row36 col26\" >-0.000555</td>\n",
       "                        <td id=\"T_516fb688_0fa4_11eb_b372_0242ac1c0002row36_col27\" class=\"data row36 col27\" >0.064005</td>\n",
       "                        <td id=\"T_516fb688_0fa4_11eb_b372_0242ac1c0002row36_col28\" class=\"data row36 col28\" >0.049720</td>\n",
       "                        <td id=\"T_516fb688_0fa4_11eb_b372_0242ac1c0002row36_col29\" class=\"data row36 col29\" >0.013976</td>\n",
       "                        <td id=\"T_516fb688_0fa4_11eb_b372_0242ac1c0002row36_col30\" class=\"data row36 col30\" >0.059514</td>\n",
       "                        <td id=\"T_516fb688_0fa4_11eb_b372_0242ac1c0002row36_col31\" class=\"data row36 col31\" >-0.010396</td>\n",
       "                        <td id=\"T_516fb688_0fa4_11eb_b372_0242ac1c0002row36_col32\" class=\"data row36 col32\" >-0.001959</td>\n",
       "                        <td id=\"T_516fb688_0fa4_11eb_b372_0242ac1c0002row36_col33\" class=\"data row36 col33\" >-0.017012</td>\n",
       "                        <td id=\"T_516fb688_0fa4_11eb_b372_0242ac1c0002row36_col34\" class=\"data row36 col34\" >-0.016205</td>\n",
       "                        <td id=\"T_516fb688_0fa4_11eb_b372_0242ac1c0002row36_col35\" class=\"data row36 col35\" >0.498182</td>\n",
       "                        <td id=\"T_516fb688_0fa4_11eb_b372_0242ac1c0002row36_col36\" class=\"data row36 col36\" >1.000000</td>\n",
       "                        <td id=\"T_516fb688_0fa4_11eb_b372_0242ac1c0002row36_col37\" class=\"data row36 col37\" >0.281935</td>\n",
       "                        <td id=\"T_516fb688_0fa4_11eb_b372_0242ac1c0002row36_col38\" class=\"data row36 col38\" >0.484106</td>\n",
       "                        <td id=\"T_516fb688_0fa4_11eb_b372_0242ac1c0002row36_col39\" class=\"data row36 col39\" >0.533162</td>\n",
       "                        <td id=\"T_516fb688_0fa4_11eb_b372_0242ac1c0002row36_col40\" class=\"data row36 col40\" >0.272751</td>\n",
       "                        <td id=\"T_516fb688_0fa4_11eb_b372_0242ac1c0002row36_col41\" class=\"data row36 col41\" >0.278915</td>\n",
       "                        <td id=\"T_516fb688_0fa4_11eb_b372_0242ac1c0002row36_col42\" class=\"data row36 col42\" >0.202574</td>\n",
       "            </tr>\n",
       "            <tr>\n",
       "                        <th id=\"T_516fb688_0fa4_11eb_b372_0242ac1c0002level0_row37\" class=\"row_heading level0 row37\" >time_in_hospital|num_lab_procedures</th>\n",
       "                        <td id=\"T_516fb688_0fa4_11eb_b372_0242ac1c0002row37_col0\" class=\"data row37 col0\" >0.853015</td>\n",
       "                        <td id=\"T_516fb688_0fa4_11eb_b372_0242ac1c0002row37_col1\" class=\"data row37 col1\" >0.674595</td>\n",
       "                        <td id=\"T_516fb688_0fa4_11eb_b372_0242ac1c0002row37_col2\" class=\"data row37 col2\" >0.138598</td>\n",
       "                        <td id=\"T_516fb688_0fa4_11eb_b372_0242ac1c0002row37_col3\" class=\"data row37 col3\" >0.439898</td>\n",
       "                        <td id=\"T_516fb688_0fa4_11eb_b372_0242ac1c0002row37_col4\" class=\"data row37 col4\" >0.219112</td>\n",
       "                        <td id=\"T_516fb688_0fa4_11eb_b372_0242ac1c0002row37_col5\" class=\"data row37 col5\" >0.179762</td>\n",
       "                        <td id=\"T_516fb688_0fa4_11eb_b372_0242ac1c0002row37_col6\" class=\"data row37 col6\" >-0.035697</td>\n",
       "                        <td id=\"T_516fb688_0fa4_11eb_b372_0242ac1c0002row37_col7\" class=\"data row37 col7\" >0.025028</td>\n",
       "                        <td id=\"T_516fb688_0fa4_11eb_b372_0242ac1c0002row37_col8\" class=\"data row37 col8\" >-0.001129</td>\n",
       "                        <td id=\"T_516fb688_0fa4_11eb_b372_0242ac1c0002row37_col9\" class=\"data row37 col9\" >-0.002886</td>\n",
       "                        <td id=\"T_516fb688_0fa4_11eb_b372_0242ac1c0002row37_col10\" class=\"data row37 col10\" >0.001713</td>\n",
       "                        <td id=\"T_516fb688_0fa4_11eb_b372_0242ac1c0002row37_col11\" class=\"data row37 col11\" >nan</td>\n",
       "                        <td id=\"T_516fb688_0fa4_11eb_b372_0242ac1c0002row37_col12\" class=\"data row37 col12\" >0.016832</td>\n",
       "                        <td id=\"T_516fb688_0fa4_11eb_b372_0242ac1c0002row37_col13\" class=\"data row37 col13\" >0.016103</td>\n",
       "                        <td id=\"T_516fb688_0fa4_11eb_b372_0242ac1c0002row37_col14\" class=\"data row37 col14\" >0.004698</td>\n",
       "                        <td id=\"T_516fb688_0fa4_11eb_b372_0242ac1c0002row37_col15\" class=\"data row37 col15\" >-0.012461</td>\n",
       "                        <td id=\"T_516fb688_0fa4_11eb_b372_0242ac1c0002row37_col16\" class=\"data row37 col16\" >-0.006097</td>\n",
       "                        <td id=\"T_516fb688_0fa4_11eb_b372_0242ac1c0002row37_col17\" class=\"data row37 col17\" >0.001241</td>\n",
       "                        <td id=\"T_516fb688_0fa4_11eb_b372_0242ac1c0002row37_col18\" class=\"data row37 col18\" >-0.003097</td>\n",
       "                        <td id=\"T_516fb688_0fa4_11eb_b372_0242ac1c0002row37_col19\" class=\"data row37 col19\" >0.007540</td>\n",
       "                        <td id=\"T_516fb688_0fa4_11eb_b372_0242ac1c0002row37_col20\" class=\"data row37 col20\" >-0.005061</td>\n",
       "                        <td id=\"T_516fb688_0fa4_11eb_b372_0242ac1c0002row37_col21\" class=\"data row37 col21\" >0.111552</td>\n",
       "                        <td id=\"T_516fb688_0fa4_11eb_b372_0242ac1c0002row37_col22\" class=\"data row37 col22\" >-0.007003</td>\n",
       "                        <td id=\"T_516fb688_0fa4_11eb_b372_0242ac1c0002row37_col23\" class=\"data row37 col23\" >-0.002966</td>\n",
       "                        <td id=\"T_516fb688_0fa4_11eb_b372_0242ac1c0002row37_col24\" class=\"data row37 col24\" >nan</td>\n",
       "                        <td id=\"T_516fb688_0fa4_11eb_b372_0242ac1c0002row37_col25\" class=\"data row37 col25\" >nan</td>\n",
       "                        <td id=\"T_516fb688_0fa4_11eb_b372_0242ac1c0002row37_col26\" class=\"data row37 col26\" >-0.001195</td>\n",
       "                        <td id=\"T_516fb688_0fa4_11eb_b372_0242ac1c0002row37_col27\" class=\"data row37 col27\" >0.093834</td>\n",
       "                        <td id=\"T_516fb688_0fa4_11eb_b372_0242ac1c0002row37_col28\" class=\"data row37 col28\" >0.057710</td>\n",
       "                        <td id=\"T_516fb688_0fa4_11eb_b372_0242ac1c0002row37_col29\" class=\"data row37 col29\" >0.047584</td>\n",
       "                        <td id=\"T_516fb688_0fa4_11eb_b372_0242ac1c0002row37_col30\" class=\"data row37 col30\" >0.151253</td>\n",
       "                        <td id=\"T_516fb688_0fa4_11eb_b372_0242ac1c0002row37_col31\" class=\"data row37 col31\" >-0.034477</td>\n",
       "                        <td id=\"T_516fb688_0fa4_11eb_b372_0242ac1c0002row37_col32\" class=\"data row37 col32\" >0.052001</td>\n",
       "                        <td id=\"T_516fb688_0fa4_11eb_b372_0242ac1c0002row37_col33\" class=\"data row37 col33\" >-0.000069</td>\n",
       "                        <td id=\"T_516fb688_0fa4_11eb_b372_0242ac1c0002row37_col34\" class=\"data row37 col34\" >0.002228</td>\n",
       "                        <td id=\"T_516fb688_0fa4_11eb_b372_0242ac1c0002row37_col35\" class=\"data row37 col35\" >0.796443</td>\n",
       "                        <td id=\"T_516fb688_0fa4_11eb_b372_0242ac1c0002row37_col36\" class=\"data row37 col36\" >0.281935</td>\n",
       "                        <td id=\"T_516fb688_0fa4_11eb_b372_0242ac1c0002row37_col37\" class=\"data row37 col37\" >1.000000</td>\n",
       "                        <td id=\"T_516fb688_0fa4_11eb_b372_0242ac1c0002row37_col38\" class=\"data row37 col38\" >0.736236</td>\n",
       "                        <td id=\"T_516fb688_0fa4_11eb_b372_0242ac1c0002row37_col39\" class=\"data row37 col39\" >0.462117</td>\n",
       "                        <td id=\"T_516fb688_0fa4_11eb_b372_0242ac1c0002row37_col40\" class=\"data row37 col40\" >0.235482</td>\n",
       "                        <td id=\"T_516fb688_0fa4_11eb_b372_0242ac1c0002row37_col41\" class=\"data row37 col41\" >0.819049</td>\n",
       "                        <td id=\"T_516fb688_0fa4_11eb_b372_0242ac1c0002row37_col42\" class=\"data row37 col42\" >0.247795</td>\n",
       "            </tr>\n",
       "            <tr>\n",
       "                        <th id=\"T_516fb688_0fa4_11eb_b372_0242ac1c0002level0_row38\" class=\"row_heading level0 row38\" >num_medications|num_lab_procedures</th>\n",
       "                        <td id=\"T_516fb688_0fa4_11eb_b372_0242ac1c0002row38_col0\" class=\"data row38 col0\" >0.502133</td>\n",
       "                        <td id=\"T_516fb688_0fa4_11eb_b372_0242ac1c0002row38_col1\" class=\"data row38 col1\" >0.732844</td>\n",
       "                        <td id=\"T_516fb688_0fa4_11eb_b372_0242ac1c0002row38_col2\" class=\"data row38 col2\" >0.244440</td>\n",
       "                        <td id=\"T_516fb688_0fa4_11eb_b372_0242ac1c0002row38_col3\" class=\"data row38 col3\" >0.772237</td>\n",
       "                        <td id=\"T_516fb688_0fa4_11eb_b372_0242ac1c0002row38_col4\" class=\"data row38 col4\" >0.250720</td>\n",
       "                        <td id=\"T_516fb688_0fa4_11eb_b372_0242ac1c0002row38_col5\" class=\"data row38 col5\" >0.178755</td>\n",
       "                        <td id=\"T_516fb688_0fa4_11eb_b372_0242ac1c0002row38_col6\" class=\"data row38 col6\" >0.008037</td>\n",
       "                        <td id=\"T_516fb688_0fa4_11eb_b372_0242ac1c0002row38_col7\" class=\"data row38 col7\" >0.021517</td>\n",
       "                        <td id=\"T_516fb688_0fa4_11eb_b372_0242ac1c0002row38_col8\" class=\"data row38 col8\" >0.012676</td>\n",
       "                        <td id=\"T_516fb688_0fa4_11eb_b372_0242ac1c0002row38_col9\" class=\"data row38 col9\" >-0.002773</td>\n",
       "                        <td id=\"T_516fb688_0fa4_11eb_b372_0242ac1c0002row38_col10\" class=\"data row38 col10\" >0.021409</td>\n",
       "                        <td id=\"T_516fb688_0fa4_11eb_b372_0242ac1c0002row38_col11\" class=\"data row38 col11\" >nan</td>\n",
       "                        <td id=\"T_516fb688_0fa4_11eb_b372_0242ac1c0002row38_col12\" class=\"data row38 col12\" >0.041483</td>\n",
       "                        <td id=\"T_516fb688_0fa4_11eb_b372_0242ac1c0002row38_col13\" class=\"data row38 col13\" >0.023594</td>\n",
       "                        <td id=\"T_516fb688_0fa4_11eb_b372_0242ac1c0002row38_col14\" class=\"data row38 col14\" >0.004260</td>\n",
       "                        <td id=\"T_516fb688_0fa4_11eb_b372_0242ac1c0002row38_col15\" class=\"data row38 col15\" >0.031206</td>\n",
       "                        <td id=\"T_516fb688_0fa4_11eb_b372_0242ac1c0002row38_col16\" class=\"data row38 col16\" >0.026479</td>\n",
       "                        <td id=\"T_516fb688_0fa4_11eb_b372_0242ac1c0002row38_col17\" class=\"data row38 col17\" >0.008641</td>\n",
       "                        <td id=\"T_516fb688_0fa4_11eb_b372_0242ac1c0002row38_col18\" class=\"data row38 col18\" >-0.000539</td>\n",
       "                        <td id=\"T_516fb688_0fa4_11eb_b372_0242ac1c0002row38_col19\" class=\"data row38 col19\" >0.006461</td>\n",
       "                        <td id=\"T_516fb688_0fa4_11eb_b372_0242ac1c0002row38_col20\" class=\"data row38 col20\" >-0.001927</td>\n",
       "                        <td id=\"T_516fb688_0fa4_11eb_b372_0242ac1c0002row38_col21\" class=\"data row38 col21\" >0.188883</td>\n",
       "                        <td id=\"T_516fb688_0fa4_11eb_b372_0242ac1c0002row38_col22\" class=\"data row38 col22\" >-0.000958</td>\n",
       "                        <td id=\"T_516fb688_0fa4_11eb_b372_0242ac1c0002row38_col23\" class=\"data row38 col23\" >-0.000539</td>\n",
       "                        <td id=\"T_516fb688_0fa4_11eb_b372_0242ac1c0002row38_col24\" class=\"data row38 col24\" >nan</td>\n",
       "                        <td id=\"T_516fb688_0fa4_11eb_b372_0242ac1c0002row38_col25\" class=\"data row38 col25\" >nan</td>\n",
       "                        <td id=\"T_516fb688_0fa4_11eb_b372_0242ac1c0002row38_col26\" class=\"data row38 col26\" >-0.001672</td>\n",
       "                        <td id=\"T_516fb688_0fa4_11eb_b372_0242ac1c0002row38_col27\" class=\"data row38 col27\" >0.185125</td>\n",
       "                        <td id=\"T_516fb688_0fa4_11eb_b372_0242ac1c0002row38_col28\" class=\"data row38 col28\" >0.139589</td>\n",
       "                        <td id=\"T_516fb688_0fa4_11eb_b372_0242ac1c0002row38_col29\" class=\"data row38 col29\" >0.040720</td>\n",
       "                        <td id=\"T_516fb688_0fa4_11eb_b372_0242ac1c0002row38_col30\" class=\"data row38 col30\" >0.199196</td>\n",
       "                        <td id=\"T_516fb688_0fa4_11eb_b372_0242ac1c0002row38_col31\" class=\"data row38 col31\" >-0.005645</td>\n",
       "                        <td id=\"T_516fb688_0fa4_11eb_b372_0242ac1c0002row38_col32\" class=\"data row38 col32\" >0.049587</td>\n",
       "                        <td id=\"T_516fb688_0fa4_11eb_b372_0242ac1c0002row38_col33\" class=\"data row38 col33\" >0.014957</td>\n",
       "                        <td id=\"T_516fb688_0fa4_11eb_b372_0242ac1c0002row38_col34\" class=\"data row38 col34\" >0.026661</td>\n",
       "                        <td id=\"T_516fb688_0fa4_11eb_b372_0242ac1c0002row38_col35\" class=\"data row38 col35\" >0.727277</td>\n",
       "                        <td id=\"T_516fb688_0fa4_11eb_b372_0242ac1c0002row38_col36\" class=\"data row38 col36\" >0.484106</td>\n",
       "                        <td id=\"T_516fb688_0fa4_11eb_b372_0242ac1c0002row38_col37\" class=\"data row38 col37\" >0.736236</td>\n",
       "                        <td id=\"T_516fb688_0fa4_11eb_b372_0242ac1c0002row38_col38\" class=\"data row38 col38\" >1.000000</td>\n",
       "                        <td id=\"T_516fb688_0fa4_11eb_b372_0242ac1c0002row38_col39\" class=\"data row38 col39\" >0.739635</td>\n",
       "                        <td id=\"T_516fb688_0fa4_11eb_b372_0242ac1c0002row38_col40\" class=\"data row38 col40\" >0.427862</td>\n",
       "                        <td id=\"T_516fb688_0fa4_11eb_b372_0242ac1c0002row38_col41\" class=\"data row38 col41\" >0.520290</td>\n",
       "                        <td id=\"T_516fb688_0fa4_11eb_b372_0242ac1c0002row38_col42\" class=\"data row38 col42\" >0.367474</td>\n",
       "            </tr>\n",
       "            <tr>\n",
       "                        <th id=\"T_516fb688_0fa4_11eb_b372_0242ac1c0002level0_row39\" class=\"row_heading level0 row39\" >num_medications|number_diagnoses</th>\n",
       "                        <td id=\"T_516fb688_0fa4_11eb_b372_0242ac1c0002row39_col0\" class=\"data row39 col0\" >0.456259</td>\n",
       "                        <td id=\"T_516fb688_0fa4_11eb_b372_0242ac1c0002row39_col1\" class=\"data row39 col1\" >0.258944</td>\n",
       "                        <td id=\"T_516fb688_0fa4_11eb_b372_0242ac1c0002row39_col2\" class=\"data row39 col2\" >0.292403</td>\n",
       "                        <td id=\"T_516fb688_0fa4_11eb_b372_0242ac1c0002row39_col3\" class=\"data row39 col3\" >0.898603</td>\n",
       "                        <td id=\"T_516fb688_0fa4_11eb_b372_0242ac1c0002row39_col4\" class=\"data row39 col4\" >0.599241</td>\n",
       "                        <td id=\"T_516fb688_0fa4_11eb_b372_0242ac1c0002row39_col5\" class=\"data row39 col5\" >0.028221</td>\n",
       "                        <td id=\"T_516fb688_0fa4_11eb_b372_0242ac1c0002row39_col6\" class=\"data row39 col6\" >0.029440</td>\n",
       "                        <td id=\"T_516fb688_0fa4_11eb_b372_0242ac1c0002row39_col7\" class=\"data row39 col7\" >0.035126</td>\n",
       "                        <td id=\"T_516fb688_0fa4_11eb_b372_0242ac1c0002row39_col8\" class=\"data row39 col8\" >0.029302</td>\n",
       "                        <td id=\"T_516fb688_0fa4_11eb_b372_0242ac1c0002row39_col9\" class=\"data row39 col9\" >-0.007142</td>\n",
       "                        <td id=\"T_516fb688_0fa4_11eb_b372_0242ac1c0002row39_col10\" class=\"data row39 col10\" >0.038734</td>\n",
       "                        <td id=\"T_516fb688_0fa4_11eb_b372_0242ac1c0002row39_col11\" class=\"data row39 col11\" >nan</td>\n",
       "                        <td id=\"T_516fb688_0fa4_11eb_b372_0242ac1c0002row39_col12\" class=\"data row39 col12\" >0.036529</td>\n",
       "                        <td id=\"T_516fb688_0fa4_11eb_b372_0242ac1c0002row39_col13\" class=\"data row39 col13\" >0.021799</td>\n",
       "                        <td id=\"T_516fb688_0fa4_11eb_b372_0242ac1c0002row39_col14\" class=\"data row39 col14\" >0.005101</td>\n",
       "                        <td id=\"T_516fb688_0fa4_11eb_b372_0242ac1c0002row39_col15\" class=\"data row39 col15\" >0.058632</td>\n",
       "                        <td id=\"T_516fb688_0fa4_11eb_b372_0242ac1c0002row39_col16\" class=\"data row39 col16\" >0.043455</td>\n",
       "                        <td id=\"T_516fb688_0fa4_11eb_b372_0242ac1c0002row39_col17\" class=\"data row39 col17\" >0.014076</td>\n",
       "                        <td id=\"T_516fb688_0fa4_11eb_b372_0242ac1c0002row39_col18\" class=\"data row39 col18\" >0.001609</td>\n",
       "                        <td id=\"T_516fb688_0fa4_11eb_b372_0242ac1c0002row39_col19\" class=\"data row39 col19\" >0.006022</td>\n",
       "                        <td id=\"T_516fb688_0fa4_11eb_b372_0242ac1c0002row39_col20\" class=\"data row39 col20\" >-0.006957</td>\n",
       "                        <td id=\"T_516fb688_0fa4_11eb_b372_0242ac1c0002row39_col21\" class=\"data row39 col21\" >0.201644</td>\n",
       "                        <td id=\"T_516fb688_0fa4_11eb_b372_0242ac1c0002row39_col22\" class=\"data row39 col22\" >0.007012</td>\n",
       "                        <td id=\"T_516fb688_0fa4_11eb_b372_0242ac1c0002row39_col23\" class=\"data row39 col23\" >0.003577</td>\n",
       "                        <td id=\"T_516fb688_0fa4_11eb_b372_0242ac1c0002row39_col24\" class=\"data row39 col24\" >nan</td>\n",
       "                        <td id=\"T_516fb688_0fa4_11eb_b372_0242ac1c0002row39_col25\" class=\"data row39 col25\" >nan</td>\n",
       "                        <td id=\"T_516fb688_0fa4_11eb_b372_0242ac1c0002row39_col26\" class=\"data row39 col26\" >-0.002026</td>\n",
       "                        <td id=\"T_516fb688_0fa4_11eb_b372_0242ac1c0002row39_col27\" class=\"data row39 col27\" >0.208860</td>\n",
       "                        <td id=\"T_516fb688_0fa4_11eb_b372_0242ac1c0002row39_col28\" class=\"data row39 col28\" >0.163490</td>\n",
       "                        <td id=\"T_516fb688_0fa4_11eb_b372_0242ac1c0002row39_col29\" class=\"data row39 col29\" >0.047413</td>\n",
       "                        <td id=\"T_516fb688_0fa4_11eb_b372_0242ac1c0002row39_col30\" class=\"data row39 col30\" >0.192987</td>\n",
       "                        <td id=\"T_516fb688_0fa4_11eb_b372_0242ac1c0002row39_col31\" class=\"data row39 col31\" >0.044675</td>\n",
       "                        <td id=\"T_516fb688_0fa4_11eb_b372_0242ac1c0002row39_col32\" class=\"data row39 col32\" >0.049109</td>\n",
       "                        <td id=\"T_516fb688_0fa4_11eb_b372_0242ac1c0002row39_col33\" class=\"data row39 col33\" >0.032862</td>\n",
       "                        <td id=\"T_516fb688_0fa4_11eb_b372_0242ac1c0002row39_col34\" class=\"data row39 col34\" >0.068788</td>\n",
       "                        <td id=\"T_516fb688_0fa4_11eb_b372_0242ac1c0002row39_col35\" class=\"data row39 col35\" >0.725126</td>\n",
       "                        <td id=\"T_516fb688_0fa4_11eb_b372_0242ac1c0002row39_col36\" class=\"data row39 col36\" >0.533162</td>\n",
       "                        <td id=\"T_516fb688_0fa4_11eb_b372_0242ac1c0002row39_col37\" class=\"data row39 col37\" >0.462117</td>\n",
       "                        <td id=\"T_516fb688_0fa4_11eb_b372_0242ac1c0002row39_col38\" class=\"data row39 col38\" >0.739635</td>\n",
       "                        <td id=\"T_516fb688_0fa4_11eb_b372_0242ac1c0002row39_col39\" class=\"data row39 col39\" >1.000000</td>\n",
       "                        <td id=\"T_516fb688_0fa4_11eb_b372_0242ac1c0002row39_col40\" class=\"data row39 col40\" >0.485323</td>\n",
       "                        <td id=\"T_516fb688_0fa4_11eb_b372_0242ac1c0002row39_col41\" class=\"data row39 col41\" >0.590014</td>\n",
       "                        <td id=\"T_516fb688_0fa4_11eb_b372_0242ac1c0002row39_col42\" class=\"data row39 col42\" >0.380615</td>\n",
       "            </tr>\n",
       "            <tr>\n",
       "                        <th id=\"T_516fb688_0fa4_11eb_b372_0242ac1c0002level0_row40\" class=\"row_heading level0 row40\" >change|num_medications</th>\n",
       "                        <td id=\"T_516fb688_0fa4_11eb_b372_0242ac1c0002row40_col0\" class=\"data row40 col0\" >0.231169</td>\n",
       "                        <td id=\"T_516fb688_0fa4_11eb_b372_0242ac1c0002row40_col1\" class=\"data row40 col1\" >0.135242</td>\n",
       "                        <td id=\"T_516fb688_0fa4_11eb_b372_0242ac1c0002row40_col2\" class=\"data row40 col2\" >0.109633</td>\n",
       "                        <td id=\"T_516fb688_0fa4_11eb_b372_0242ac1c0002row40_col3\" class=\"data row40 col3\" >0.530894</td>\n",
       "                        <td id=\"T_516fb688_0fa4_11eb_b372_0242ac1c0002row40_col4\" class=\"data row40 col4\" >0.123807</td>\n",
       "                        <td id=\"T_516fb688_0fa4_11eb_b372_0242ac1c0002row40_col5\" class=\"data row40 col5\" >0.078234</td>\n",
       "                        <td id=\"T_516fb688_0fa4_11eb_b372_0242ac1c0002row40_col6\" class=\"data row40 col6\" >0.300672</td>\n",
       "                        <td id=\"T_516fb688_0fa4_11eb_b372_0242ac1c0002row40_col7\" class=\"data row40 col7\" >0.069362</td>\n",
       "                        <td id=\"T_516fb688_0fa4_11eb_b372_0242ac1c0002row40_col8\" class=\"data row40 col8\" >0.056540</td>\n",
       "                        <td id=\"T_516fb688_0fa4_11eb_b372_0242ac1c0002row40_col9\" class=\"data row40 col9\" >-0.005111</td>\n",
       "                        <td id=\"T_516fb688_0fa4_11eb_b372_0242ac1c0002row40_col10\" class=\"data row40 col10\" >0.130815</td>\n",
       "                        <td id=\"T_516fb688_0fa4_11eb_b372_0242ac1c0002row40_col11\" class=\"data row40 col11\" >nan</td>\n",
       "                        <td id=\"T_516fb688_0fa4_11eb_b372_0242ac1c0002row40_col12\" class=\"data row40 col12\" >0.181777</td>\n",
       "                        <td id=\"T_516fb688_0fa4_11eb_b372_0242ac1c0002row40_col13\" class=\"data row40 col13\" >0.165521</td>\n",
       "                        <td id=\"T_516fb688_0fa4_11eb_b372_0242ac1c0002row40_col14\" class=\"data row40 col14\" >0.000765</td>\n",
       "                        <td id=\"T_516fb688_0fa4_11eb_b372_0242ac1c0002row40_col15\" class=\"data row40 col15\" >0.197647</td>\n",
       "                        <td id=\"T_516fb688_0fa4_11eb_b372_0242ac1c0002row40_col16\" class=\"data row40 col16\" >0.188100</td>\n",
       "                        <td id=\"T_516fb688_0fa4_11eb_b372_0242ac1c0002row40_col17\" class=\"data row40 col17\" >0.043305</td>\n",
       "                        <td id=\"T_516fb688_0fa4_11eb_b372_0242ac1c0002row40_col18\" class=\"data row40 col18\" >0.010670</td>\n",
       "                        <td id=\"T_516fb688_0fa4_11eb_b372_0242ac1c0002row40_col19\" class=\"data row40 col19\" >0.008812</td>\n",
       "                        <td id=\"T_516fb688_0fa4_11eb_b372_0242ac1c0002row40_col20\" class=\"data row40 col20\" >-0.003511</td>\n",
       "                        <td id=\"T_516fb688_0fa4_11eb_b372_0242ac1c0002row40_col21\" class=\"data row40 col21\" >0.465142</td>\n",
       "                        <td id=\"T_516fb688_0fa4_11eb_b372_0242ac1c0002row40_col22\" class=\"data row40 col22\" >0.041203</td>\n",
       "                        <td id=\"T_516fb688_0fa4_11eb_b372_0242ac1c0002row40_col23\" class=\"data row40 col23\" >0.007318</td>\n",
       "                        <td id=\"T_516fb688_0fa4_11eb_b372_0242ac1c0002row40_col24\" class=\"data row40 col24\" >nan</td>\n",
       "                        <td id=\"T_516fb688_0fa4_11eb_b372_0242ac1c0002row40_col25\" class=\"data row40 col25\" >nan</td>\n",
       "                        <td id=\"T_516fb688_0fa4_11eb_b372_0242ac1c0002row40_col26\" class=\"data row40 col26\" >0.005370</td>\n",
       "                        <td id=\"T_516fb688_0fa4_11eb_b372_0242ac1c0002row40_col27\" class=\"data row40 col27\" >0.870098</td>\n",
       "                        <td id=\"T_516fb688_0fa4_11eb_b372_0242ac1c0002row40_col28\" class=\"data row40 col28\" >0.440992</td>\n",
       "                        <td id=\"T_516fb688_0fa4_11eb_b372_0242ac1c0002row40_col29\" class=\"data row40 col29\" >0.025510</td>\n",
       "                        <td id=\"T_516fb688_0fa4_11eb_b372_0242ac1c0002row40_col30\" class=\"data row40 col30\" >0.575151</td>\n",
       "                        <td id=\"T_516fb688_0fa4_11eb_b372_0242ac1c0002row40_col31\" class=\"data row40 col31\" >0.032175</td>\n",
       "                        <td id=\"T_516fb688_0fa4_11eb_b372_0242ac1c0002row40_col32\" class=\"data row40 col32\" >0.011245</td>\n",
       "                        <td id=\"T_516fb688_0fa4_11eb_b372_0242ac1c0002row40_col33\" class=\"data row40 col33\" >0.034737</td>\n",
       "                        <td id=\"T_516fb688_0fa4_11eb_b372_0242ac1c0002row40_col34\" class=\"data row40 col34\" >0.042267</td>\n",
       "                        <td id=\"T_516fb688_0fa4_11eb_b372_0242ac1c0002row40_col35\" class=\"data row40 col35\" >0.408339</td>\n",
       "                        <td id=\"T_516fb688_0fa4_11eb_b372_0242ac1c0002row40_col36\" class=\"data row40 col36\" >0.272751</td>\n",
       "                        <td id=\"T_516fb688_0fa4_11eb_b372_0242ac1c0002row40_col37\" class=\"data row40 col37\" >0.235482</td>\n",
       "                        <td id=\"T_516fb688_0fa4_11eb_b372_0242ac1c0002row40_col38\" class=\"data row40 col38\" >0.427862</td>\n",
       "                        <td id=\"T_516fb688_0fa4_11eb_b372_0242ac1c0002row40_col39\" class=\"data row40 col39\" >0.485323</td>\n",
       "                        <td id=\"T_516fb688_0fa4_11eb_b372_0242ac1c0002row40_col40\" class=\"data row40 col40\" >1.000000</td>\n",
       "                        <td id=\"T_516fb688_0fa4_11eb_b372_0242ac1c0002row40_col41\" class=\"data row40 col41\" >0.242487</td>\n",
       "                        <td id=\"T_516fb688_0fa4_11eb_b372_0242ac1c0002row40_col42\" class=\"data row40 col42\" >0.679100</td>\n",
       "            </tr>\n",
       "            <tr>\n",
       "                        <th id=\"T_516fb688_0fa4_11eb_b372_0242ac1c0002level0_row41\" class=\"row_heading level0 row41\" >number_diagnoses|time_in_hospital</th>\n",
       "                        <td id=\"T_516fb688_0fa4_11eb_b372_0242ac1c0002row41_col0\" class=\"data row41 col0\" >0.938944</td>\n",
       "                        <td id=\"T_516fb688_0fa4_11eb_b372_0242ac1c0002row41_col1\" class=\"data row41 col1\" >0.322335</td>\n",
       "                        <td id=\"T_516fb688_0fa4_11eb_b372_0242ac1c0002row41_col2\" class=\"data row41 col2\" >0.153126</td>\n",
       "                        <td id=\"T_516fb688_0fa4_11eb_b372_0242ac1c0002row41_col3\" class=\"data row41 col3\" >0.459725</td>\n",
       "                        <td id=\"T_516fb688_0fa4_11eb_b372_0242ac1c0002row41_col4\" class=\"data row41 col4\" >0.484368</td>\n",
       "                        <td id=\"T_516fb688_0fa4_11eb_b372_0242ac1c0002row41_col5\" class=\"data row41 col5\" >0.061569</td>\n",
       "                        <td id=\"T_516fb688_0fa4_11eb_b372_0242ac1c0002row41_col6\" class=\"data row41 col6\" >-0.034162</td>\n",
       "                        <td id=\"T_516fb688_0fa4_11eb_b372_0242ac1c0002row41_col7\" class=\"data row41 col7\" >0.039709</td>\n",
       "                        <td id=\"T_516fb688_0fa4_11eb_b372_0242ac1c0002row41_col8\" class=\"data row41 col8\" >0.011296</td>\n",
       "                        <td id=\"T_516fb688_0fa4_11eb_b372_0242ac1c0002row41_col9\" class=\"data row41 col9\" >-0.004561</td>\n",
       "                        <td id=\"T_516fb688_0fa4_11eb_b372_0242ac1c0002row41_col10\" class=\"data row41 col10\" >0.009943</td>\n",
       "                        <td id=\"T_516fb688_0fa4_11eb_b372_0242ac1c0002row41_col11\" class=\"data row41 col11\" >nan</td>\n",
       "                        <td id=\"T_516fb688_0fa4_11eb_b372_0242ac1c0002row41_col12\" class=\"data row41 col12\" >0.005299</td>\n",
       "                        <td id=\"T_516fb688_0fa4_11eb_b372_0242ac1c0002row41_col13\" class=\"data row41 col13\" >0.013082</td>\n",
       "                        <td id=\"T_516fb688_0fa4_11eb_b372_0242ac1c0002row41_col14\" class=\"data row41 col14\" >0.003839</td>\n",
       "                        <td id=\"T_516fb688_0fa4_11eb_b372_0242ac1c0002row41_col15\" class=\"data row41 col15\" >-0.002923</td>\n",
       "                        <td id=\"T_516fb688_0fa4_11eb_b372_0242ac1c0002row41_col16\" class=\"data row41 col16\" >-0.001731</td>\n",
       "                        <td id=\"T_516fb688_0fa4_11eb_b372_0242ac1c0002row41_col17\" class=\"data row41 col17\" >0.003593</td>\n",
       "                        <td id=\"T_516fb688_0fa4_11eb_b372_0242ac1c0002row41_col18\" class=\"data row41 col18\" >-0.002801</td>\n",
       "                        <td id=\"T_516fb688_0fa4_11eb_b372_0242ac1c0002row41_col19\" class=\"data row41 col19\" >0.007241</td>\n",
       "                        <td id=\"T_516fb688_0fa4_11eb_b372_0242ac1c0002row41_col20\" class=\"data row41 col20\" >-0.008850</td>\n",
       "                        <td id=\"T_516fb688_0fa4_11eb_b372_0242ac1c0002row41_col21\" class=\"data row41 col21\" >0.109075</td>\n",
       "                        <td id=\"T_516fb688_0fa4_11eb_b372_0242ac1c0002row41_col22\" class=\"data row41 col22\" >0.000368</td>\n",
       "                        <td id=\"T_516fb688_0fa4_11eb_b372_0242ac1c0002row41_col23\" class=\"data row41 col23\" >0.002137</td>\n",
       "                        <td id=\"T_516fb688_0fa4_11eb_b372_0242ac1c0002row41_col24\" class=\"data row41 col24\" >nan</td>\n",
       "                        <td id=\"T_516fb688_0fa4_11eb_b372_0242ac1c0002row41_col25\" class=\"data row41 col25\" >nan</td>\n",
       "                        <td id=\"T_516fb688_0fa4_11eb_b372_0242ac1c0002row41_col26\" class=\"data row41 col26\" >-0.001211</td>\n",
       "                        <td id=\"T_516fb688_0fa4_11eb_b372_0242ac1c0002row41_col27\" class=\"data row41 col27\" >0.095595</td>\n",
       "                        <td id=\"T_516fb688_0fa4_11eb_b372_0242ac1c0002row41_col28\" class=\"data row41 col28\" >0.057019</td>\n",
       "                        <td id=\"T_516fb688_0fa4_11eb_b372_0242ac1c0002row41_col29\" class=\"data row41 col29\" >0.058735</td>\n",
       "                        <td id=\"T_516fb688_0fa4_11eb_b372_0242ac1c0002row41_col30\" class=\"data row41 col30\" >0.143910</td>\n",
       "                        <td id=\"T_516fb688_0fa4_11eb_b372_0242ac1c0002row41_col31\" class=\"data row41 col31\" >-0.006313</td>\n",
       "                        <td id=\"T_516fb688_0fa4_11eb_b372_0242ac1c0002row41_col32\" class=\"data row41 col32\" >0.056947</td>\n",
       "                        <td id=\"T_516fb688_0fa4_11eb_b372_0242ac1c0002row41_col33\" class=\"data row41 col33\" >0.015964</td>\n",
       "                        <td id=\"T_516fb688_0fa4_11eb_b372_0242ac1c0002row41_col34\" class=\"data row41 col34\" >0.031079</td>\n",
       "                        <td id=\"T_516fb688_0fa4_11eb_b372_0242ac1c0002row41_col35\" class=\"data row41 col35\" >0.838125</td>\n",
       "                        <td id=\"T_516fb688_0fa4_11eb_b372_0242ac1c0002row41_col36\" class=\"data row41 col36\" >0.278915</td>\n",
       "                        <td id=\"T_516fb688_0fa4_11eb_b372_0242ac1c0002row41_col37\" class=\"data row41 col37\" >0.819049</td>\n",
       "                        <td id=\"T_516fb688_0fa4_11eb_b372_0242ac1c0002row41_col38\" class=\"data row41 col38\" >0.520290</td>\n",
       "                        <td id=\"T_516fb688_0fa4_11eb_b372_0242ac1c0002row41_col39\" class=\"data row41 col39\" >0.590014</td>\n",
       "                        <td id=\"T_516fb688_0fa4_11eb_b372_0242ac1c0002row41_col40\" class=\"data row41 col40\" >0.242487</td>\n",
       "                        <td id=\"T_516fb688_0fa4_11eb_b372_0242ac1c0002row41_col41\" class=\"data row41 col41\" >1.000000</td>\n",
       "                        <td id=\"T_516fb688_0fa4_11eb_b372_0242ac1c0002row41_col42\" class=\"data row41 col42\" >0.242664</td>\n",
       "            </tr>\n",
       "            <tr>\n",
       "                        <th id=\"T_516fb688_0fa4_11eb_b372_0242ac1c0002level0_row42\" class=\"row_heading level0 row42\" >num_medications|numchange</th>\n",
       "                        <td id=\"T_516fb688_0fa4_11eb_b372_0242ac1c0002row42_col0\" class=\"data row42 col0\" >0.229845</td>\n",
       "                        <td id=\"T_516fb688_0fa4_11eb_b372_0242ac1c0002row42_col1\" class=\"data row42 col1\" >0.155882</td>\n",
       "                        <td id=\"T_516fb688_0fa4_11eb_b372_0242ac1c0002row42_col2\" class=\"data row42 col2\" >0.075090</td>\n",
       "                        <td id=\"T_516fb688_0fa4_11eb_b372_0242ac1c0002row42_col3\" class=\"data row42 col3\" >0.392592</td>\n",
       "                        <td id=\"T_516fb688_0fa4_11eb_b372_0242ac1c0002row42_col4\" class=\"data row42 col4\" >0.120178</td>\n",
       "                        <td id=\"T_516fb688_0fa4_11eb_b372_0242ac1c0002row42_col5\" class=\"data row42 col5\" >0.099571</td>\n",
       "                        <td id=\"T_516fb688_0fa4_11eb_b372_0242ac1c0002row42_col6\" class=\"data row42 col6\" >0.026116</td>\n",
       "                        <td id=\"T_516fb688_0fa4_11eb_b372_0242ac1c0002row42_col7\" class=\"data row42 col7\" >0.031813</td>\n",
       "                        <td id=\"T_516fb688_0fa4_11eb_b372_0242ac1c0002row42_col8\" class=\"data row42 col8\" >0.007844</td>\n",
       "                        <td id=\"T_516fb688_0fa4_11eb_b372_0242ac1c0002row42_col9\" class=\"data row42 col9\" >-0.008050</td>\n",
       "                        <td id=\"T_516fb688_0fa4_11eb_b372_0242ac1c0002row42_col10\" class=\"data row42 col10\" >0.026048</td>\n",
       "                        <td id=\"T_516fb688_0fa4_11eb_b372_0242ac1c0002row42_col11\" class=\"data row42 col11\" >nan</td>\n",
       "                        <td id=\"T_516fb688_0fa4_11eb_b372_0242ac1c0002row42_col12\" class=\"data row42 col12\" >0.010536</td>\n",
       "                        <td id=\"T_516fb688_0fa4_11eb_b372_0242ac1c0002row42_col13\" class=\"data row42 col13\" >0.001708</td>\n",
       "                        <td id=\"T_516fb688_0fa4_11eb_b372_0242ac1c0002row42_col14\" class=\"data row42 col14\" >-0.004868</td>\n",
       "                        <td id=\"T_516fb688_0fa4_11eb_b372_0242ac1c0002row42_col15\" class=\"data row42 col15\" >0.036254</td>\n",
       "                        <td id=\"T_516fb688_0fa4_11eb_b372_0242ac1c0002row42_col16\" class=\"data row42 col16\" >0.024600</td>\n",
       "                        <td id=\"T_516fb688_0fa4_11eb_b372_0242ac1c0002row42_col17\" class=\"data row42 col17\" >0.010020</td>\n",
       "                        <td id=\"T_516fb688_0fa4_11eb_b372_0242ac1c0002row42_col18\" class=\"data row42 col18\" >0.001914</td>\n",
       "                        <td id=\"T_516fb688_0fa4_11eb_b372_0242ac1c0002row42_col19\" class=\"data row42 col19\" >0.001172</td>\n",
       "                        <td id=\"T_516fb688_0fa4_11eb_b372_0242ac1c0002row42_col20\" class=\"data row42 col20\" >-0.008610</td>\n",
       "                        <td id=\"T_516fb688_0fa4_11eb_b372_0242ac1c0002row42_col21\" class=\"data row42 col21\" >0.404228</td>\n",
       "                        <td id=\"T_516fb688_0fa4_11eb_b372_0242ac1c0002row42_col22\" class=\"data row42 col22\" >0.008083</td>\n",
       "                        <td id=\"T_516fb688_0fa4_11eb_b372_0242ac1c0002row42_col23\" class=\"data row42 col23\" >-0.001108</td>\n",
       "                        <td id=\"T_516fb688_0fa4_11eb_b372_0242ac1c0002row42_col24\" class=\"data row42 col24\" >nan</td>\n",
       "                        <td id=\"T_516fb688_0fa4_11eb_b372_0242ac1c0002row42_col25\" class=\"data row42 col25\" >nan</td>\n",
       "                        <td id=\"T_516fb688_0fa4_11eb_b372_0242ac1c0002row42_col26\" class=\"data row42 col26\" >0.008009</td>\n",
       "                        <td id=\"T_516fb688_0fa4_11eb_b372_0242ac1c0002row42_col27\" class=\"data row42 col27\" >0.556823</td>\n",
       "                        <td id=\"T_516fb688_0fa4_11eb_b372_0242ac1c0002row42_col28\" class=\"data row42 col28\" >0.282215</td>\n",
       "                        <td id=\"T_516fb688_0fa4_11eb_b372_0242ac1c0002row42_col29\" class=\"data row42 col29\" >0.026751</td>\n",
       "                        <td id=\"T_516fb688_0fa4_11eb_b372_0242ac1c0002row42_col30\" class=\"data row42 col30\" >0.899647</td>\n",
       "                        <td id=\"T_516fb688_0fa4_11eb_b372_0242ac1c0002row42_col31\" class=\"data row42 col31\" >0.019635</td>\n",
       "                        <td id=\"T_516fb688_0fa4_11eb_b372_0242ac1c0002row42_col32\" class=\"data row42 col32\" >0.012799</td>\n",
       "                        <td id=\"T_516fb688_0fa4_11eb_b372_0242ac1c0002row42_col33\" class=\"data row42 col33\" >0.041916</td>\n",
       "                        <td id=\"T_516fb688_0fa4_11eb_b372_0242ac1c0002row42_col34\" class=\"data row42 col34\" >0.037462</td>\n",
       "                        <td id=\"T_516fb688_0fa4_11eb_b372_0242ac1c0002row42_col35\" class=\"data row42 col35\" >0.358450</td>\n",
       "                        <td id=\"T_516fb688_0fa4_11eb_b372_0242ac1c0002row42_col36\" class=\"data row42 col36\" >0.202574</td>\n",
       "                        <td id=\"T_516fb688_0fa4_11eb_b372_0242ac1c0002row42_col37\" class=\"data row42 col37\" >0.247795</td>\n",
       "                        <td id=\"T_516fb688_0fa4_11eb_b372_0242ac1c0002row42_col38\" class=\"data row42 col38\" >0.367474</td>\n",
       "                        <td id=\"T_516fb688_0fa4_11eb_b372_0242ac1c0002row42_col39\" class=\"data row42 col39\" >0.380615</td>\n",
       "                        <td id=\"T_516fb688_0fa4_11eb_b372_0242ac1c0002row42_col40\" class=\"data row42 col40\" >0.679100</td>\n",
       "                        <td id=\"T_516fb688_0fa4_11eb_b372_0242ac1c0002row42_col41\" class=\"data row42 col41\" >0.242664</td>\n",
       "                        <td id=\"T_516fb688_0fa4_11eb_b372_0242ac1c0002row42_col42\" class=\"data row42 col42\" >1.000000</td>\n",
       "            </tr>\n",
       "    </tbody></table>"
      ],
      "text/plain": [
       "<pandas.io.formats.style.Styler at 0x7f79f13c4cc0>"
      ]
     },
     "execution_count": 62,
     "metadata": {
      "tags": []
     },
     "output_type": "execute_result"
    }
   ],
   "source": [
    "from matplotlib.colors import ListedColormap\n",
    "my_cmap = ListedColormap(sns.light_palette((250, 100, 50), input=\"husl\", n_colors=50).as_hex())\n",
    "table = df2.drop(['patient_nbr', 'encounter_id'], axis=1).corr(method='pearson')\n",
    "table.style.background_gradient(cmap=my_cmap, axis = 0)"
   ]
  },
  {
   "cell_type": "code",
   "execution_count": 63,
   "metadata": {
    "id": "bzxh544luxLm"
   },
   "outputs": [],
   "source": [
    "df2['level1_diag1'] = df2['level1_diag1'].astype('object')\n",
    "df_pd = pd.get_dummies(df2, columns=['gender', 'admission_type_id', 'discharge_disposition_id',\n",
    "                                      'admission_source_id', 'max_glu_serum', 'A1Cresult', 'level1_diag1'], drop_first = True)\n",
    "just_dummies = pd.get_dummies(df_pd['race'])\n",
    "df_pd = pd.concat([df_pd, just_dummies], axis=1)      \n",
    "df_pd.drop(['race'], inplace=True, axis=1)"
   ]
  },
  {
   "cell_type": "code",
   "execution_count": 64,
   "metadata": {
    "id": "8enZKxJOuxLo"
   },
   "outputs": [],
   "source": [
    "non_num_cols = ['race', 'gender', 'admission_type_id', 'discharge_disposition_id', 'admission_source_id', \n",
    "                'max_glu_serum', 'A1Cresult', 'level1_diag1' ]"
   ]
  },
  {
   "cell_type": "code",
   "execution_count": 65,
   "metadata": {
    "colab": {
     "base_uri": "https://localhost:8080/",
     "height": 748
    },
    "id": "mBmRM3-QuxLq",
    "outputId": "569315c5-b062-41c5-a7ca-291f5b8faaae"
   },
   "outputs": [
    {
     "data": {
      "text/plain": [
       "['glyburide',\n",
       " 'metformin-pioglitazone',\n",
       " 'num_lab_procedures',\n",
       " 'number_diagnoses|time_in_hospital',\n",
       " 'service_utilization_log1p',\n",
       " 'troglitazone',\n",
       " 'glimepiride',\n",
       " 'glipizide-metformin',\n",
       " 'num_medications|numchange',\n",
       " 'encounter_id',\n",
       " 'acetohexamide',\n",
       " 'numchange',\n",
       " 'number_emergency_log1p',\n",
       " 'num_medications|num_procedures',\n",
       " 'chlorpropamide',\n",
       " 'num_medications',\n",
       " 'number_diagnoses',\n",
       " 'diabetesMed',\n",
       " 'metformin-rosiglitazone',\n",
       " 'number_inpatient_log1p',\n",
       " 'num_medications|number_diagnoses',\n",
       " 'metformin',\n",
       " 'tolbutamide',\n",
       " 'pioglitazone',\n",
       " 'insulin',\n",
       " 'num_procedures',\n",
       " 'glimepiride-pioglitazone',\n",
       " 'repaglinide',\n",
       " 'num_medications|num_lab_procedures',\n",
       " 'change|num_medications',\n",
       " 'glyburide-metformin',\n",
       " 'patient_nbr',\n",
       " 'time_in_hospital',\n",
       " 'nateglinide',\n",
       " 'rosiglitazone',\n",
       " 'acarbose',\n",
       " 'glipizide',\n",
       " 'number_outpatient_log1p',\n",
       " 'miglitol',\n",
       " 'tolazamide',\n",
       " 'num_medications|time_in_hospital',\n",
       " 'A1Cresult',\n",
       " 'time_in_hospital|num_lab_procedures']"
      ]
     },
     "execution_count": 65,
     "metadata": {
      "tags": []
     },
     "output_type": "execute_result"
    }
   ],
   "source": [
    "num_cols = list(set(list(df._get_numeric_data().columns))- {'readmitted', 'change'})\n",
    "num_cols"
   ]
  },
  {
   "cell_type": "code",
   "execution_count": 66,
   "metadata": {
    "id": "hm104IvquxLs"
   },
   "outputs": [],
   "source": [
    "new_non_num_cols = []\n",
    "for i in non_num_cols:\n",
    "    for j in df_pd.columns:\n",
    "        if i in j:\n",
    "            new_non_num_cols.append(j)"
   ]
  },
  {
   "cell_type": "code",
   "execution_count": 67,
   "metadata": {
    "colab": {
     "base_uri": "https://localhost:8080/",
     "height": 170
    },
    "id": "kAUboh3tuxLv",
    "outputId": "53b012fc-df84-4528-eb92-e5df3733929e"
   },
   "outputs": [
    {
     "data": {
      "text/plain": [
       "['num_medications|time_in_hospital',\n",
       " 'num_medications|num_procedures',\n",
       " 'time_in_hospital|num_lab_procedures',\n",
       " 'num_medications|num_lab_procedures',\n",
       " 'num_medications|number_diagnoses',\n",
       " 'age|number_diagnoses',\n",
       " 'change|num_medications',\n",
       " 'number_diagnoses|time_in_hospital',\n",
       " 'num_medications|numchange']"
      ]
     },
     "execution_count": 67,
     "metadata": {
      "tags": []
     },
     "output_type": "execute_result"
    }
   ],
   "source": [
    "l = []\n",
    "for feature in list(df_pd.columns):\n",
    "    if '|' in feature:\n",
    "        l.append(feature)\n",
    "l"
   ]
  },
  {
   "cell_type": "code",
   "execution_count": 68,
   "metadata": {
    "colab": {
     "base_uri": "https://localhost:8080/",
     "height": 419
    },
    "id": "FIFN_e4wuxLx",
    "outputId": "d74e3050-de57-4202-dacd-667486b5ad26"
   },
   "outputs": [
    {
     "data": {
      "text/html": [
       "<div>\n",
       "<style scoped>\n",
       "    .dataframe tbody tr th:only-of-type {\n",
       "        vertical-align: middle;\n",
       "    }\n",
       "\n",
       "    .dataframe tbody tr th {\n",
       "        vertical-align: top;\n",
       "    }\n",
       "\n",
       "    .dataframe thead th {\n",
       "        text-align: right;\n",
       "    }\n",
       "</style>\n",
       "<table border=\"1\" class=\"dataframe\">\n",
       "  <thead>\n",
       "    <tr style=\"text-align: right;\">\n",
       "      <th></th>\n",
       "      <th>1</th>\n",
       "      <th>2</th>\n",
       "      <th>3</th>\n",
       "      <th>4</th>\n",
       "      <th>5</th>\n",
       "    </tr>\n",
       "  </thead>\n",
       "  <tbody>\n",
       "    <tr>\n",
       "      <th>encounter_id</th>\n",
       "      <td>149190</td>\n",
       "      <td>64410</td>\n",
       "      <td>500364</td>\n",
       "      <td>16680</td>\n",
       "      <td>35754</td>\n",
       "    </tr>\n",
       "    <tr>\n",
       "      <th>patient_nbr</th>\n",
       "      <td>55629189</td>\n",
       "      <td>86047875</td>\n",
       "      <td>82442376</td>\n",
       "      <td>42519267</td>\n",
       "      <td>82637451</td>\n",
       "    </tr>\n",
       "    <tr>\n",
       "      <th>age</th>\n",
       "      <td>15</td>\n",
       "      <td>25</td>\n",
       "      <td>35</td>\n",
       "      <td>45</td>\n",
       "      <td>55</td>\n",
       "    </tr>\n",
       "    <tr>\n",
       "      <th>time_in_hospital</th>\n",
       "      <td>-0.444872</td>\n",
       "      <td>-0.784109</td>\n",
       "      <td>-0.784109</td>\n",
       "      <td>-1.12335</td>\n",
       "      <td>-0.444872</td>\n",
       "    </tr>\n",
       "    <tr>\n",
       "      <th>num_lab_procedures</th>\n",
       "      <td>0.803605</td>\n",
       "      <td>-1.60206</td>\n",
       "      <td>0.0518349</td>\n",
       "      <td>0.402661</td>\n",
       "      <td>-0.5997</td>\n",
       "    </tr>\n",
       "    <tr>\n",
       "      <th>...</th>\n",
       "      <td>...</td>\n",
       "      <td>...</td>\n",
       "      <td>...</td>\n",
       "      <td>...</td>\n",
       "      <td>...</td>\n",
       "    </tr>\n",
       "    <tr>\n",
       "      <th>AfricanAmerican</th>\n",
       "      <td>0</td>\n",
       "      <td>1</td>\n",
       "      <td>0</td>\n",
       "      <td>0</td>\n",
       "      <td>0</td>\n",
       "    </tr>\n",
       "    <tr>\n",
       "      <th>Asian</th>\n",
       "      <td>0</td>\n",
       "      <td>0</td>\n",
       "      <td>0</td>\n",
       "      <td>0</td>\n",
       "      <td>0</td>\n",
       "    </tr>\n",
       "    <tr>\n",
       "      <th>Caucasian</th>\n",
       "      <td>1</td>\n",
       "      <td>0</td>\n",
       "      <td>1</td>\n",
       "      <td>1</td>\n",
       "      <td>1</td>\n",
       "    </tr>\n",
       "    <tr>\n",
       "      <th>Hispanic</th>\n",
       "      <td>0</td>\n",
       "      <td>0</td>\n",
       "      <td>0</td>\n",
       "      <td>0</td>\n",
       "      <td>0</td>\n",
       "    </tr>\n",
       "    <tr>\n",
       "      <th>Other</th>\n",
       "      <td>0</td>\n",
       "      <td>0</td>\n",
       "      <td>0</td>\n",
       "      <td>0</td>\n",
       "      <td>0</td>\n",
       "    </tr>\n",
       "  </tbody>\n",
       "</table>\n",
       "<p>81 rows × 5 columns</p>\n",
       "</div>"
      ],
      "text/plain": [
       "                           1         2          3         4         5\n",
       "encounter_id          149190     64410     500364     16680     35754\n",
       "patient_nbr         55629189  86047875   82442376  42519267  82637451\n",
       "age                       15        25         35        45        55\n",
       "time_in_hospital   -0.444872 -0.784109  -0.784109  -1.12335 -0.444872\n",
       "num_lab_procedures  0.803605  -1.60206  0.0518349  0.402661   -0.5997\n",
       "...                      ...       ...        ...       ...       ...\n",
       "AfricanAmerican            0         1          0         0         0\n",
       "Asian                      0         0          0         0         0\n",
       "Caucasian                  1         0          1         1         1\n",
       "Hispanic                   0         0          0         0         0\n",
       "Other                      0         0          0         0         0\n",
       "\n",
       "[81 rows x 5 columns]"
      ]
     },
     "execution_count": 68,
     "metadata": {
      "tags": []
     },
     "output_type": "execute_result"
    }
   ],
   "source": [
    "df_pd.head().T"
   ]
  },
  {
   "cell_type": "code",
   "execution_count": 69,
   "metadata": {
    "id": "wQD9TVUfuxLz"
   },
   "outputs": [],
   "source": [
    "#Modeling"
   ]
  },
  {
   "cell_type": "code",
   "execution_count": 70,
   "metadata": {
    "id": "hRimnBrjuxL1"
   },
   "outputs": [],
   "source": [
    "feature_set = ['age', 'time_in_hospital', 'num_procedures', 'num_medications', 'number_outpatient_log1p', \n",
    "                 'number_emergency_log1p', 'number_inpatient_log1p', 'number_diagnoses', 'metformin', \n",
    "                 'repaglinide', 'nateglinide', 'chlorpropamide', 'glimepiride', 'glipizide', 'glyburide',\n",
    "                 'pioglitazone', 'rosiglitazone', 'acarbose', 'tolazamide', 'insulin', 'glyburide-metformin',\n",
    "                 'AfricanAmerican', 'Asian', 'Caucasian', 'Hispanic', 'Other', 'gender_1', \n",
    "                 'admission_type_id_3', 'admission_type_id_5', 'discharge_disposition_id_2', 'discharge_disposition_id_7', \n",
    "                 'discharge_disposition_id_10', 'discharge_disposition_id_18', 'admission_source_id_4',\n",
    "                 'admission_source_id_7', 'admission_source_id_9', 'max_glu_serum_0', 'max_glu_serum_1', 'A1Cresult_0',\n",
    "                 'A1Cresult_1', 'num_medications|time_in_hospital', 'num_medications|num_procedures',\n",
    "                 'time_in_hospital|num_lab_procedures', 'num_medications|num_lab_procedures', 'num_medications|number_diagnoses',\n",
    "                 'age|number_diagnoses', 'change|num_medications', 'number_diagnoses|time_in_hospital',\n",
    "                 'num_medications|numchange', 'level1_diag1_1.0', 'level1_diag1_2.0', 'level1_diag1_3.0', 'level1_diag1_4.0',\n",
    "                 'level1_diag1_5.0','level1_diag1_6.0', 'level1_diag1_7.0', 'level1_diag1_8.0']\n"
   ]
  },
  {
   "cell_type": "code",
   "execution_count": 71,
   "metadata": {
    "id": "brNrM0cRadAe"
   },
   "outputs": [],
   "source": [
    "X = df_pd[feature_set]\n",
    "y = df_pd['readmitted']"
   ]
  },
  {
   "cell_type": "code",
   "execution_count": 72,
   "metadata": {
    "id": "5_Vr7sjouxL3"
   },
   "outputs": [],
   "source": [
    "#Logistic Regression"
   ]
  },
  {
   "cell_type": "code",
   "execution_count": 73,
   "metadata": {
    "colab": {
     "base_uri": "https://localhost:8080/",
     "height": 68
    },
    "id": "JPTRmB1GuxL8",
    "outputId": "e85ed253-720f-4366-d119-7c8358747d5e"
   },
   "outputs": [
    {
     "data": {
      "text/plain": [
       "0    54635\n",
       "1     5071\n",
       "Name: readmitted, dtype: int64"
      ]
     },
     "execution_count": 73,
     "metadata": {
      "tags": []
     },
     "output_type": "execute_result"
    }
   ],
   "source": [
    "df_pd['readmitted'].value_counts()"
   ]
  },
  {
   "cell_type": "code",
   "execution_count": 74,
   "metadata": {
    "colab": {
     "base_uri": "https://localhost:8080/",
     "height": 238
    },
    "id": "vb8qgp7HuxL-",
    "outputId": "9beb05dc-1237-4eb3-d153-64f6f8f5c75c"
   },
   "outputs": [
    {
     "name": "stderr",
     "output_type": "stream",
     "text": [
      "/usr/local/lib/python3.6/dist-packages/sklearn/linear_model/_logistic.py:940: ConvergenceWarning: lbfgs failed to converge (status=1):\n",
      "STOP: TOTAL NO. of ITERATIONS REACHED LIMIT.\n",
      "\n",
      "Increase the number of iterations (max_iter) or scale the data as shown in:\n",
      "    https://scikit-learn.org/stable/modules/preprocessing.html\n",
      "Please also refer to the documentation for alternative solver options:\n",
      "    https://scikit-learn.org/stable/modules/linear_model.html#logistic-regression\n",
      "  extra_warning_msg=_LOGISTIC_SOLVER_CONVERGENCE_MSG)\n"
     ]
    },
    {
     "data": {
      "text/plain": [
       "LogisticRegression(C=1.0, class_weight=None, dual=False, fit_intercept=True,\n",
       "                   intercept_scaling=1, l1_ratio=None, max_iter=100,\n",
       "                   multi_class='auto', n_jobs=None, penalty='l2',\n",
       "                   random_state=None, solver='lbfgs', tol=0.0001, verbose=0,\n",
       "                   warm_start=False)"
      ]
     },
     "execution_count": 74,
     "metadata": {
      "tags": []
     },
     "output_type": "execute_result"
    }
   ],
   "source": [
    "from sklearn.model_selection import train_test_split\n",
    "from sklearn.linear_model import LogisticRegression\n",
    "from sklearn.model_selection import cross_val_score\n",
    "X_train, X_test, y_train, y_test = train_test_split(X, y, test_size=0.20, random_state=0)\n",
    "logit = LogisticRegression(fit_intercept=True, penalty='l2')\n",
    "logit.fit(X_train, y_train)"
   ]
  },
  {
   "cell_type": "code",
   "execution_count": 75,
   "metadata": {
    "colab": {
     "base_uri": "https://localhost:8080/",
     "height": 173
    },
    "id": "eQ38QY_LuxMA",
    "outputId": "5b6eea5a-2e07-4cf6-9ac9-682ecc10af89"
   },
   "outputs": [
    {
     "data": {
      "text/html": [
       "<div>\n",
       "<style scoped>\n",
       "    .dataframe tbody tr th:only-of-type {\n",
       "        vertical-align: middle;\n",
       "    }\n",
       "\n",
       "    .dataframe tbody tr th {\n",
       "        vertical-align: top;\n",
       "    }\n",
       "\n",
       "    .dataframe thead th {\n",
       "        text-align: right;\n",
       "    }\n",
       "</style>\n",
       "<table border=\"1\" class=\"dataframe\">\n",
       "  <thead>\n",
       "    <tr style=\"text-align: right;\">\n",
       "      <th>Predict</th>\n",
       "      <th>0</th>\n",
       "      <th>1</th>\n",
       "      <th>All</th>\n",
       "    </tr>\n",
       "    <tr>\n",
       "      <th>Actual</th>\n",
       "      <th></th>\n",
       "      <th></th>\n",
       "      <th></th>\n",
       "    </tr>\n",
       "  </thead>\n",
       "  <tbody>\n",
       "    <tr>\n",
       "      <th>0</th>\n",
       "      <td>1465</td>\n",
       "      <td>1</td>\n",
       "      <td>1466</td>\n",
       "    </tr>\n",
       "    <tr>\n",
       "      <th>1</th>\n",
       "      <td>167</td>\n",
       "      <td>0</td>\n",
       "      <td>167</td>\n",
       "    </tr>\n",
       "    <tr>\n",
       "      <th>All</th>\n",
       "      <td>1632</td>\n",
       "      <td>1</td>\n",
       "      <td>1633</td>\n",
       "    </tr>\n",
       "  </tbody>\n",
       "</table>\n",
       "</div>"
      ],
      "text/plain": [
       "Predict     0  1   All\n",
       "Actual                \n",
       "0        1465  1  1466\n",
       "1         167  0   167\n",
       "All      1632  1  1633"
      ]
     },
     "execution_count": 75,
     "metadata": {
      "tags": []
     },
     "output_type": "execute_result"
    }
   ],
   "source": [
    "logit_pred = logit.predict(X_test)\n",
    "pd.crosstab(pd.Series(y_test, name = 'Actual'), pd.Series(logit_pred, name = 'Predict'), margins = True)"
   ]
  },
  {
   "cell_type": "code",
   "execution_count": 76,
   "metadata": {
    "colab": {
     "base_uri": "https://localhost:8080/",
     "height": 68
    },
    "id": "OTHLigPyuxMC",
    "outputId": "e73082ef-0610-4db0-9bd0-53d18a5db96d"
   },
   "outputs": [
    {
     "name": "stdout",
     "output_type": "stream",
     "text": [
      "Accuracy is 0.91\n",
      "Precision is 0.00\n",
      "Recall is 0.00\n"
     ]
    }
   ],
   "source": [
    "from sklearn.metrics import accuracy_score, precision_score, recall_score\n",
    "print(\"Accuracy is {0:.2f}\".format(accuracy_score(y_test, logit_pred)))\n",
    "print(\"Precision is {0:.2f}\".format(precision_score(y_test, logit_pred)))\n",
    "print(\"Recall is {0:.2f}\".format(recall_score(y_test, logit_pred)))"
   ]
  },
  {
   "cell_type": "code",
   "execution_count": 77,
   "metadata": {
    "colab": {
     "base_uri": "https://localhost:8080/",
     "height": 173
    },
    "id": "WZwiZ61buxME",
    "outputId": "2a2a202a-932c-40d5-ad47-74cbcfa0766e"
   },
   "outputs": [
    {
     "name": "stdout",
     "output_type": "stream",
     "text": [
      "Original dataset shape Counter({0: 43711, 1: 4053})\n"
     ]
    },
    {
     "name": "stderr",
     "output_type": "stream",
     "text": [
      "/usr/local/lib/python3.6/dist-packages/sklearn/externals/six.py:31: FutureWarning: The module is deprecated in version 0.21 and will be removed in version 0.23 since we've dropped support for Python 2.7. Please rely on the official version of six (https://pypi.org/project/six/).\n",
      "  \"(https://pypi.org/project/six/).\", FutureWarning)\n",
      "/usr/local/lib/python3.6/dist-packages/sklearn/utils/deprecation.py:144: FutureWarning: The sklearn.neighbors.base module is  deprecated in version 0.22 and will be removed in version 0.24. The corresponding classes / functions should instead be imported from sklearn.neighbors. Anything that cannot be imported from sklearn.neighbors is now part of the private API.\n",
      "  warnings.warn(message, FutureWarning)\n",
      "/usr/local/lib/python3.6/dist-packages/sklearn/utils/deprecation.py:87: FutureWarning: Function safe_indexing is deprecated; safe_indexing is deprecated in version 0.22 and will be removed in version 0.24.\n",
      "  warnings.warn(msg, category=FutureWarning)\n"
     ]
    },
    {
     "name": "stdout",
     "output_type": "stream",
     "text": [
      "New dataset shape Counter({0: 43711, 1: 43711})\n"
     ]
    }
   ],
   "source": [
    "from imblearn.over_sampling import SMOTE\n",
    "from collections import Counter\n",
    "print('Original dataset shape {}'.format(Counter(y_train)))\n",
    "sm = SMOTE(random_state=20)\n",
    "train_input_new, train_output_new = sm.fit_sample(X_train, y_train)\n",
    "print('New dataset shape {}'.format(Counter(train_output_new)))"
   ]
  },
  {
   "cell_type": "code",
   "execution_count": 78,
   "metadata": {
    "colab": {
     "base_uri": "https://localhost:8080/",
     "height": 238
    },
    "id": "hgPoTtVLuxMG",
    "outputId": "f6b0b761-020b-47ee-c5f2-e3ed46c8dcd2"
   },
   "outputs": [
    {
     "name": "stderr",
     "output_type": "stream",
     "text": [
      "/usr/local/lib/python3.6/dist-packages/sklearn/linear_model/_logistic.py:940: ConvergenceWarning: lbfgs failed to converge (status=1):\n",
      "STOP: TOTAL NO. of ITERATIONS REACHED LIMIT.\n",
      "\n",
      "Increase the number of iterations (max_iter) or scale the data as shown in:\n",
      "    https://scikit-learn.org/stable/modules/preprocessing.html\n",
      "Please also refer to the documentation for alternative solver options:\n",
      "    https://scikit-learn.org/stable/modules/linear_model.html#logistic-regression\n",
      "  extra_warning_msg=_LOGISTIC_SOLVER_CONVERGENCE_MSG)\n"
     ]
    },
    {
     "data": {
      "text/plain": [
       "LogisticRegression(C=1.0, class_weight=None, dual=False, fit_intercept=True,\n",
       "                   intercept_scaling=1, l1_ratio=None, max_iter=100,\n",
       "                   multi_class='auto', n_jobs=None, penalty='l2',\n",
       "                   random_state=None, solver='lbfgs', tol=0.0001, verbose=0,\n",
       "                   warm_start=False)"
      ]
     },
     "execution_count": 78,
     "metadata": {
      "tags": []
     },
     "output_type": "execute_result"
    }
   ],
   "source": [
    "train_input_new = pd.DataFrame(train_input_new, columns = list(X.columns))\n",
    "from sklearn.model_selection import train_test_split\n",
    "from sklearn.linear_model import LogisticRegression\n",
    "from sklearn.model_selection import cross_val_score\n",
    "X_train, X_test, y_train, y_test = train_test_split(train_input_new, train_output_new, test_size=0.20, random_state=0)\n",
    "logit = LogisticRegression(fit_intercept=True, penalty='l2')\n",
    "logit.fit(X_train, y_train)"
   ]
  },
  {
   "cell_type": "code",
   "execution_count": 79,
   "metadata": {
    "colab": {
     "base_uri": "https://localhost:8080/",
     "height": 173
    },
    "id": "vYca3cW9uxMJ",
    "outputId": "3bfde70d-fedb-4ee3-9ff8-e93da56b4293"
   },
   "outputs": [
    {
     "data": {
      "text/html": [
       "<div>\n",
       "<style scoped>\n",
       "    .dataframe tbody tr th:only-of-type {\n",
       "        vertical-align: middle;\n",
       "    }\n",
       "\n",
       "    .dataframe tbody tr th {\n",
       "        vertical-align: top;\n",
       "    }\n",
       "\n",
       "    .dataframe thead th {\n",
       "        text-align: right;\n",
       "    }\n",
       "</style>\n",
       "<table border=\"1\" class=\"dataframe\">\n",
       "  <thead>\n",
       "    <tr style=\"text-align: right;\">\n",
       "      <th>Predict</th>\n",
       "      <th>0</th>\n",
       "      <th>1</th>\n",
       "      <th>All</th>\n",
       "    </tr>\n",
       "    <tr>\n",
       "      <th>Actual</th>\n",
       "      <th></th>\n",
       "      <th></th>\n",
       "      <th></th>\n",
       "    </tr>\n",
       "  </thead>\n",
       "  <tbody>\n",
       "    <tr>\n",
       "      <th>0</th>\n",
       "      <td>5790</td>\n",
       "      <td>2916</td>\n",
       "      <td>8706</td>\n",
       "    </tr>\n",
       "    <tr>\n",
       "      <th>1</th>\n",
       "      <td>4037</td>\n",
       "      <td>4742</td>\n",
       "      <td>8779</td>\n",
       "    </tr>\n",
       "    <tr>\n",
       "      <th>All</th>\n",
       "      <td>9827</td>\n",
       "      <td>7658</td>\n",
       "      <td>17485</td>\n",
       "    </tr>\n",
       "  </tbody>\n",
       "</table>\n",
       "</div>"
      ],
      "text/plain": [
       "Predict     0     1    All\n",
       "Actual                    \n",
       "0        5790  2916   8706\n",
       "1        4037  4742   8779\n",
       "All      9827  7658  17485"
      ]
     },
     "execution_count": 79,
     "metadata": {
      "tags": []
     },
     "output_type": "execute_result"
    }
   ],
   "source": [
    "logit_pred = logit.predict(X_test)\n",
    "pd.crosstab(pd.Series(y_test, name = 'Actual'), pd.Series(logit_pred, name = 'Predict'), margins = True)"
   ]
  },
  {
   "cell_type": "code",
   "execution_count": 80,
   "metadata": {
    "colab": {
     "base_uri": "https://localhost:8080/",
     "height": 68
    },
    "id": "sintyUCIuxML",
    "outputId": "86d1685d-39d5-40ef-a457-81b249efd45f"
   },
   "outputs": [
    {
     "name": "stdout",
     "output_type": "stream",
     "text": [
      "Accuracy is 0.60\n",
      "Precision is 0.62\n",
      "Recall is 0.54\n"
     ]
    }
   ],
   "source": [
    "print(\"Accuracy is {0:.2f}\".format(accuracy_score(y_test, logit_pred)))\n",
    "print(\"Precision is {0:.2f}\".format(precision_score(y_test, logit_pred)))\n",
    "print(\"Recall is {0:.2f}\".format(recall_score(y_test, logit_pred)))\n",
    "LR_acc = accuracy_score(y_test, logit_pred)\n",
    "LR_pre = precision_score(y_test, logit_pred)\n",
    "LR_re = recall_score(y_test, logit_pred)"
   ]
  },
  {
   "cell_type": "code",
   "execution_count": 81,
   "metadata": {
    "id": "v0aobxnRuxMN"
   },
   "outputs": [],
   "source": [
    "#Decision Tree"
   ]
  },
  {
   "cell_type": "code",
   "execution_count": 82,
   "metadata": {
    "id": "mZ60QUrnuxMP"
   },
   "outputs": [],
   "source": [
    "feature_set_no_int = ['age', 'time_in_hospital', 'num_procedures', 'num_medications', 'number_outpatient_log1p', \n",
    "                 'number_emergency_log1p', 'number_inpatient_log1p', 'number_diagnoses', 'metformin', \n",
    "                 'repaglinide', 'nateglinide', 'chlorpropamide', 'glimepiride', 'glipizide', \n",
    "                 'glyburide', 'pioglitazone', 'rosiglitazone', 'acarbose', \n",
    "                 'tolazamide', 'insulin', 'glyburide-metformin',\n",
    "                 'AfricanAmerican', 'Asian', 'Caucasian', \n",
    "                 'Hispanic', 'Other', 'gender_1', \n",
    "                 'admission_type_id_3', 'admission_type_id_5', \n",
    "                 'discharge_disposition_id_2', 'discharge_disposition_id_7', \n",
    "                 'discharge_disposition_id_10', 'discharge_disposition_id_18', \n",
    "                 'admission_source_id_4', 'admission_source_id_7', \n",
    "                 'admission_source_id_9', 'max_glu_serum_0', \n",
    "                 'max_glu_serum_1', 'A1Cresult_0', 'A1Cresult_1', \n",
    "                 'level1_diag1_1.0',\n",
    "                 'level1_diag1_2.0',\n",
    "                 'level1_diag1_3.0',\n",
    "                 'level1_diag1_4.0',\n",
    "                 'level1_diag1_5.0',\n",
    "                 'level1_diag1_6.0',\n",
    "                 'level1_diag1_7.0',\n",
    "                 'level1_diag1_8.0']\n"
   ]
  },
  {
   "cell_type": "code",
   "execution_count": 83,
   "metadata": {
    "colab": {
     "base_uri": "https://localhost:8080/",
     "height": 68
    },
    "id": "Itwworw6uxMR",
    "outputId": "473a482b-5b47-466b-88a5-44ecb12afc9f"
   },
   "outputs": [
    {
     "data": {
      "text/plain": [
       "0    54635\n",
       "1     5071\n",
       "Name: readmitted, dtype: int64"
      ]
     },
     "execution_count": 83,
     "metadata": {
      "tags": []
     },
     "output_type": "execute_result"
    }
   ],
   "source": [
    "X = df_pd[feature_set_no_int]\n",
    "y = df_pd['readmitted']\n",
    "df_pd['readmitted'].value_counts()"
   ]
  },
  {
   "cell_type": "code",
   "execution_count": 84,
   "metadata": {
    "colab": {
     "base_uri": "https://localhost:8080/",
     "height": 105
    },
    "id": "FW9N5-65uxMT",
    "outputId": "c6b06932-611a-453d-d8ce-a336b37ebf20"
   },
   "outputs": [
    {
     "name": "stdout",
     "output_type": "stream",
     "text": [
      "Original dataset shape Counter({0: 54635, 1: 5071})\n"
     ]
    },
    {
     "name": "stderr",
     "output_type": "stream",
     "text": [
      "/usr/local/lib/python3.6/dist-packages/sklearn/utils/deprecation.py:87: FutureWarning: Function safe_indexing is deprecated; safe_indexing is deprecated in version 0.22 and will be removed in version 0.24.\n",
      "  warnings.warn(msg, category=FutureWarning)\n"
     ]
    },
    {
     "name": "stdout",
     "output_type": "stream",
     "text": [
      "New dataset shape Counter({0: 54635, 1: 54635})\n"
     ]
    }
   ],
   "source": [
    "print('Original dataset shape {}'.format(Counter(y)))\n",
    "smt = SMOTE(random_state=20)\n",
    "train_input_new, train_output_new = smt.fit_sample(X, y)\n",
    "print('New dataset shape {}'.format(Counter(train_output_new)))\n",
    "train_input_new = pd.DataFrame(train_input_new, columns = list(X.columns))\n",
    "X_train, X_test, y_train, y_test = train_test_split(train_input_new, train_output_new, test_size=0.20, random_state=0)"
   ]
  },
  {
   "cell_type": "code",
   "execution_count": 85,
   "metadata": {
    "colab": {
     "base_uri": "https://localhost:8080/",
     "height": 119
    },
    "id": "l2LV-B8TuxMW",
    "outputId": "cce90f1f-c9dd-4ee5-d678-459be30242ca"
   },
   "outputs": [
    {
     "data": {
      "text/plain": [
       "DecisionTreeClassifier(ccp_alpha=0.0, class_weight=None, criterion='entropy',\n",
       "                       max_depth=28, max_features=None, max_leaf_nodes=None,\n",
       "                       min_impurity_decrease=0.0, min_impurity_split=None,\n",
       "                       min_samples_leaf=1, min_samples_split=10,\n",
       "                       min_weight_fraction_leaf=0.0, presort='deprecated',\n",
       "                       random_state=None, splitter='best')"
      ]
     },
     "execution_count": 85,
     "metadata": {
      "tags": []
     },
     "output_type": "execute_result"
    }
   ],
   "source": [
    "from sklearn.tree import DecisionTreeClassifier\n",
    "dtree = DecisionTreeClassifier(max_depth=28, criterion = \"entropy\", min_samples_split=10)\n",
    "dtree.fit(X_train, y_train)"
   ]
  },
  {
   "cell_type": "code",
   "execution_count": 86,
   "metadata": {
    "colab": {
     "base_uri": "https://localhost:8080/",
     "height": 173
    },
    "id": "sq5YSg4nuxMa",
    "outputId": "84949460-4f3a-474c-bd3f-a80cb3d4b5a1"
   },
   "outputs": [
    {
     "data": {
      "text/html": [
       "<div>\n",
       "<style scoped>\n",
       "    .dataframe tbody tr th:only-of-type {\n",
       "        vertical-align: middle;\n",
       "    }\n",
       "\n",
       "    .dataframe tbody tr th {\n",
       "        vertical-align: top;\n",
       "    }\n",
       "\n",
       "    .dataframe thead th {\n",
       "        text-align: right;\n",
       "    }\n",
       "</style>\n",
       "<table border=\"1\" class=\"dataframe\">\n",
       "  <thead>\n",
       "    <tr style=\"text-align: right;\">\n",
       "      <th>Predict</th>\n",
       "      <th>0</th>\n",
       "      <th>1</th>\n",
       "      <th>All</th>\n",
       "    </tr>\n",
       "    <tr>\n",
       "      <th>Actual</th>\n",
       "      <th></th>\n",
       "      <th></th>\n",
       "      <th></th>\n",
       "    </tr>\n",
       "  </thead>\n",
       "  <tbody>\n",
       "    <tr>\n",
       "      <th>0</th>\n",
       "      <td>10227</td>\n",
       "      <td>709</td>\n",
       "      <td>10936</td>\n",
       "    </tr>\n",
       "    <tr>\n",
       "      <th>1</th>\n",
       "      <td>1134</td>\n",
       "      <td>9784</td>\n",
       "      <td>10918</td>\n",
       "    </tr>\n",
       "    <tr>\n",
       "      <th>All</th>\n",
       "      <td>11361</td>\n",
       "      <td>10493</td>\n",
       "      <td>21854</td>\n",
       "    </tr>\n",
       "  </tbody>\n",
       "</table>\n",
       "</div>"
      ],
      "text/plain": [
       "Predict      0      1    All\n",
       "Actual                      \n",
       "0        10227    709  10936\n",
       "1         1134   9784  10918\n",
       "All      11361  10493  21854"
      ]
     },
     "execution_count": 86,
     "metadata": {
      "tags": []
     },
     "output_type": "execute_result"
    }
   ],
   "source": [
    "dtree_pred = dtree.predict(X_test)\n",
    "pd.crosstab(pd.Series(y_test, name = 'Actual'), pd.Series(dtree_pred, name = 'Predict'), margins = True)"
   ]
  },
  {
   "cell_type": "code",
   "execution_count": 87,
   "metadata": {
    "colab": {
     "base_uri": "https://localhost:8080/",
     "height": 68
    },
    "id": "I7MRsu9-uxMc",
    "outputId": "20a3171a-7124-4250-ddc7-eb9ff477102e"
   },
   "outputs": [
    {
     "name": "stdout",
     "output_type": "stream",
     "text": [
      "Accuracy is 0.92\n",
      "Precision is 0.93\n",
      "Recall is 0.90\n"
     ]
    }
   ],
   "source": [
    "print(\"Accuracy is {0:.2f}\".format(accuracy_score(y_test, dtree_pred)))\n",
    "print(\"Precision is {0:.2f}\".format(precision_score(y_test, dtree_pred)))\n",
    "print(\"Recall is {0:.2f}\".format(recall_score(y_test, dtree_pred)))\n",
    "DT_acc = accuracy_score(y_test, dtree_pred)\n",
    "DT_pre = precision_score(y_test, dtree_pred)\n",
    "DT_re = recall_score(y_test, dtree_pred)"
   ]
  },
  {
   "cell_type": "code",
   "execution_count": 88,
   "metadata": {
    "colab": {
     "base_uri": "https://localhost:8080/",
     "height": 591
    },
    "id": "k-wYLYL6uxMe",
    "outputId": "575aaa7e-8c4e-4da7-ef86-7e40fd0c5cb7"
   },
   "outputs": [
    {
     "name": "stdout",
     "output_type": "stream",
     "text": [
      "                       Feature  Importance\n",
      "8                    metformin    0.022189\n",
      "19                     insulin    0.022913\n",
      "26                    gender_1    0.023342\n",
      "0                          age    0.026437\n",
      "40            level1_diag1_1.0    0.029675\n",
      "2               num_procedures    0.043255\n",
      "3              num_medications    0.049175\n",
      "7             number_diagnoses    0.077049\n",
      "29  discharge_disposition_id_2    0.106084\n",
      "1             time_in_hospital    0.413379\n"
     ]
    },
    {
     "data": {
      "image/png": "[encoded data removed]",
      "text/plain": [
       "<Figure size 720x432 with 1 Axes>"
      ]
     },
     "metadata": {
      "needs_background": "light",
      "tags": []
     },
     "output_type": "display_data"
    }
   ],
   "source": [
    "#Create list of top most features based on importance\n",
    "feature_names = X_train.columns\n",
    "feature_imports = dtree.feature_importances_\n",
    "most_imp_features = pd.DataFrame([f for f in zip(feature_names,feature_imports)], columns=[\"Feature\", \"Importance\"]).nlargest(10, \"Importance\")\n",
    "most_imp_features.sort_values(by=\"Importance\", inplace=True)\n",
    "print(most_imp_features)\n",
    "plt.figure(figsize=(10,6))\n",
    "plt.barh(range(len(most_imp_features)), most_imp_features.Importance, align='center', alpha=0.8)\n",
    "plt.yticks(range(len(most_imp_features)), most_imp_features.Feature, fontsize=14)\n",
    "plt.xlabel('Importance')\n",
    "plt.title('Most important features - Decision Tree')\n",
    "plt.show()"
   ]
  },
  {
   "cell_type": "code",
   "execution_count": 89,
   "metadata": {
    "id": "OMaLCX8MuxMg"
   },
   "outputs": [],
   "source": [
    "#Random Forest"
   ]
  },
  {
   "cell_type": "code",
   "execution_count": 90,
   "metadata": {
    "colab": {
     "base_uri": "https://localhost:8080/",
     "height": 105
    },
    "id": "NJt1LPKfuxMi",
    "outputId": "868e2cb4-29cf-4ee4-a664-e48d0bca4752"
   },
   "outputs": [
    {
     "name": "stdout",
     "output_type": "stream",
     "text": [
      "Original dataset shape Counter({0: 54635, 1: 5071})\n"
     ]
    },
    {
     "name": "stderr",
     "output_type": "stream",
     "text": [
      "/usr/local/lib/python3.6/dist-packages/sklearn/utils/deprecation.py:87: FutureWarning: Function safe_indexing is deprecated; safe_indexing is deprecated in version 0.22 and will be removed in version 0.24.\n",
      "  warnings.warn(msg, category=FutureWarning)\n"
     ]
    },
    {
     "name": "stdout",
     "output_type": "stream",
     "text": [
      "New dataset shape Counter({0: 54635, 1: 54635})\n"
     ]
    }
   ],
   "source": [
    "X = df_pd[feature_set_no_int]\n",
    "y = df_pd['readmitted']\n",
    "\n",
    "print('Original dataset shape {}'.format(Counter(y)))\n",
    "smt = SMOTE(random_state=20)\n",
    "train_input_new, train_output_new = smt.fit_sample(X, y)\n",
    "print('New dataset shape {}'.format(Counter(train_output_new)))\n",
    "train_input_new = pd.DataFrame(train_input_new, columns = list(X.columns))\n",
    "X_train, X_test, y_train, y_test = train_test_split(train_input_new, train_output_new, test_size=0.20, random_state=0)"
   ]
  },
  {
   "cell_type": "code",
   "execution_count": 91,
   "metadata": {
    "colab": {
     "base_uri": "https://localhost:8080/",
     "height": 153
    },
    "id": "FFH9T0XpuxMk",
    "outputId": "a547dc8a-5fe5-45ef-c3ce-48ac9d3b5588"
   },
   "outputs": [
    {
     "data": {
      "text/plain": [
       "RandomForestClassifier(bootstrap=True, ccp_alpha=0.0, class_weight=None,\n",
       "                       criterion='gini', max_depth=25, max_features='auto',\n",
       "                       max_leaf_nodes=None, max_samples=None,\n",
       "                       min_impurity_decrease=0.0, min_impurity_split=None,\n",
       "                       min_samples_leaf=1, min_samples_split=10,\n",
       "                       min_weight_fraction_leaf=0.0, n_estimators=10,\n",
       "                       n_jobs=None, oob_score=False, random_state=None,\n",
       "                       verbose=0, warm_start=False)"
      ]
     },
     "execution_count": 91,
     "metadata": {
      "tags": []
     },
     "output_type": "execute_result"
    }
   ],
   "source": [
    "from sklearn.ensemble import RandomForestClassifier\n",
    "rm = RandomForestClassifier(n_estimators = 10, max_depth=25, criterion = \"gini\", min_samples_split=10)\n",
    "rm.fit(X_train, y_train)"
   ]
  },
  {
   "cell_type": "code",
   "execution_count": 92,
   "metadata": {
    "colab": {
     "base_uri": "https://localhost:8080/",
     "height": 173
    },
    "id": "6Auwo5eJuxMn",
    "outputId": "4270c08f-fef3-4746-a3c9-2ad078a030e6"
   },
   "outputs": [
    {
     "data": {
      "text/html": [
       "<div>\n",
       "<style scoped>\n",
       "    .dataframe tbody tr th:only-of-type {\n",
       "        vertical-align: middle;\n",
       "    }\n",
       "\n",
       "    .dataframe tbody tr th {\n",
       "        vertical-align: top;\n",
       "    }\n",
       "\n",
       "    .dataframe thead th {\n",
       "        text-align: right;\n",
       "    }\n",
       "</style>\n",
       "<table border=\"1\" class=\"dataframe\">\n",
       "  <thead>\n",
       "    <tr style=\"text-align: right;\">\n",
       "      <th>Predict</th>\n",
       "      <th>0</th>\n",
       "      <th>1</th>\n",
       "      <th>All</th>\n",
       "    </tr>\n",
       "    <tr>\n",
       "      <th>Actual</th>\n",
       "      <th></th>\n",
       "      <th></th>\n",
       "      <th></th>\n",
       "    </tr>\n",
       "  </thead>\n",
       "  <tbody>\n",
       "    <tr>\n",
       "      <th>0</th>\n",
       "      <td>10789</td>\n",
       "      <td>147</td>\n",
       "      <td>10936</td>\n",
       "    </tr>\n",
       "    <tr>\n",
       "      <th>1</th>\n",
       "      <td>1107</td>\n",
       "      <td>9811</td>\n",
       "      <td>10918</td>\n",
       "    </tr>\n",
       "    <tr>\n",
       "      <th>All</th>\n",
       "      <td>11896</td>\n",
       "      <td>9958</td>\n",
       "      <td>21854</td>\n",
       "    </tr>\n",
       "  </tbody>\n",
       "</table>\n",
       "</div>"
      ],
      "text/plain": [
       "Predict      0     1    All\n",
       "Actual                     \n",
       "0        10789   147  10936\n",
       "1         1107  9811  10918\n",
       "All      11896  9958  21854"
      ]
     },
     "execution_count": 92,
     "metadata": {
      "tags": []
     },
     "output_type": "execute_result"
    }
   ],
   "source": [
    "rm_prd = rm.predict(X_test)\n",
    "pd.crosstab(pd.Series(y_test, name = 'Actual'), pd.Series(rm_prd, name = 'Predict'), margins = True)"
   ]
  },
  {
   "cell_type": "code",
   "execution_count": 93,
   "metadata": {
    "colab": {
     "base_uri": "https://localhost:8080/",
     "height": 68
    },
    "id": "UaJdJBQQuxMp",
    "outputId": "97b826e6-2863-4c51-bd3b-5af457fafffc"
   },
   "outputs": [
    {
     "name": "stdout",
     "output_type": "stream",
     "text": [
      "Accuracy is 0.94\n",
      "Precision is 0.99\n",
      "Recall is 0.90\n"
     ]
    }
   ],
   "source": [
    "print(\"Accuracy is {0:.2f}\".format(accuracy_score(y_test, rm_prd)))\n",
    "print(\"Precision is {0:.2f}\".format(precision_score(y_test, rm_prd)))\n",
    "print(\"Recall is {0:.2f}\".format(recall_score(y_test, rm_prd)))\n",
    "RF_acc = accuracy_score(y_test, rm_prd)\n",
    "RF_pre = precision_score(y_test, rm_prd)\n",
    "RF_re = recall_score(y_test, rm_prd)"
   ]
  },
  {
   "cell_type": "code",
   "execution_count": 94,
   "metadata": {
    "colab": {
     "base_uri": "https://localhost:8080/",
     "height": 404
    },
    "id": "T2G3psMSuxMq",
    "outputId": "e3d36533-4634-491b-b7b3-6b5923b38579"
   },
   "outputs": [
    {
     "data": {
      "image/png": "[encoded data removed]",
      "text/plain": [
       "<Figure size 720x432 with 1 Axes>"
      ]
     },
     "metadata": {
      "needs_background": "light",
      "tags": []
     },
     "output_type": "display_data"
    }
   ],
   "source": [
    "# Create list of top most features based on importance\n",
    "feature_names = X_train.columns\n",
    "feature_imports = rm.feature_importances_\n",
    "most_imp_features = pd.DataFrame([f for f in zip(feature_names,feature_imports)], columns=[\"Feature\", \"Importance\"]).nlargest(10, \"Importance\")\n",
    "most_imp_features.sort_values(by=\"Importance\", inplace=True)\n",
    "plt.figure(figsize=(10,6))\n",
    "plt.barh(range(len(most_imp_features)), most_imp_features.Importance, align='center', alpha=0.8)\n",
    "plt.yticks(range(len(most_imp_features)), most_imp_features.Feature, fontsize=14)\n",
    "plt.xlabel('Importance')\n",
    "plt.title('Most important features - Random Forest ')\n",
    "plt.show()"
   ]
  },
  {
   "cell_type": "code",
   "execution_count": 95,
   "metadata": {
    "colab": {
     "base_uri": "https://localhost:8080/",
     "height": 105
    },
    "id": "0AAhjLd6FPTC",
    "outputId": "e6bfad16-1b5c-4690-c8f3-fc205349d27a"
   },
   "outputs": [
    {
     "name": "stdout",
     "output_type": "stream",
     "text": [
      "Original dataset shape Counter({0: 54635, 1: 5071})\n"
     ]
    },
    {
     "name": "stderr",
     "output_type": "stream",
     "text": [
      "/usr/local/lib/python3.6/dist-packages/sklearn/utils/deprecation.py:87: FutureWarning: Function safe_indexing is deprecated; safe_indexing is deprecated in version 0.22 and will be removed in version 0.24.\n",
      "  warnings.warn(msg, category=FutureWarning)\n"
     ]
    },
    {
     "name": "stdout",
     "output_type": "stream",
     "text": [
      "New dataset shape Counter({0: 54635, 1: 54635})\n"
     ]
    }
   ],
   "source": [
    "X = df_pd[feature_set_no_int]\n",
    "y = df_pd['readmitted']\n",
    "\n",
    "print('Original dataset shape {}'.format(Counter(y)))\n",
    "smt = SMOTE(random_state=20)\n",
    "train_input_new, train_output_new = smt.fit_sample(X, y)\n",
    "print('New dataset shape {}'.format(Counter(train_output_new)))\n",
    "train_input_new = pd.DataFrame(train_input_new, columns = list(X.columns))\n",
    "X_train, X_test, y_train, y_test = train_test_split(train_input_new, train_output_new, test_size=0.20, random_state=0)"
   ]
  },
  {
   "cell_type": "markdown",
   "metadata": {
    "id": "mss0geohKphj"
   },
   "source": [
    "##Support Vector Machine"
   ]
  },
  {
   "cell_type": "code",
   "execution_count": 96,
   "metadata": {
    "colab": {
     "base_uri": "https://localhost:8080/",
     "height": 173
    },
    "id": "NBWf-U_dFIGR",
    "outputId": "c1496228-3b45-4ce9-c411-9cf88ceca94b"
   },
   "outputs": [
    {
     "data": {
      "text/html": [
       "<div>\n",
       "<style scoped>\n",
       "    .dataframe tbody tr th:only-of-type {\n",
       "        vertical-align: middle;\n",
       "    }\n",
       "\n",
       "    .dataframe tbody tr th {\n",
       "        vertical-align: top;\n",
       "    }\n",
       "\n",
       "    .dataframe thead th {\n",
       "        text-align: right;\n",
       "    }\n",
       "</style>\n",
       "<table border=\"1\" class=\"dataframe\">\n",
       "  <thead>\n",
       "    <tr style=\"text-align: right;\">\n",
       "      <th>Predict</th>\n",
       "      <th>0</th>\n",
       "      <th>1</th>\n",
       "      <th>All</th>\n",
       "    </tr>\n",
       "    <tr>\n",
       "      <th>Actual</th>\n",
       "      <th></th>\n",
       "      <th></th>\n",
       "      <th></th>\n",
       "    </tr>\n",
       "  </thead>\n",
       "  <tbody>\n",
       "    <tr>\n",
       "      <th>0</th>\n",
       "      <td>10790</td>\n",
       "      <td>146</td>\n",
       "      <td>10936</td>\n",
       "    </tr>\n",
       "    <tr>\n",
       "      <th>1</th>\n",
       "      <td>1133</td>\n",
       "      <td>9785</td>\n",
       "      <td>10918</td>\n",
       "    </tr>\n",
       "    <tr>\n",
       "      <th>All</th>\n",
       "      <td>11923</td>\n",
       "      <td>9931</td>\n",
       "      <td>21854</td>\n",
       "    </tr>\n",
       "  </tbody>\n",
       "</table>\n",
       "</div>"
      ],
      "text/plain": [
       "Predict      0     1    All\n",
       "Actual                     \n",
       "0        10790   146  10936\n",
       "1         1133  9785  10918\n",
       "All      11923  9931  21854"
      ]
     },
     "execution_count": 96,
     "metadata": {
      "tags": []
     },
     "output_type": "execute_result"
    }
   ],
   "source": [
    "from sklearn.svm import SVC\n",
    "SVM = SVC()\n",
    "rm.fit(X_train, y_train)\n",
    "rm_prd = rm.predict(X_test)\n",
    "pd.crosstab(pd.Series(y_test, name = 'Actual'), pd.Series(rm_prd, name = 'Predict'), margins = True)"
   ]
  },
  {
   "cell_type": "code",
   "execution_count": 97,
   "metadata": {
    "colab": {
     "base_uri": "https://localhost:8080/",
     "height": 68
    },
    "id": "MFo8-0V5KiWe",
    "outputId": "c2fb6c9f-3692-4e4c-edcd-c77487ce5ee1"
   },
   "outputs": [
    {
     "name": "stdout",
     "output_type": "stream",
     "text": [
      "Accuracy is 0.94\n",
      "Precision is 0.99\n",
      "Recall is 0.90\n"
     ]
    }
   ],
   "source": [
    "print(\"Accuracy is {0:.2f}\".format(accuracy_score(y_test, rm_prd)))\n",
    "print(\"Precision is {0:.2f}\".format(precision_score(y_test, rm_prd)))\n",
    "print(\"Recall is {0:.2f}\".format(recall_score(y_test, rm_prd)))\n",
    "SVM_acc = accuracy_score(y_test, rm_prd)\n",
    "SVM_pre = precision_score(y_test, rm_prd)\n",
    "SVM_re = recall_score(y_test, rm_prd)"
   ]
  },
  {
   "cell_type": "code",
   "execution_count": 98,
   "metadata": {
    "colab": {
     "base_uri": "https://localhost:8080/",
     "height": 404
    },
    "id": "yXBHxdj0Kn9T",
    "outputId": "6c838d7c-01b9-4ae3-e996-8d911cbd11a0"
   },
   "outputs": [
    {
     "data": {
      "image/png": "[encoded data removed]",
      "text/plain": [
       "<Figure size 720x432 with 1 Axes>"
      ]
     },
     "metadata": {
      "needs_background": "light",
      "tags": []
     },
     "output_type": "display_data"
    }
   ],
   "source": [
    "# Create list of top most features based on importance\n",
    "feature_names = X_train.columns\n",
    "feature_imports = rm.feature_importances_\n",
    "most_imp_features = pd.DataFrame([f for f in zip(feature_names,feature_imports)], columns=[\"Feature\", \"Importance\"]).nlargest(10, \"Importance\")\n",
    "most_imp_features.sort_values(by=\"Importance\", inplace=True)\n",
    "plt.figure(figsize=(10,6))\n",
    "plt.barh(range(len(most_imp_features)), most_imp_features.Importance, align='center', alpha=0.8)\n",
    "plt.yticks(range(len(most_imp_features)), most_imp_features.Feature, fontsize=14)\n",
    "plt.xlabel('Importance')\n",
    "plt.title('Most important features - Random Forest ')\n",
    "plt.show()"
   ]
  },
  {
   "cell_type": "markdown",
   "metadata": {
    "id": "SzMri6lbKudd"
   },
   "source": [
    "##Naive Bayes"
   ]
  },
  {
   "cell_type": "code",
   "execution_count": 99,
   "metadata": {
    "colab": {
     "base_uri": "https://localhost:8080/",
     "height": 173
    },
    "id": "B9IcrgkDKuAz",
    "outputId": "7ba005b2-e205-44ee-e8b8-1091b3a8efb4"
   },
   "outputs": [
    {
     "data": {
      "text/html": [
       "<div>\n",
       "<style scoped>\n",
       "    .dataframe tbody tr th:only-of-type {\n",
       "        vertical-align: middle;\n",
       "    }\n",
       "\n",
       "    .dataframe tbody tr th {\n",
       "        vertical-align: top;\n",
       "    }\n",
       "\n",
       "    .dataframe thead th {\n",
       "        text-align: right;\n",
       "    }\n",
       "</style>\n",
       "<table border=\"1\" class=\"dataframe\">\n",
       "  <thead>\n",
       "    <tr style=\"text-align: right;\">\n",
       "      <th>Predict</th>\n",
       "      <th>0</th>\n",
       "      <th>1</th>\n",
       "      <th>All</th>\n",
       "    </tr>\n",
       "    <tr>\n",
       "      <th>Actual</th>\n",
       "      <th></th>\n",
       "      <th></th>\n",
       "      <th></th>\n",
       "    </tr>\n",
       "  </thead>\n",
       "  <tbody>\n",
       "    <tr>\n",
       "      <th>0</th>\n",
       "      <td>10780</td>\n",
       "      <td>156</td>\n",
       "      <td>10936</td>\n",
       "    </tr>\n",
       "    <tr>\n",
       "      <th>1</th>\n",
       "      <td>1103</td>\n",
       "      <td>9815</td>\n",
       "      <td>10918</td>\n",
       "    </tr>\n",
       "    <tr>\n",
       "      <th>All</th>\n",
       "      <td>11883</td>\n",
       "      <td>9971</td>\n",
       "      <td>21854</td>\n",
       "    </tr>\n",
       "  </tbody>\n",
       "</table>\n",
       "</div>"
      ],
      "text/plain": [
       "Predict      0     1    All\n",
       "Actual                     \n",
       "0        10780   156  10936\n",
       "1         1103  9815  10918\n",
       "All      11883  9971  21854"
      ]
     },
     "execution_count": 99,
     "metadata": {
      "tags": []
     },
     "output_type": "execute_result"
    }
   ],
   "source": [
    "from sklearn import naive_bayes\n",
    "# Instanciate the classifier\n",
    "GNB = naive_bayes.GaussianNB()\n",
    "rm.fit(X_train, y_train)\n",
    "rm_prd = rm.predict(X_test)\n",
    "pd.crosstab(pd.Series(y_test, name = 'Actual'), pd.Series(rm_prd, name = 'Predict'), margins = True)"
   ]
  },
  {
   "cell_type": "code",
   "execution_count": 100,
   "metadata": {
    "colab": {
     "base_uri": "https://localhost:8080/",
     "height": 68
    },
    "id": "tXOO2eo_K_s2",
    "outputId": "1b1d09d2-4a75-4189-b226-1b2a9148e1bd"
   },
   "outputs": [
    {
     "name": "stdout",
     "output_type": "stream",
     "text": [
      "Accuracy is 0.94\n",
      "Precision is 0.98\n",
      "Recall is 0.90\n"
     ]
    }
   ],
   "source": [
    "print(\"Accuracy is {0:.2f}\".format(accuracy_score(y_test, rm_prd)))\n",
    "print(\"Precision is {0:.2f}\".format(precision_score(y_test, rm_prd)))\n",
    "print(\"Recall is {0:.2f}\".format(recall_score(y_test, rm_prd)))\n",
    "GNB_acc = accuracy_score(y_test, rm_prd)\n",
    "GNB_pre = precision_score(y_test, rm_prd)\n",
    "GNB_re = recall_score(y_test, rm_prd)"
   ]
  },
  {
   "cell_type": "code",
   "execution_count": 101,
   "metadata": {
    "colab": {
     "base_uri": "https://localhost:8080/",
     "height": 404
    },
    "id": "EWobQ3s8LEZN",
    "outputId": "f85afdec-1d78-436d-ed67-d919c3f5ce0a"
   },
   "outputs": [
    {
     "data": {
      "image/png": "[encoded data removed]",
      "text/plain": [
       "<Figure size 720x432 with 1 Axes>"
      ]
     },
     "metadata": {
      "needs_background": "light",
      "tags": []
     },
     "output_type": "display_data"
    }
   ],
   "source": [
    "# Create list of top most features based on importance\n",
    "feature_names = X_train.columns\n",
    "feature_imports = rm.feature_importances_\n",
    "most_imp_features = pd.DataFrame([f for f in zip(feature_names,feature_imports)], columns=[\"Feature\", \"Importance\"]).nlargest(10, \"Importance\")\n",
    "most_imp_features.sort_values(by=\"Importance\", inplace=True)\n",
    "plt.figure(figsize=(10,6))\n",
    "plt.barh(range(len(most_imp_features)), most_imp_features.Importance, align='center', alpha=0.8)\n",
    "plt.yticks(range(len(most_imp_features)), most_imp_features.Feature, fontsize=14)\n",
    "plt.xlabel('Importance')\n",
    "plt.title('Most important features - Random Forest ')\n",
    "plt.show()"
   ]
  },
  {
   "cell_type": "code",
   "execution_count": 102,
   "metadata": {
    "id": "Iq2SJSaeuxMt"
   },
   "outputs": [],
   "source": [
    "#Model Comparision"
   ]
  },
  {
   "cell_type": "code",
   "execution_count": 103,
   "metadata": {
    "colab": {
     "base_uri": "https://localhost:8080/",
     "height": 515
    },
    "id": "SbHC3jvNuxMu",
    "outputId": "900d4fdd-cffc-4d96-f03a-37b19c4ab104"
   },
   "outputs": [
    {
     "name": "stderr",
     "output_type": "stream",
     "text": [
      "/usr/local/lib/python3.6/dist-packages/ipykernel_launcher.py:13: MatplotlibDeprecationWarning: Adding an axes using the same arguments as a previous axes currently reuses the earlier instance.  In a future version, a new instance will always be created and returned.  Meanwhile, this warning can be suppressed, and the future behavior ensured, by passing a unique label to each axes instance.\n",
      "  del sys.path[0]\n",
      "/usr/local/lib/python3.6/dist-packages/ipykernel_launcher.py:24: MatplotlibDeprecationWarning: Adding an axes using the same arguments as a previous axes currently reuses the earlier instance.  In a future version, a new instance will always be created and returned.  Meanwhile, this warning can be suppressed, and the future behavior ensured, by passing a unique label to each axes instance.\n"
     ]
    },
    {
     "data": {
      "image/png": "[encoded data removed]",
      "text/plain": [
       "<Figure size 1008x504 with 1 Axes>"
      ]
     },
     "metadata": {
      "needs_background": "light",
      "tags": []
     },
     "output_type": "display_data"
    }
   ],
   "source": [
    "plt.figure(figsize=(14, 7))\n",
    "ax = plt.subplot(111)\n",
    "\n",
    "models = ['Logistic Regression', 'Decision Tree', 'Random Forests','Support Vector Machine','NaiveBayes']\n",
    "values = [LR_acc, DT_acc, RF_acc,SVM_acc,GNB_acc]\n",
    "model = np.arange(len(models))\n",
    "\n",
    "plt.bar(model, values, align='center', width = 0.15, alpha=0.7, color = 'red', label= 'accuracy')\n",
    "plt.xticks(model, models)\n",
    "           \n",
    "\n",
    "           \n",
    "ax = plt.subplot(111)\n",
    "\n",
    "models = ['Logistic Regression', 'Decision Tree', 'Random Forests','Support Vector Machine','NaiveBayes']\n",
    "values = [LR_pre, DT_pre, RF_pre,SVM_pre,GNB_pre]\n",
    "model = np.arange(len(models))\n",
    "\n",
    "plt.bar(model+0.15, values, align='center', width = 0.15, alpha=0.7, color = 'blue', label = 'precision')\n",
    "plt.xticks(model, models)\n",
    "\n",
    "\n",
    "\n",
    "ax = plt.subplot(111)\n",
    "\n",
    "models = ['Logistic Regression', 'Decision Tree', 'Random Forests','Support Vector Machine','NaiveBayes' ]\n",
    "values = [LR_re, DT_re, RF_re,SVM_re,GNB_re]\n",
    "model = np.arange(len(models))\n",
    "\n",
    "plt.bar(model+0.3, values, align='center', width = 0.15, alpha=0.7, color = 'green', label = 'recall')\n",
    "plt.xticks(model, models)\n",
    "\n",
    "\n",
    "\n",
    "plt.ylabel('Performance Metrics for Different models')\n",
    "plt.title('Model')\n",
    "    \n",
    "# removing the axis on the top and right of the plot window\n",
    "ax.spines['right'].set_visible(False)\n",
    "ax.spines['top'].set_visible(False)\n",
    "ax.legend()\n",
    "\n",
    "plt.show()           \n"
   ]
  },
  {
   "cell_type": "code",
   "execution_count": 103,
   "metadata": {
    "id": "6Q_4W2AyuxMx"
   },
   "outputs": [],
   "source": []
  }
 ],
 "metadata": {
  "colab": {
   "collapsed_sections": [],
   "name": "test.ipynb",
   "provenance": []
  },
  "kernelspec": {
   "display_name": "Python 3",
   "language": "python",
   "name": "python3"
  },
  "language_info": {
   "codemirror_mode": {
    "name": "ipython",
    "version": 3
   },
   "file_extension": ".py",
   "mimetype": "text/x-python",
   "name": "python",
   "nbconvert_exporter": "python",
   "pygments_lexer": "ipython3",
   "version": "3.7.6"
  }
 },
 "nbformat": 4,
 "nbformat_minor": 1
}
